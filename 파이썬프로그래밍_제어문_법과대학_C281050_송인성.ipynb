{
 "cells": [
  {
   "cell_type": "markdown",
   "metadata": {},
   "source": [
    "C281050 송인성\n",
    "# **제어문**\n",
    "- 제어문은 코드의 실행 흐름을 제어하는 문장\n",
    "    - 분기문(branch): 조건에 따라 코드의 실행 경로를 변경\n",
    "        - **if, if-else, if-elif-else**\n",
    "    - 반복문(loop): 코드를를 반복적으로 실행\n",
    "        - **for, while**\n",
    "    - 예외처리문(exception): 코드 실행 중에 발생하는 예외를 처리\n",
    "        - **try-except**\n",
    "- 파이썬의 예약어에는 반드시 콜론(:)이 붙음\n",
    "    - 예약어는 **if, elif, for, while, try, except** 등이 있음"
   ]
  },
  {
   "cell_type": "markdown",
   "metadata": {},
   "source": [
    "# **분기문**\n",
    "- ***조건(condition)의 만족 여부에 따라 코드의 실행 경로를 변경***하는 문장\n",
    "    - **조건은 *True* 또는 *False*로 구분**되는 문장\n",
    "    - 파이썬은 ***indent로 문단을 구분***함"
   ]
  },
  {
   "cell_type": "code",
   "execution_count": 1,
   "metadata": {},
   "outputs": [
    {
     "name": "stdout",
     "output_type": "stream",
     "text": [
      "조건이 참입니다.\n",
      "조건문이 종료되었습니다.\n"
     ]
    }
   ],
   "source": [
    "# 조건이 참이면 아래의 코드 블록을 실행\n",
    "if True:    # if 문장의 끝은 콜론(:)\n",
    "    # 들여쓰기로 if 문장의 범위를 지정\n",
    "    print('조건이 참입니다.')\n",
    "# 여기부터는 들여쓰기가 없으므로 if 문장의 범위가 아님\n",
    "print('조건문이 종료되었습니다.')"
   ]
  },
  {
   "cell_type": "code",
   "execution_count": 2,
   "metadata": {},
   "outputs": [
    {
     "name": "stdout",
     "output_type": "stream",
     "text": [
      "조건문이 종료되었습니다.\n"
     ]
    }
   ],
   "source": [
    "# 조건이 참이면 아래의 코드 블록을 실행 -> 조건이 거짓이므로 실행되지 않음\n",
    "if False:   # if 문장의 끝은 콜론(:)\n",
    "    print('조건이 참입니다.')\n",
    "# 여기부터는 들여쓰기가 없으므로 if 문장의 범위가 아님\n",
    "print('조건문이 종료되었습니다.')"
   ]
  },
  {
   "cell_type": "markdown",
   "metadata": {},
   "source": [
    "## **if문**\n",
    "- 조건이 참일 때 아래의 코드 블록(들여쓰기한 코드들)을 실행"
   ]
  },
  {
   "cell_type": "code",
   "execution_count": 3,
   "metadata": {},
   "outputs": [
    {
     "name": "stdout",
     "output_type": "stream",
     "text": [
      "걸어간다.\n"
     ]
    }
   ],
   "source": [
    "money = 100\n",
    "\n",
    "# 조건은 (money <= 500)이고, 조건이 참이면 아래의 코드 블록을 실행\n",
    "if money <= 500:\n",
    "    # 들여쓰기로 if 문장의 범위를 지정\n",
    "    print('걸어간다.')"
   ]
  },
  {
   "cell_type": "markdown",
   "metadata": {},
   "source": [
    "## **if-else문**\n",
    "- 조건이 참일 때 if 아래의 코드 블록을 실행하고, 거짓일 때는 else 이후의 코드 블록을 실행"
   ]
  },
  {
   "cell_type": "code",
   "execution_count": 4,
   "metadata": {},
   "outputs": [
    {
     "name": "stdout",
     "output_type": "stream",
     "text": [
      "택시탄다.\n"
     ]
    }
   ],
   "source": [
    "money = 1000\n",
    "\n",
    "if money <= 500:    # if 문장의 끝은 콜론(:)\n",
    "    print('걸어간다.')  # 들여쓰기로 if 문장의 범위를 지정\n",
    "else:                  # else 문장의 끝은 콜론(:)\n",
    "    print('택시탄다.')  # 들여쓰기로 else 문장의 범위를 지정"
   ]
  },
  {
   "cell_type": "markdown",
   "metadata": {},
   "source": [
    "## **if-elif-else문**\n",
    "- 여러 조건을 순차적으로 검사하고, 참인 조건의 코드 블록을 실행"
   ]
  },
  {
   "cell_type": "code",
   "execution_count": 5,
   "metadata": {},
   "outputs": [
    {
     "name": "stdout",
     "output_type": "stream",
     "text": [
      "버스탄다.\n"
     ]
    }
   ],
   "source": [
    "money = 1000\n",
    "\n",
    "# 조건은 (money <= 500)이고, 조건이 참이면 아래의 코드를 실행.\n",
    "if money <= 500:\n",
    "    print('걸어간다.')\n",
    "# 조건은 (money <= 2500)이고, 조건이 참이면 아래의 코드를 실행.\n",
    "elif money <= 2500:\n",
    "    print('버스탄다.')\n",
    "# 위의 조건이 모두 거짓이면 아래의 코드를 실행\n",
    "else:\n",
    "    print('택시탄다.')"
   ]
  },
  {
   "cell_type": "markdown",
   "metadata": {},
   "source": [
    "## **반복문**\n",
    "- ***조건을 만족하는 동안 코드블럭을 반복수행***하는 문장"
   ]
  },
  {
   "cell_type": "markdown",
   "metadata": {},
   "source": [
    "### **while문**\n",
    "- **while** 뒤의 조건이 True인 동안 코드블럭을 반복수행\n",
    "- while문은 종료조건을 설정하지 않으면, 무한히 반복될 수 있으므로 주의"
   ]
  },
  {
   "cell_type": "code",
   "execution_count": 6,
   "metadata": {},
   "outputs": [
    {
     "name": "stdout",
     "output_type": "stream",
     "text": [
      "n= 1\n",
      "n= 2\n",
      "n= 3\n",
      "n= 4\n",
      "n= 5\n"
     ]
    }
   ],
   "source": [
    "# 종료 조건을 위한 변수 설정\n",
    "n = 0\n",
    "\n",
    "# n이 5보다 작은 동안 아래의 코드를 반복하여 실행\n",
    "# n이 5가 되면 while문을 빠져나옴(종료조건)\n",
    "while n < 5:    # while 문장의 끝은 콜론(:)\n",
    "    # 들여쓰기로 while 문장의 범위를 지정\n",
    "    # n을 1 증가. n += 1과 같은 의미\n",
    "    n = n+1\n",
    "    print(\"n=\", n)"
   ]
  },
  {
   "cell_type": "markdown",
   "metadata": {},
   "source": [
    "### **for문**\n",
    "- for 뒤의 iterable한 객체의 원소를 순차적으로 가져와서 코드블럭을 반복수행"
   ]
  },
  {
   "cell_type": "code",
   "execution_count": 7,
   "metadata": {},
   "outputs": [
    {
     "name": "stdout",
     "output_type": "stream",
     "text": [
      "n= 0\n",
      "n= 1\n",
      "n= 2\n",
      "n= 3\n",
      "n= 4\n",
      "n= 5\n"
     ]
    }
   ],
   "source": [
    "# n에0부터 5까지 할당. range(0,6)은 0부터 5까지의 범위를 의미\n",
    "for n in range(0,6):\n",
    "    print(\"n=\", n)  # indent 들여쓰기로 for 문장의 범위를 지정"
   ]
  },
  {
   "cell_type": "code",
   "execution_count": 8,
   "metadata": {},
   "outputs": [
    {
     "name": "stdout",
     "output_type": "stream",
     "text": [
      "item = 1\n",
      "item = 2\n",
      "item = 3\n",
      "item = 4\n",
      "item = 5\n"
     ]
    }
   ],
   "source": [
    "x_list = [1, 2, 3, 4, 5]\n",
    "\n",
    "# x_list의 원소를 item에 할당하고, item을 출력\n",
    "for item in x_list:\n",
    "    print(f'{item = }')"
   ]
  },
  {
   "cell_type": "markdown",
   "metadata": {},
   "source": [
    "- 파이썬은 함수도 객체이므로 for문의 iterable한 객체로 사용 가능\n",
    "   - **len(), range(), enumerate(), zip(), map(), filter()** 등은 built-in 함수"
   ]
  },
  {
   "cell_type": "code",
   "execution_count": 9,
   "metadata": {},
   "outputs": [
    {
     "name": "stdout",
     "output_type": "stream",
     "text": [
      "<built-in function len>(x) = 5\n",
      "<built-in function max>(x) = 50\n",
      "<built-in function sum>(x) = 150\n"
     ]
    }
   ],
   "source": [
    "x = [10, 20, 30, 40, 50]\n",
    "\n",
    "# len(x), max(x), sum(x)를 순서대로 method에 할당\n",
    "for method in [len, max, sum]:\n",
    "    # method(x)를 출력\n",
    "    print(f'{method}(x) = {method(x)}')"
   ]
  },
  {
   "cell_type": "markdown",
   "metadata": {},
   "source": [
    "### **enumerate() 함수를 이용한 for문**\n",
    "- for문에서 인덱스와 값을 동시에 추출하여 사용하고자 할 때 사용"
   ]
  },
  {
   "cell_type": "code",
   "execution_count": 10,
   "metadata": {},
   "outputs": [
    {
     "name": "stdout",
     "output_type": "stream",
     "text": [
      "item = (0, 'a')\n",
      "item = (1, 'b')\n",
      "item = (2, 'c')\n",
      "item = (3, 'd')\n",
      "item = (4, 'e')\n"
     ]
    }
   ],
   "source": [
    "# enumerate()를 이용하여 인덱스와 리스트의 튜플을 생성\n",
    "for item in enumerate(['a', 'b', 'c', 'd', 'e']):\n",
    "    print(f'{item = }')"
   ]
  },
  {
   "cell_type": "code",
   "execution_count": 11,
   "metadata": {},
   "outputs": [
    {
     "name": "stdout",
     "output_type": "stream",
     "text": [
      "i = 0, item = 'a'\n",
      "i = 1, item = 'b'\n",
      "i = 2, item = 'c'\n",
      "i = 3, item = 'd'\n",
      "i = 4, item = 'e'\n"
     ]
    }
   ],
   "source": [
    "# enumerate()를 이용하여 인덱스와 리스트의 튜플을 i, item에 할당\n",
    "for i, item in enumerate(['a', 'b', 'c', 'd', 'e']):\n",
    "    print(f'{i = }, {item = }')"
   ]
  },
  {
   "cell_type": "markdown",
   "metadata": {},
   "source": [
    "### **zip() 함수를 이용한 for문**\n",
    "- **zip()** 함수는 두 개 이상의 iterable한 객체를 인덱스별로 묶어서 zip 객체로 반환\n",
    "- zip 객체는 **for** 문에서 하나씩 불러오거나 리스트로 변환하여 사용 가능능"
   ]
  },
  {
   "cell_type": "code",
   "execution_count": 12,
   "metadata": {},
   "outputs": [
    {
     "data": {
      "text/plain": [
       "<zip at 0x183c4368dc0>"
      ]
     },
     "execution_count": 12,
     "metadata": {},
     "output_type": "execute_result"
    }
   ],
   "source": [
    "x_list = [1, 2, 3, 4, 5]\n",
    "y_tuple = ('a', 'b', 'c', 'd', 'e')\n",
    "z_str = 'ABCDE'\n",
    "\n",
    "# zip 함수는 iterable한 객체를 받아서, 같은 index끼리 묶어서 zip 객체를 반환\n",
    "zip(x_list, y_tuple, z_str)"
   ]
  },
  {
   "cell_type": "code",
   "execution_count": 13,
   "metadata": {},
   "outputs": [
    {
     "data": {
      "text/plain": [
       "[(1, 'a', 'A'), (2, 'b', 'B'), (3, 'c', 'C'), (4, 'd', 'D'), (5, 'e', 'E')]"
      ]
     },
     "execution_count": 13,
     "metadata": {},
     "output_type": "execute_result"
    }
   ],
   "source": [
    "# zip 객체를 list로 변환하여 zip() 동작 확인\n",
    "list(zip(x_list, y_tuple, z_str))"
   ]
  },
  {
   "cell_type": "code",
   "execution_count": 14,
   "metadata": {},
   "outputs": [
    {
     "name": "stdout",
     "output_type": "stream",
     "text": [
      "x = 1, y = 'a', z = 'A'\n",
      "x = 2, y = 'b', z = 'B'\n",
      "x = 3, y = 'c', z = 'C'\n",
      "x = 4, y = 'd', z = 'D'\n",
      "x = 5, y = 'e', z = 'E'\n"
     ]
    }
   ],
   "source": [
    "# zip 객체를 for문으로 반복하여 출력\n",
    "for x, y, z in zip(x_list, y_tuple, z_str):\n",
    "    print(f'{x = }, {y = }, {z = }')"
   ]
  },
  {
   "cell_type": "code",
   "execution_count": 15,
   "metadata": {},
   "outputs": [
    {
     "name": "stdout",
     "output_type": "stream",
     "text": [
      "i = 0, x = 1, y = 'a', z ='A'\n",
      "i = 1, x = 2, y = 'b', z ='B'\n",
      "i = 2, x = 3, y = 'c', z ='C'\n",
      "i = 3, x = 4, y = 'd', z ='D'\n",
      "i = 4, x = 5, y = 'e', z ='E'\n"
     ]
    }
   ],
   "source": [
    "# enumerate와 zip을 함께 사용\n",
    "for i, (x, y, z) in enumerate(zip(x_list, y_tuple, z_str)):\n",
    "    print(f'{i = }, {x = }, {y = }, {z =}')"
   ]
  },
  {
   "cell_type": "markdown",
   "metadata": {},
   "source": [
    "# **break, continue, pass, exit로 제어문 통제하기**\n",
    "- **break**: 반복문을 종료하고 다음 코드로 넘어감\n",
    "- **continue**: 반복문의 나머지 코드를 건너뛰고 다음 반복으로 넘어감\n",
    "- **pass**: 아무것도 하지 않고 다음 코드로 넘어감\n",
    "    - if문이나 함수등에 아무것도 작성이 안되어있으면 에러가 발생하므로 pass를 사용용\n",
    "- **exit**: 프로그램을 종료함\n",
    "    - 알고리즘을 중간에 종료할 때 사용\n",
    "    - **exit(0)**은 정상종료, **exit(1)**은 비정상적종료를 의미\n",
    "    - jupyter notebook에서는 종료 시 kernel은 재시작해야 함"
   ]
  },
  {
   "cell_type": "code",
   "execution_count": 16,
   "metadata": {},
   "outputs": [
    {
     "name": "stdout",
     "output_type": "stream",
     "text": [
      "i=0, item = 'a'\n",
      "i=1, item = 'b'\n"
     ]
    }
   ],
   "source": [
    "for i, item in enumerate(['a', 'b', 'c', 'd', 'e']):\n",
    "    # i가 2이면:\n",
    "    if i == 2:\n",
    "        # for문을 빠져나옴\n",
    "        break\n",
    "\n",
    "    # break 이후로는 이 코드는 실행되지 않음\n",
    "    print(f'{i=}, {item = }')"
   ]
  },
  {
   "cell_type": "code",
   "execution_count": 17,
   "metadata": {},
   "outputs": [
    {
     "name": "stdout",
     "output_type": "stream",
     "text": [
      "i=0, item = 'a'\n",
      "i=1, item = 'b'\n",
      "i=3, item = 'd'\n",
      "i=4, item = 'e'\n"
     ]
    }
   ],
   "source": [
    "for i, item in enumerate(['a', 'b', 'c', 'd', 'e']):\n",
    "    if i ==2:\n",
    "        # for문의 다음 반복으로 이동\n",
    "        continue\n",
    "\n",
    "    # continue가 실행될 때만 이 코드는 실행되지 않음\n",
    "    print(f'{i=}, {item = }')"
   ]
  },
  {
   "cell_type": "code",
   "execution_count": 18,
   "metadata": {},
   "outputs": [
    {
     "name": "stdout",
     "output_type": "stream",
     "text": [
      "i=0, item = 'a'\n",
      "i=1, item = 'b'\n",
      "i=2, item = 'c'\n",
      "i=3, item = 'd'\n",
      "i=4, item = 'e'\n"
     ]
    }
   ],
   "source": [
    "for i, item in enumerate(['a', 'b', 'c', 'd', 'e']):\n",
    "    if i == 2:\n",
    "        # 아무것도 하지 않음\n",
    "        pass\n",
    "\n",
    "    # pass문이 실행되어도 이 코드는 실행됨\n",
    "    print(f'{i=}, {item = }')"
   ]
  },
  {
   "cell_type": "code",
   "execution_count": 19,
   "metadata": {},
   "outputs": [
    {
     "name": "stdout",
     "output_type": "stream",
     "text": [
      "i=0, item = 'a'\n",
      "i=1, item = 'b'\n",
      "여기에서 실제로는 종료됨. 편의를 위해 주석처리\n",
      "i=2, item = 'c'\n",
      "i=3, item = 'd'\n",
      "i=4, item = 'e'\n"
     ]
    }
   ],
   "source": [
    "for i, item in enumerate(['a', 'b', 'c', 'd', 'e']):\n",
    "    if i == 2:\n",
    "        # 프로그램을 종료. 0은 정상종료를 의미\n",
    "        # exit(0)\n",
    "        print('여기에서 실제로는 종료됨. 편의를 위해 주석처리')\n",
    "    print(f'{i=}, {item = }')"
   ]
  },
  {
   "cell_type": "markdown",
   "metadata": {},
   "source": [
    "## **중첩 제어문**\n",
    "- 제어문은 중첩하여 사용 가능"
   ]
  },
  {
   "cell_type": "code",
   "execution_count": 20,
   "metadata": {},
   "outputs": [
    {
     "name": "stdout",
     "output_type": "stream",
     "text": [
      "1x1 =  1\t2x1 =  2\t3x1 =  3\t4x1 =  4\t5x1 =  5\t6x1 =  6\t7x1 =  7\t8x1 =  8\t9x1 =  9\t\n",
      "1x2 =  2\t2x2 =  4\t3x2 =  6\t4x2 =  8\t5x2 = 10\t6x2 = 12\t7x2 = 14\t8x2 = 16\t9x2 = 18\t\n",
      "1x3 =  3\t2x3 =  6\t3x3 =  9\t4x3 = 12\t5x3 = 15\t6x3 = 18\t7x3 = 21\t8x3 = 24\t9x3 = 27\t\n",
      "1x4 =  4\t2x4 =  8\t3x4 = 12\t4x4 = 16\t5x4 = 20\t6x4 = 24\t7x4 = 28\t8x4 = 32\t9x4 = 36\t\n",
      "1x5 =  5\t2x5 = 10\t3x5 = 15\t4x5 = 20\t5x5 = 25\t6x5 = 30\t7x5 = 35\t8x5 = 40\t9x5 = 45\t\n",
      "1x6 =  6\t2x6 = 12\t3x6 = 18\t4x6 = 24\t5x6 = 30\t6x6 = 36\t7x6 = 42\t8x6 = 48\t9x6 = 54\t\n",
      "1x7 =  7\t2x7 = 14\t3x7 = 21\t4x7 = 28\t5x7 = 35\t6x7 = 42\t7x7 = 49\t8x7 = 56\t9x7 = 63\t\n",
      "1x8 =  8\t2x8 = 16\t3x8 = 24\t4x8 = 32\t5x8 = 40\t6x8 = 48\t7x8 = 56\t8x8 = 64\t9x8 = 72\t\n",
      "1x9 =  9\t2x9 = 18\t3x9 = 27\t4x9 = 36\t5x9 = 45\t6x9 = 54\t7x9 = 63\t8x9 = 72\t9x9 = 81\t\n"
     ]
    }
   ],
   "source": [
    "# i는 1부터 9까지 반복\n",
    "for i in range(1,10):\n",
    "    # j는 1부터 9까지 반복\n",
    "    for j in range(1,10):\n",
    "        # end='\\t'는 출력 후 탭을 적용하고 줄바꿈은 하지 않음음\n",
    "        print(f'{j}x{i} = {j*i:>2d}', end='\\t')\n",
    "        if j == 9:\n",
    "            # 한 줄 띄움\n",
    "            print()"
   ]
  },
  {
   "cell_type": "markdown",
   "metadata": {},
   "source": [
    "# **응용**"
   ]
  },
  {
   "cell_type": "markdown",
   "metadata": {},
   "source": [
    "## 제어문\n",
    "## 분기문"
   ]
  },
  {
   "cell_type": "markdown",
   "metadata": {},
   "source": [
    "### if문"
   ]
  },
  {
   "cell_type": "code",
   "execution_count": 21,
   "metadata": {},
   "outputs": [
    {
     "name": "stdout",
     "output_type": "stream",
     "text": [
      "합격\n"
     ]
    }
   ],
   "source": [
    "score = 95\n",
    "\n",
    "# 조건은 (score >= 90) 이고, 조건이 참이면 아래의 코드 블록을 실행\n",
    "if score >= 90:\n",
    "    # 들여쓰기로 if 문장의 범위를 지정\n",
    "    print('합격')"
   ]
  },
  {
   "cell_type": "markdown",
   "metadata": {},
   "source": [
    "### if-else문"
   ]
  },
  {
   "cell_type": "code",
   "execution_count": 22,
   "metadata": {},
   "outputs": [
    {
     "name": "stdout",
     "output_type": "stream",
     "text": [
      "합격\n"
     ]
    }
   ],
   "source": [
    "score = int(input('점수를 입력하세요: '))\n",
    "\n",
    "if score >= 80:\n",
    "    print('합격')\n",
    "else: \n",
    "    print('불합격')"
   ]
  },
  {
   "cell_type": "markdown",
   "metadata": {},
   "source": [
    "### if-elif-else문"
   ]
  },
  {
   "cell_type": "code",
   "execution_count": 23,
   "metadata": {},
   "outputs": [
    {
     "name": "stdout",
     "output_type": "stream",
     "text": [
      "A\n"
     ]
    }
   ],
   "source": [
    "score = int(input('점수를 입력하세요: '))\n",
    "\n",
    "# 조건은 (score >= 90) 이고, 조건이 참이면 아래의 코드를 실행 \n",
    "if score >= 90:\n",
    "    print('A')\n",
    "# 조건은 (score >= 80) 이고, 조건이 참이면 아래의 코드를 실행 \n",
    "elif score >= 80:\n",
    "    print('B')\n",
    "# 조건은 (score >= 70) 이고, 조건이 참이면 아래의 코드를 실행 \n",
    "elif score >= 70:\n",
    "    print('C')\n",
    "# 조건은 (score >= 60) 이고, 조건이 참이면 아래의 코드를 실행 \n",
    "elif score >= 60:\n",
    "    print('D')\n",
    "# 위의 조건이 모두 거짓이면 아래의 코드를 실행\n",
    "else:\n",
    "    print('F')"
   ]
  },
  {
   "cell_type": "code",
   "execution_count": 24,
   "metadata": {},
   "outputs": [
    {
     "name": "stdout",
     "output_type": "stream",
     "text": [
      "파이썬 배운다.\n"
     ]
    }
   ],
   "source": [
    "학년 = float(input('학년을 입력하세요: '))\n",
    "\n",
    "if 2 >= 학년 >= 1:\n",
    "    print('파이썬 배운다.')\n",
    "        \n",
    "elif 3 >= 학년 >= 2:\n",
    "    print('R 배운다.')\n",
    "        \n",
    "elif  4 >= 학년 >= 3:\n",
    "    print('딥러닝 배운다.')\n",
    "        \n",
    "elif 5 >= 학년 >= 4:\n",
    "    print('시스템분석 배운다.')\n",
    "    \n",
    "else:\n",
    "    print('이제 졸업해야지.')\n"
   ]
  },
  {
   "cell_type": "code",
   "execution_count": 25,
   "metadata": {},
   "outputs": [
    {
     "name": "stdout",
     "output_type": "stream",
     "text": [
      "파이썬 배운다.\n"
     ]
    }
   ],
   "source": [
    "학년 = 1\n",
    "\n",
    "# if-elip-else문\n",
    "if 학년 < 2:\n",
    "    print('파이썬 배운다.')\n",
    "elif 학년 == 1:\n",
    "    print('R 배운다.')\n",
    "elif 학년 == 3:\n",
    "    print('딥러닝 배운다.')\n",
    "elif 학년 == 4:\n",
    "    print('시스템분석 배운다.')\n",
    "else:\n",
    "    print('이제 졸업해야지.')"
   ]
  },
  {
   "cell_type": "markdown",
   "metadata": {},
   "source": [
    "### 반복문\n",
    "#### while문"
   ]
  },
  {
   "cell_type": "code",
   "execution_count": 26,
   "metadata": {},
   "outputs": [
    {
     "name": "stdout",
     "output_type": "stream",
     "text": [
      "존재하지 않는 아이디입니다.\n",
      "비밀번호가 일치하지 않습니다.\n",
      "로그인되었습니다.\n"
     ]
    }
   ],
   "source": [
    "# 종료 조건을 위한 변수 설정정\n",
    "while True:\n",
    "    # 비밀번호가 일치할 때까지 코드를 반복하여 실행행\n",
    "    ID = input(\"아이디를 입력하세요: \")\n",
    "    if ID == \"c281050\":\n",
    "        password = input(\"비밀번호를 입력하세요: \")\n",
    "        if password == \"0807\":\n",
    "            print(\"로그인되었습니다.\")\n",
    "            break\n",
    "        else:\n",
    "            print(\"비밀번호가 일치하지 않습니다.\")\n",
    "    else:\n",
    "        print(\"존재하지 않는 아이디입니다.\")\n"
   ]
  },
  {
   "cell_type": "markdown",
   "metadata": {},
   "source": [
    "#### for문"
   ]
  },
  {
   "cell_type": "code",
   "execution_count": 27,
   "metadata": {},
   "outputs": [
    {
     "name": "stdout",
     "output_type": "stream",
     "text": [
      "제 가방에는 노트북이(가) 있습니다.\n",
      "제 가방에는 아이패드이(가) 있습니다.\n",
      "제 가방에는 필통이(가) 있습니다.\n",
      "제 가방에는 충전기이(가) 있습니다.\n"
     ]
    }
   ],
   "source": [
    "소지품목록 = ['노트북', '아이패드', '필통', '충전기']\n",
    "\n",
    "# i에 리스트 안에 있는 원소를 할당하여 출력\n",
    "for i in 소지품목록:\n",
    "    print(f'제 가방에는 {i}이(가) 있습니다.')"
   ]
  },
  {
   "cell_type": "code",
   "execution_count": 28,
   "metadata": {},
   "outputs": [
    {
     "name": "stdout",
     "output_type": "stream",
     "text": [
      "10\n",
      "9\n",
      "8\n",
      "7\n",
      "6\n",
      "5\n",
      "4\n",
      "3\n",
      "2\n",
      "1\n",
      "발사!\n"
     ]
    }
   ],
   "source": [
    "# 10부터 0 전까지의 숫자를 거꾸로 i에 할당하여 출력\n",
    "for i in range(10, 0, -1):\n",
    "    print(i)\n",
    "print('발사!')"
   ]
  },
  {
   "cell_type": "code",
   "execution_count": 29,
   "metadata": {},
   "outputs": [
    {
     "name": "stdout",
     "output_type": "stream",
     "text": [
      "<built-in function len>(x): 10\n",
      "<built-in function sum>(x): 595\n",
      "<built-in function sorted>(x): [11, 22, 33, 44, 55, 66, 77, 88, 99, 100]\n",
      "<built-in function all>(x): True\n"
     ]
    }
   ],
   "source": [
    "x = [22, 33, 11, 44, 77, 66, 55, 88, 99, 100]\n",
    "\n",
    "# len(), sum(), sorted(), all() 함수를 순서대로 method에 할당\n",
    "for method in [len, sum, sorted, all]:\n",
    "    # method(x)를 출력\n",
    "    print(f'{method}(x): {method(x)}')"
   ]
  },
  {
   "cell_type": "markdown",
   "metadata": {},
   "source": [
    "#### enumerate() 함수를 이용한 for문"
   ]
  },
  {
   "cell_type": "code",
   "execution_count": 30,
   "metadata": {},
   "outputs": [
    {
     "data": {
      "text/plain": [
       "[(0, '이름'), (1, '다은'), (2, '인성'), (3, '재연'), (4, '서정'), (5, '제하'), (6, '예림')]"
      ]
     },
     "execution_count": 30,
     "metadata": {},
     "output_type": "execute_result"
    }
   ],
   "source": [
    "#enumerate() 함수\n",
    "list(enumerate(['이름', '다은', '인성', '재연', '서정', '제하', '예림']))"
   ]
  },
  {
   "cell_type": "code",
   "execution_count": 31,
   "metadata": {},
   "outputs": [
    {
     "name": "stdout",
     "output_type": "stream",
     "text": [
      "가나다순으로 나열하면\n",
      "(0, '이름')\n",
      "(1, '김다은')\n",
      "(2, '송인성')\n",
      "(3, '유재연')\n",
      "(4, '이서정')\n",
      "(5, '이제하')\n",
      "(6, '최예림')\n"
     ]
    }
   ],
   "source": [
    "# enumerate()를 이용하여 인덱스와 리스트의 튜플을 생성\n",
    "print('가나다순으로 나열하면')\n",
    "for i in enumerate(['이름', '김다은', '송인성', '유재연', '이서정', '이제하', '최예림']):\n",
    "    print(i)"
   ]
  },
  {
   "cell_type": "code",
   "execution_count": 32,
   "metadata": {},
   "outputs": [
    {
     "name": "stdout",
     "output_type": "stream",
     "text": [
      "가나다순으로 나열하면\n",
      "1번: 김다은\n",
      "2번: 송인성\n",
      "3번: 유재연\n",
      "4번: 이서정\n",
      "5번: 이제하\n",
      "6번: 최예림\n"
     ]
    }
   ],
   "source": [
    "print('가나다순으로 나열하면')\n",
    "for 번호, 이름 in enumerate(['김다은', '송인성', '유재연', '이서정', '이제하', '최예림']):\n",
    "    print(f'{번호+1}번: {이름}')"
   ]
  },
  {
   "cell_type": "markdown",
   "metadata": {},
   "source": [
    "#### zip() 함수를 이용한 for문"
   ]
  },
  {
   "cell_type": "code",
   "execution_count": 33,
   "metadata": {},
   "outputs": [
    {
     "data": {
      "text/plain": [
       "[(1, 'a', 'A'), (2, 'b', 'B'), (3, 'c', 'C'), (4, 'd', 'D'), (5, 'e', 'E')]"
      ]
     },
     "execution_count": 33,
     "metadata": {},
     "output_type": "execute_result"
    }
   ],
   "source": [
    "# zip() 함수를 이용할 때 각자 길이가 다르면?\n",
    "x_list = [1, 2, 3, 4, 5, 6]\n",
    "y_tuple = ('a', 'b', 'c', 'd', 'e')\n",
    "z_str = 'ABCDE'\n",
    "\n",
    "#zip 함수는 iterable한 객체를 받아서, 같은 index끼리 묶어서 zip 객체를 반환\n",
    "zip(x_list, y_tuple, z_str)\n",
    "\n",
    "# zip 객체를 list로 변환하여 zip() 동작 확인\n",
    "list(zip(x_list, y_tuple, z_str))   # 짧은 걸 기준으로 마지막 원소까지 출력"
   ]
  },
  {
   "cell_type": "code",
   "execution_count": 34,
   "metadata": {},
   "outputs": [
    {
     "data": {
      "text/plain": [
       "[(0, (1, 'a', 'A')),\n",
       " (1, (2, 'b', 'B')),\n",
       " (2, (3, 'c', 'C')),\n",
       " (3, (4, 'd', 'D')),\n",
       " (4, (5, 'e', 'E'))]"
      ]
     },
     "execution_count": 34,
     "metadata": {},
     "output_type": "execute_result"
    }
   ],
   "source": [
    "# zip 객체를 enumerate와 함께 사용한 것을 list로 변환\n",
    "list(enumerate(zip(x_list, y_tuple, z_str)))"
   ]
  },
  {
   "cell_type": "code",
   "execution_count": 35,
   "metadata": {},
   "outputs": [
    {
     "name": "stdout",
     "output_type": "stream",
     "text": [
      "i = 0, x = (1, 'a', 'A')\n",
      "i = 1, x = (2, 'b', 'B')\n",
      "i = 2, x = (3, 'c', 'C')\n",
      "i = 3, x = (4, 'd', 'D')\n",
      "i = 4, x = (5, 'e', 'E')\n"
     ]
    }
   ],
   "source": [
    "# enumerate와 zip을 함께 사용\n",
    "for i, x in enumerate(zip(x_list, y_tuple, z_str)):\n",
    "    print(f'{i = }, {x = }')"
   ]
  },
  {
   "cell_type": "code",
   "execution_count": 36,
   "metadata": {},
   "outputs": [
    {
     "name": "stdout",
     "output_type": "stream",
     "text": [
      "i = 0, x = 1, y = 'a', z ='A'\n",
      "i = 1, x = 2, y = 'b', z ='B'\n",
      "i = 2, x = 3, y = 'c', z ='C'\n",
      "i = 3, x = 4, y = 'd', z ='D'\n",
      "i = 4, x = 5, y = 'e', z ='E'\n"
     ]
    }
   ],
   "source": [
    "# enumerate와 zip을 함께 사용\n",
    "for i, (x, y, z) in enumerate(zip(x_list, y_tuple, z_str)):\n",
    "    print(f'{i = }, {x = }, {y = }, {z =}')"
   ]
  },
  {
   "cell_type": "markdown",
   "metadata": {},
   "source": [
    "## break, continue, pass, exit로 제어문 통제하기"
   ]
  },
  {
   "cell_type": "code",
   "execution_count": 37,
   "metadata": {},
   "outputs": [
    {
     "name": "stdout",
     "output_type": "stream",
     "text": [
      "애인과 데이트를 하는 날, 어디를 갈지 정하고 있는 상황입니다.\n",
      "애인이 좋아하는 곳을 맞춰보세요. (5번까지 시도 가능)\n",
      "\n",
      "[1]애인이 원하는 데이트 장소를 맞추시오. (카페/도서관/영화관/피시방/집/헬스장):\n",
      "알 수 없는 장소입니다. 다시 선택하세요.\n",
      "\n",
      "[2]애인이 원하는 데이트 장소를 맞추시오. (카페/도서관/영화관/피시방/집/헬스장):\n",
      "도서관 어때?\n",
      "애인에게 공부나 많이 하라며 욕을 먹었습니다.\n",
      "\n",
      "[3]애인이 원하는 데이트 장소를 맞추시오. (카페/도서관/영화관/피시방/집/헬스장):\n",
      "피시방 가자.\n",
      "애인과의 마지막 데이트가 되었습니다.\n",
      "\n",
      "[4]애인이 원하는 데이트 장소를 맞추시오. (카페/도서관/영화관/피시방/집/헬스장):\n",
      "운동하자\n",
      "그렇게 평생 혼자 운동만 하게 되었습니다.\n",
      "\n",
      "[5]애인이 원하는 데이트 장소를 맞추시오. (카페/도서관/영화관/피시방/집/헬스장):\n",
      "카페 갈까?\n",
      "애인이 만족스러운 표정을 짓습니다.\n"
     ]
    }
   ],
   "source": [
    "# 데이트 장소 고르기\n",
    "\n",
    "print('애인과 데이트를 하는 날, 어디를 갈지 정하고 있는 상황입니다.')\n",
    "print('애인이 좋아하는 곳을 맞춰보세요. (5번까지 시도 가능)')\n",
    "\n",
    "for i in range(5):  # 총 5번까지 시도 가능\n",
    "    print(f'\\n[{i+1}]애인이 원하는 데이트 장소를 맞추시오. (카페/도서관/영화관/피시방/집/헬스장):')\n",
    "    place = input(f'[{i+1}] 장소를 입력하시오')\n",
    "\n",
    "    if place == '카페':\n",
    "        print('카페 갈까?')\n",
    "        print('애인이 만족스러운 표정을 짓습니다.')\n",
    "        # for문을 빠져나옴\n",
    "        break \n",
    "\n",
    "    elif place == '도서관':\n",
    "        print('도서관 어때?')\n",
    "        print('애인에게 공부나 많이 하라며 욕을 먹었습니다.')\n",
    "        # 아무것도 하지 않음\n",
    "        pass\n",
    "\n",
    "    elif place == '영화관':\n",
    "        print('영화 볼까?')\n",
    "        print('좋은 선택이었습니다. 애인이 만족스러운 표정을 짓습니다.')\n",
    "        # for문을 빠져나옴\n",
    "        break\n",
    "\n",
    "    elif place == '피시방':\n",
    "        print('피시방 가자.')\n",
    "        print('애인과의 마지막 데이트가 되었습니다.')\n",
    "        # 프로그램을 종료. 0은 정상종료를 의미\n",
    "        #exit(0)\n",
    "\n",
    "    elif place == '집':\n",
    "        print('집에서 놀까?')\n",
    "        print('애인이 그다지 마음에 들어하지 않습니다.')\n",
    "        pass  # 아무것도 하지 않음\n",
    "\n",
    "    elif place == '헬스장':\n",
    "        print('운동하자')\n",
    "        print('그렇게 평생 혼자 운동만 하게 되었습니다.')\n",
    "        # 프로그램을 종료. 0은 정상종료를 의미\n",
    "        #exit(0)\n",
    "\n",
    "    else:\n",
    "        print('알 수 없는 장소입니다. 다시 선택하세요.')\n",
    "        # for문의 다음 반복으로 이동\n",
    "        continue\n",
    "\n",
    "else:\n",
    "    print('\\n5번의 기회가 모두 끝났습니다.')\n"
   ]
  },
  {
   "cell_type": "code",
   "execution_count": 38,
   "metadata": {},
   "outputs": [
    {
     "name": "stdout",
     "output_type": "stream",
     "text": [
      "i=0, item = 'a'\n",
      "i=1, item = 'b'\n",
      "i=3, item = 'd'\n",
      "i=4, item = 'e'\n",
      "for문 종료\n"
     ]
    }
   ],
   "source": [
    "for i, item in enumerate(['a', 'b', 'c', 'd', 'e']):\n",
    "    if i == 2:\n",
    "        # for문을 빠져나옴옴\n",
    "        continue\n",
    "        break    # 이 코드는 실행되지 않음\n",
    "    # continue가 실행될 떄만 이 코드는 실행되지 않음\n",
    "    print(f'{i=}, {item = }')\n",
    "\n",
    "# for문이 종료되었음을 출력\n",
    "print('for문 종료')"
   ]
  },
  {
   "cell_type": "code",
   "execution_count": 39,
   "metadata": {},
   "outputs": [
    {
     "name": "stdout",
     "output_type": "stream",
     "text": [
      "i=0, item = 'a'\n",
      "i=1, item = 'b'\n",
      "fot문 종료\n"
     ]
    }
   ],
   "source": [
    "for i, item in enumerate(['a', 'b', 'c', 'd', 'e']):\n",
    "    if i == 2:\n",
    "        # for문을 빠져나옴\n",
    "        break\n",
    "        print('브레이크')    # 이 코드는 실행되지 않음\n",
    "    \n",
    "    # break 이후로는 이 코드는 실행되지 않음음\n",
    "    print(f'{i=}, {item = }')\n",
    "\n",
    "# for문이 종료되었음을 출력\n",
    "print('fot문 종료')"
   ]
  },
  {
   "cell_type": "markdown",
   "metadata": {},
   "source": [
    "### 중첩 제어문"
   ]
  },
  {
   "cell_type": "code",
   "execution_count": 40,
   "metadata": {},
   "outputs": [
    {
     "name": "stdout",
     "output_type": "stream",
     "text": [
      " 2x 2 =   4\t 2x 4 =   8\t 2x 6 =  12\t 2x 8 =  16\t 2x10 =  20\t 2x12 =  24\t 2x14 =  28\t 2x16 =  32\t 2x18 =  36\t 2x20 =  40\t\n",
      " 4x 2 =   8\t 4x 4 =  16\t 4x 6 =  24\t 4x 8 =  32\t 4x10 =  40\t 4x12 =  48\t 4x14 =  56\t 4x16 =  64\t 4x18 =  72\t 4x20 =  80\t\n",
      " 6x 2 =  12\t 6x 4 =  24\t 6x 6 =  36\t 6x 8 =  48\t 6x10 =  60\t 6x12 =  72\t 6x14 =  84\t 6x16 =  96\t 6x18 = 108\t 6x20 = 120\t\n",
      " 8x 2 =  16\t 8x 4 =  32\t 8x 6 =  48\t 8x 8 =  64\t 8x10 =  80\t 8x12 =  96\t 8x14 = 112\t 8x16 = 128\t 8x18 = 144\t 8x20 = 160\t\n",
      "10x 2 =  20\t10x 4 =  40\t10x 6 =  60\t10x 8 =  80\t10x10 = 100\t10x12 = 120\t10x14 = 140\t10x16 = 160\t10x18 = 180\t10x20 = 200\t\n",
      "12x 2 =  24\t12x 4 =  48\t12x 6 =  72\t12x 8 =  96\t12x10 = 120\t12x12 = 144\t12x14 = 168\t12x16 = 192\t12x18 = 216\t12x20 = 240\t\n",
      "14x 2 =  28\t14x 4 =  56\t14x 6 =  84\t14x 8 = 112\t14x10 = 140\t14x12 = 168\t14x14 = 196\t14x16 = 224\t14x18 = 252\t14x20 = 280\t\n",
      "16x 2 =  32\t16x 4 =  64\t16x 6 =  96\t16x 8 = 128\t16x10 = 160\t16x12 = 192\t16x14 = 224\t16x16 = 256\t16x18 = 288\t16x20 = 320\t\n",
      "18x 2 =  36\t18x 4 =  72\t18x 6 = 108\t18x 8 = 144\t18x10 = 180\t18x12 = 216\t18x14 = 252\t18x16 = 288\t18x18 = 324\t18x20 = 360\t\n",
      "20x 2 =  40\t20x 4 =  80\t20x 6 = 120\t20x 8 = 160\t20x10 = 200\t20x12 = 240\t20x14 = 280\t20x16 = 320\t20x18 = 360\t20x20 = 400\t\n"
     ]
    }
   ],
   "source": [
    "# 1부터 20까지 짝수만 곱한 계산식을 출력\n",
    "# i는 1부터 20까지 반복\n",
    "for i in range(1,21):\n",
    "    # j는 1부터 20까지 반복\n",
    "    for j in range(1,21):\n",
    "        # 짝수만 곱한 값 출력\n",
    "        if i % 2 == 0 and j % 2 == 0: \n",
    "            print(f'{i:>2d}x{j:>2d} = {i*j:>3d}', end='\\t')\n",
    "            if j == 20:\n",
    "                # 한 줄 띄움\n",
    "                print()"
   ]
  },
  {
   "cell_type": "code",
   "execution_count": 41,
   "metadata": {},
   "outputs": [
    {
     "name": "stdout",
     "output_type": "stream",
     "text": [
      " 2x 2 =   4\t 2x 4 =   8\t 2x 6 =  12\t 2x 8 =  16\t 2x10 =  20\t 2x12 =  24\t 2x14 =  28\t 2x16 =  32\t 2x18 =  36\t 2x20 =  40\t\n",
      " 4x 2 =   8\t 4x 4 =  16\t 4x 6 =  24\t 4x 8 =  32\t 4x10 =  40\t 4x12 =  48\t 4x14 =  56\t 4x16 =  64\t 4x18 =  72\t 4x20 =  80\t\n",
      " 6x 2 =  12\t 6x 4 =  24\t 6x 6 =  36\t 6x 8 =  48\t 6x10 =  60\t 6x12 =  72\t 6x14 =  84\t 6x16 =  96\t 6x18 = 108\t 6x20 = 120\t\n",
      " 8x 2 =  16\t 8x 4 =  32\t 8x 6 =  48\t 8x 8 =  64\t 8x10 =  80\t 8x12 =  96\t 8x14 = 112\t 8x16 = 128\t 8x18 = 144\t 8x20 = 160\t\n",
      "10x 2 =  20\t10x 4 =  40\t10x 6 =  60\t10x 8 =  80\t10x10 = 100\t10x12 = 120\t10x14 = 140\t10x16 = 160\t10x18 = 180\t10x20 = 200\t\n",
      "12x 2 =  24\t12x 4 =  48\t12x 6 =  72\t12x 8 =  96\t12x10 = 120\t12x12 = 144\t12x14 = 168\t12x16 = 192\t12x18 = 216\t12x20 = 240\t\n",
      "14x 2 =  28\t14x 4 =  56\t14x 6 =  84\t14x 8 = 112\t14x10 = 140\t14x12 = 168\t14x14 = 196\t14x16 = 224\t14x18 = 252\t14x20 = 280\t\n",
      "16x 2 =  32\t16x 4 =  64\t16x 6 =  96\t16x 8 = 128\t16x10 = 160\t16x12 = 192\t16x14 = 224\t16x16 = 256\t16x18 = 288\t16x20 = 320\t\n",
      "18x 2 =  36\t18x 4 =  72\t18x 6 = 108\t18x 8 = 144\t18x10 = 180\t18x12 = 216\t18x14 = 252\t18x16 = 288\t18x18 = 324\t18x20 = 360\t\n",
      "20x 2 =  40\t20x 4 =  80\t20x 6 = 120\t20x 8 = 160\t20x10 = 200\t20x12 = 240\t20x14 = 280\t20x16 = 320\t20x18 = 360\t20x20 = 400\t\n"
     ]
    }
   ],
   "source": [
    "# 1부터 20까지 짝수만 곱한 계산식을 출력\n",
    "# i는 2부터 20까지 2씩 반복\n",
    "for i in range(2,21,2):\n",
    "    # j는 2부터 20까지 2씩 반복\n",
    "    for j in range(2,21,2):\n",
    "        print(f'{i:>2d}x{j:>2d} = {i*j:>3d}', end='\\t')\n",
    "        if j == 20:\n",
    "            # 한 줄 띄움\n",
    "            print()"
   ]
  },
  {
   "cell_type": "code",
   "execution_count": 42,
   "metadata": {},
   "outputs": [
    {
     "name": "stdout",
     "output_type": "stream",
     "text": [
      "20x20 = 400\t20x18 = 360\t20x16 = 320\t20x14 = 280\t20x12 = 240\t20x10 = 200\t20x 8 = 160\t20x 6 = 120\t20x 4 =  80\t20x 2 =  40\t\n",
      "18x20 = 360\t18x18 = 324\t18x16 = 288\t18x14 = 252\t18x12 = 216\t18x10 = 180\t18x 8 = 144\t18x 6 = 108\t18x 4 =  72\t18x 2 =  36\t\n",
      "16x20 = 320\t16x18 = 288\t16x16 = 256\t16x14 = 224\t16x12 = 192\t16x10 = 160\t16x 8 = 128\t16x 6 =  96\t16x 4 =  64\t16x 2 =  32\t\n",
      "14x20 = 280\t14x18 = 252\t14x16 = 224\t14x14 = 196\t14x12 = 168\t14x10 = 140\t14x 8 = 112\t14x 6 =  84\t14x 4 =  56\t14x 2 =  28\t\n",
      "12x20 = 240\t12x18 = 216\t12x16 = 192\t12x14 = 168\t12x12 = 144\t12x10 = 120\t12x 8 =  96\t12x 6 =  72\t12x 4 =  48\t12x 2 =  24\t\n",
      "10x20 = 200\t10x18 = 180\t10x16 = 160\t10x14 = 140\t10x12 = 120\t10x10 = 100\t10x 8 =  80\t10x 6 =  60\t10x 4 =  40\t10x 2 =  20\t\n",
      " 8x20 = 160\t 8x18 = 144\t 8x16 = 128\t 8x14 = 112\t 8x12 =  96\t 8x10 =  80\t 8x 8 =  64\t 8x 6 =  48\t 8x 4 =  32\t 8x 2 =  16\t\n",
      " 6x20 = 120\t 6x18 = 108\t 6x16 =  96\t 6x14 =  84\t 6x12 =  72\t 6x10 =  60\t 6x 8 =  48\t 6x 6 =  36\t 6x 4 =  24\t 6x 2 =  12\t\n",
      " 4x20 =  80\t 4x18 =  72\t 4x16 =  64\t 4x14 =  56\t 4x12 =  48\t 4x10 =  40\t 4x 8 =  32\t 4x 6 =  24\t 4x 4 =  16\t 4x 2 =   8\t\n",
      " 2x20 =  40\t 2x18 =  36\t 2x16 =  32\t 2x14 =  28\t 2x12 =  24\t 2x10 =  20\t 2x 8 =  16\t 2x 6 =  12\t 2x 4 =   8\t 2x 2 =   4\t\n"
     ]
    }
   ],
   "source": [
    "# 1부터 20까지 짝수만 곱한 계산식을 출력하고 거꾸로 배열\n",
    "# i는 20부터 2까지 -2씩 반복\n",
    "for i in range(20,1,-2):\n",
    "    # j는 20부터 2까지 -2씩 반복\n",
    "    for j in range(20,1,-2):\n",
    "        print(f'{i:>2d}x{j:>2d} = {i*j:>3d}', end='\\t')\n",
    "        if j == 2:\n",
    "            # 한 줄 띄움\n",
    "            print()"
   ]
  },
  {
   "cell_type": "code",
   "execution_count": 43,
   "metadata": {},
   "outputs": [
    {
     "name": "stdout",
     "output_type": "stream",
     "text": [
      "20x20 = 400\t20x18 = 360\t20x16 = 320\t20x14 = 280\t20x12 = 240\t20x10 = 200\t20x 8 = 160\t20x 6 = 120\t20x 4 =  80\t20x 2 =  40\t\n",
      "18x20 = 360\t18x18 = 324\t18x16 = 288\t18x14 = 252\t18x12 = 216\t18x10 = 180\t18x 8 = 144\t18x 6 = 108\t18x 4 =  72\t18x 2 =  36\t\n",
      "16x20 = 320\t16x18 = 288\t16x16 = 256\t16x14 = 224\t16x12 = 192\t16x10 = 160\t16x 8 = 128\t16x 6 =  96\t16x 4 =  64\t16x 2 =  32\t\n",
      "14x20 = 280\t14x18 = 252\t14x16 = 224\t14x14 = 196\t14x12 = 168\t14x10 = 140\t14x 8 = 112\t14x 6 =  84\t14x 4 =  56\t14x 2 =  28\t\n",
      "12x20 = 240\t12x18 = 216\t12x16 = 192\t12x14 = 168\t12x12 = 144\t12x10 = 120\t12x 8 =  96\t12x 6 =  72\t12x 4 =  48\t12x 2 =  24\t\n",
      "10x20 = 200\t10x18 = 180\t10x16 = 160\t10x14 = 140\t10x12 = 120\t10x10 = 100\t10x 8 =  80\t10x 6 =  60\t10x 4 =  40\t10x 2 =  20\t\n",
      " 8x20 = 160\t 8x18 = 144\t 8x16 = 128\t 8x14 = 112\t 8x12 =  96\t 8x10 =  80\t 8x 8 =  64\t 8x 6 =  48\t 8x 4 =  32\t 8x 2 =  16\t\n",
      " 6x20 = 120\t 6x18 = 108\t 6x16 =  96\t 6x14 =  84\t 6x12 =  72\t 6x10 =  60\t 6x 8 =  48\t 6x 6 =  36\t 6x 4 =  24\t 6x 2 =  12\t\n",
      " 4x20 =  80\t 4x18 =  72\t 4x16 =  64\t 4x14 =  56\t 4x12 =  48\t 4x10 =  40\t 4x 8 =  32\t 4x 6 =  24\t 4x 4 =  16\t 4x 2 =   8\t\n",
      " 2x20 =  40\t 2x18 =  36\t 2x16 =  32\t 2x14 =  28\t 2x12 =  24\t 2x10 =  20\t 2x 8 =  16\t 2x 6 =  12\t 2x 4 =   8\t 2x 2 =   4\t\n"
     ]
    }
   ],
   "source": [
    "# 1부터 20까지 짝수만 곱한 계산식을 출력하고 거꾸로 배열\n",
    "# i는 1부터 20까지 반복\n",
    "for i in range(20,0,-1):\n",
    "    # j는 1부터 20까지 반복\n",
    "    for j in range(20,0,-1):\n",
    "        # 짝수만 곱한 값 출력\n",
    "        if i % 2 == 0 and j % 2 == 0: \n",
    "            print(f'{i:>2d}x{j:>2d} = {i*j:>3d}', end='\\t')\n",
    "            if j == 2:\n",
    "                # 한 줄 띄움\n",
    "                print()"
   ]
  },
  {
   "cell_type": "code",
   "execution_count": 44,
   "metadata": {},
   "outputs": [
    {
     "data": {
      "text/plain": [
       "[20, 18, 16, 14, 12, 10, 8, 6, 4, 2]"
      ]
     },
     "execution_count": 44,
     "metadata": {},
     "output_type": "execute_result"
    }
   ],
   "source": [
    "list(range(1, 21))[::-2]"
   ]
  },
  {
   "cell_type": "code",
   "execution_count": 45,
   "metadata": {},
   "outputs": [
    {
     "name": "stdout",
     "output_type": "stream",
     "text": [
      "20x20 = 400\t20x18 = 360\t20x16 = 320\t20x14 = 280\t20x12 = 240\t20x10 = 200\t20x 8 = 160\t20x 6 = 120\t20x 4 =  80\t20x 2 =  40\t\n",
      "18x20 = 360\t18x18 = 324\t18x16 = 288\t18x14 = 252\t18x12 = 216\t18x10 = 180\t18x 8 = 144\t18x 6 = 108\t18x 4 =  72\t18x 2 =  36\t\n",
      "16x20 = 320\t16x18 = 288\t16x16 = 256\t16x14 = 224\t16x12 = 192\t16x10 = 160\t16x 8 = 128\t16x 6 =  96\t16x 4 =  64\t16x 2 =  32\t\n",
      "14x20 = 280\t14x18 = 252\t14x16 = 224\t14x14 = 196\t14x12 = 168\t14x10 = 140\t14x 8 = 112\t14x 6 =  84\t14x 4 =  56\t14x 2 =  28\t\n",
      "12x20 = 240\t12x18 = 216\t12x16 = 192\t12x14 = 168\t12x12 = 144\t12x10 = 120\t12x 8 =  96\t12x 6 =  72\t12x 4 =  48\t12x 2 =  24\t\n",
      "10x20 = 200\t10x18 = 180\t10x16 = 160\t10x14 = 140\t10x12 = 120\t10x10 = 100\t10x 8 =  80\t10x 6 =  60\t10x 4 =  40\t10x 2 =  20\t\n",
      " 8x20 = 160\t 8x18 = 144\t 8x16 = 128\t 8x14 = 112\t 8x12 =  96\t 8x10 =  80\t 8x 8 =  64\t 8x 6 =  48\t 8x 4 =  32\t 8x 2 =  16\t\n",
      " 6x20 = 120\t 6x18 = 108\t 6x16 =  96\t 6x14 =  84\t 6x12 =  72\t 6x10 =  60\t 6x 8 =  48\t 6x 6 =  36\t 6x 4 =  24\t 6x 2 =  12\t\n",
      " 4x20 =  80\t 4x18 =  72\t 4x16 =  64\t 4x14 =  56\t 4x12 =  48\t 4x10 =  40\t 4x 8 =  32\t 4x 6 =  24\t 4x 4 =  16\t 4x 2 =   8\t\n",
      " 2x20 =  40\t 2x18 =  36\t 2x16 =  32\t 2x14 =  28\t 2x12 =  24\t 2x10 =  20\t 2x 8 =  16\t 2x 6 =  12\t 2x 4 =   8\t 2x 2 =   4\t\n"
     ]
    }
   ],
   "source": [
    "list_range = list(range(1, 21))[::-2]\n",
    "# i는 20부터 2까지 -2씩 반복\n",
    "for i in list_range:\n",
    "    # j는 20부터 2까지 -2씩 반복\n",
    "    for j in list_range:\n",
    "        print(f'{i:>2d}x{j:>2d} = {i*j:>3d}', end='\\t')\n",
    "        if j == 2:\n",
    "            # 한 줄 띄움\n",
    "            print()"
   ]
  }
 ],
 "metadata": {
  "kernelspec": {
   "display_name": "base",
   "language": "python",
   "name": "python3"
  },
  "language_info": {
   "codemirror_mode": {
    "name": "ipython",
    "version": 3
   },
   "file_extension": ".py",
   "mimetype": "text/x-python",
   "name": "python",
   "nbconvert_exporter": "python",
   "pygments_lexer": "ipython3",
   "version": "3.12.8"
  }
 },
 "nbformat": 4,
 "nbformat_minor": 2
}
