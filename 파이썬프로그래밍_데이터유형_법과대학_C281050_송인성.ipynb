{
 "cells": [
  {
   "cell_type": "markdown",
   "metadata": {},
   "source": [
    "# **데이터 유형**\n",
    "## **파이썬의 데이터 유형(type)**\n",
    "### **데이터 유형의 확인**\n",
    "- **변수에 데이터를 배정(assignment)하고 유형 확인**"
   ]
  },
  {
   "cell_type": "code",
   "execution_count": null,
   "metadata": {},
   "outputs": [
    {
     "name": "stdout",
     "output_type": "stream",
     "text": [
      "x_value = 12345\n",
      "type(x_value) = <class 'int'>\n"
     ]
    }
   ],
   "source": [
    "# x_value에 정수 12345를 할당\n",
    "x_value = 12345\n",
    "\n",
    "# x_value의 값과 자료형을 출력\n",
    "print(f'{x_value = }\\n{type(x_value) = }')\n",
    "\n",
    "#x_value의 유형은 클래스(class) 'int'임. 즉, 객체(object)임"
   ]
  },
  {
   "cell_type": "code",
   "execution_count": 2,
   "metadata": {},
   "outputs": [
    {
     "name": "stdout",
     "output_type": "stream",
     "text": [
      "x_str = 'abcde'\n",
      "type(x_str) = <class 'str'>\n"
     ]
    }
   ],
   "source": [
    "# x_str에 문자열 'abcde'를 할당\n",
    "x_str = 'abcde'\n",
    "\n",
    "# x_str의 값과 자료형을 출력\n",
    "print(f'{x_str = }\\n{type(x_str) = }')"
   ]
  },
  {
   "cell_type": "code",
   "execution_count": 3,
   "metadata": {},
   "outputs": [
    {
     "name": "stdout",
     "output_type": "stream",
     "text": [
      "x_list = ['abcde', 12345]\n",
      "type(x_list) = <class 'list'>\n"
     ]
    }
   ],
   "source": [
    "# x_list에 x_str과 x_value를 원소로 갖는 리스트를 할당\n",
    "x_list = [x_str, x_value]\n",
    "\n",
    "# x_list의 값과 자료형을 출력\n",
    "print(f'{x_list = }\\n{type(x_list) = }')"
   ]
  },
  {
   "cell_type": "code",
   "execution_count": 4,
   "metadata": {},
   "outputs": [
    {
     "name": "stdout",
     "output_type": "stream",
     "text": [
      "x_tuple = ('abcde', 12345)\n",
      "type(x_tuple) = <class 'tuple'>\n"
     ]
    }
   ],
   "source": [
    "# x_tuple에 x_str과 x_value를 원소로 갖는 튜플을 할당\n",
    "x_tuple = (x_str, x_value)\n",
    "\n",
    "# x_tuple의 값과 자료형을 출력\n",
    "print(f'{x_tuple = }\\n{type(x_tuple) = }')"
   ]
  },
  {
   "cell_type": "code",
   "execution_count": 5,
   "metadata": {},
   "outputs": [
    {
     "name": "stdout",
     "output_type": "stream",
     "text": [
      "x_dict = {'name': 'Chunghun Ha', 'id': 67890}\n",
      "type(x_dict) = <class 'dict'>\n"
     ]
    }
   ],
   "source": [
    "# x_dict에 key가 'name'과 'id'이고 value가 'Chunghun Ha'와 67890인 딕셔너리를 할당\n",
    "x_dict = {'name': 'Chunghun Ha', 'id':67890}\n",
    "\n",
    "# x_dict의 값과 자료형을 출력\n",
    "print(f'{x_dict = }\\n{type(x_dict) = }')"
   ]
  },
  {
   "cell_type": "code",
   "execution_count": 6,
   "metadata": {},
   "outputs": [
    {
     "name": "stdout",
     "output_type": "stream",
     "text": [
      "x_none = None\n",
      "type(x_none) = <class 'NoneType'>\n"
     ]
    }
   ],
   "source": [
    "# x_none에 None을 할당\n",
    "x_none = None\n",
    "\n",
    "# x_none의 값과 자료형을 출력\n",
    "print(f'{x_none = }\\n{type(x_none) = }')"
   ]
  },
  {
   "cell_type": "markdown",
   "metadata": {},
   "source": [
    "## **변수는 객체**\n",
    "- 파이썬에서 모든 것이 ***객체(object)***"
   ]
  },
  {
   "cell_type": "markdown",
   "metadata": {},
   "source": [
    "- 객체의 속성과 매서드 확인 방법"
   ]
  },
  {
   "cell_type": "code",
   "execution_count": 7,
   "metadata": {},
   "outputs": [
    {
     "name": "stdout",
     "output_type": "stream",
     "text": [
      "['__abs__', '__add__', '__and__', '__bool__', '__ceil__', '__class__', '__delattr__', '__dir__', '__divmod__', '__doc__', '__eq__', '__float__', '__floor__', '__floordiv__', '__format__', '__ge__', '__getattribute__', '__getnewargs__', '__getstate__', '__gt__', '__hash__', '__index__', '__init__', '__init_subclass__', '__int__', '__invert__', '__le__', '__lshift__', '__lt__', '__mod__', '__mul__', '__ne__', '__neg__', '__new__', '__or__', '__pos__', '__pow__', '__radd__', '__rand__', '__rdivmod__', '__reduce__', '__reduce_ex__', '__repr__', '__rfloordiv__', '__rlshift__', '__rmod__', '__rmul__', '__ror__', '__round__', '__rpow__', '__rrshift__', '__rshift__', '__rsub__', '__rtruediv__', '__rxor__', '__setattr__', '__sizeof__', '__str__', '__sub__', '__subclasshook__', '__truediv__', '__trunc__', '__xor__', 'as_integer_ratio', 'bit_count', 'bit_length', 'conjugate', 'denominator', 'from_bytes', 'imag', 'is_integer', 'numerator', 'real', 'to_bytes']\n"
     ]
    }
   ],
   "source": [
    "# x_value의 속성과 메소드를 출력\n",
    "print(dir(x_value))"
   ]
  },
  {
   "cell_type": "markdown",
   "metadata": {},
   "source": [
    "- 객체의 속성과 메서드는 .속성 또는 .메서드()로 호출 가능"
   ]
  },
  {
   "cell_type": "code",
   "execution_count": 8,
   "metadata": {},
   "outputs": [
    {
     "name": "stdout",
     "output_type": "stream",
     "text": [
      "x_value.real = 12345\n",
      "x_value.bit_length() = 14\n"
     ]
    }
   ],
   "source": [
    "# x_value의 실수부(속성)를 출력\n",
    "print(f'{x_value.real = }')\n",
    "\n",
    "# x_value의 비트 수를 계산(메서드) 하여 출력\n",
    "print(f'{x_value.bit_length() = }')"
   ]
  },
  {
   "cell_type": "markdown",
   "metadata": {},
   "source": [
    "## **mutable과 immutable**\n",
    "- **mutable**: 원소의 수정 가능한 자료형\n",
    "- **immutable**: 원소의 수정이 불가능한 자료형"
   ]
  },
  {
   "cell_type": "markdown",
   "metadata": {},
   "source": [
    "### **mutable: 리스트**"
   ]
  },
  {
   "cell_type": "code",
   "execution_count": null,
   "metadata": {},
   "outputs": [
    {
     "name": "stdout",
     "output_type": "stream",
     "text": [
      "Before: x_list = ['abcde', 12345]\n",
      "After : x_list = ['abcde', 'fghij']\n"
     ]
    }
   ],
   "source": [
    "x_list = ['abcde', 12345]\n",
    "\n",
    "# 원소 변경 전 x_list의 값을 출력\n",
    "print(f'Before: {x_list = }')\n",
    "\n",
    "# 인덱스 1 원소를 'fghij'로 변경\n",
    "x_list[1] = 'fghij'\n",
    "\n",
    "# 원소 변경 후 x_list의 값을 출력\n",
    "print(f'After: {x_list = }')"
   ]
  },
  {
   "cell_type": "markdown",
   "metadata": {},
   "source": [
    "### **mutable: 딕셔너리**"
   ]
  },
  {
   "cell_type": "code",
   "execution_count": 10,
   "metadata": {},
   "outputs": [
    {
     "name": "stdout",
     "output_type": "stream",
     "text": [
      "Before: x_dict = {'name': 'Chunghun Ha', 'id': 67890}\n",
      "After: x_dict = {'name': 'Gildong Hong', 'id': 67890}\n"
     ]
    }
   ],
   "source": [
    "x_dict = {'name': 'Chunghun Ha', 'id':67890}\n",
    "\n",
    "# 원소 변경 전 x_dict의 값을 출력\n",
    "print(f'Before: {x_dict = }')\n",
    "\n",
    "# key가 'name'인 원소를 'Gildong Hong'으로 변경\n",
    "x_dict['name'] = 'Gildong Hong'\n",
    "\n",
    "# 원소 변경 후 x_dict의 값을 출력\n",
    "print(f'After: {x_dict = }')"
   ]
  },
  {
   "cell_type": "markdown",
   "metadata": {},
   "source": [
    "### **immutable: 문자열 -> 원소 바꾸기 불가**"
   ]
  },
  {
   "cell_type": "code",
   "execution_count": 11,
   "metadata": {},
   "outputs": [
    {
     "name": "stdout",
     "output_type": "stream",
     "text": [
      "Before: x_str = 'abcde'\n",
      "Error: 'str' object does not support item assignment\n",
      "After: x_str = 'abcde'\n"
     ]
    }
   ],
   "source": [
    "x_str = 'abcde'\n",
    "\n",
    "# 원소 변경 전 x_str의 값을 출력\n",
    "print(f'Before: {x_str = }')\n",
    "\n",
    "# try 블록 안의 코드를 실행하다가 에러가 발생하면 except 블록의 코드로 실행\n",
    "try: \n",
    "    # 인덱스 1 원소를 '2'로 변경. 문자열은 immutable 자료형이므로 에러 발생\n",
    "    x_str[1] = '2'\n",
    "except TypeError as e: # 에러 발생시 에러 메시지를 e에 할당\n",
    "    # 에러 메시지 출력\n",
    "    print(f'Error: {e}')\n",
    "\n",
    "# 원소 변경 후 x_str의 값을 출력\n",
    "print(f'After: {x_str = }')"
   ]
  },
  {
   "cell_type": "markdown",
   "metadata": {},
   "source": [
    "### **immutable: 튜플 -> 원소 바꾸기 불가**"
   ]
  },
  {
   "cell_type": "code",
   "execution_count": 1,
   "metadata": {},
   "outputs": [
    {
     "name": "stdout",
     "output_type": "stream",
     "text": [
      "Before: x_tuple = ('abcde', 12345)\n",
      "Error: 'tuple' object does not support item assignment\n",
      "After: x_tuple = ('abcde', 12345)\n"
     ]
    }
   ],
   "source": [
    "x_tuple = ('abcde', 12345)\n",
    "\n",
    "# 원소 변경 전 x_tuple의 값을 출력\n",
    "print(f'Before: {x_tuple = }')\n",
    "\n",
    "# try 블록 안의 코드를 실행하다가 에러가 발생하면 except 블록의 코드를 실행\n",
    "try:\n",
    "    # 인덱스 1 원소를 'fghij'로 변경. 튜플은 immutable 자료형이므로 에러 발생\n",
    "    x_tuple[1] = 'fghij'\n",
    "except TypeError as e:\n",
    "    print(f'Error: {e}')\n",
    "\n",
    "# 원소 변경 후 x_tuple의 값을 출력\n",
    "print(f'After: {x_tuple = }')"
   ]
  },
  {
   "cell_type": "markdown",
   "metadata": {},
   "source": [
    "## **자료형 변환**\n",
    "### **단일 자료형 변환 함수**\n",
    "- **int()**: 정수형으로 변환\n",
    "- **float()**: 실수형으로 변환\n",
    "- **str()**: 문자열로 변환"
   ]
  },
  {
   "cell_type": "code",
   "execution_count": 2,
   "metadata": {},
   "outputs": [
    {
     "name": "stdout",
     "output_type": "stream",
     "text": [
      "12345는 <class 'int'>\n",
      "------------------------------\n",
      "12345.0는 <class 'float'>\n",
      "------------------------------\n",
      "12345는 <class 'str'>\n",
      "------------------------------\n",
      "True는 <class 'bool'>\n"
     ]
    }
   ],
   "source": [
    "# var_x에 정수 12345를 할당\n",
    "var_x = 12345\n",
    "\n",
    "# var_x의 값과 자료형을 출력\n",
    "# 마지막(end=)에 줄바꿈('\\n')과 구분선('-' 30개) 그리고 줄바꿈('\\n')을 추가\n",
    "print(f'{var_x}는 {type(var_x)}', end='\\n'+'-'*30+'\\n')\n",
    "\n",
    "\n",
    "# var_x의 값을 실수형으로 변환하여 var_y에 할당\n",
    "var_y = float(var_x)\n",
    "\n",
    "# var_y의 값과 자료형을 출력\n",
    "print(f'{var_y}는 {type(var_y)}', end='\\n'+'-'*30+'\\n')\n",
    "\n",
    "\n",
    "# var_x의 값을 문자열로 변환하여 var_y에 할당\n",
    "var_y = str(var_x)\n",
    "\n",
    "#var_y의 값과 자료형을 출력\n",
    "print(f'{var_y}는 {type(var_y)}', end='\\n'+'-'*30+'\\n')\n",
    "\n",
    "\n",
    "# var_x의 값을 불리언으로 변환하여 var_y에 할당\n",
    "# 정수 12345는 0이 아니므로 True\n",
    "var_y = bool(var_x)\n",
    "\n",
    "# var_y의 값과 자료형을 출력\n",
    "print(f'{var_y}는 {type(var_y)}')"
   ]
  },
  {
   "cell_type": "markdown",
   "metadata": {},
   "source": [
    "### **iterable 자료형 변환 함수**\n",
    "- **list()**: 리스트로 변환\n",
    "- **tuple()**: 튜플로 변환\n",
    "- **dict()**: 딕셔너리로 변환\n",
    "- **set()**: 집합으로 변환"
   ]
  },
  {
   "cell_type": "code",
   "execution_count": 3,
   "metadata": {},
   "outputs": [
    {
     "name": "stdout",
     "output_type": "stream",
     "text": [
      "range(-10, 0, 2)는 <class 'range'>\n",
      "------------------------------\n",
      "[-10, -8, -6, -4, -2]는 <class 'list'>\n",
      "------------------------------\n",
      "(-10, -8, -6, -4, -2)는 <class 'tuple'>\n",
      "------------------------------\n",
      "{-10, -8, -6, -4, -2}는 <class 'set'>\n"
     ]
    }
   ],
   "source": [
    "# var_x에 -10부터 0 전까지 2씩 증가하는 range 객체를 할당\n",
    "var_x = range(-10, 0, 2)\n",
    "\n",
    "# var_x의 값과 자료형을 출력\n",
    "print(f'{var_x}는 {type(var_x)}', end='\\n'+'-'*30+'\\n')\n",
    "\n",
    "\n",
    "# var_y에 var_x의 값을 리스트로 변환하여 할당\n",
    "var_y = list(var_x)\n",
    "\n",
    "# var_y의 값과 자료형을 출력\n",
    "print(f'{var_y}는 {type(var_y)}', end='\\n'+'-'*30+'\\n')\n",
    "\n",
    "\n",
    "# var_y에 var_x의 값을 튜플로 변환하여 할당\n",
    "var_y = tuple(var_x)\n",
    "\n",
    "# var_y의 값과 자료형을 출력\n",
    "print(f'{var_y}는 {type(var_y)}', end='\\n'+'-'*30+'\\n')\n",
    "\n",
    "\n",
    "# var_y에 var_x의 값을 집합으로 변환하여 할당\n",
    "var_y = set(var_x)\n",
    "\n",
    "# var_y의 값과 자료형을 출력\n",
    "print(f'{var_y}는 {type(var_y)}')"
   ]
  },
  {
   "cell_type": "code",
   "execution_count": 4,
   "metadata": {},
   "outputs": [
    {
     "name": "stdout",
     "output_type": "stream",
     "text": [
      "abcdab는 <class 'str'>\n",
      "------------------------------\n",
      "['a', 'b', 'c', 'd', 'a', 'b']는 <class 'list'>\n",
      "------------------------------\n",
      "('a', 'b', 'c', 'd', 'a', 'b')는 <class 'tuple'>\n",
      "------------------------------\n",
      "{'c', 'd', 'a', 'b'}는 <class 'set'>\n",
      "------------------------------\n"
     ]
    }
   ],
   "source": [
    "# var_X에 문자열 'abcdabcd'를 할당. 문자열은 iterable 자료형임\n",
    "var_x = \"abcdab\"\n",
    "\n",
    "# var_x의 값과 자료형을 출력\n",
    "print(f'{var_x}는 {type(var_x)}', end='\\n'+'-'*30+'\\n')\n",
    "\n",
    "# var_y에 var_x의 값을 리스트로 변환하여 할당\n",
    "var_y = list(var_x)\n",
    "print(f'{var_y}는 {type(var_y)}', end='\\n'+'-'*30+'\\n')\n",
    "\n",
    "# var_y에 var_x의 값을 튜플로 변환하여 할당\n",
    "var_y = tuple(var_x)\n",
    "print(f'{var_y}는 {type(var_y)}', end='\\n'+'-'*30+'\\n')\n",
    "\n",
    "# var_y에 var_x의 값을 집합으로 변환하여 할당\n",
    "# 집합은 중복을 허용하지 않으므로 'abcd'만 남음\n",
    "var_y = set(var_x)\n",
    "print(f'{var_y}는 {type(var_y)}', end='\\n'+'-'*30+'\\n')"
   ]
  },
  {
   "cell_type": "markdown",
   "metadata": {},
   "source": [
    "## **응용**\n",
    "- *밑 코드들은 주제별로 응용한 코드들을 정리해놓은 것*\n",
    "### 파이썬의 데이터 유형(type)\n",
    "#### 데이터 유형의 확인"
   ]
  },
  {
   "cell_type": "code",
   "execution_count": 7,
   "metadata": {},
   "outputs": [
    {
     "name": "stdout",
     "output_type": "stream",
     "text": [
      "12345.123 \n",
      "type(x_value) =  <class 'float'>\n"
     ]
    }
   ],
   "source": [
    "# x_value 에 실수 12345.123를 할당\n",
    "x_value = 12345.123\n",
    "\n",
    "# x의 데이터 유형을 type() 함수로 확인\n",
    "print(x_value, '\\ntype(x_value) = ', type(x_value))\n"
   ]
  },
  {
   "cell_type": "code",
   "execution_count": 9,
   "metadata": {},
   "outputs": [
    {
     "name": "stdout",
     "output_type": "stream",
     "text": [
      "x_set = {1, 2}\n",
      "type(x_set) = <class 'set'>\n"
     ]
    }
   ],
   "source": [
    "# x_set에 1과 2를 원소로 갖는 집합을 할당\n",
    "x_set = {1, 2}\n",
    "\n",
    "# x_set의 데이터 유형을 type() 함수로 확인\n",
    "print(f'{x_set = }\\n{type(x_set) = }')"
   ]
  },
  {
   "cell_type": "code",
   "execution_count": 11,
   "metadata": {},
   "outputs": [
    {
     "name": "stdout",
     "output_type": "stream",
     "text": [
      "x_bool = True\n",
      "type(x_bool) = <class 'bool'>\n"
     ]
    }
   ],
   "source": [
    "# x_bool에 type(x_value) != type(X_set) 를 할당\n",
    "x_bool = type(x_value)!= type(x_set)\n",
    "\n",
    "# x_bool의 데이터 유형을 type() 함수로 확인\n",
    "print(f'{x_bool = }\\n{type(x_bool) = }')"
   ]
  },
  {
   "cell_type": "markdown",
   "metadata": {},
   "source": [
    "#### 변수는 객체"
   ]
  },
  {
   "cell_type": "code",
   "execution_count": 12,
   "metadata": {},
   "outputs": [
    {
     "name": "stdout",
     "output_type": "stream",
     "text": [
      "['__abs__', '__add__', '__bool__', '__ceil__', '__class__', '__delattr__', '__dir__', '__divmod__', '__doc__', '__eq__', '__float__', '__floor__', '__floordiv__', '__format__', '__ge__', '__getattribute__', '__getformat__', '__getnewargs__', '__getstate__', '__gt__', '__hash__', '__init__', '__init_subclass__', '__int__', '__le__', '__lt__', '__mod__', '__mul__', '__ne__', '__neg__', '__new__', '__pos__', '__pow__', '__radd__', '__rdivmod__', '__reduce__', '__reduce_ex__', '__repr__', '__rfloordiv__', '__rmod__', '__rmul__', '__round__', '__rpow__', '__rsub__', '__rtruediv__', '__setattr__', '__sizeof__', '__str__', '__sub__', '__subclasshook__', '__truediv__', '__trunc__', 'as_integer_ratio', 'conjugate', 'fromhex', 'hex', 'imag', 'is_integer', 'real']\n",
      "------------------------------\n",
      "['__and__', '__class__', '__class_getitem__', '__contains__', '__delattr__', '__dir__', '__doc__', '__eq__', '__format__', '__ge__', '__getattribute__', '__getstate__', '__gt__', '__hash__', '__iand__', '__init__', '__init_subclass__', '__ior__', '__isub__', '__iter__', '__ixor__', '__le__', '__len__', '__lt__', '__ne__', '__new__', '__or__', '__rand__', '__reduce__', '__reduce_ex__', '__repr__', '__ror__', '__rsub__', '__rxor__', '__setattr__', '__sizeof__', '__str__', '__sub__', '__subclasshook__', '__xor__', 'add', 'clear', 'copy', 'difference', 'difference_update', 'discard', 'intersection', 'intersection_update', 'isdisjoint', 'issubset', 'issuperset', 'pop', 'remove', 'symmetric_difference', 'symmetric_difference_update', 'union', 'update']\n",
      "------------------------------\n",
      "['__abs__', '__add__', '__and__', '__bool__', '__ceil__', '__class__', '__delattr__', '__dir__', '__divmod__', '__doc__', '__eq__', '__float__', '__floor__', '__floordiv__', '__format__', '__ge__', '__getattribute__', '__getnewargs__', '__getstate__', '__gt__', '__hash__', '__index__', '__init__', '__init_subclass__', '__int__', '__invert__', '__le__', '__lshift__', '__lt__', '__mod__', '__mul__', '__ne__', '__neg__', '__new__', '__or__', '__pos__', '__pow__', '__radd__', '__rand__', '__rdivmod__', '__reduce__', '__reduce_ex__', '__repr__', '__rfloordiv__', '__rlshift__', '__rmod__', '__rmul__', '__ror__', '__round__', '__rpow__', '__rrshift__', '__rshift__', '__rsub__', '__rtruediv__', '__rxor__', '__setattr__', '__sizeof__', '__str__', '__sub__', '__subclasshook__', '__truediv__', '__trunc__', '__xor__', 'as_integer_ratio', 'bit_count', 'bit_length', 'conjugate', 'denominator', 'from_bytes', 'imag', 'is_integer', 'numerator', 'real', 'to_bytes']\n",
      "------------------------------\n"
     ]
    }
   ],
   "source": [
    "# x_value의 속성과 메소드를 출력\n",
    "print(dir(x_value), end='\\n'+'-'*30+'\\n')\n",
    "\n",
    "# x_set의 속성과 메소드를 출력\n",
    "print(dir(x_set), end='\\n'+'-'*30+'\\n')\n",
    "\n",
    "# x_bool의 속성과 메소드를 출력\n",
    "print(dir(x_bool), end='\\n'+'-'*30+'\\n')"
   ]
  },
  {
   "cell_type": "code",
   "execution_count": 31,
   "metadata": {},
   "outputs": [
    {
     "name": "stdout",
     "output_type": "stream",
     "text": [
      "x_value.real = 12345.123\n",
      "------------------------------\n",
      "Error: 'set' object has no attribute 'real'\n"
     ]
    }
   ],
   "source": [
    "# x_value의 실수부(속성)를 출력\n",
    "print(f'x_value.real = {x_value.real}', end='\\n'+'-'*30+'\\n')\n",
    "\n",
    "# x_set의 실수부(속성)를 출력\n",
    "try: \n",
    "    print(f'{x_set.real = }')\n",
    "    # x_set은 실수부를 가지지 않으므로 AttributeError 발생\n",
    "except AttributeError as e:\n",
    "    print(f'Error: {e}')"
   ]
  },
  {
   "cell_type": "markdown",
   "metadata": {},
   "source": [
    "#### mutable과 immutable\n",
    "##### mutable: list"
   ]
  },
  {
   "cell_type": "code",
   "execution_count": 38,
   "metadata": {},
   "outputs": [
    {
     "name": "stdout",
     "output_type": "stream",
     "text": [
      "Before: x_list = [1, 1.2, '123', (1, 2, 3)]\n",
      "After: x_list = [1, [1, 2, 3], '123', (1, 2, 3)]\n"
     ]
    }
   ],
   "source": [
    "x_list = [1, 1.2, '123', (1, 2, 3)]\n",
    "\n",
    "# 원소 변경 전 x_list의 값을 출력\n",
    "print(f'Before: {x_list = }')\n",
    "\n",
    "# x_list[1] = [1, 2, 3]로 1번째 원소를 [1, 2, 3]로 변경\n",
    "x_list[1] = [1, 2, 3]\n",
    "\n",
    "# 원소 변경 후 x_list의 값을 출력\n",
    "print(f'After: {x_list = }')"
   ]
  },
  {
   "cell_type": "markdown",
   "metadata": {},
   "source": [
    "##### mutable: dictionary"
   ]
  },
  {
   "cell_type": "code",
   "execution_count": 39,
   "metadata": {},
   "outputs": [
    {
     "name": "stdout",
     "output_type": "stream",
     "text": [
      "Before: x_dict2 = {'name': 'inseong', 'age': 23, 'city': 'Gwangju'}\n",
      "After: x_dict2 = {'name': 'inseong', 'age': 29, 'city': 'Seoul'}\n"
     ]
    }
   ],
   "source": [
    "x_dict2 = {'name': 'inseong', 'age': 23, 'city': 'Gwangju'}\n",
    "\n",
    "# 원소 변경 전 x_dict2의 값을 출력\n",
    "print(f'Before: {x_dict2 = }')\n",
    "\n",
    "# key가 'city'인 원소를 'Seoul'로 변경\n",
    "x_dict2['city'] = 'Seoul'\n",
    "\n",
    "# key가 'age'인 원소를 29로 변경\n",
    "x_dict2['age'] = 29\n",
    "\n",
    "# 원소 변경 후 x_dict2의 값을 출력\n",
    "print(f'After: {x_dict2 = }')"
   ]
  },
  {
   "cell_type": "code",
   "execution_count": 40,
   "metadata": {},
   "outputs": [
    {
     "name": "stdout",
     "output_type": "stream",
     "text": [
      "Before: x_dict = {'a': 1, 'b': 2.3, 'c': [1, 2, 3]}\n",
      "After: x_dict = {'a': 1, 'b': {'x': 1, 'y': 2.3}, 'c': [1, 2, 3]}\n"
     ]
    }
   ],
   "source": [
    "x_dict = {'a': 1, 'b': 2.3, 'c': [1, 2, 3]}\n",
    "\n",
    "# 원소 변경 전 x_dict의 값을 출력\n",
    "print(f'Before: {x_dict = }')\n",
    "\n",
    "# x_dict['b'] = {'x': 1, 'y': 2.3}로 'b' key의 value를 {'x': 1, 'y': 2.3}로 변경\n",
    "x_dict['b'] = {'x': 1, 'y': 2.3}\n",
    "\n",
    "# 원소 변경 후 x_dict의 값을 출력\n",
    "print(f'After: {x_dict = }')"
   ]
  },
  {
   "cell_type": "markdown",
   "metadata": {},
   "source": [
    "##### immutable: 문자열 -> 원소 바꾸기 불가"
   ]
  },
  {
   "cell_type": "code",
   "execution_count": 41,
   "metadata": {},
   "outputs": [
    {
     "name": "stdout",
     "output_type": "stream",
     "text": [
      "Before: x_str = '이웃에 방해가 되지 않는 선에서'\n",
      "Error: 'str' object does not support item assignment\n",
      "After: x_str = '이웃에 방해가 되지 않는 선에서'\n"
     ]
    }
   ],
   "source": [
    "x_str = '이웃에 방해가 되지 않는 선에서'\n",
    "\n",
    "# 원소 변경 전 x_str의 값을 출력\n",
    "print(f'Before: {x_str = }')\n",
    "\n",
    "try: \n",
    "    # 인덱스 5 원소를 '소소'로 변경. 문자열은 immutable 자료형이므로 에러 발생\n",
    "    x_str[5] = '소'\n",
    "except TypeError as e: \n",
    "    # 에러 메시지 출력\n",
    "    print(f'Error: {e}')\n",
    "\n",
    "# 원소 변경 후 x_str의 값을 출력\n",
    "print(f'After: {x_str = }')"
   ]
  },
  {
   "cell_type": "markdown",
   "metadata": {},
   "source": [
    "##### immutable: 튜플 -> 원소 바꾸기 불가"
   ]
  },
  {
   "cell_type": "code",
   "execution_count": 42,
   "metadata": {},
   "outputs": [
    {
     "name": "stdout",
     "output_type": "stream",
     "text": [
      "Before: x_tuple = (1, 2.3, 'abc', (4, 5, 6))\n",
      "Error = TypeError(\"'tuple' object does not support item assignment\")\n"
     ]
    }
   ],
   "source": [
    "x_tuple = (1, 2.3, 'abc', (4, 5, 6))\n",
    "\n",
    "# 원소 변경 전 x_tuple의 값을 출력\n",
    "\n",
    "print(f'Before: {x_tuple = }')\n",
    "\n",
    "try: \n",
    "    # 인덱스 0 원소를 'def'로 변경. 튜플은 immutable 자료형이므로 에러 발생\n",
    "    x_tuple[0] = 'def'\n",
    "except TypeError as Error:\n",
    "    print(f'{Error = }')"
   ]
  },
  {
   "cell_type": "markdown",
   "metadata": {},
   "source": [
    "#### 자료형 변환\n",
    "##### 단일 자료형 변환 함수"
   ]
  },
  {
   "cell_type": "code",
   "execution_count": 45,
   "metadata": {},
   "outputs": [
    {
     "name": "stdout",
     "output_type": "stream",
     "text": [
      "var_s: 8526.267, type(var_s): <class 'float'>\n",
      "------------------------------\n",
      "var_i: 8526, type(var_i): <class 'int'>\n",
      "------------------------------\n",
      "8526.267는 <class 'float'>\n",
      "------------------------------\n",
      "8526.267는 <class 'str'>\n",
      "------------------------------\n",
      "True는 <class 'bool'>\n"
     ]
    }
   ],
   "source": [
    "# var_s에 실수 8526.267를 할당\n",
    "var_s = 8526.267\n",
    "\n",
    "# var_s의 값과 자료형을 출력\n",
    "print(f'var_s: {var_s}, type(var_s): {type(var_s)}', end='\\n'+'-'*30+'\\n')\n",
    "\n",
    "# var_i에 var_s를 int() 함수로 int로 변환\n",
    "var_i = int(var_s)\n",
    "\n",
    "# var_i의 값과 자료형을 출력\n",
    "print(f'var_i: {var_i}, type(var_i): {type(var_i)}', end='\\n'+'-'*30+'\\n')\n",
    "\n",
    "# var_f에 var_s를 float() 함수로 float로 변환\n",
    "var_f = float(var_s)\n",
    "\n",
    "# var_f의 값과 자료형을 출력\n",
    "print(f'{var_f}는 {type(var_f)}', end='\\n'+'-'*30+'\\n')\n",
    "\n",
    "# var_s의 값을 문자열로 변환하여 var_t에 할당\n",
    "var_t = str(var_s)\n",
    "\n",
    "# var_t의 값과 자료형을 출력\n",
    "print(f'{var_t}는 {type(var_t)}', end='\\n'+'-'*30+'\\n')\n",
    "\n",
    "# var_s를 bool() 함수로 bool로 변환\n",
    "# 실수 8526.267는 0이 아니므로 True\n",
    "var_b = bool(var_s)\n",
    "\n",
    "# var_b의 값과 자료형을 출력\n",
    "print(f'{var_b}는 {type(var_b)}')"
   ]
  },
  {
   "cell_type": "markdown",
   "metadata": {},
   "source": [
    "##### iterable 자료형 변환 함수"
   ]
  },
  {
   "cell_type": "code",
   "execution_count": 48,
   "metadata": {},
   "outputs": [
    {
     "name": "stdout",
     "output_type": "stream",
     "text": [
      "var_s: range(20, 0, -2), type(var_s): <class 'range'>\n",
      "------------------------------\n",
      "var_t: (20, 18, 16, 14, 12, 10, 8, 6, 4, 2), type(var_t): <class 'tuple'>\n",
      "------------------------------\n",
      "[20, 18, 16, 14, 12, 10, 8, 6, 4, 2] = <class 'list'>\n",
      "------------------------------\n",
      "{2, 4, 6, 8, 10, 12, 14, 16, 18, 20}는 <class 'set'>\n"
     ]
    }
   ],
   "source": [
    "# var_s에 20부터 0 전까지 2씩 감소하는 range 객체를 할당\n",
    "var_s = range(20, 0, -2)\n",
    "\n",
    "# var_s의 값과 자료형을 출력\n",
    "print(f'var_s: {var_s}, type(var_s): {type(var_s)}', end='\\n'+'-'*30+'\\n')\n",
    "\n",
    "\n",
    "# var_s를 tuple로 변환하여 var_t에 할당당\n",
    "var_t = tuple(var_s)\n",
    "\n",
    "# var_t의 값과 자료형을 출력\n",
    "print(f'var_t: {var_t}, type(var_t): {type(var_t)}', end='\\n'+'-'*30+'\\n')\n",
    "\n",
    "\n",
    "# var_l에 var_s를 list로 변환\n",
    "var_l = list(var_s)\n",
    "\n",
    "# var_l의 값과 자료형을 출력\n",
    "print(f'{var_l} = {type(var_l)}', end='\\n'+'-'*30+'\\n')\n",
    "\n",
    "\n",
    "# var_s를 set으로 변환\n",
    "var_s = set(var_s)\n",
    "\n",
    "# var_s의 값과 자료형을 출력\n",
    "print(f'{var_s}는 {type(var_s)}')"
   ]
  },
  {
   "cell_type": "code",
   "execution_count": 51,
   "metadata": {},
   "outputs": [
    {
     "name": "stdout",
     "output_type": "stream",
     "text": [
      "range(0, 23, 3)는 <class 'range'>\n",
      "------------------------------\n",
      "[0, 3, 6, 9, 12, 15, 18, 21]는 <class 'list'>\n",
      "------------------------------\n",
      "[0, 3, 6, 9, 12, 15, 18, 21]는 <class 'str'>\n",
      "------------------------------\n",
      "('[', '0', ',', ' ', '3', ',', ' ', '6', ',', ' ', '9', ',', ' ', '1', '2', ',', ' ', '1', '5', ',', ' ', '1', '8', ',', ' ', '2', '1', ']')는 <class 'tuple'>\n",
      "------------------------------\n",
      "{'2', '3', '[', '5', '1', ']', '9', '6', ' ', ',', '8', '0'}는 <class 'set'>\n"
     ]
    }
   ],
   "source": [
    "# var_s에 0부터 23 전까지 3씩 증가하는 range 객체를 할당\n",
    "var_s = range(0, 23, 3)\n",
    "\n",
    "# var_s의 값과 자료형을 출력\n",
    "print(f'{var_s}는 {type(var_s)}', end='\\n'+'-'*30+'\\n')\n",
    "\n",
    "\n",
    "# var_s를 list으로 변환\n",
    "var_s = list(var_s)\n",
    "\n",
    "# var_s의 값과 자료형을 출력\n",
    "print(f'{var_s}는 {type(var_s)}', end='\\n'+'-'*30+'\\n')\n",
    "\n",
    "\n",
    "# var_s의 값을 문자열로 변환\n",
    "var_s = str(var_s)\n",
    "\n",
    "# var_s의 값과 자료형을 출력\n",
    "print(f'{var_s}는 {type(var_s)}', end='\\n'+'-'*30+'\\n')\n",
    "\n",
    "\n",
    "# var_s의 값을 tuple로 변환\n",
    "var_s = tuple(var_s)\n",
    "\n",
    "# var_s의 값과 자료형을 출력\n",
    "print(f'{var_s}는 {type(var_s)}', end='\\n'+'-'*30+'\\n')\n",
    "\n",
    "\n",
    "# var_s의 값을 집합으로 변환\n",
    "var_s = set(var_s)\n",
    "\n",
    "# var_s의 값과 자료형을 출력\n",
    "print(f'{var_s}는 {type(var_s)}')"
   ]
  },
  {
   "cell_type": "code",
   "execution_count": 52,
   "metadata": {},
   "outputs": [
    {
     "name": "stdout",
     "output_type": "stream",
     "text": [
      "var_s: 토마토컵라면, type(var_s): <class 'str'>\n",
      "------------------------------\n",
      "var_s: ('토', '마', '토', '컵', '라', '면'), type(var_s): <class 'tuple'>\n",
      "------------------------------\n",
      "var_s: ['토', '마', '토', '컵', '라', '면'], type(var_s): <class 'list'>\n",
      "------------------------------\n",
      "var_s: {'컵', '마', '라', '면', '토'}, type(var_s): <class 'set'>\n"
     ]
    }
   ],
   "source": [
    "# var_s에 문자열 '토마토컵라면'을 할당. 문자열은 iterable 자료형임\n",
    "var_s = \"토마토컵라면\"\n",
    "\n",
    "# var_s의 값과 자료형을 출력\n",
    "print(f'var_s: {var_s}, type(var_s): {type(var_s)}', end='\\n'+'-'*30+'\\n')\n",
    "\n",
    "\n",
    "# var_s의 값을 tuple로 변환\n",
    "var_s = tuple(var_s)\n",
    "\n",
    "# var_s의 값과 자료형을 출력\n",
    "print(f'var_s: {var_s}, type(var_s): {type(var_s)}', end='\\n'+'-'*30+'\\n')\n",
    "\n",
    "\n",
    "# var_S의 값을 list로 변환\n",
    "var_s = list(var_s)\n",
    "\n",
    "# var_s의 값과 자료형을 출력\n",
    "print(f'var_s: {var_s}, type(var_s): {type(var_s)}', end='\\n'+'-'*30+'\\n')\n",
    "\n",
    "\n",
    "# var_s의 값을 집합으로 변환\n",
    "var_s = set(var_s)\n",
    "\n",
    "# var_s의 값과 자료형을 출력\n",
    "print(f'var_s: {var_s}, type(var_s): {type(var_s)}')"
   ]
  }
 ],
 "metadata": {
  "kernelspec": {
   "display_name": "base",
   "language": "python",
   "name": "python3"
  },
  "language_info": {
   "codemirror_mode": {
    "name": "ipython",
    "version": 3
   },
   "file_extension": ".py",
   "mimetype": "text/x-python",
   "name": "python",
   "nbconvert_exporter": "python",
   "pygments_lexer": "ipython3",
   "version": "3.12.8"
  }
 },
 "nbformat": 4,
 "nbformat_minor": 2
}
