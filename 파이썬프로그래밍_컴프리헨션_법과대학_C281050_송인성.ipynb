{
 "cells": [
  {
   "cell_type": "markdown",
   "id": "45514743",
   "metadata": {},
   "source": [
    "# **C281050 송인성**"
   ]
  },
  {
   "cell_type": "markdown",
   "id": "3086fa10",
   "metadata": {},
   "source": [
    "# **컴프리헨션**\n",
    "## **컴프리헨션(Comprehension)**\n",
    "- 패턴이 있는 리스트, 딕셔너리, 세트를 간단하게 작성할 수 있는 파이썬만의 고유한 문법\n",
    "- 정식 for문이나if문을 사용하지 않고 반복적인 데이터 패턴을 생성할 수 있음"
   ]
  },
  {
   "cell_type": "markdown",
   "id": "884f3101",
   "metadata": {},
   "source": [
    "## **리스트 컴프리헨션**\n",
    "- 컴프리헨션을 이용하여 리스트를 생성하는 방법\n",
    "\n",
    "### **리스트 컴프리헨션을 사용한 리스트 생성**\n",
    "- [표현식 for 항목 in 반복가능객체]"
   ]
  },
  {
   "cell_type": "code",
   "execution_count": 9,
   "id": "02339735",
   "metadata": {},
   "outputs": [
    {
     "name": "stdout",
     "output_type": "stream",
     "text": [
      "nums_comp = [11, 12, 13, 14, 15]\n"
     ]
    }
   ],
   "source": [
    "# 1부터 5까지 순차적으로 num에 대입하고, num+10을 리스트에 추가\n",
    "nums_comp = [num+10 for num in range(1, 6)]\n",
    "print(f'{nums_comp = }')    # 리스트 출력"
   ]
  },
  {
   "cell_type": "markdown",
   "id": "7af9ad1e",
   "metadata": {},
   "source": [
    "### **for문을 사용한 리스트 생성과 비교**"
   ]
  },
  {
   "cell_type": "code",
   "execution_count": 10,
   "id": "2ac9900b",
   "metadata": {},
   "outputs": [
    {
     "name": "stdout",
     "output_type": "stream",
     "text": [
      "nums_for = [11, 12, 13, 14, 15]\n"
     ]
    }
   ],
   "source": [
    "# 숫자를 담을 수 있는 빈 리스트 생성\n",
    "nums_for = []\n",
    "\n",
    "# 1부터 5까지 순차적으로 num에 대입\n",
    "for num in range(1, 6):\n",
    "    # append() 함수로 리스트에 num+10 추가\n",
    "    nums_for.append(num+10)\n",
    "\n",
    "# 리스트 출력\n",
    "print(f'{nums_for = }')"
   ]
  },
  {
   "cell_type": "markdown",
   "id": "199f71ff",
   "metadata": {},
   "source": [
    "### **map 함수를 사용한 리스트 생성과 비교**\n",
    "- map 함수도 비슷한 기능을 수행할 수 있으나, 컴프리헨션은 map 함수보다 더 직관적임\n",
    "    - map(함수, 리스트) 함수는 리스트나 튜플 자료형의 각 요소를 지정된 함수로 처리해주는 함수"
   ]
  },
  {
   "cell_type": "code",
   "execution_count": 11,
   "id": "dce1cf5d",
   "metadata": {},
   "outputs": [
    {
     "data": {
      "text/plain": [
       "15"
      ]
     },
     "execution_count": 11,
     "metadata": {},
     "output_type": "execute_result"
    }
   ],
   "source": [
    "# 입력한 숫자에 10을 더하는 함수를 정의\n",
    "def add_ten(num):\n",
    "    return num + 10\n",
    "\n",
    "# 함수 테스트\n",
    "add_ten(5)"
   ]
  },
  {
   "cell_type": "code",
   "execution_count": 12,
   "id": "f0660053",
   "metadata": {},
   "outputs": [
    {
     "data": {
      "text/plain": [
       "<map at 0x269464d7910>"
      ]
     },
     "execution_count": 12,
     "metadata": {},
     "output_type": "execute_result"
    }
   ],
   "source": [
    "# map 함수의 동작 확인 -> map 객체가 반환됨\n",
    "map(add_ten, [1, 2, 3, 4, 5])"
   ]
  },
  {
   "cell_type": "code",
   "execution_count": 13,
   "id": "0113747a",
   "metadata": {},
   "outputs": [
    {
     "data": {
      "text/plain": [
       "[11, 12, 13, 14, 15]"
      ]
     },
     "execution_count": 13,
     "metadata": {},
     "output_type": "execute_result"
    }
   ],
   "source": [
    "# map 객체를 리스트로 변환\n",
    "list(map(add_ten, [1, 2, 3, 4, 5]))"
   ]
  },
  {
   "cell_type": "code",
   "execution_count": 14,
   "id": "63bf4d03",
   "metadata": {},
   "outputs": [
    {
     "name": "stdout",
     "output_type": "stream",
     "text": [
      "nums_map = [11, 12, 13, 14, 15]\n"
     ]
    }
   ],
   "source": [
    "# map을 적용하여 컴프리헨션과 동일한 결과를 얻을 수 있음\n",
    "nums_map = list(map(add_ten, range(1, 6)))\n",
    "print(f'{nums_map = }')"
   ]
  },
  {
   "cell_type": "markdown",
   "id": "7daf7034",
   "metadata": {},
   "source": [
    "### **수식을 적용한 리스트 컴프리헨션**\n",
    "- 표현식에 수식을 적용할 수 있음"
   ]
  },
  {
   "cell_type": "code",
   "execution_count": 15,
   "id": "f37cee53",
   "metadata": {},
   "outputs": [
    {
     "name": "stdout",
     "output_type": "stream",
     "text": [
      "nums_math = [1, 3, 5, 7, 9]\n"
     ]
    }
   ],
   "source": [
    "# 1부터 5까지 순차적으로 num에 대입하고\n",
    "# num에 2를 곱하고 1을 뺀 값을 리스트에 추가\n",
    "nums_math = [num * 2 - 1 for num in range(1, 6)]\n",
    "print(f'{nums_math = }')"
   ]
  },
  {
   "cell_type": "markdown",
   "id": "1e61a2c6",
   "metadata": {},
   "source": [
    "### **함수를 적용한 리스트 컴프리헨션**\n",
    "- 표현식에 함수를 적용할 수 있음"
   ]
  },
  {
   "cell_type": "code",
   "execution_count": 16,
   "id": "709374e9",
   "metadata": {},
   "outputs": [
    {
     "name": "stdout",
     "output_type": "stream",
     "text": [
      "nums_func = ['Int_1', 'Int_2', 'Int_3', 'Int_4', 'Int_5']\n"
     ]
    }
   ],
   "source": [
    "# 입력한 데이터를 문자열로 변환하고 'Int_'를 앞에 붙이는 함수 정의\n",
    "def addString(x):\n",
    "    return 'Int_' + str(x)\n",
    "\n",
    "# 1부터 5까지 순차적으로 num에 대입하고,\n",
    "# num을 addString() 함수에 대입한 결과를 리스트에 추가\n",
    "\n",
    "nums_func = [addString(num) for num in range(1, 6)]\n",
    "print(f'{nums_func = }')    # 리스트 출력\n"
   ]
  },
  {
   "cell_type": "markdown",
   "id": "ce5492e7",
   "metadata": {},
   "source": [
    "## **if 조건문을 적용한 리스트 컴프리헨션**\n",
    "- if문만 쓸 때는 for문 오른쪽에, if else문을 쓸때는 for문 왼쪽에 작성"
   ]
  },
  {
   "cell_type": "code",
   "execution_count": 17,
   "id": "32ab9813",
   "metadata": {},
   "outputs": [
    {
     "name": "stdout",
     "output_type": "stream",
     "text": [
      "nums_odds = [1, 3, 5]\n"
     ]
    }
   ],
   "source": [
    "# 1부터 5까지 순차적으로 num에 대입하고, \n",
    "# num이 홀수이면 리스트에 추가\n",
    "nums_odds = [num for num in range(1, 6) if num % 2 == 1]\n",
    "print(f'{nums_odds = }')  "
   ]
  },
  {
   "cell_type": "code",
   "execution_count": 18,
   "id": "7088bcdf",
   "metadata": {},
   "outputs": [
    {
     "name": "stdout",
     "output_type": "stream",
     "text": [
      "nums_odds_zero = [1, 0, 3, 0, 5]\n"
     ]
    }
   ],
   "source": [
    "# 1부터 5까지 순차적으로 num에 대입하고, \n",
    "# num이 홀수이면 리스트에 그 값을 추가하고 아니면 0을 추가\n",
    "nums_odds_zero = [num if num % 2 == 1 else 0 for num in range(1, 6)]\n",
    "print(f'{nums_odds_zero = }') "
   ]
  },
  {
   "cell_type": "markdown",
   "id": "81c8f490",
   "metadata": {},
   "source": [
    "- 여러 개의 if 조건문을 중첩 가능"
   ]
  },
  {
   "cell_type": "code",
   "execution_count": 19,
   "id": "1fd79adf",
   "metadata": {},
   "outputs": [
    {
     "name": "stdout",
     "output_type": "stream",
     "text": [
      "nums_odds_less4 = [1, 3]\n"
     ]
    }
   ],
   "source": [
    "# 1부터 5까지 순차적으로 num에 대입하고,\n",
    "# num이 홀수이면서 4보다 작으면 리스트에 축가\n",
    "nums_odds_less4 = [num for num in range(1, 6) if num % 2 == 1 if num < 4]\n",
    "print(f'{nums_odds_less4 = }')"
   ]
  },
  {
   "cell_type": "markdown",
   "id": "fffb2b3f",
   "metadata": {},
   "source": [
    "## **중첩된 리스트 컴프리헨션**\n",
    "- 컴프리헨션은 내부에서 for 키워드와 if 키워드를 몇 번이고 반복할 수 있음"
   ]
  },
  {
   "cell_type": "code",
   "execution_count": 20,
   "id": "1fd0d381",
   "metadata": {},
   "outputs": [
    {
     "name": "stdout",
     "output_type": "stream",
     "text": [
      "nums_pairs = [(1, 'a'), (1, 'b'), (1, 'c'), (2, 'a'), (2, 'b'), (2, 'c')]\n"
     ]
    }
   ],
   "source": [
    "# 1부터 2까지 순차적으로 x에 대입하고,\n",
    "# 1부터 2까지 순차적으로 y에 대입하여 (x, y)를 리스트에 추가\n",
    "# 앞의 for문이 먼저 실행되고, 뒤의 for문이 실행됨\n",
    "nums_pairs = [(x, y) for x in range(1, 3) for y in ['a', 'b', 'c']]\n",
    "print(f'{nums_pairs = }') "
   ]
  },
  {
   "cell_type": "code",
   "execution_count": 21,
   "id": "b6f00b90",
   "metadata": {},
   "outputs": [
    {
     "name": "stdout",
     "output_type": "stream",
     "text": [
      "num_pairs_sum5 = [(1, 4), (2, 3), (3, 2), (4, 1)]\n"
     ]
    }
   ],
   "source": [
    "# 1부터 5까지 순차적으로 x에 대입하고,\n",
    "# 1부터 5까지 순차적으로 y에 대입하여\n",
    "# x+y가 5이면 (x, y)를 리스트에 추가\n",
    "num_pairs_sum5 = [(x, y) for x in range(1, 6) for y in range(1, 6) if x + y == 5]\n",
    "print(f'{num_pairs_sum5 = }')"
   ]
  },
  {
   "cell_type": "markdown",
   "id": "273235ed",
   "metadata": {},
   "source": [
    "## **딕셔너리 컴프리헨션**\n",
    "- 리스트 컴프리헨션과 거의 동일한 방식으로 딕셔너리 컴프리헨션을 사용할 수 있음"
   ]
  },
  {
   "cell_type": "code",
   "execution_count": 22,
   "id": "8190ab79",
   "metadata": {},
   "outputs": [
    {
     "name": "stdout",
     "output_type": "stream",
     "text": [
      "students_for = {1: '최딕션', 2: '최딕션', 3: '최딕션', 4: '최딕션'}\n"
     ]
    }
   ],
   "source": [
    "ids = [1, 2, 3, 4]\n",
    "student_names = ['김홍익', '이컴프리', '박헨션', '최딕션']\n",
    "\n",
    "# 중첩된 for문으로는 정상적으로 딕셔너리를 생성할 수 없음\n",
    "students_for = {id:name for id in ids for name in student_names}\n",
    "\n",
    "# 딕셔너리 출력\n",
    "print(f'{students_for = }')"
   ]
  },
  {
   "cell_type": "code",
   "execution_count": 23,
   "id": "723e3830",
   "metadata": {},
   "outputs": [
    {
     "name": "stdout",
     "output_type": "stream",
     "text": [
      "students_enumerate = {0: '김홍익', 1: '이컴프리', 2: '박헨션', 3: '최딕션'}\n"
     ]
    }
   ],
   "source": [
    "student_names = ['김홍익', '이컴프리', '박헨션', '최딕션']\n",
    "\n",
    "# enumerate() 함수로 인덱스와 값을 동시에 가져옴\n",
    "students_enumerate = {id:name for id, name in enumerate(student_names)}\n",
    "print(f'{students_enumerate = }')"
   ]
  },
  {
   "cell_type": "code",
   "execution_count": 24,
   "id": "b0f8beac",
   "metadata": {},
   "outputs": [
    {
     "name": "stdout",
     "output_type": "stream",
     "text": [
      "students_zip = {1: '김홍익', 2: '이컴프리', 3: '박헨션', 4: '최딕션'}\n"
     ]
    }
   ],
   "source": [
    "ids = [1, 2, 3, 4]\n",
    "student_names = ['김홍익', '이컴프리', '박헨션', '최딕션']\n",
    "\n",
    "# zip() 함수로 두 리스트를 병렬로 가져옴\n",
    "students_zip = {id:name for id, name in zip(ids, student_names)}\n",
    "print(f'{students_zip = }')"
   ]
  },
  {
   "cell_type": "markdown",
   "id": "89be1315",
   "metadata": {},
   "source": [
    "## **Set 컴프리헨션**\n",
    "- 리스트 컴프리헨션과 거의 동일한 방식으로 세트 컴프리헨션을 사용할 수 있음\n",
    "- set 기호인 {}를 사용하여 세트 컴프리헨션을 작성"
   ]
  },
  {
   "cell_type": "code",
   "execution_count": 25,
   "id": "a6b9d2c1",
   "metadata": {},
   "outputs": [
    {
     "name": "stdout",
     "output_type": "stream",
     "text": [
      "sum_list = [2, 3, 4, 5, 6, 3, 4, 5, 6, 7, 4, 5, 6, 7, 8, 5, 6, 7, 8, 9, 6, 7, 8, 9, 10]\n",
      "sum_set = {2, 3, 4, 5, 6, 7, 8, 9, 10}\n"
     ]
    }
   ],
   "source": [
    "# 1부터 5까지 순차적으로 x에 대입하고,\n",
    "# 1부터 5까지 순차적으로 y에 대입하여 x+y에 대한 리스트 생성\n",
    "sum_list = [x+y for x in range(1, 6) for y in range(1, 6)]\n",
    "\n",
    "# 리스트 출력. 중복된 값이 있음\n",
    "print(f'{sum_list = }')\n",
    "\n",
    "# 1부터 5까지 순차적으로 x에 대입하고,\n",
    "# 1부터 5까지 순차적으로 y에 대입하여 x+y에 대한 set 생성\n",
    "sum_set = {x+y for x in range(1, 6) for y in range(1, 6)}\n",
    "\n",
    "# set 출력. 중복된 값이 없음\n",
    "print(f'{sum_set = }')"
   ]
  },
  {
   "cell_type": "markdown",
   "id": "f58df5b5",
   "metadata": {},
   "source": [
    "## **tuple 컴프리헨션**\n",
    "- 튜플 컴프리헨션은 튜플로 반환되는 것이 아니라 제너레이터로 반환됨\n",
    "\n",
    "    - 제너레이터는 이터레이터를 생성해주는 함수\n",
    "        - range() 함수와 같이 매번 다음 값을 생성해주는 함수\n",
    "    - 시퀀스 객체를 통째로 메모리에 생성하지 않고, 필요한 시점에 데이터를 생성하므로 메모리를 효율적으로 사용하기 위해 사용"
   ]
  },
  {
   "cell_type": "code",
   "execution_count": 26,
   "id": "f3c8dc25",
   "metadata": {},
   "outputs": [
    {
     "name": "stdout",
     "output_type": "stream",
     "text": [
      "nums_pairs_list = [(1, 'a'), (1, 'b'), (1, 'c'), (2, 'a'), (2, 'b'), (2, 'c')]\n",
      "\n",
      "nums_pairs_tuple = <generator object <genexpr> at 0x0000026946502DC0>\n",
      "tuple(nums_pairs_tuple) = ((1, 'a'), (1, 'b'), (1, 'c'), (2, 'a'), (2, 'b'), (2, 'c'))\n",
      "\n",
      "nums_pairs_tuple2 = ((1, 'a'), (1, 'b'), (1, 'c'), (2, 'a'), (2, 'b'), (2, 'c'))\n"
     ]
    }
   ],
   "source": [
    "# 1부터 2까지 순차적으로 x에 대입하고,\n",
    "# 1부터 2까지 순차적으로 y에 대입하여 (x, y)를 리스트에 추가\n",
    "# 앞의 for문이 먼저 실행되고, 뒤의 for문이 실행됨\n",
    "nums_pairs_list = [(x, y) for x in range(1, 3) for y in ['a', 'b', 'c']]\n",
    "\n",
    "# 리스트 출력\n",
    "print(f'{nums_pairs_list = }\\n')\n",
    "\n",
    "# tuple로 컴프리헨션 적용\n",
    "nums_pairs_tuple = ((x, y) for x in range(1, 3) for y in ['a', 'b', 'c'])\n",
    "\n",
    "# 제너레이터 객체가 생성됨\n",
    "print(f'{nums_pairs_tuple = }')\n",
    "\n",
    "# 튜플로 변환\n",
    "print(f'{tuple(nums_pairs_tuple) = }\\n')\n",
    "\n",
    "# 한번에 튜플로 컴프리헨션 적용\n",
    "nums_pairs_tuple2 = tuple((x, y) for x in range(1, 3) for y in ['a', 'b', 'c'])\n",
    "print(f'{nums_pairs_tuple2 = }')"
   ]
  },
  {
   "cell_type": "markdown",
   "id": "f21ad1d2",
   "metadata": {},
   "source": [
    "## 응용"
   ]
  },
  {
   "cell_type": "markdown",
   "id": "6c73acc7",
   "metadata": {},
   "source": [
    "### 컴프리헨션\n",
    "\n",
    "### 리스트 컴프리헨션\n",
    "#### 리스트 컴프리헨션을 사용한 리스트 생성\n",
    "- [표현식 for 항목 in 반복가능개체]"
   ]
  },
  {
   "cell_type": "code",
   "execution_count": 27,
   "id": "f379c2e8",
   "metadata": {},
   "outputs": [
    {
     "name": "stdout",
     "output_type": "stream",
     "text": [
      "nums_comp = <generator object <genexpr> at 0x0000026946A5E810>\n"
     ]
    }
   ],
   "source": [
    "# 1부터 5까지 순차적으로 num에 대입하고, num + 10을 리스트에 추가\n",
    "\n",
    "nums_comp = (num + 10 for num in range(1, 6))\n",
    "print(f'{nums_comp = }')"
   ]
  },
  {
   "cell_type": "code",
   "execution_count": 28,
   "id": "5c153d39",
   "metadata": {},
   "outputs": [
    {
     "name": "stdout",
     "output_type": "stream",
     "text": [
      "nums_math = [1, 4, 9, 16, 25, 36, 49, 64, 81, 100]\n"
     ]
    }
   ],
   "source": [
    "# 1부터 10까지 숫자의 제곱을 리스트로 생성\n",
    "\n",
    "nums_math = [num ** 2 for num in range(1, 11)]\n",
    "print(f'{nums_math = }')"
   ]
  },
  {
   "cell_type": "code",
   "execution_count": 29,
   "id": "32860048",
   "metadata": {},
   "outputs": [
    {
     "name": "stdout",
     "output_type": "stream",
     "text": [
      "nums_math = [102, 104, 106, 108, 110]\n"
     ]
    }
   ],
   "source": [
    "# 1부터 10까지 짝수만 골라서 100을 더한 값을 리스트로 생성\n",
    "\n",
    "nums_math = [num + 100 for num in range(1, 11) if num % 2 == 0]\n",
    "print(f'{nums_math = }')"
   ]
  },
  {
   "cell_type": "markdown",
   "id": "d5c5ed76",
   "metadata": {},
   "source": [
    "#### for문을 사용한 리스트 생성과 비교"
   ]
  },
  {
   "cell_type": "code",
   "execution_count": 30,
   "id": "c70f4194",
   "metadata": {},
   "outputs": [
    {
     "name": "stdout",
     "output_type": "stream",
     "text": [
      "Error: 'tuple' object has no attribute 'append'\n",
      "nums_comp = ()\n"
     ]
    }
   ],
   "source": [
    "# 숫자를 담을 수 있는 튜플 생성\n",
    "nums_comp = ()\n",
    "\n",
    "# 1부터 5까지 순차적으로 num에 대입\n",
    "\n",
    "for num in range(1, 6):\n",
    "    # append() 함수로 튜플에 num + 10을 추가\n",
    "    try:\n",
    "        nums_comp.append(num + 10)\n",
    "    except AttributeError as e:\n",
    "        print(f'Error: {e}')\n",
    "        break\n",
    "\n",
    "# 튜플 출력\n",
    "print(f'{nums_comp = }')\n"
   ]
  },
  {
   "cell_type": "code",
   "execution_count": null,
   "id": "b8c53380",
   "metadata": {},
   "outputs": [
    {
     "name": "stdout",
     "output_type": "stream",
     "text": [
      "nums_math = [1, 4, 9, 16, 25, 36, 49, 64, 81, 100]\n"
     ]
    }
   ],
   "source": [
    "# 숫자를 담을 수 있는 리스트 생성\n",
    "nums_math = []\n",
    "\n",
    "# 1부터 10까지 순차적으로 num에 대입\n",
    "for num in range(1, 11):\n",
    "    # append() 함수로 리스트에 num ** 2를를 추가\n",
    "    nums_math.append(num ** 2)\n",
    "\n",
    "# 리스트 출력\n",
    "print(f'{nums_math = }')"
   ]
  },
  {
   "cell_type": "code",
   "execution_count": 32,
   "id": "29058ee1",
   "metadata": {},
   "outputs": [
    {
     "name": "stdout",
     "output_type": "stream",
     "text": [
      "nums_math = [102, 104, 106, 108, 110]\n"
     ]
    }
   ],
   "source": [
    "# 숫자를 담을 수 있는 리스트 생성\n",
    "nums_math = []\n",
    "\n",
    "# 1부터 10까지 순차적으로 num에 대입\n",
    "for num in range(1, 11):\n",
    "    # if문으로 num % 2 == 0일 때만 num + 100를 리스트에 추가\n",
    "    if num % 2 == 0:\n",
    "        nums_math.append(num + 100)\n",
    "\n",
    "# 리스트 출력\n",
    "print(f'{nums_math = }')"
   ]
  },
  {
   "cell_type": "markdown",
   "id": "a3c8bed6",
   "metadata": {},
   "source": [
    "#### map 함수를 사용한 리스트 생성과 비교"
   ]
  },
  {
   "cell_type": "code",
   "execution_count": 33,
   "id": "123ec839",
   "metadata": {},
   "outputs": [
    {
     "name": "stdout",
     "output_type": "stream",
     "text": [
      "nums_map = (11, 12, 13, 14, 15)\n"
     ]
    }
   ],
   "source": [
    "# 입력한 숫자에 10을 더하는 함수를 정의\n",
    "def add_ten(num):\n",
    "    return num + 10\n",
    "\n",
    "# map을 적용하여 튜플 생성해보기\n",
    "nums_map = tuple(map(add_ten, range(1, 6)))\n",
    "print(f'{nums_map = }')"
   ]
  },
  {
   "cell_type": "code",
   "execution_count": 34,
   "id": "928b5c73",
   "metadata": {},
   "outputs": [
    {
     "name": "stdout",
     "output_type": "stream",
     "text": [
      "nums_map = [1, 4, 9, 16, 25, 36, 49, 64, 81, 100]\n"
     ]
    }
   ],
   "source": [
    "# 입력한 숫자를 제곱하는 함수를 정의\n",
    "def square(num):\n",
    "    return num ** 2\n",
    "\n",
    "# map을 적용하여 리스트 생성\n",
    "\n",
    "nums_map = list(map(square, range(1, 11)))\n",
    "print(f'{nums_map = }')"
   ]
  },
  {
   "cell_type": "code",
   "execution_count": 37,
   "id": "2fa58fc2",
   "metadata": {},
   "outputs": [
    {
     "name": "stdout",
     "output_type": "stream",
     "text": [
      "nums_map = [102, 104, 106, 108, 110]\n"
     ]
    }
   ],
   "source": [
    "# 입력한 숫자에 100을 더하는 함수를 정의\n",
    "def add_hundred(num):\n",
    "    return num + 100\n",
    "\n",
    "# 짝수를 리스트로 생성\n",
    "even_num = [num for num in range(1, 11) if num % 2 == 0]\n",
    "\n",
    "# map을 적용하여 리스트 생성\n",
    "nums_map = list(map(add_hundred, even_num))\n",
    "print(f'{nums_map = }')"
   ]
  },
  {
   "cell_type": "markdown",
   "id": "6cc9730c",
   "metadata": {},
   "source": [
    "#### 수식을 적용한 리스트 컴프리헨션"
   ]
  },
  {
   "cell_type": "code",
   "execution_count": 39,
   "id": "f66be34f",
   "metadata": {},
   "outputs": [
    {
     "name": "stdout",
     "output_type": "stream",
     "text": [
      "nums_math = [102, 106, 112, 120, 130, 142, 156, 172, 190, 210]\n"
     ]
    }
   ],
   "source": [
    "# 1부터 10까지 순차적으로 num에 대입하고\n",
    "# num에 100을 더한 값과 num을 제곱한 값을 더한 값을 리스트에 추가\n",
    "nums_math = [num ** 2 + (num + 100) for num in range(1, 11)]\n",
    "print(f'{nums_math = }')"
   ]
  },
  {
   "cell_type": "markdown",
   "id": "ce41024b",
   "metadata": {},
   "source": [
    "#### 함수를 적용한 리스트 컴프리헨션"
   ]
  },
  {
   "cell_type": "code",
   "execution_count": 41,
   "id": "eba9baf8",
   "metadata": {},
   "outputs": [
    {
     "name": "stdout",
     "output_type": "stream",
     "text": [
      "Hello_words = ['Hello Hongik', 'Hello Student', 'Hello Friend']\n"
     ]
    }
   ],
   "source": [
    "# 입력한 데이터를 문자열로 바꾸고 'Hello '를 앞에 붙이는 함수 정의\n",
    "\n",
    "def addHello(x):\n",
    "    return 'Hello '+ str(x)\n",
    "\n",
    "Hello_words = [addHello(word) for word in ['Hongik', 'Student', 'Friend']]\n",
    "print(f'{Hello_words = }')"
   ]
  },
  {
   "cell_type": "markdown",
   "id": "b49198cf",
   "metadata": {},
   "source": [
    "### if 조건문을 적용한 리스트 컴프리헨션"
   ]
  },
  {
   "cell_type": "code",
   "execution_count": 42,
   "id": "51a7a94f",
   "metadata": {},
   "outputs": [
    {
     "name": "stdout",
     "output_type": "stream",
     "text": [
      "nums_369 = [3, 6, 9, 13, 16, 19, 23, 26, 29, 33, 36, 39, 43, 46, 49, 53, 56, 59, 63, 66, 69, 73, 76, 79, 83, 86, 89, 93, 96, 99]\n"
     ]
    }
   ],
   "source": [
    "# 1부터 100까지 순차적으로 num에 대입하고\n",
    "# 1의 자리 수가 3, 6, 9로 끝나면 그 값을 추가\n",
    "nums_369 = [num for num in range(1, 101) if num % 10 in [3, 6, 9]]\n",
    "print(f'{nums_369 = }')"
   ]
  },
  {
   "cell_type": "markdown",
   "id": "ce794745",
   "metadata": {},
   "source": [
    "- 여러 개의 if 조건문을 중첩"
   ]
  },
  {
   "cell_type": "code",
   "execution_count": 43,
   "id": "7af41f26",
   "metadata": {},
   "outputs": [
    {
     "name": "stdout",
     "output_type": "stream",
     "text": [
      "words_o = ['In Seong', 'Hongik']\n"
     ]
    }
   ],
   "source": [
    "# 문자열의 길이가 5 이상이고, 'o'를 포함한 것만 출력\n",
    "words = ['In Seong', 'Hongik', 'Law', \"Odd\", 'Song']\n",
    "words_o = [word for word in words if len(word) >= 5 and 'o' in word]\n",
    "print(f'{words_o = }')"
   ]
  },
  {
   "cell_type": "markdown",
   "id": "6c0d654d",
   "metadata": {},
   "source": [
    "### 중첩된 리스트 컴프리헨션"
   ]
  },
  {
   "cell_type": "code",
   "execution_count": 44,
   "id": "f265a0f3",
   "metadata": {},
   "outputs": [
    {
     "name": "stdout",
     "output_type": "stream",
     "text": [
      "num_pairs = [(1, 9), (2, 8), (3, 7), (4, 6), (5, 5), (6, 4), (7, 3), (8, 2), (9, 1)]\n"
     ]
    }
   ],
   "source": [
    "# 1부터 10까지 순차적으로 x에 대입하고,\n",
    "# 1부터 10까지 순차적으로 y에 대입하여 x + y = 10일 때만 (x, y) 추가\n",
    "num_pairs = [(x, y) for x in range(1, 11) for y in range(1, 11) if x + y == 10]\n",
    "print(f'{num_pairs = }')"
   ]
  },
  {
   "cell_type": "code",
   "execution_count": null,
   "id": "75d96869",
   "metadata": {},
   "outputs": [
    {
     "name": "stdout",
     "output_type": "stream",
     "text": [
      "num_triple = [(1, 1, 2), (1, 1, 4), (1, 1, 6), (1, 1, 8), (1, 1, 10), (1, 2, 1), (1, 2, 3), (1, 2, 5), (1, 2, 7), (1, 2, 9), (1, 3, 2), (1, 3, 4), (1, 3, 6), (1, 3, 8), (1, 3, 10), (1, 4, 1), (1, 4, 3), (1, 4, 5), (1, 4, 7), (1, 4, 9), (1, 5, 2), (1, 5, 4), (1, 5, 6), (1, 5, 8), (1, 5, 10), (1, 6, 1), (1, 6, 3), (1, 6, 5), (1, 6, 7), (1, 6, 9), (1, 7, 2), (1, 7, 4), (1, 7, 6), (1, 7, 8), (1, 7, 10), (1, 8, 1), (1, 8, 3), (1, 8, 5), (1, 8, 7), (1, 8, 9), (1, 9, 2), (1, 9, 4), (1, 9, 6), (1, 9, 8), (1, 9, 10), (1, 10, 1), (1, 10, 3), (1, 10, 5), (1, 10, 7), (1, 10, 9), (2, 1, 1), (2, 1, 3), (2, 1, 5), (2, 1, 7), (2, 1, 9), (2, 2, 2), (2, 2, 4), (2, 2, 6), (2, 2, 8), (2, 2, 10), (2, 3, 1), (2, 3, 3), (2, 3, 5), (2, 3, 7), (2, 3, 9), (2, 4, 2), (2, 4, 4), (2, 4, 6), (2, 4, 8), (2, 4, 10), (2, 5, 1), (2, 5, 3), (2, 5, 5), (2, 5, 7), (2, 5, 9), (2, 6, 2), (2, 6, 4), (2, 6, 6), (2, 6, 8), (2, 6, 10), (2, 7, 1), (2, 7, 3), (2, 7, 5), (2, 7, 7), (2, 7, 9), (2, 8, 2), (2, 8, 4), (2, 8, 6), (2, 8, 8), (2, 8, 10), (2, 9, 1), (2, 9, 3), (2, 9, 5), (2, 9, 7), (2, 9, 9), (2, 10, 2), (2, 10, 4), (2, 10, 6), (2, 10, 8), (2, 10, 10), (3, 1, 2), (3, 1, 4), (3, 1, 6), (3, 1, 8), (3, 1, 10), (3, 2, 1), (3, 2, 3), (3, 2, 5), (3, 2, 7), (3, 2, 9), (3, 3, 2), (3, 3, 4), (3, 3, 6), (3, 3, 8), (3, 3, 10), (3, 4, 1), (3, 4, 3), (3, 4, 5), (3, 4, 7), (3, 4, 9), (3, 5, 2), (3, 5, 4), (3, 5, 6), (3, 5, 8), (3, 5, 10), (3, 6, 1), (3, 6, 3), (3, 6, 5), (3, 6, 7), (3, 6, 9), (3, 7, 2), (3, 7, 4), (3, 7, 6), (3, 7, 8), (3, 7, 10), (3, 8, 1), (3, 8, 3), (3, 8, 5), (3, 8, 7), (3, 8, 9), (3, 9, 2), (3, 9, 4), (3, 9, 6), (3, 9, 8), (3, 9, 10), (3, 10, 1), (3, 10, 3), (3, 10, 5), (3, 10, 7), (3, 10, 9), (4, 1, 1), (4, 1, 3), (4, 1, 5), (4, 1, 7), (4, 1, 9), (4, 2, 2), (4, 2, 4), (4, 2, 6), (4, 2, 8), (4, 2, 10), (4, 3, 1), (4, 3, 3), (4, 3, 5), (4, 3, 7), (4, 3, 9), (4, 4, 2), (4, 4, 4), (4, 4, 6), (4, 4, 8), (4, 4, 10), (4, 5, 1), (4, 5, 3), (4, 5, 5), (4, 5, 7), (4, 5, 9), (4, 6, 2), (4, 6, 4), (4, 6, 6), (4, 6, 8), (4, 6, 10), (4, 7, 1), (4, 7, 3), (4, 7, 5), (4, 7, 7), (4, 7, 9), (4, 8, 2), (4, 8, 4), (4, 8, 6), (4, 8, 8), (4, 8, 10), (4, 9, 1), (4, 9, 3), (4, 9, 5), (4, 9, 7), (4, 9, 9), (4, 10, 2), (4, 10, 4), (4, 10, 6), (4, 10, 8), (4, 10, 10), (5, 1, 2), (5, 1, 4), (5, 1, 6), (5, 1, 8), (5, 1, 10), (5, 2, 1), (5, 2, 3), (5, 2, 5), (5, 2, 7), (5, 2, 9), (5, 3, 2), (5, 3, 4), (5, 3, 6), (5, 3, 8), (5, 3, 10), (5, 4, 1), (5, 4, 3), (5, 4, 5), (5, 4, 7), (5, 4, 9), (5, 5, 2), (5, 5, 4), (5, 5, 6), (5, 5, 8), (5, 5, 10), (5, 6, 1), (5, 6, 3), (5, 6, 5), (5, 6, 7), (5, 6, 9), (5, 7, 2), (5, 7, 4), (5, 7, 6), (5, 7, 8), (5, 7, 10), (5, 8, 1), (5, 8, 3), (5, 8, 5), (5, 8, 7), (5, 8, 9), (5, 9, 2), (5, 9, 4), (5, 9, 6), (5, 9, 8), (5, 9, 10), (5, 10, 1), (5, 10, 3), (5, 10, 5), (5, 10, 7), (5, 10, 9), (6, 1, 1), (6, 1, 3), (6, 1, 5), (6, 1, 7), (6, 1, 9), (6, 2, 2), (6, 2, 4), (6, 2, 6), (6, 2, 8), (6, 2, 10), (6, 3, 1), (6, 3, 3), (6, 3, 5), (6, 3, 7), (6, 3, 9), (6, 4, 2), (6, 4, 4), (6, 4, 6), (6, 4, 8), (6, 4, 10), (6, 5, 1), (6, 5, 3), (6, 5, 5), (6, 5, 7), (6, 5, 9), (6, 6, 2), (6, 6, 4), (6, 6, 6), (6, 6, 8), (6, 6, 10), (6, 7, 1), (6, 7, 3), (6, 7, 5), (6, 7, 7), (6, 7, 9), (6, 8, 2), (6, 8, 4), (6, 8, 6), (6, 8, 8), (6, 8, 10), (6, 9, 1), (6, 9, 3), (6, 9, 5), (6, 9, 7), (6, 9, 9), (6, 10, 2), (6, 10, 4), (6, 10, 6), (6, 10, 8), (6, 10, 10), (7, 1, 2), (7, 1, 4), (7, 1, 6), (7, 1, 8), (7, 1, 10), (7, 2, 1), (7, 2, 3), (7, 2, 5), (7, 2, 7), (7, 2, 9), (7, 3, 2), (7, 3, 4), (7, 3, 6), (7, 3, 8), (7, 3, 10), (7, 4, 1), (7, 4, 3), (7, 4, 5), (7, 4, 7), (7, 4, 9), (7, 5, 2), (7, 5, 4), (7, 5, 6), (7, 5, 8), (7, 5, 10), (7, 6, 1), (7, 6, 3), (7, 6, 5), (7, 6, 7), (7, 6, 9), (7, 7, 2), (7, 7, 4), (7, 7, 6), (7, 7, 8), (7, 7, 10), (7, 8, 1), (7, 8, 3), (7, 8, 5), (7, 8, 7), (7, 8, 9), (7, 9, 2), (7, 9, 4), (7, 9, 6), (7, 9, 8), (7, 9, 10), (7, 10, 1), (7, 10, 3), (7, 10, 5), (7, 10, 7), (7, 10, 9), (8, 1, 1), (8, 1, 3), (8, 1, 5), (8, 1, 7), (8, 1, 9), (8, 2, 2), (8, 2, 4), (8, 2, 6), (8, 2, 8), (8, 2, 10), (8, 3, 1), (8, 3, 3), (8, 3, 5), (8, 3, 7), (8, 3, 9), (8, 4, 2), (8, 4, 4), (8, 4, 6), (8, 4, 8), (8, 4, 10), (8, 5, 1), (8, 5, 3), (8, 5, 5), (8, 5, 7), (8, 5, 9), (8, 6, 2), (8, 6, 4), (8, 6, 6), (8, 6, 8), (8, 6, 10), (8, 7, 1), (8, 7, 3), (8, 7, 5), (8, 7, 7), (8, 7, 9), (8, 8, 2), (8, 8, 4), (8, 8, 6), (8, 8, 8), (8, 8, 10), (8, 9, 1), (8, 9, 3), (8, 9, 5), (8, 9, 7), (8, 9, 9), (8, 10, 2), (8, 10, 4), (8, 10, 6), (8, 10, 8), (8, 10, 10), (9, 1, 2), (9, 1, 4), (9, 1, 6), (9, 1, 8), (9, 1, 10), (9, 2, 1), (9, 2, 3), (9, 2, 5), (9, 2, 7), (9, 2, 9), (9, 3, 2), (9, 3, 4), (9, 3, 6), (9, 3, 8), (9, 3, 10), (9, 4, 1), (9, 4, 3), (9, 4, 5), (9, 4, 7), (9, 4, 9), (9, 5, 2), (9, 5, 4), (9, 5, 6), (9, 5, 8), (9, 5, 10), (9, 6, 1), (9, 6, 3), (9, 6, 5), (9, 6, 7), (9, 6, 9), (9, 7, 2), (9, 7, 4), (9, 7, 6), (9, 7, 8), (9, 7, 10), (9, 8, 1), (9, 8, 3), (9, 8, 5), (9, 8, 7), (9, 8, 9), (9, 9, 2), (9, 9, 4), (9, 9, 6), (9, 9, 8), (9, 9, 10), (9, 10, 1), (9, 10, 3), (9, 10, 5), (9, 10, 7), (9, 10, 9), (10, 1, 1), (10, 1, 3), (10, 1, 5), (10, 1, 7), (10, 1, 9), (10, 2, 2), (10, 2, 4), (10, 2, 6), (10, 2, 8), (10, 2, 10), (10, 3, 1), (10, 3, 3), (10, 3, 5), (10, 3, 7), (10, 3, 9), (10, 4, 2), (10, 4, 4), (10, 4, 6), (10, 4, 8), (10, 4, 10), (10, 5, 1), (10, 5, 3), (10, 5, 5), (10, 5, 7), (10, 5, 9), (10, 6, 2), (10, 6, 4), (10, 6, 6), (10, 6, 8), (10, 6, 10), (10, 7, 1), (10, 7, 3), (10, 7, 5), (10, 7, 7), (10, 7, 9), (10, 8, 2), (10, 8, 4), (10, 8, 6), (10, 8, 8), (10, 8, 10), (10, 9, 1), (10, 9, 3), (10, 9, 5), (10, 9, 7), (10, 9, 9), (10, 10, 2), (10, 10, 4), (10, 10, 6), (10, 10, 8), (10, 10, 10)]\n"
     ]
    }
   ],
   "source": [
    "# 1부터 10까지 순차적으로 x, y, z에 대입하고,\n",
    "# x + y + z가 짝수일 때만 (x, y, z) 추가\n",
    "num_triple = [(x, y, z) for x in range(1, 11) for y in range(1, 11) for z in range(1, 11) if (x + y + z) % 2 == 0]\n",
    "print(f'{num_triple = }')"
   ]
  },
  {
   "cell_type": "markdown",
   "id": "5a6b102e",
   "metadata": {},
   "source": [
    "### 딕셔너리 컴프리헨션"
   ]
  },
  {
   "cell_type": "code",
   "execution_count": null,
   "id": "030909da",
   "metadata": {},
   "outputs": [
    {
     "name": "stdout",
     "output_type": "stream",
     "text": [
      "student_names = {1: '학생_송인성', 2: '학생_김한주', 3: '학생_윤지영', 4: '학생_한로로', 5: '학생_김뜻돌'}\n"
     ]
    }
   ],
   "source": [
    "ids = [1, 2, 3, 4, 5]\n",
    "names = ['송인성', '김한주', '윤지영', '한로로', '김뜻돌']\n",
    "\n",
    "# zip() 함수로 두 리스트를 병령로 가져오면서, name 앞에 '학생_' 붙이기\n",
    "student_names = {id : '학생_' + name for id, name in zip(ids, names)}\n",
    "print(f'{student_names = }') "
   ]
  },
  {
   "cell_type": "markdown",
   "id": "9869bf39",
   "metadata": {},
   "source": [
    "### set 컴프리헨션"
   ]
  },
  {
   "cell_type": "code",
   "execution_count": 52,
   "id": "9da91d60",
   "metadata": {},
   "outputs": [
    {
     "name": "stdout",
     "output_type": "stream",
     "text": [
      "sum_list = [8, 9, 10, 11, 8, 9, 10, 11, 12, 8, 9, 10, 11, 12, 13, 8, 9, 10, 11, 12, 13, 14, 8, 9, 10, 11, 12, 13, 14, 15, 8, 9, 10, 11, 12, 13, 14, 15, 16, 8, 9, 10, 11, 12, 13, 14, 15, 16, 17, 9, 10, 11, 12, 13, 14, 15, 16, 17, 18, 10, 11, 12, 13, 14, 15, 16, 17, 18, 19, 11, 12, 13, 14, 15, 16, 17, 18, 19, 20]\n",
      "sum_set = {8, 9, 10, 11, 12, 13, 14, 15, 16, 17, 18, 19, 20}\n"
     ]
    }
   ],
   "source": [
    "# 1부터 10까지 순차적으로 x에 대입하고,\n",
    "# 1부터 10까지 순차적으로 y에 대입하여 x + y의 값이 7보다 큰 경우의 x + y에 대한 리스트 생성\n",
    "\n",
    "sum_list = [x + y for x in range(1, 11) for y in range(1, 11) if x + y > 7]\n",
    "\n",
    "# 리스트 출력. 중복된 값이 있음\n",
    "print(f'{sum_list = }')\n",
    "\n",
    "# # 1부터 10까지 순차적으로 x에 대입하고,\n",
    "# 1부터 10까지 순차적으로 y에 대입하여 x + y의 값이 7보다 큰 경우의 x + y에 대한 set 생성\n",
    "sum_set = {x + y for x in range(1, 11) for y in range(1, 11) if x + y > 7}\n",
    "\n",
    "# set 출력. 중복된 값이 없음\n",
    "print(f'{sum_set = }')"
   ]
  },
  {
   "cell_type": "markdown",
   "id": "eb749640",
   "metadata": {},
   "source": []
  }
 ],
 "metadata": {
  "kernelspec": {
   "display_name": "base",
   "language": "python",
   "name": "python3"
  },
  "language_info": {
   "codemirror_mode": {
    "name": "ipython",
    "version": 3
   },
   "file_extension": ".py",
   "mimetype": "text/x-python",
   "name": "python",
   "nbconvert_exporter": "python",
   "pygments_lexer": "ipython3",
   "version": "3.12.8"
  }
 },
 "nbformat": 4,
 "nbformat_minor": 5
}
