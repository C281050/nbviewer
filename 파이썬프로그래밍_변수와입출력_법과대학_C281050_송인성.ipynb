{
 "cells": [
  {
   "cell_type": "markdown",
   "metadata": {},
   "source": [
    "# **변수와 입출력**"
   ]
  },
  {
   "cell_type": "markdown",
   "metadata": {},
   "source": [
    "## **변수의 선언과 사용**\n",
    "### **변수의 생성**\n",
    "- 변수는 할당연산자인 **=**(assignment) 기호를 사용하여 선언(생성)\n",
    "- **변수명 = 데이터**\n",
    "    - assignment가 실행되면, **데이터**에 해당되는 것이 컴퓨터 메모리에 기록되고, **변수명**은 **데이터**를 가리키는 주소를 저장"
   ]
  },
  {
   "cell_type": "code",
   "execution_count": 1,
   "metadata": {},
   "outputs": [
    {
     "name": "stdout",
     "output_type": "stream",
     "text": [
      "산업·데이터공학\n",
      "1717607350720\n"
     ]
    }
   ],
   "source": [
    "# 변수 var_x에 문자열 데이터 '산업데이터공학'을 저장\n",
    "var_x = '산업·데이터공학'\n",
    "\n",
    "# 변수 var_x에 저장된 데이터를 출력\n",
    "print(var_x)\n",
    "\n",
    "# 변수 var_x의 메모리 주소를 출력\n",
    "print(id(var_x))"
   ]
  },
  {
   "cell_type": "code",
   "execution_count": 2,
   "metadata": {},
   "outputs": [
    {
     "name": "stdout",
     "output_type": "stream",
     "text": [
      "산업·데이터공학과\n",
      "1717589184384\n"
     ]
    }
   ],
   "source": [
    "# 변수 var_x를 문자열 데이터 '산업데이터공학과'로 수정\n",
    "var_x = '산업·데이터공학과'\n",
    "\n",
    "print(var_x)\n",
    "print(id(var_x))"
   ]
  },
  {
   "cell_type": "markdown",
   "metadata": {},
   "source": [
    "- 이전과 다른 메모리 주소과 출력됨됨. 수정된 것으로 보이지만 실제로는 새로운 데이터의 주소로 변경된 것임."
   ]
  },
  {
   "cell_type": "code",
   "execution_count": 3,
   "metadata": {},
   "outputs": [
    {
     "name": "stdout",
     "output_type": "stream",
     "text": [
      "산업·데이터공학과\n",
      "1717611853616\n"
     ]
    }
   ],
   "source": [
    "# 변수 var_y에 문자열 데이터 '산업데이터공학과'를 저장\n",
    "var_y = '산업·데이터공학과'\n",
    "\n",
    "print(var_y)\n",
    "print(id(var_y))"
   ]
  },
  {
   "cell_type": "markdown",
   "metadata": {},
   "source": [
    "- 변수var_x와 동일한 데이터를 저장했지만, 다른 메모리 주소가 출력됨."
   ]
  },
  {
   "cell_type": "markdown",
   "metadata": {},
   "source": [
    "### **현재 사용 중인 변수 확인**\n",
    "#### **Ipython**\n",
    "- Ipython(interactive Python)은 Python을 대화식으로 사용할 수 있는 환경\n",
    "- Ipython에서는 **%whos** 매직 명령어(magic command)를 사용하여 현재 사용 중인 변수 목록을 확인\n",
    "\n",
    "- **매직 명령어(magic command)**는 Ipython에서 제공하는 특수한 명령어\n",
    "- %로 시작하는 한 줄의 명령어\n",
    "    - **%lsmagic**: 모든 매직 명령어 목록 확인\n",
    "    - **%pwd**: 현재 디렉토리 경로\n",
    "    - **%ls**: 현재 디렉토리 파일 목록\n",
    "    - **%who**: 현재 커널에서 사용 중인 변수 목록\n",
    "    - **%whos**: 현재 커널에서 사용 중인 변수 목록, 데이터 타입, 값"
   ]
  },
  {
   "cell_type": "code",
   "execution_count": 4,
   "metadata": {},
   "outputs": [
    {
     "data": {
      "application/json": {
       "cell": {
        "!": "OSMagics",
        "HTML": "Other",
        "SVG": "Other",
        "bash": "Other",
        "capture": "ExecutionMagics",
        "cmd": "Other",
        "code_wrap": "ExecutionMagics",
        "debug": "ExecutionMagics",
        "file": "Other",
        "html": "DisplayMagics",
        "javascript": "DisplayMagics",
        "js": "DisplayMagics",
        "latex": "DisplayMagics",
        "markdown": "DisplayMagics",
        "perl": "Other",
        "prun": "ExecutionMagics",
        "pypy": "Other",
        "python": "Other",
        "python2": "Other",
        "python3": "Other",
        "ruby": "Other",
        "script": "ScriptMagics",
        "sh": "Other",
        "svg": "DisplayMagics",
        "sx": "OSMagics",
        "system": "OSMagics",
        "time": "ExecutionMagics",
        "timeit": "ExecutionMagics",
        "writefile": "OSMagics"
       },
       "line": {
        "alias": "OSMagics",
        "alias_magic": "BasicMagics",
        "autoawait": "AsyncMagics",
        "autocall": "AutoMagics",
        "automagic": "AutoMagics",
        "autosave": "KernelMagics",
        "bookmark": "OSMagics",
        "cd": "OSMagics",
        "clear": "KernelMagics",
        "cls": "KernelMagics",
        "code_wrap": "ExecutionMagics",
        "colors": "BasicMagics",
        "conda": "PackagingMagics",
        "config": "ConfigMagics",
        "connect_info": "KernelMagics",
        "copy": "Other",
        "ddir": "Other",
        "debug": "ExecutionMagics",
        "dhist": "OSMagics",
        "dirs": "OSMagics",
        "doctest_mode": "BasicMagics",
        "echo": "Other",
        "ed": "Other",
        "edit": "KernelMagics",
        "env": "OSMagics",
        "gui": "BasicMagics",
        "hist": "Other",
        "history": "HistoryMagics",
        "killbgscripts": "ScriptMagics",
        "ldir": "Other",
        "less": "KernelMagics",
        "load": "CodeMagics",
        "load_ext": "ExtensionMagics",
        "loadpy": "CodeMagics",
        "logoff": "LoggingMagics",
        "logon": "LoggingMagics",
        "logstart": "LoggingMagics",
        "logstate": "LoggingMagics",
        "logstop": "LoggingMagics",
        "ls": "Other",
        "lsmagic": "BasicMagics",
        "macro": "ExecutionMagics",
        "magic": "BasicMagics",
        "mamba": "PackagingMagics",
        "matplotlib": "PylabMagics",
        "micromamba": "PackagingMagics",
        "mkdir": "Other",
        "more": "KernelMagics",
        "notebook": "BasicMagics",
        "page": "BasicMagics",
        "pastebin": "CodeMagics",
        "pdb": "ExecutionMagics",
        "pdef": "NamespaceMagics",
        "pdoc": "NamespaceMagics",
        "pfile": "NamespaceMagics",
        "pinfo": "NamespaceMagics",
        "pinfo2": "NamespaceMagics",
        "pip": "PackagingMagics",
        "popd": "OSMagics",
        "pprint": "BasicMagics",
        "precision": "BasicMagics",
        "prun": "ExecutionMagics",
        "psearch": "NamespaceMagics",
        "psource": "NamespaceMagics",
        "pushd": "OSMagics",
        "pwd": "OSMagics",
        "pycat": "OSMagics",
        "pylab": "PylabMagics",
        "qtconsole": "KernelMagics",
        "quickref": "BasicMagics",
        "recall": "HistoryMagics",
        "rehashx": "OSMagics",
        "reload_ext": "ExtensionMagics",
        "ren": "Other",
        "rep": "Other",
        "rerun": "HistoryMagics",
        "reset": "NamespaceMagics",
        "reset_selective": "NamespaceMagics",
        "rmdir": "Other",
        "run": "ExecutionMagics",
        "save": "CodeMagics",
        "sc": "OSMagics",
        "set_env": "OSMagics",
        "store": "StoreMagics",
        "sx": "OSMagics",
        "system": "OSMagics",
        "tb": "ExecutionMagics",
        "time": "ExecutionMagics",
        "timeit": "ExecutionMagics",
        "unalias": "OSMagics",
        "unload_ext": "ExtensionMagics",
        "uv": "PackagingMagics",
        "who": "NamespaceMagics",
        "who_ls": "NamespaceMagics",
        "whos": "NamespaceMagics",
        "xdel": "NamespaceMagics",
        "xmode": "BasicMagics"
       }
      },
      "text/plain": [
       "Available line magics:\n",
       "%alias  %alias_magic  %autoawait  %autocall  %automagic  %autosave  %bookmark  %cd  %clear  %cls  %code_wrap  %colors  %conda  %config  %connect_info  %copy  %ddir  %debug  %dhist  %dirs  %doctest_mode  %echo  %ed  %edit  %env  %gui  %hist  %history  %killbgscripts  %ldir  %less  %load  %load_ext  %loadpy  %logoff  %logon  %logstart  %logstate  %logstop  %ls  %lsmagic  %macro  %magic  %mamba  %matplotlib  %micromamba  %mkdir  %more  %notebook  %page  %pastebin  %pdb  %pdef  %pdoc  %pfile  %pinfo  %pinfo2  %pip  %popd  %pprint  %precision  %prun  %psearch  %psource  %pushd  %pwd  %pycat  %pylab  %qtconsole  %quickref  %recall  %rehashx  %reload_ext  %ren  %rep  %rerun  %reset  %reset_selective  %rmdir  %run  %save  %sc  %set_env  %store  %sx  %system  %tb  %time  %timeit  %unalias  %unload_ext  %uv  %who  %who_ls  %whos  %xdel  %xmode\n",
       "\n",
       "Available cell magics:\n",
       "%%!  %%HTML  %%SVG  %%bash  %%capture  %%cmd  %%code_wrap  %%debug  %%file  %%html  %%javascript  %%js  %%latex  %%markdown  %%perl  %%prun  %%pypy  %%python  %%python2  %%python3  %%ruby  %%script  %%sh  %%svg  %%sx  %%system  %%time  %%timeit  %%writefile\n",
       "\n",
       "Automagic is ON, % prefix IS NOT needed for line magics."
      ]
     },
     "execution_count": 4,
     "metadata": {},
     "output_type": "execute_result"
    }
   ],
   "source": [
    "# 매직 명령어 목록 보기\n",
    "%lsmagic"
   ]
  },
  {
   "cell_type": "code",
   "execution_count": 5,
   "metadata": {},
   "outputs": [
    {
     "data": {
      "text/plain": [
       "'c:\\\\Users\\\\송인성\\\\Documents\\\\My_python_project'"
      ]
     },
     "execution_count": 5,
     "metadata": {},
     "output_type": "execute_result"
    }
   ],
   "source": [
    "# 현재 디렉토리 확인\n",
    "%pwd"
   ]
  },
  {
   "cell_type": "code",
   "execution_count": 1,
   "metadata": {},
   "outputs": [
    {
     "name": "stdout",
     "output_type": "stream",
     "text": [
      " Volume in drive C has no label.\n",
      " Volume Serial Number is 7277-00BB\n",
      "\n",
      " Directory of c:\\Users\\송인성\\Documents\\My_python_project\n",
      "\n",
      "2025-04-01  오전 09:05    <DIR>          .\n",
      "2025-03-11  오후 12:56    <DIR>          ..\n",
      "2025-04-01  오전 10:53            41,324 My_first_python.ipynb\n",
      "2025-04-01  오후 04:44            47,362 파이썬프로그래밍_iterable자료형_법과대학_C281050_송인성.ipynb\n",
      "2025-03-31  오후 09:42            14,690 파이썬프로그래밍_데이터유형_법과대학_C281050_송인성.ipynb\n",
      "2025-04-01  오후 02:36            14,701 파이썬프로그래밍_데이터의연산_법과대학_C281050_송인성.ipynb\n",
      "2025-04-01  오후 05:03            19,884 파이썬프로그래밍_변수와입출력_법과대학_C281050_송인성.ipynb\n",
      "               5 File(s)        137,961 bytes\n",
      "               2 Dir(s)  33,707,737,088 bytes free\n"
     ]
    }
   ],
   "source": [
    "# 현재 디렉토리의 파일 목록 확인\n",
    "%ls"
   ]
  },
  {
   "cell_type": "code",
   "execution_count": 7,
   "metadata": {},
   "outputs": [
    {
     "name": "stdout",
     "output_type": "stream",
     "text": [
      "var_x\t var_y\t \n"
     ]
    }
   ],
   "source": [
    "# 현재 커널에서 사용 중인 변수 목록\n",
    "%who"
   ]
  },
  {
   "cell_type": "code",
   "execution_count": 8,
   "metadata": {},
   "outputs": [
    {
     "name": "stdout",
     "output_type": "stream",
     "text": [
      "Variable   Type    Data/Info\n",
      "----------------------------\n",
      "var_x      str     산업·데이터공학과\n",
      "var_y      str     산업·데이터공학과\n"
     ]
    }
   ],
   "source": [
    "# 현재 커널에서 사용 중인 변수 목록, 데이터 타입, 값\n",
    "%whos"
   ]
  },
  {
   "cell_type": "markdown",
   "metadata": {},
   "source": [
    "### **변수의 삭제**\n",
    "- **del** 명령어를 사용하여 변수를 삭제"
   ]
  },
  {
   "cell_type": "code",
   "execution_count": 9,
   "metadata": {},
   "outputs": [
    {
     "name": "stdout",
     "output_type": "stream",
     "text": [
      "Variable   Type    Data/Info\n",
      "----------------------------\n",
      "var_x      str     산업·데이터공학과\n",
      "var_y      str     산업·데이터공학과\n",
      "var_z1     int     123\n",
      "var_z2     list    n=5\n"
     ]
    }
   ],
   "source": [
    "var_z1 = 123\n",
    "var_z2 = [1,2,3,4,5]\n",
    "\n",
    "%whos"
   ]
  },
  {
   "cell_type": "code",
   "execution_count": 10,
   "metadata": {},
   "outputs": [
    {
     "name": "stdout",
     "output_type": "stream",
     "text": [
      "Variable   Type    Data/Info\n",
      "----------------------------\n",
      "var_y      str     산업·데이터공학과\n",
      "var_z1     int     123\n",
      "var_z2     list    n=5\n"
     ]
    }
   ],
   "source": [
    "# 변수 var_x를 삭제\n",
    "del var_x\n",
    "\n",
    "# 변수 var_x가 삭제되었는지 확인\n",
    "%whos"
   ]
  },
  {
   "cell_type": "code",
   "execution_count": 11,
   "metadata": {},
   "outputs": [
    {
     "name": "stdout",
     "output_type": "stream",
     "text": [
      "Interactive namespace is empty.\n"
     ]
    }
   ],
   "source": [
    "# 나머지 변수들을 삭제\n",
    "del var_y, var_z1, var_z2\n",
    "\n",
    "# 모든 변수가 삭제되었는지 확인\n",
    "%whos"
   ]
  },
  {
   "cell_type": "markdown",
   "metadata": {},
   "source": [
    "## **데이터의 입출력**\n",
    "### **콘솔 입출력**\n",
    "- **콘솔(console)**: 키보드로 입력한 내용을 화면에 출력하고, 화면에 출력된 내용을 키보드로 입력받는 도구"
   ]
  },
  {
   "cell_type": "markdown",
   "metadata": {},
   "source": [
    "#### **input() 함수**\n",
    "- **input()** 함수는 문자열로 사용자 입력을 받는 함수수"
   ]
  },
  {
   "cell_type": "code",
   "execution_count": 14,
   "metadata": {},
   "outputs": [],
   "source": [
    "# 사용자로부터 데이터를 입력받아 변수 var_x에 저장\n",
    "var_x = input('데이터를 입력하세요: ')"
   ]
  },
  {
   "cell_type": "code",
   "execution_count": 15,
   "metadata": {},
   "outputs": [
    {
     "name": "stdout",
     "output_type": "stream",
     "text": [
      "var_x = \"'123'\"\n",
      "type(var_x) = <class 'str'>\n"
     ]
    }
   ],
   "source": [
    "# 변수 var_x에 저장된 데이터를 출력\n",
    "print(f'{var_x = }')\n",
    "\n",
    "# 변수 var_x의 데이터 타입을 출력\n",
    "print(f'{type(var_x) = }')"
   ]
  },
  {
   "cell_type": "code",
   "execution_count": 17,
   "metadata": {},
   "outputs": [
    {
     "name": "stdout",
     "output_type": "stream",
     "text": [
      "123\n",
      "<class 'int'>\n"
     ]
    }
   ],
   "source": [
    "# 사용자로부터 데이터를 입력받아 정수형으로 변환한 후, 변수 var_y에 저장\n",
    "var_y = int(input('숫자를 입력하세요: '))\n",
    "\n",
    "# 변수 var_y에 저장된 데이터를 출력\n",
    "print(var_y)\n",
    "\n",
    "# 변수 var_y의 데이터 타입을 출력\n",
    "print(type(var_y))"
   ]
  },
  {
   "cell_type": "markdown",
   "metadata": {},
   "source": [
    "#### **print() 함수**\n",
    "- **print(데이터)** 함수는 괄호 안에 있는 내용을 출력"
   ]
  },
  {
   "cell_type": "code",
   "execution_count": 19,
   "metadata": {},
   "outputs": [
    {
     "name": "stdout",
     "output_type": "stream",
     "text": [
      "10\n",
      "10 산업·데이터공학과 3.14 True\n",
      "10/산업·데이터공학과/3.14/True\n",
      "10/산업·데이터공학과/3.14/True\t***********\n"
     ]
    }
   ],
   "source": [
    "print(10)\n",
    "print(10, '산업·데이터공학과', 3.14, True)\n",
    "print(10, '산업·데이터공학과', 3.14, True, sep='/')\n",
    "print(10, '산업·데이터공학과', 3.14, True, sep='/', end='\\t***********\\n') "
   ]
  },
  {
   "cell_type": "markdown",
   "metadata": {},
   "source": [
    "#### **이스케이프 문자**\n",
    "- 이스케이프 문자(escape character)는 특수한 문자를 출력하거나 특수한 동작을 하도록 함\n",
    "    - \\n: 줄바꿈\n",
    "    - \\t: 탭\n",
    "    - \\\\: \\ 출력\n",
    "    - \\': ' 출력"
   ]
  },
  {
   "cell_type": "code",
   "execution_count": 20,
   "metadata": {},
   "outputs": [
    {
     "name": "stdout",
     "output_type": "stream",
     "text": [
      "이름 : 홍길동\n",
      "학번 : 20210000\n",
      "학과 : 산업·데이터공학과\n"
     ]
    }
   ],
   "source": [
    "# 줄바꿈 적용\n",
    "print('이름 : 홍길동\\n학번 : 20210000\\n학과 : 산업·데이터공학과')"
   ]
  },
  {
   "cell_type": "code",
   "execution_count": 22,
   "metadata": {},
   "outputs": [
    {
     "name": "stdout",
     "output_type": "stream",
     "text": [
      "이름\t학번\t\t학과\n",
      "홍길동\t20210000\t산업·데이터공학과\n",
      "김강\t20210001\t경영학과\n"
     ]
    }
   ],
   "source": [
    "# 탭 적용\n",
    "print('이름\\t학번\\t\\t학과')\n",
    "print('홍길동\\t20210000\\t산업·데이터공학과')\n",
    "print('김강\\t20210001\\t경영학과')"
   ]
  },
  {
   "cell_type": "markdown",
   "metadata": {},
   "source": [
    "#### **f-string**\n",
    "- **f-string**은 문자열과 변수를 혼합하여 출력하는 다양한 문자열 포매팅(string formatting) 방법 중 하나\n",
    "\n",
    "##### **f-stiring 사용법**\n",
    "- f'{변수명}': 변수의 값 출력\n",
    "- f'{변수명 = }': 변수의 값과 변수명 출력 "
   ]
  },
  {
   "cell_type": "code",
   "execution_count": 26,
   "metadata": {},
   "outputs": [
    {
     "name": "stdout",
     "output_type": "stream",
     "text": [
      "54321\n",
      "--------------------\n",
      "var_y = 54321\n",
      "--------------------\n",
      "var_y = 54321\n"
     ]
    }
   ],
   "source": [
    "var_y = 54321 # 변수 var_y에 정수형 데이터 54321을 저장\n",
    "\n",
    "# 변수 var_y에 저장된 데이터를 출력\n",
    "print(f'{var_y}', end='\\n--------------------\\n')\n",
    "\n",
    "# 변수 var_y에 저장된 데이터를 출력\n",
    "print(f'{var_y = }', end='\\n--------------------\\n')\n",
    "\n",
    "# 변수 var_y에 저장된 데이터를 출력\n",
    "print(f'var_y = {var_y}')"
   ]
  },
  {
   "cell_type": "markdown",
   "metadata": {},
   "source": [
    "- **f'{변수명:서식}'**: 서식 지정\n",
    "    - **정렬기호**: 없음 - 왼쪽, ^ - 가운데, > - 오른쪽\n",
    "    - **서식지정자**: 문자열 - s, 정수 - d, 실수 - f\n",
    "    - **소수점 자릿수 지정**: 구분자(:) 오른편에 .자릿수f를 사용"
   ]
  },
  {
   "cell_type": "code",
   "execution_count": 30,
   "metadata": {},
   "outputs": [
    {
     "name": "stdout",
     "output_type": "stream",
     "text": [
      "var_x는 정수형이므로 d를 사용하여야 하고, 54321입니다.\n",
      "var_x를 총 20개의 자리에 표현하면,                54321입니다.\n",
      "var_x를 총 20개의 자리에 왼쪽 정렬하여 표현하면, 54321               입니다.\n"
     ]
    }
   ],
   "source": [
    "var_x = 54321\n",
    "\n",
    "print(f'var_x는 정수형이므로 d를 사용하여야 하고, {var_x:d}입니다.')\n",
    "print(f'var_x를 총 20개의 자리에 표현하면, {var_x:20d}입니다.')\n",
    "print(f'var_x를 총 20개의 자리에 왼쪽 정렬하여 표현하면, {var_x:<20d}입니다.')\n"
   ]
  },
  {
   "cell_type": "code",
   "execution_count": 31,
   "metadata": {},
   "outputs": [
    {
     "name": "stdout",
     "output_type": "stream",
     "text": [
      "var_y는 실수형이므로 f를 사용하여야 하고, 54321.123457입니다.\n",
      "var_y를 정수만 출력하면 54321입니다.\n",
      "var_y를 소수점 5자리까지 출력하면 54321.12346입니다.\n",
      "var_y를 20자리에 가운데 정렬하여 소수점 3자리까지 출력하면      54321.123      입니다.\n"
     ]
    }
   ],
   "source": [
    "var_y = 54321.123456789\n",
    "\n",
    "print(f'var_y는 실수형이므로 f를 사용하여야 하고, {var_y:f}입니다.')\n",
    "print(f'var_y를 정수만 출력하면 {var_y:.0f}입니다.')\n",
    "print(f'var_y를 소수점 5자리까지 출력하면 {var_y:.5f}입니다.')\n",
    "print(f'var_y를 20자리에 가운데 정렬하여 소수점 3자리까지 출력하면 {var_y:^20.3f}입니다.')"
   ]
  },
  {
   "cell_type": "markdown",
   "metadata": {},
   "source": [
    "## **응용**\n",
    "\n",
    "### 변수의 선언과 사용\n",
    "#### 변수의 생성"
   ]
  },
  {
   "cell_type": "code",
   "execution_count": 58,
   "metadata": {},
   "outputs": [
    {
     "name": "stdout",
     "output_type": "stream",
     "text": [
      "법학\n",
      "var_s = '법학'\n",
      "id(var_s) = 1779491468704\n",
      "type(var_s) = <class 'str'>\n"
     ]
    }
   ],
   "source": [
    "# 변수 var_s에 문자열 데이터 '법학'을 저장\n",
    "var_s = '법학'\n",
    "\n",
    "# 변수 var_s에 저장된 데이터를 출력\n",
    "print(var_s)\n",
    "print(f'{var_s = }')\n",
    "\n",
    "# 변수 var_s의 메모리 주소를 출력\n",
    "print(f'{id(var_s) = }')\n",
    "\n",
    "# 변수 var_s의 데이터 타입을 출력\n",
    "print(f'{type(var_s) = }')"
   ]
  },
  {
   "cell_type": "code",
   "execution_count": 59,
   "metadata": {},
   "outputs": [
    {
     "name": "stdout",
     "output_type": "stream",
     "text": [
      "var_s = '법학과'\n",
      "id(var_s) = 1779484241520\n",
      "type(var_s) = <class 'str'>\n"
     ]
    }
   ],
   "source": [
    "# 변수 var_s에 문자열 데이터 '법학과'를 저장\n",
    "var_s = '법학과'\n",
    "\n",
    "print(f'{var_s = }')\n",
    "print(f'{id(var_s) = }')\n",
    "print(f'{type(var_s) = }')"
   ]
  },
  {
   "cell_type": "markdown",
   "metadata": {},
   "source": [
    "#### 현재 사용 중인 변수 확인"
   ]
  },
  {
   "cell_type": "code",
   "execution_count": 60,
   "metadata": {},
   "outputs": [
    {
     "name": "stdout",
     "output_type": "stream",
     "text": [
      "a = 10, b = 20.0\n"
     ]
    }
   ],
   "source": [
    "a = 10\n",
    "b = 20.0\n",
    "\n",
    "print(f'{a = }, {b = }')\n"
   ]
  },
  {
   "cell_type": "code",
   "execution_count": 61,
   "metadata": {},
   "outputs": [
    {
     "name": "stdout",
     "output_type": "stream",
     "text": [
      "a\t b\t var_s\t \n"
     ]
    }
   ],
   "source": [
    "# 현재 커널에서 사용 중인 변수 목록록\n",
    "%who"
   ]
  },
  {
   "cell_type": "code",
   "execution_count": 62,
   "metadata": {},
   "outputs": [
    {
     "name": "stdout",
     "output_type": "stream",
     "text": [
      "Variable   Type     Data/Info\n",
      "-----------------------------\n",
      "a          int      10\n",
      "b          float    20.0\n",
      "var_s      str      법학과\n"
     ]
    }
   ],
   "source": [
    "%whos"
   ]
  },
  {
   "cell_type": "markdown",
   "metadata": {},
   "source": [
    "#### 변수의 삭제"
   ]
  },
  {
   "cell_type": "code",
   "execution_count": 63,
   "metadata": {},
   "outputs": [
    {
     "name": "stdout",
     "output_type": "stream",
     "text": [
      "name 'a' is not defined\n"
     ]
    }
   ],
   "source": [
    "#del 명령어를 사용하여 변수를 삭제\n",
    "del a\n",
    "\n",
    "# del로 삭제한 변수를 출력\n",
    "try:\n",
    "    print(f'{a = }')\n",
    "except NameError as e:\n",
    "    print(e)        "
   ]
  },
  {
   "cell_type": "code",
   "execution_count": 64,
   "metadata": {},
   "outputs": [
    {
     "name": "stdout",
     "output_type": "stream",
     "text": [
      "Interactive namespace is empty.\n"
     ]
    }
   ],
   "source": [
    "# 나머지 변수들을 삭제\n",
    "del b, var_s\n",
    "\n",
    "# 모든 변수가 삭제되었는지 확인\n",
    "%whos"
   ]
  },
  {
   "cell_type": "markdown",
   "metadata": {},
   "source": [
    "### 데이터의 입출력\n",
    "#### input() 함수"
   ]
  },
  {
   "cell_type": "code",
   "execution_count": 67,
   "metadata": {},
   "outputs": [],
   "source": [
    "# 사용자로부터 데이터를 입력받아 변수 var_s에 저장\n",
    "var_s = input('변수 var_s에 저장할 문자열을 입력하세요: ')"
   ]
  },
  {
   "cell_type": "code",
   "execution_count": 68,
   "metadata": {},
   "outputs": [
    {
     "name": "stdout",
     "output_type": "stream",
     "text": [
      "var_s = '검정치마 콘서트 가고 싶다'\n",
      "type(var_s) = <class 'str'>\n"
     ]
    }
   ],
   "source": [
    "# 변수 var_s에 저장된 데이터를 출력\n",
    "print(f'{var_s = }')\n",
    "\n",
    "# 변수 var_s의 데이터 타입을 출력\n",
    "print(f'{type(var_s) = }')"
   ]
  },
  {
   "cell_type": "code",
   "execution_count": 73,
   "metadata": {},
   "outputs": [
    {
     "name": "stdout",
     "output_type": "stream",
     "text": [
      "240311\n",
      "type(var_i) = <class 'int'>\n"
     ]
    }
   ],
   "source": [
    "# 사용자로부터 데이터를 입력받아 정수형으로 변환한 후, 변수 var_i에 저장\n",
    "var_i = int(input('숫자를 입력하세요:'))    \n",
    "\n",
    "# 변수 var_i에 저장된 데이터를 출력\n",
    "print(var_i)\n",
    "\n",
    "# 변수 var_i의 데이터 타입을 출력\n",
    "print(f'{type(var_i) = }')"
   ]
  },
  {
   "cell_type": "code",
   "execution_count": null,
   "metadata": {},
   "outputs": [
    {
     "name": "stdout",
     "output_type": "stream",
     "text": [
      "invalid literal for int() with base 10: '송인성'\n"
     ]
    }
   ],
   "source": [
    "# int를 문자열로 입력할 경우\n",
    "try:\n",
    "    var_i = int(input('문자열을 입력하세요:'))    \n",
    "except ValueError as e:\n",
    "    print(e)  # int를 문자열로 입력하면 정수로 안 바꿔줌줌  "
   ]
  },
  {
   "cell_type": "code",
   "execution_count": null,
   "metadata": {},
   "outputs": [
    {
     "name": "stdout",
     "output_type": "stream",
     "text": [
      "invalid literal for int() with base 10: '[1, 2, 3]'\n"
     ]
    }
   ],
   "source": [
    "# int를 리스트로 입력할 경우\n",
    "try:\n",
    "    var_i = int(input('리스트 형식으로 입력하세요:'))    \n",
    "except ValueError as e:\n",
    "    print(e)  # 에러 발생"
   ]
  },
  {
   "cell_type": "markdown",
   "metadata": {},
   "source": [
    "#### print() 함수, 이스케이프 문자"
   ]
  },
  {
   "cell_type": "code",
   "execution_count": 6,
   "metadata": {},
   "outputs": [
    {
     "name": "stdout",
     "output_type": "stream",
     "text": [
      "hello, world\n",
      "==============================\n",
      "hello,\n",
      "world\n",
      "==============================\n",
      "hello,\tworld\n",
      "==============================\n",
      "hello, 'world'\n",
      "==============================\n",
      "hello, \\world\n",
      "==============================\n"
     ]
    }
   ],
   "source": [
    "print('hello, world', end='\\n'+'='*30+'\\n')\n",
    "\n",
    "print('hello,\\nworld', end='\\n'+'='*30+'\\n')  # \\n: 줄바꿈\n",
    "\n",
    "print('hello,\\tworld', end='\\n'+'='*30+'\\n')  # \\t: 탭\n",
    "\n",
    "print('hello, \\'world\\'', end='\\n'+'='*30+'\\n')  # \\': ' 출력\n",
    "\n",
    "print('hello, \\\\world', end='\\n'+'='*30+'\\n')  # \\\\: \\ 출력 "
   ]
  },
  {
   "cell_type": "code",
   "execution_count": 9,
   "metadata": {},
   "outputs": [
    {
     "name": "stdout",
     "output_type": "stream",
     "text": [
      "학교 : 홍익대\n",
      "학과 : 법학부\n",
      "학회 : 민사법학회\n"
     ]
    }
   ],
   "source": [
    "print('학교 : 홍익대','학과 : 법학부', '학회 : 민사법학회', sep='\\n')"
   ]
  },
  {
   "cell_type": "code",
   "execution_count": 12,
   "metadata": {},
   "outputs": [
    {
     "name": "stdout",
     "output_type": "stream",
     "text": [
      "학교 : 홍익대\n",
      "학과 : 법학부\n",
      "학회 : 민사법학회\n"
     ]
    }
   ],
   "source": [
    "print('학교', '홍익대\\n학과', '법학부\\n학회','민사법학회', sep=' : ')"
   ]
  },
  {
   "cell_type": "code",
   "execution_count": 13,
   "metadata": {},
   "outputs": [
    {
     "name": "stdout",
     "output_type": "stream",
     "text": [
      "학교:\t홍익대\n",
      "학과:\t법학부\n",
      "학회:\t민사법학회\n"
     ]
    }
   ],
   "source": [
    "print('학교:','홍익대\\n학과:', '법학부\\n학회:','민사법학회', sep='\\t')"
   ]
  },
  {
   "cell_type": "markdown",
   "metadata": {},
   "source": [
    "#### f- string"
   ]
  },
  {
   "cell_type": "code",
   "execution_count": 28,
   "metadata": {},
   "outputs": [
    {
     "name": "stdout",
     "output_type": "stream",
     "text": [
      "var_s는 정수형이므로 d를 사용하여야 하고, 12345입니다.\n",
      "var_s를 10자리로 오른쪽 정렬하여 표현하면,      12345입니다.\n",
      "var_i는 실수형이므므로 f를 사용하여야 하고, 12345.678900입니다.\n",
      "var_i를 20자리에 오른쪽 정렬하여 소수점 2자리까지 출력하면,             12345.68입니다.\n",
      "var_i를 20자리에 소수점 4자리까지 출력하면,           12345.6789입니다.\n",
      "var_i를 20자리로 가운데 정렬하여 소수점 3자리까지,      12345.679      입니다.\n",
      "var_i를 10자리 왼쪽 정렬하여 정수만 출력하면, 12346     입니다.\n"
     ]
    }
   ],
   "source": [
    "var_s = 12345\n",
    "var_i = 12345.67890\n",
    "\n",
    "print(f'var_s는 정수형이므로 d를 사용하여야 하고, {var_s:d}입니다.')\n",
    "\n",
    "print(f'var_s를 10자리로 오른쪽 정렬하여 표현하면, {var_s:>10d}입니다.')\n",
    "\n",
    "print(f'var_i는 실수형이므므로 f를 사용하여야 하고, {var_i:f}입니다.')\n",
    "\n",
    "print(f'var_i를 20자리에 오른쪽 정렬하여 소수점 2자리까지 출력하면, {var_i:>20.2f}입니다.')\n",
    "\n",
    "print(f'var_i를 20자리에 소수점 4자리까지 출력하면, {var_i:20.4f}입니다.')\n",
    "\n",
    "print(f'var_i를 20자리로 가운데 정렬하여 소수점 3자리까지, {var_i:^20.3f}입니다.')\n",
    "\n",
    "print(f'var_i를 10자리 왼쪽 정렬하여 정수만 출력하면, {var_i:<10.0f}입니다.')"
   ]
  }
 ],
 "metadata": {
  "kernelspec": {
   "display_name": "base",
   "language": "python",
   "name": "python3"
  },
  "language_info": {
   "codemirror_mode": {
    "name": "ipython",
    "version": 3
   },
   "file_extension": ".py",
   "mimetype": "text/x-python",
   "name": "python",
   "nbconvert_exporter": "python",
   "pygments_lexer": "ipython3",
   "version": "3.12.8"
  }
 },
 "nbformat": 4,
 "nbformat_minor": 2
}
