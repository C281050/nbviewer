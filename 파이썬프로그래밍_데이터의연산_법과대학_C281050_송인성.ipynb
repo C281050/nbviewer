{
 "cells": [
  {
   "cell_type": "markdown",
   "metadata": {},
   "source": [
    "# **데이터의 연산**\n",
    "## **연산자**\n",
    "- **연산자(operator)**는 *데이터를 처리하는 기호*로, **연산(operation)**을 수행하는 기능을 가지고 있음\n"
   ]
  },
  {
   "cell_type": "markdown",
   "metadata": {},
   "source": [
    "## **연산**\n",
    "- **연산(operation)**이란 *연산자를 이용하여 데이터를 처리하는 것*\n",
    "### **산술 연산**\n",
    "- **산술연산자(Arithmetic Operator)**는 숫자 데이터를 처리하는 연산자로서 *값을 반환*\n",
    "    - +: 덧셈, -: 뺼셈, *: 곱셉, /:나눗셈\n",
    "    - //: 몫, %: 나머지\n",
    "    - **: 거듭제곱"
   ]
  },
  {
   "cell_type": "code",
   "execution_count": 1,
   "metadata": {},
   "outputs": [
    {
     "name": "stdout",
     "output_type": "stream",
     "text": [
      "2+3 = 5\n",
      "2.0+3 = 5.0\n",
      "2.0+3.0 = 5.0\n",
      "'2'+'3' = '23'\n",
      "unsupported operand type(s) for +: 'int' and 'str'\n"
     ]
    }
   ],
   "source": [
    "print(f'{2+3 = }')  # 정수 + 정수 = 정수\n",
    "print(f'{2.0+3 = }')  # 실수 + 정수 = 실수\n",
    "print(f'{2.0+3.0 = }')  # 실수 + 실수 = 실수\n",
    "print(f'{'2'+'3' = }')  # 문자열 + 문자열 = 문자열\n",
    "\n",
    "# 에러 발생\n",
    "try: \n",
    "    print(f'{2+'3' = }')  # 정수 + 문자열 = 에러\n",
    "except Exception as e:\n",
    "    print(e)"
   ]
  },
  {
   "cell_type": "code",
   "execution_count": 2,
   "metadata": {},
   "outputs": [
    {
     "name": "stdout",
     "output_type": "stream",
     "text": [
      "2-3 = -1\n",
      "2.0-3 = -1.0\n",
      "2.0-3.0 = -1.0\n"
     ]
    }
   ],
   "source": [
    "print(f'{2-3 = }')  # 정수 - 정수 = 정수\n",
    "print(f'{2.0-3 = }')  # 실수 - 정수 = 실수\n",
    "print(f'{2.0-3.0 = }')  # 실수 - 실수 = 실수"
   ]
  },
  {
   "cell_type": "code",
   "execution_count": 3,
   "metadata": {},
   "outputs": [
    {
     "name": "stdout",
     "output_type": "stream",
     "text": [
      "2*3 = 6\n",
      "2.0*3 = 6.0\n",
      "2.0*3.0 = 6.0\n"
     ]
    }
   ],
   "source": [
    "print(f'{2*3 = }')  # 정수 * 정수 = 정수    \n",
    "print(f'{2.0*3 = }') # 실수 * 정수 = 실수\n",
    "print(f'{2.0*3.0 = }') # 실수 * 실수 = 실수"
   ]
  },
  {
   "cell_type": "code",
   "execution_count": 4,
   "metadata": {},
   "outputs": [
    {
     "name": "stdout",
     "output_type": "stream",
     "text": [
      "2/3 = 0.6666666666666666\n",
      "2.0/3 = 0.6666666666666666\n",
      "2.0/3.0 = 0.6666666666666666\n"
     ]
    }
   ],
   "source": [
    "print(f'{2/3 = }')  # 정수 / 정수 = 실수\n",
    "print(f'{2.0/3 = }')  # 실수 / 정수 = 실수\n",
    "print(f'{2.0/3.0 = }') # 실수 / 실수 = 실수"
   ]
  },
  {
   "cell_type": "code",
   "execution_count": 5,
   "metadata": {},
   "outputs": [
    {
     "name": "stdout",
     "output_type": "stream",
     "text": [
      "20//3 = 6\n",
      "20%3 = 2\n"
     ]
    }
   ],
   "source": [
    "# 몫\n",
    "print(f'{20//3 = }')\n",
    "\n",
    "\n",
    "# 나머지\n",
    "print(f'{20%3 = }')"
   ]
  },
  {
   "cell_type": "code",
   "execution_count": 6,
   "metadata": {},
   "outputs": [
    {
     "name": "stdout",
     "output_type": "stream",
     "text": [
      "2**3 = 8\n"
     ]
    }
   ],
   "source": [
    "# 거듭제곱\n",
    "print(f'{2**3 = }')"
   ]
  },
  {
   "cell_type": "code",
   "execution_count": 7,
   "metadata": {},
   "outputs": [
    {
     "name": "stdout",
     "output_type": "stream",
     "text": [
      "var_x + var_x = 'abcabc'\n",
      "var_y + var_y = [100, 2, 3, 100, 2, 3]\n",
      "var_x * 3 = 'abcabcabc'\n",
      "var_y * 3 = [100, 2, 3, 100, 2, 3, 100, 2, 3]\n"
     ]
    }
   ],
   "source": [
    "var_x = 'abc'\n",
    "var_y = [100, 2, 3]\n",
    "\n",
    "# 문자열과 문자열의 합\n",
    "print(f'{var_x + var_x = }')\n",
    "\n",
    "# 리스트와 리스트의 합\n",
    "print(f'{var_y + var_y = }')\n",
    "\n",
    "# 문자열과 정수의 곱\n",
    "print(f'{var_x * 3 = }')\n",
    "\n",
    "# 리스트와 정수의 곱\n",
    "print(f'{var_y * 3 = }')\n"
   ]
  },
  {
   "cell_type": "markdown",
   "metadata": {},
   "source": [
    "### **비교 연산**\n",
    "- **관계연산자(relational operator)**는 두 개의 피연산자를 비교하여 관계를 확인하는 연산자로서 *True 또는 False를 반환*\n",
    "    - ==: 같다, !=: 같지 않다\n",
    "    - <, >: 작다, 크다\n",
    "    - <=, >=: 작거나 같다, 크거나 같다"
   ]
  },
  {
   "cell_type": "code",
   "execution_count": 8,
   "metadata": {},
   "outputs": [
    {
     "name": "stdout",
     "output_type": "stream",
     "text": [
      "2==3 = False\n",
      "(2!=3) = True\n",
      "2>3 = False\n",
      "2<3 = True\n",
      "2>=3 = False\n",
      "2<=3 = True\n"
     ]
    }
   ],
   "source": [
    "print(f'{2==3 = }')\n",
    "print(f'{(2!=3) = }')\n",
    "print(f'{2>3 = }')\n",
    "print(f'{2<3 = }')\n",
    "print(f'{2>=3 = }')\n",
    "print(f'{2<=3 = }')"
   ]
  },
  {
   "cell_type": "code",
   "execution_count": 9,
   "metadata": {},
   "outputs": [
    {
     "name": "stdout",
     "output_type": "stream",
     "text": [
      "(var_y == [1,2,3]) = True\n",
      "(var_y == (1,2,3)) = False\n",
      "(var_y == [1,2,]) = False\n",
      "(var_y != [1,2,]) = True\n",
      "(var_y > [1,2]) = True\n",
      "(var_y < [1,2]) = False\n"
     ]
    }
   ],
   "source": [
    "# 변수 var_y에 리스트 [1,2,3]을 할당\n",
    "var_y = [1,2,3]\n",
    "\n",
    "print(f'{(var_y == [1,2,3]) = }')  # var_y와 [1,2,3]이 같은지 비교\n",
    "print(f'{(var_y == (1,2,3)) = }')  # var_y와 (1,2,3)이 같은지 비교\n",
    "print(f'{(var_y == [1,2,]) = }')  # var_y와 [1,2]가 같은지 비교\n",
    "print(f'{(var_y != [1,2,]) = }')  # var_y와 [1,2]가 다른지 비교\n",
    "print(f'{(var_y > [1,2]) = }')  # var_y가 [1,2]보다 큰지 비교\n",
    "print(f'{(var_y < [1,2]) = }')  # var_y가 [1,2]보다 작은지 비교"
   ]
  },
  {
   "cell_type": "markdown",
   "metadata": {},
   "source": [
    "### **논리 연산**\n",
    "- **논리연산자(logical operators)**는 논리적인 명제를 판단하는 연산자로서 *True 또는 False를 반환*\n",
    "    - and: 논리곱, 둘 다 참일 때만 참\n",
    "    - or: 논리합, 둘 중 하나만 참이어도 참\n",
    "    - not: 논리부정, 참이면 거짓, 거짓이면 참"
   ]
  },
  {
   "cell_type": "code",
   "execution_count": 10,
   "metadata": {},
   "outputs": [
    {
     "data": {
      "text/plain": [
       "True"
      ]
     },
     "execution_count": 10,
     "metadata": {},
     "output_type": "execute_result"
    }
   ],
   "source": [
    "# True와 True를 and 연산\n",
    "True and True"
   ]
  },
  {
   "cell_type": "code",
   "execution_count": 11,
   "metadata": {},
   "outputs": [
    {
     "name": "stdout",
     "output_type": "stream",
     "text": [
      "var_y = False\n",
      "(var_x and var_y) = False\n",
      "(var_x or var_y) = True\n",
      "(not var_x) = False\n"
     ]
    }
   ],
   "source": [
    "# 변수 var_x에 불리언 True를 할당\n",
    "var_x = True\n",
    "\n",
    "# 변수 var_y에 10 < 20의 결과를 할당\n",
    "var_y = (10>20)\n",
    "\n",
    "print(f'{var_y = }')  # var_y의 값을 출력\n",
    "print(f'{(var_x and var_y) = }')  # var_x와 var_y의 논리곱을 출력\n",
    "print(f'{(var_x or var_y) = }')  # var_x와 var_y의 논리합을 출력\n",
    "print(f'{(not var_x) = }')  # var_x의 논리부정을 출력"
   ]
  },
  {
   "cell_type": "code",
   "execution_count": 12,
   "metadata": {},
   "outputs": [
    {
     "name": "stdout",
     "output_type": "stream",
     "text": [
      "(2==3) and (2!=3) = False\n"
     ]
    }
   ],
   "source": [
    "# 관계연산자와 논리연산자를 함께 사용\n",
    "print(f'{(2==3) and (2!=3) = }')"
   ]
  },
  {
   "cell_type": "markdown",
   "metadata": {},
   "source": [
    "### **멤버십 연산**\n",
    "- **멤버십 연산자(Membership Operators)**는 데이터가 특정 데이터 집합에 포함되어 있는지를 확인하는 연산자로서 *True 또는 False를 반환*\n",
    "    - in: 포함되어 있으면 참\n",
    "    - not in: 포함되어 있지 않으면 참"
   ]
  },
  {
   "cell_type": "code",
   "execution_count": 13,
   "metadata": {},
   "outputs": [
    {
     "name": "stdout",
     "output_type": "stream",
     "text": [
      "(1 in var_y) = True\n",
      "('1' in var_y) = False\n",
      "(4 in var_y) = False\n",
      "(1 not in var_y) = False\n",
      "(4 not in var_y) = True\n"
     ]
    }
   ],
   "source": [
    "# 변수 var_y에 리스트 [1,2,3]을 할당\n",
    "var_y = [1,2,3]\n",
    "\n",
    "print(f'{(1 in var_y) = }') # 1이 var_y에 포함되어 있는지 확인\n",
    "print(f'{('1' in var_y) = }') # 문자열 1이 var_y에 포함되어 있는지 확인\n",
    "print(f'{(4 in var_y) = }') # 4가가 var_y에 포함되어 있는지 확인\n",
    "print(f'{(1 not in var_y) = }') # 1이 var_y에 포함되어 있지 않은지 확인\n",
    "print(f'{(4 not in var_y) = }') # 4가가 var_y에 포함되어 있지 않은지지 확인"
   ]
  },
  {
   "cell_type": "markdown",
   "metadata": {},
   "source": [
    "### **식별 연산**\n",
    "- **식별 연산자(Identity Operators)**는 두 개의 데이터가 동일한 객체인지(동일한 주소를 갖는지)를 확인하는 연산자로서 *True 또는 False를 반환*\n",
    "    - is: 동일한 객체이면 참\n",
    "    - is not: 동일한 객체가 아니면 참\n"
   ]
  },
  {
   "cell_type": "code",
   "execution_count": 14,
   "metadata": {},
   "outputs": [
    {
     "name": "stdout",
     "output_type": "stream",
     "text": [
      "(var_x == 10) = True\n",
      "(var_x is 10) = True\n"
     ]
    },
    {
     "name": "stderr",
     "output_type": "stream",
     "text": [
      "<>:8: SyntaxWarning: \"is\" with 'int' literal. Did you mean \"==\"?\n",
      "<>:8: SyntaxWarning: \"is\" with 'int' literal. Did you mean \"==\"?\n",
      "C:\\Users\\송인성\\AppData\\Local\\Temp\\ipykernel_12436\\1459642717.py:8: SyntaxWarning: \"is\" with 'int' literal. Did you mean \"==\"?\n",
      "  print(f'{(var_x is 10) = }')\n"
     ]
    }
   ],
   "source": [
    "# 변수 var_x에 정수 10을 할당\n",
    "var_x = 10\n",
    "\n",
    "# var_x가 10과 값이 같은 지 확인\n",
    "print(f'{(var_x == 10) = }')\n",
    "\n",
    "# var_x가 10과 주소가 같은지 확인 -> 경고 발생\n",
    "print(f'{(var_x is 10) = }')"
   ]
  },
  {
   "cell_type": "code",
   "execution_count": 15,
   "metadata": {},
   "outputs": [
    {
     "name": "stdout",
     "output_type": "stream",
     "text": [
      "(var_x is var_y) = False\n",
      "(var_x is var_z) = True\n",
      "(var_x is not var_y) = True\n",
      "(var_x is not var_z) = False\n"
     ]
    }
   ],
   "source": [
    "var_x = 10  # 변수 var_x에 정수 10을 할당\n",
    "var_y = 10.0  # 변수 var_y에 실수 10.0을 할당\n",
    "var_z = var_x  # 변수 var_z에 var_x를 할당\n",
    "\n",
    "print(f'{(var_x is var_y) = }')  # var_x와 var_y의 주소가 같은지 확인\n",
    "print(f'{(var_x is var_z) = }')  # var_x와 var_z의 주소가 같은지 확인\n",
    "print(f'{(var_x is not var_y) = }')  # var_x와 var_y의 주소가 다른지 확인\n",
    "print(f'{(var_x is not var_z) = }')  # var_x와 var_z의 주소가 다른지 확인"
   ]
  },
  {
   "cell_type": "markdown",
   "metadata": {},
   "source": [
    "### **복합 대입 연산**\n",
    "- **복합 대입 연산자(Compound Assignment Operators)**는 연산과 대입을 동시에 수행하는 연산자\n",
    "    - x += a: x = x + a\n",
    "    - x -+ a: x = x - a\n",
    "    - x *= a: x = x * a\n",
    "    - x /= a: x = x / a\n",
    "    - x //= a: x = x // a\n",
    "    - x %= a: x = x % a \n",
    "    - x **= a: x = x ** a"
   ]
  },
  {
   "cell_type": "code",
   "execution_count": 16,
   "metadata": {},
   "outputs": [
    {
     "name": "stdout",
     "output_type": "stream",
     "text": [
      "2\n"
     ]
    }
   ],
   "source": [
    "var_x = 1\n",
    "\n",
    "# var_x = var_x + 1\n",
    "var_x += 1\n",
    "\n",
    "print(var_x)"
   ]
  },
  {
   "cell_type": "code",
   "execution_count": 17,
   "metadata": {},
   "outputs": [
    {
     "name": "stdout",
     "output_type": "stream",
     "text": [
      "11\n",
      "1\n",
      "10\n",
      "1.0\n",
      "0.0\n",
      "0.0\n",
      "0.0\n"
     ]
    }
   ],
   "source": [
    "var_x = 1\n",
    "\n",
    "# ; 세미콜론으로 한 줄에 여러 개의 명령어를 작성 가능\n",
    "var_x += 10; print(var_x)  # 더하기\n",
    "var_x -= 10; print(var_x)  # 빼기\n",
    "var_x *= 10; print(var_x)  # 곱하기\n",
    "var_x /= 10; print(var_x)  # 나누기\n",
    "var_x //= 10; print(var_x)  # 몫\n",
    "var_x %= 10; print(var_x)  # 나머지\n",
    "var_x **= 10; print(var_x)  # 거듭제곱"
   ]
  },
  {
   "cell_type": "markdown",
   "metadata": {},
   "source": [
    "## **연산의 중첩**\n",
    "### **연산의 우선순위**\n",
    "- 연산자 우선순위는 수학에서와 동일\n",
    "    - (), **, *, /, //, %, +, -, ==, !=, >, <, >=, <=, not, and, or"
   ]
  },
  {
   "cell_type": "code",
   "execution_count": 18,
   "metadata": {},
   "outputs": [
    {
     "name": "stdout",
     "output_type": "stream",
     "text": [
      "13\n",
      "256\n",
      "True\n",
      "False\n",
      "False\n"
     ]
    }
   ],
   "source": [
    "print(2**3+5)  # 2의 3제곱에 5를 더한 결과를 출력\n",
    "print(2**(3+5))  # 2의 3+5제곱을 출력\n",
    "print(2+3<=4*5)  # 2+3이 4*5보다 작거나 같은지를 출력\n",
    "print(not 2+3<=4*5)  # 2+3이 4*5보다 작거나 같지 않은지를 출력\n",
    "print(not ((2+3)<=(4*5)))  # 2+3이 4*5보다 작거나 같지 않은지를 출력"
   ]
  },
  {
   "cell_type": "markdown",
   "metadata": {},
   "source": [
    "## **응용**"
   ]
  },
  {
   "cell_type": "markdown",
   "metadata": {},
   "source": [
    "### 연산자\n",
    "#### 연산\n",
    "##### 산술 연산"
   ]
  },
  {
   "cell_type": "code",
   "execution_count": 19,
   "metadata": {},
   "outputs": [
    {
     "name": "stdout",
     "output_type": "stream",
     "text": [
      "8+7 = 15\n",
      "8-7 = 1\n",
      "8*7 = 56\n",
      "8/7 = 1.1428571428571428\n",
      "8//7 = 1\n",
      "8%7 = 1\n",
      "8**7 = 2097152\n"
     ]
    }
   ],
   "source": [
    "print(f'{8+7 = }')  # 정수 + 정수 = 정수\n",
    "\n",
    "print(f'{8-7 = }')  # 정수 - 정수 = 정수\n",
    "\n",
    "print(f'{8*7 = }')  # 정수 * 정수 = 정수\n",
    "\n",
    "print(f'{8/7 = }')  # 정수 / 정수 = 실수\n",
    "\n",
    "print(f'{8//7 = }')  # 정수 // 정수 = 정수\n",
    "\n",
    "print(f'{8%7 = }')  # 정수 % 정수 = 정수\n",
    "\n",
    "print(f'{8**7 = }')  # 정수**정수 = 정수"
   ]
  },
  {
   "cell_type": "code",
   "execution_count": 20,
   "metadata": {},
   "outputs": [
    {
     "name": "stdout",
     "output_type": "stream",
     "text": [
      "8.0+7 = 15.0\n",
      "8.0-7 = 1.0\n",
      "8.0*7 = 56.0\n",
      "8.0/7 = 1.1428571428571428\n",
      "8.0//7 = 1.0\n",
      "8.0%7 = 1.0\n",
      "8.0**7 = 2097152.0\n",
      "8**7.0 = 2097152.0\n"
     ]
    }
   ],
   "source": [
    "\n",
    "print(f'{8.0+7 = }')  # 실수 + 정수 = 실수\n",
    "\n",
    "print(f'{8.0-7 = }')  # 실수 - 정수 = 실수\n",
    "\n",
    "print(f'{8.0*7 = }')  # 실수 * 정수 = 실수\n",
    "\n",
    "print(f'{8.0/7 = }')  # 실수 / 정수 = 실수\n",
    "\n",
    "print(f'{8.0//7 = }')  # 실수 // 정수 = 정수\n",
    "\n",
    "print(f'{8.0%7 = }')  # 실수 % 정수 = 실수\n",
    "\n",
    "print(f'{8.0**7 = }')  # 실수**정수 = 실수\n",
    "\n",
    "print(f'{8**7.0 = }')  # 정수**실수 = 실수"
   ]
  },
  {
   "cell_type": "code",
   "execution_count": 21,
   "metadata": {},
   "outputs": [
    {
     "name": "stdout",
     "output_type": "stream",
     "text": [
      "8.0+7.0 = 15.0\n",
      "8.0-7.0 = 1.0\n",
      "8.0*7.0 = 56.0\n",
      "8.0/7.0 = 1.1428571428571428\n",
      "8.0//7.0 = 1.0\n",
      "8.0%7.0 = 1.0\n",
      "8.0**7.0 = 2097152.0\n"
     ]
    }
   ],
   "source": [
    "\n",
    "print(f'{8.0+7.0 = }')  # 실수 + 실수 = 실수\n",
    "\n",
    "print(f'{8.0-7.0 = }')  # 실수 - 실수 = 실수\n",
    "\n",
    "print(f'{8.0*7.0 = }')  # 실수 * 실수 = 실수\n",
    "\n",
    "print(f'{8.0/7.0 = }')  # 실수 / 실수 = 실수\n",
    "\n",
    "print(f'{8.0//7.0 = }')  # 실수 // 실수 = 실수\n",
    "\n",
    "print(f'{8.0%7.0 = }')  # 실수 % 실수 = 실수\n",
    "\n",
    "print(f'{8.0**7.0 = }')  # 실수**실수 = 실수"
   ]
  },
  {
   "cell_type": "code",
   "execution_count": 22,
   "metadata": {},
   "outputs": [
    {
     "name": "stdout",
     "output_type": "stream",
     "text": [
      "var_s + var_s = '송인성송인성'\n",
      "Error: can only concatenate str (not \"int\") to str\n",
      "Error: can only concatenate str (not \"tuple\") to str\n",
      "Error: can only concatenate str (not \"list\") to str\n",
      "Error: can only concatenate str (not \"set\") to str\n"
     ]
    }
   ],
   "source": [
    "var_s = '송인성'\n",
    "int_s = 123\n",
    "tuple_s = (2003, 8, 7)\n",
    "list_s = [2003, 7,16]\n",
    "set_s = {'홍익대학교',22,'법학부'}\n",
    "\n",
    "# 문자열과 문자열의 합\n",
    "print(f'{var_s + var_s = }')\n",
    "\n",
    "# 문자열과 정수의 합  \n",
    "try:\n",
    "    print(f'{var_s + int_s = }')\n",
    "except TypeError as e:  # 문자열과 정수는 계산할 수 없으므로 에러 발생\n",
    "    print(f'Error: {e}')\n",
    "\n",
    "# 문자열과 튜플의 합\n",
    "try:\n",
    "    print(f'{var_s + tuple_s = }')\n",
    "except TypeError as e:  # 문자열과 튜플은 합칠 수 없으므로 에러 발생\n",
    "    print(f'Error: {e}')\n",
    "\n",
    "\n",
    "# 문자열과 리스트의 합\n",
    "try:\n",
    "    print(f'{var_s + list_s = }')\n",
    "except TypeError as e:  #문자열과 리스트는 계산할 수 없음 에러 발생\n",
    "    print(f'Error: {e}')\n",
    "\n",
    "# 문자열과 집합의 합\n",
    "try:\n",
    "    print(f'{var_s + set_s = }', end= '\\n'+'-'*30+'\\n')\n",
    "except TypeError as e:  # 문자열과 집합도 계산할 수 없으므로 에러 발생\n",
    "    print(f'Error: {e}')"
   ]
  },
  {
   "cell_type": "code",
   "execution_count": 23,
   "metadata": {},
   "outputs": [
    {
     "name": "stdout",
     "output_type": "stream",
     "text": [
      "int_s + int_s = 246\n",
      "Error: unsupported operand type(s) for +: 'int' and 'tuple'\n",
      "Error: unsupported operand type(s) for +: 'int' and 'list'\n",
      "Error: unsupported operand type(s) for +: 'int' and 'set'\n"
     ]
    }
   ],
   "source": [
    "# 정수와 정수의 합\n",
    "print(f'{int_s + int_s = }')\n",
    "\n",
    "# 정수와 튜플의 합\n",
    "try:\n",
    "    print(f'{int_s + tuple_s = }')\n",
    "except TypeError as e:  # 에러 발생\n",
    "    print(f'Error: {e}')\n",
    "\n",
    "# 정수와 리스트의 합\n",
    "try:\n",
    "    print(f'{int_s + list_s = }')\n",
    "except TypeError as e:  # 에러 발생\n",
    "    print(f'Error: {e}')\n",
    "\n",
    "# 정수와 집합의 합\n",
    "try:\n",
    "    print(f'{int_s + set_s = }', end= '\\n'+'-'*30+'\\n')\n",
    "except TypeError as e:  # 정수는 정수만 합할 수 있음 에러 발생\n",
    "    print(f'Error: {e}')"
   ]
  },
  {
   "cell_type": "code",
   "execution_count": 24,
   "metadata": {},
   "outputs": [
    {
     "name": "stdout",
     "output_type": "stream",
     "text": [
      "tuple_s + tuple_s = (2003, 8, 7, 2003, 8, 7)\n",
      "Error: can only concatenate tuple (not \"list\") to tuple\n",
      "Error: can only concatenate tuple (not \"set\") to tuple\n",
      "------------------------------\n",
      "list_s + list_s = [2003, 7, 16, 2003, 7, 16]\n",
      "Error: can only concatenate list (not \"set\") to list\n"
     ]
    }
   ],
   "source": [
    "# 튜플과 튜플의 합\n",
    "print(f'{tuple_s + tuple_s = }')\n",
    "\n",
    "# 튜플과 리스트의 합\n",
    "try:\n",
    "    print(f'{tuple_s + list_s = }')\n",
    "except TypeError as e:  # 에러 발생\n",
    "    print(f'Error: {e}')\n",
    "\n",
    "# 튜플과 집합의 합\n",
    "try:\n",
    "    print(f'{tuple_s + set_s = }', end= '\\n'+'-'*30+'\\n')\n",
    "except TypeError as e:  # 튜플은 튜플만 합할 수 있음 에러 발생\n",
    "    print(f'Error: {e}', end= '\\n'+'-'*30+'\\n')\n",
    "\n",
    "\n",
    "# 리스트와 리스트의 합\n",
    "print(f'{list_s + list_s = }')\n",
    "\n",
    "# 리스트와 집합의 합\n",
    "try:\n",
    "    print(f'{list_s + set_s = }')\n",
    "except TypeError as e:  # 리스트는 리스트만 합할 수 있으므로 에러 발생\n",
    "    print(f'Error: {e}')\n"
   ]
  },
  {
   "cell_type": "code",
   "execution_count": 25,
   "metadata": {},
   "outputs": [
    {
     "name": "stdout",
     "output_type": "stream",
     "text": [
      "Error: can't multiply sequence by non-int of type 'str'\n",
      "var_s * int_s = '송인성송인성송인성송인성송인성송인성송인성송인성송인성송인성송인성송인성송인성송인성송인성송인성송인성송인성송인성송인성송인성송인성송인성송인성송인성송인성송인성송인성송인성송인성송인성송인성송인성송인성송인성송인성송인성송인성송인성송인성송인성송인성송인성송인성송인성송인성송인성송인성송인성송인성송인성송인성송인성송인성송인성송인성송인성송인성송인성송인성송인성송인성송인성송인성송인성송인성송인성송인성송인성송인성송인성송인성송인성송인성송인성송인성송인성송인성송인성송인성송인성송인성송인성송인성송인성송인성송인성송인성송인성송인성송인성송인성송인성송인성송인성송인성송인성송인성송인성송인성송인성송인성송인성송인성송인성송인성송인성송인성송인성송인성송인성송인성송인성송인성송인성송인성송인성송인성송인성송인성송인성송인성송인성'\n",
      "Error: can't multiply sequence by non-int of type 'tuple'\n",
      "Error: can't multiply sequence by non-int of type 'list'\n",
      "Error: can't multiply sequence by non-int of type 'set'\n"
     ]
    }
   ],
   "source": [
    "# 문자열과 문자열의 곱\n",
    "try:\n",
    "    print(f'{var_s * var_s = }')\n",
    "except TypeError as e:  # 문자열은 서로 곱할 수 없음\n",
    "    print(f'Error: {e}')\n",
    "\n",
    "# 문자열과 정수의 곱  \n",
    "print(f'{var_s * int_s = }')\n",
    "\n",
    "# 문자열과 튜플의 곱\n",
    "try:\n",
    "    print(f'{var_s * tuple_s = }')\n",
    "except TypeError as e:  # 정수만 곱할 수 있으므로 에러 발생\n",
    "    print(f'Error: {e}')\n",
    "\n",
    "# 문자열과 리스트의 곱\n",
    "try:\n",
    "    print(f'{var_s * list_s = }')\n",
    "except TypeError as e:  # 에러 발생\n",
    "    print(f'Error: {e}')\n",
    "\n",
    "# 문자열과 집합의 곱\n",
    "try:\n",
    "    print(f'{var_s * set_s = }', end= '\\n'+'-'*30+'\\n')\n",
    "except TypeError as e:  # 에러 발생\n",
    "    print(f'Error: {e}')"
   ]
  },
  {
   "cell_type": "code",
   "execution_count": 26,
   "metadata": {},
   "outputs": [
    {
     "name": "stdout",
     "output_type": "stream",
     "text": [
      "int_s * int_s = 15129\n",
      "int_s * tuple_s = (2003, 8, 7, 2003, 8, 7, 2003, 8, 7, 2003, 8, 7, 2003, 8, 7, 2003, 8, 7, 2003, 8, 7, 2003, 8, 7, 2003, 8, 7, 2003, 8, 7, 2003, 8, 7, 2003, 8, 7, 2003, 8, 7, 2003, 8, 7, 2003, 8, 7, 2003, 8, 7, 2003, 8, 7, 2003, 8, 7, 2003, 8, 7, 2003, 8, 7, 2003, 8, 7, 2003, 8, 7, 2003, 8, 7, 2003, 8, 7, 2003, 8, 7, 2003, 8, 7, 2003, 8, 7, 2003, 8, 7, 2003, 8, 7, 2003, 8, 7, 2003, 8, 7, 2003, 8, 7, 2003, 8, 7, 2003, 8, 7, 2003, 8, 7, 2003, 8, 7, 2003, 8, 7, 2003, 8, 7, 2003, 8, 7, 2003, 8, 7, 2003, 8, 7, 2003, 8, 7, 2003, 8, 7, 2003, 8, 7, 2003, 8, 7, 2003, 8, 7, 2003, 8, 7, 2003, 8, 7, 2003, 8, 7, 2003, 8, 7, 2003, 8, 7, 2003, 8, 7, 2003, 8, 7, 2003, 8, 7, 2003, 8, 7, 2003, 8, 7, 2003, 8, 7, 2003, 8, 7, 2003, 8, 7, 2003, 8, 7, 2003, 8, 7, 2003, 8, 7, 2003, 8, 7, 2003, 8, 7, 2003, 8, 7, 2003, 8, 7, 2003, 8, 7, 2003, 8, 7, 2003, 8, 7, 2003, 8, 7, 2003, 8, 7, 2003, 8, 7, 2003, 8, 7, 2003, 8, 7, 2003, 8, 7, 2003, 8, 7, 2003, 8, 7, 2003, 8, 7, 2003, 8, 7, 2003, 8, 7, 2003, 8, 7, 2003, 8, 7, 2003, 8, 7, 2003, 8, 7, 2003, 8, 7, 2003, 8, 7, 2003, 8, 7, 2003, 8, 7, 2003, 8, 7, 2003, 8, 7, 2003, 8, 7, 2003, 8, 7, 2003, 8, 7, 2003, 8, 7, 2003, 8, 7, 2003, 8, 7, 2003, 8, 7, 2003, 8, 7, 2003, 8, 7, 2003, 8, 7, 2003, 8, 7, 2003, 8, 7, 2003, 8, 7, 2003, 8, 7, 2003, 8, 7, 2003, 8, 7, 2003, 8, 7, 2003, 8, 7, 2003, 8, 7, 2003, 8, 7, 2003, 8, 7, 2003, 8, 7, 2003, 8, 7, 2003, 8, 7, 2003, 8, 7, 2003, 8, 7, 2003, 8, 7, 2003, 8, 7, 2003, 8, 7, 2003, 8, 7, 2003, 8, 7, 2003, 8, 7, 2003, 8, 7)\n",
      "int_s * list_s = [2003, 7, 16, 2003, 7, 16, 2003, 7, 16, 2003, 7, 16, 2003, 7, 16, 2003, 7, 16, 2003, 7, 16, 2003, 7, 16, 2003, 7, 16, 2003, 7, 16, 2003, 7, 16, 2003, 7, 16, 2003, 7, 16, 2003, 7, 16, 2003, 7, 16, 2003, 7, 16, 2003, 7, 16, 2003, 7, 16, 2003, 7, 16, 2003, 7, 16, 2003, 7, 16, 2003, 7, 16, 2003, 7, 16, 2003, 7, 16, 2003, 7, 16, 2003, 7, 16, 2003, 7, 16, 2003, 7, 16, 2003, 7, 16, 2003, 7, 16, 2003, 7, 16, 2003, 7, 16, 2003, 7, 16, 2003, 7, 16, 2003, 7, 16, 2003, 7, 16, 2003, 7, 16, 2003, 7, 16, 2003, 7, 16, 2003, 7, 16, 2003, 7, 16, 2003, 7, 16, 2003, 7, 16, 2003, 7, 16, 2003, 7, 16, 2003, 7, 16, 2003, 7, 16, 2003, 7, 16, 2003, 7, 16, 2003, 7, 16, 2003, 7, 16, 2003, 7, 16, 2003, 7, 16, 2003, 7, 16, 2003, 7, 16, 2003, 7, 16, 2003, 7, 16, 2003, 7, 16, 2003, 7, 16, 2003, 7, 16, 2003, 7, 16, 2003, 7, 16, 2003, 7, 16, 2003, 7, 16, 2003, 7, 16, 2003, 7, 16, 2003, 7, 16, 2003, 7, 16, 2003, 7, 16, 2003, 7, 16, 2003, 7, 16, 2003, 7, 16, 2003, 7, 16, 2003, 7, 16, 2003, 7, 16, 2003, 7, 16, 2003, 7, 16, 2003, 7, 16, 2003, 7, 16, 2003, 7, 16, 2003, 7, 16, 2003, 7, 16, 2003, 7, 16, 2003, 7, 16, 2003, 7, 16, 2003, 7, 16, 2003, 7, 16, 2003, 7, 16, 2003, 7, 16, 2003, 7, 16, 2003, 7, 16, 2003, 7, 16, 2003, 7, 16, 2003, 7, 16, 2003, 7, 16, 2003, 7, 16, 2003, 7, 16, 2003, 7, 16, 2003, 7, 16, 2003, 7, 16, 2003, 7, 16, 2003, 7, 16, 2003, 7, 16, 2003, 7, 16, 2003, 7, 16, 2003, 7, 16, 2003, 7, 16, 2003, 7, 16, 2003, 7, 16, 2003, 7, 16, 2003, 7, 16, 2003, 7, 16, 2003, 7, 16, 2003, 7, 16, 2003, 7, 16, 2003, 7, 16, 2003, 7, 16, 2003, 7, 16, 2003, 7, 16, 2003, 7, 16, 2003, 7, 16, 2003, 7, 16, 2003, 7, 16]\n",
      "Error: unsupported operand type(s) for *: 'int' and 'set'\n"
     ]
    }
   ],
   "source": [
    "# 정수와 정수의 곱\n",
    "print(f'{int_s * int_s = }')\n",
    "\n",
    "# 정수와 튜플의 곱\n",
    "print(f'{int_s * tuple_s = }')\n",
    "\n",
    "# 정수와 리스트의 곱\n",
    "print(f'{int_s * list_s = }')\n",
    "\n",
    "# 정수와 집합의 곱\n",
    "try:\n",
    "    print(f'{int_s * set_s = }', end= '\\n'+'-'*30+'\\n')\n",
    "except TypeError as e:  # 정수와 집합은 곱할 수 없음음 에러 발생\n",
    "    print(f'Error: {e}')"
   ]
  },
  {
   "cell_type": "code",
   "execution_count": 27,
   "metadata": {},
   "outputs": [
    {
     "name": "stdout",
     "output_type": "stream",
     "text": [
      "Error: can't multiply sequence by non-int of type 'tuple'\n",
      "Error: can't multiply sequence by non-int of type 'list'\n",
      "Error: can't multiply sequence by non-int of type 'set'\n",
      "------------------------------\n",
      "Error: can't multiply sequence by non-int of type 'list'\n",
      "Error: can't multiply sequence by non-int of type 'set'\n"
     ]
    }
   ],
   "source": [
    "# 튜플과 튜플의 곱\n",
    "try:\n",
    "    print(f'{tuple_s * tuple_s = }')\n",
    "except TypeError as e:  # 에러 발생\n",
    "    print(f'Error: {e}')\n",
    "\n",
    "# 튜플과 리스트의 곱\n",
    "try:\n",
    "    print(f'{tuple_s * list_s = }')\n",
    "except TypeError as e:  # 에러 발생\n",
    "    print(f'Error: {e}')\n",
    "\n",
    "# 튜플과 집합의 곱\n",
    "try:\n",
    "    print(f'{tuple_s * set_s = }', end= '\\n'+'-'*30+'\\n')\n",
    "except TypeError as e:  # 에러 발생\n",
    "    print(f'Error: {e}', end= '\\n'+'-'*30+'\\n')\n",
    "\n",
    "\n",
    "# 리스트와 리스트의 곱\n",
    "try:\n",
    "    print(f'{list_s * list_s = }')\n",
    "except TypeError as e:  # 에러 발생\n",
    "    print(f'Error: {e}')\n",
    "\n",
    "# 리스트와 집합의 곱\n",
    "try:\n",
    "    print(f'{list_s * set_s = }')\n",
    "except TypeError as e:  # 에러 발생\n",
    "    print(f'Error: {e}')"
   ]
  },
  {
   "cell_type": "markdown",
   "metadata": {},
   "source": [
    "##### 비교 연산"
   ]
  },
  {
   "cell_type": "code",
   "execution_count": 28,
   "metadata": {},
   "outputs": [
    {
     "name": "stdout",
     "output_type": "stream",
     "text": [
      "var_s == tuple_s = False\n",
      "var_s == set_s = False\n",
      "(var_s != list_s) = True\n",
      "var_s > '홍익대학교' = False\n",
      "var_s > '민사' = True\n",
      "Error: '>' not supported between instances of 'str' and 'int'\n",
      "Error: '<' not supported between instances of 'str' and 'tuple'\n",
      "Error: '<' not supported between instances of 'str' and 'list'\n",
      "Error: '>' not supported between instances of 'str' and 'set'\n"
     ]
    }
   ],
   "source": [
    "var_s = '송인성'\n",
    "int_s = 123\n",
    "tuple_s = (2003, 8, 7)\n",
    "list_s = [2003, 7,16]\n",
    "set_s = {'홍익대학교',22,'법학부'}\n",
    "\n",
    "print(f'{var_s == tuple_s = }')  # var_s와 tuple_s가 같은지 비교\n",
    "print(f'{var_s == set_s = }')  # var_s와 set_s이 같은지 비교\n",
    "print(f'{(var_s != list_s) = }')   # var_s와 list_s가 다른지 비교\n",
    "print(f'{var_s > '홍익대학교' = }')  # var_s가 '홍익대학교'보다 큰지 비교\n",
    "print(f'{var_s > '민사' = }')  # var_s가 '민사'보다 큰지 비교\n",
    "\n",
    "try:\n",
    "    print(f'{var_s > int_s = }')  # var_s가 int_s보다 큰지 비교\n",
    "except TypeError as e:\n",
    "    print(f'Error: {e}')  # 문자열과 정수 간의 크기 비교가 불가능하므로 에러 발생\n",
    "\n",
    "try:\n",
    "    print(f'{var_s < tuple_s = }')  # var_s가 tuple_s보다 작은지 비교\n",
    "except TypeError as e:\n",
    "    print(f'Error: {e}')  # 문자열과 튜플플 간의 크기 비교가 불가능하므로 에러 발생\n",
    "\n",
    "try:\n",
    "    print(f'{var_s < list_s = }')  # var_s가 list_s보다 작은지 비교\n",
    "except TypeError as e:\n",
    "    print(f'Error: {e}')  # 문자열과 리스트트 간의 크기 비교가 불가능하므로 에러 발생\n",
    "\n",
    "try:\n",
    "    print(f'{var_s > set_s = }')  # var_s가 set_s보다 큰지 비교\n",
    "except TypeError as e:\n",
    "    print(f'Error: {e}')  # 문자열과 집합 간의 크기 비교가 불가능하므로 에러 발생"
   ]
  },
  {
   "cell_type": "code",
   "execution_count": 29,
   "metadata": {},
   "outputs": [
    {
     "name": "stdout",
     "output_type": "stream",
     "text": [
      "int_s >= 123 = True\n",
      "Error: '<' not supported between instances of 'int' and 'tuple'\n",
      "Error: '>=' not supported between instances of 'int' and 'list'\n",
      "Error: '>' not supported between instances of 'int' and 'set'\n"
     ]
    }
   ],
   "source": [
    "print(f'{int_s >= 123 = }')  # int_s가 123보다 크거나 같은지 비교\n",
    "\n",
    "try:\n",
    "    print(f'{int_s < (1, 2, 3)}')  # int_s가 (1, 2, 3)보다 크거나 같은지 비교\n",
    "except TypeError as e:\n",
    "    print(f'Error: {e}')  # 정수와 튜플 간의 크기 비교가 불가능하므로 에러 발생\n",
    "\n",
    "try:\n",
    "    print(f'{int_s >= [123, 1] = }')  # int_s가 [123, 1]보다 크거나 같은지 비교\n",
    "except TypeError as e:\n",
    "    print(f'Error: {e}')  # 정수와 리스트 간의 크기 비교가 불가능하므로 에러 발생\n",
    "\n",
    "try:\n",
    "    print(f'{int_s > set_s = }')  # int_s가 set_s보다 큰지 비교\n",
    "except TypeError as e:\n",
    "    print(f'Error: {e}')  # 정수와 집합 간의 크기 비교가 불가능하므로 에러 발생"
   ]
  },
  {
   "cell_type": "code",
   "execution_count": 30,
   "metadata": {},
   "outputs": [
    {
     "name": "stdout",
     "output_type": "stream",
     "text": [
      "tuple_s >= (2003, 8, 8) = False\n",
      "Error: '>' not supported between instances of 'tuple' and 'list'\n",
      "Error: '>' not supported between instances of 'tuple' and 'set'\n"
     ]
    }
   ],
   "source": [
    "print(f'{tuple_s >= (2003, 8, 8) = }')  # tuple_s가 (2003, 8, 8)보다 크거나 같은지 비교\n",
    "\n",
    "try:\n",
    "    print(f'{tuple_s > list_s = }')  # tuple_s가 list_s보다 큰지 비교\n",
    "except TypeError as e:\n",
    "    print(f'Error: {e}')  # 튜플과 리스트 간의 크기 비교가 불가능하므로 에러 발생\n",
    "\n",
    "try:\n",
    "    print(f'{tuple_s > set_s = }')  # tuple_s가 set_s보다 큰지 비교\n",
    "except TypeError as e:\n",
    "    print(f'Error: {e}')  # 튜플과 집합 간의 크기 비교가 불가능하므로 에러 발생  \n"
   ]
  },
  {
   "cell_type": "code",
   "execution_count": 31,
   "metadata": {},
   "outputs": [
    {
     "name": "stdout",
     "output_type": "stream",
     "text": [
      "list_s < [2003, 7, 17] = True\n",
      "set_s >= {'홍익대학교', 23, '법학부'} = False\n",
      "Error: '>' not supported between instances of 'list' and 'set'\n"
     ]
    }
   ],
   "source": [
    "print(f'{list_s < [2003, 7, 17] = }')  # list_s가 [2003, 7, 17]보다 작은지 비교\n",
    "\n",
    "print(f'{set_s >= {'홍익대학교', 23, '법학부'} = }')  # set_s가 {'홍익대학교', 23, '법학부'}보다 크거나 같은지 비교\n",
    "\n",
    "try:\n",
    "    print(f'{list_s > set_s = }')  # list_s가 set_s보다 큰지 비교\n",
    "except TypeError as e:\n",
    "    print(f'Error: {e}')  # 리스트와 집합 간의 크기 비교가 불가능하므로 에러 발생"
   ]
  },
  {
   "cell_type": "markdown",
   "metadata": {},
   "source": [
    "##### 논리 연산"
   ]
  },
  {
   "cell_type": "code",
   "execution_count": 32,
   "metadata": {},
   "outputs": [
    {
     "name": "stdout",
     "output_type": "stream",
     "text": [
      "var_s = False\n",
      "var_i = True\n",
      "(var_s and var_i) = False\n",
      "(var_s or var_i) = True\n",
      "(not var_s) = True\n",
      "(not var_i) = False\n"
     ]
    }
   ],
   "source": [
    "# 변수 var_s에 (10, 20, 30) < (1, 2, 3, 4, 5)의 결과를 할당\n",
    "var_s = (10, 20, 30) < (1, 2, 3, 4, 5)\n",
    "\n",
    "# 변수 var_i에 [1, 2, 3] > [10, 20, 30]의 결과를 할당\n",
    "var_i = [1, 2, 3] < [10, 20, 30]\n",
    "\n",
    "print(f'{var_s = }')  # var_s의 값을 출력\n",
    "print(f'{var_i = }') # var_i의 값을 출력\n",
    "print(f'{(var_s and var_i) = }')  # var_s와 var_i의 논리곱을 출력\n",
    "print(f'{(var_s or var_i) = }')  # var_s와 var_i의 논리합을 출력\n",
    "print(f'{(not var_s) = }')  # var_s의 논리부정을 출력\n",
    "print(f'{(not var_i) = }')  # var_i의 논리부정을 출력"
   ]
  },
  {
   "cell_type": "markdown",
   "metadata": {},
   "source": [
    "##### 멤버십 연산"
   ]
  },
  {
   "cell_type": "code",
   "execution_count": 33,
   "metadata": {},
   "outputs": [
    {
     "name": "stdout",
     "output_type": "stream",
     "text": [
      "('인' in var_s) = True\n",
      "((3) in tuple_s) = False\n",
      "([2003] not in list_s) = True\n",
      "({'민사법학회'} not in set_s) = True\n",
      "Error: argument of type 'int' is not iterable\n"
     ]
    }
   ],
   "source": [
    "var_s = '송인성'\n",
    "int_s = 123\n",
    "tuple_s = (2003, 8, 7)\n",
    "list_s = [2003, 7,16]\n",
    "set_s = {'홍익대학교',22,'법학부'}\n",
    "\n",
    "\n",
    "print(f'{('인' in var_s) = }')  # 문자열 인이 var_s에 포함되어 있는지 확인\n",
    "print(f'{((3) in tuple_s) = }')  # (3)이tuple_s에 포함되어 있는지 확인\n",
    "print(f'{([2003] not in list_s) = }')  # [2003]이 list_s에 포함되어 있지 않은지 확인\n",
    "print(f'{({'민사법학회'} not in set_s) = }')  # {'민사법학회}가 set_s에 포함되어 있지 않은지지 확인\n",
    "\n",
    "try:\n",
    "    print(f'{(4 in int_s) = }')  #  4가 int_s에 포함되어 있는지 확인\n",
    "except TypeError as e: \n",
    "    print(f'Error: {e}')  #에러 발생\n"
   ]
  },
  {
   "cell_type": "markdown",
   "metadata": {},
   "source": [
    "##### 식별 연산"
   ]
  },
  {
   "cell_type": "code",
   "execution_count": 34,
   "metadata": {},
   "outputs": [
    {
     "name": "stdout",
     "output_type": "stream",
     "text": [
      "(var_s is s) = True\n",
      "(int_s is not s) = True\n",
      "(tuple_s is s) = False\n",
      "(list_s is not s) = True\n",
      "(set_s is not s) = True\n"
     ]
    }
   ],
   "source": [
    "var_s = '송인성'\n",
    "int_s = 123\n",
    "tuple_s = (2003, 8, 7)\n",
    "list_s = [2003, 8, 7]\n",
    "set_s = {'송인성'}\n",
    "\n",
    "# 변수 s에 var_s를 할당\n",
    "s = var_s\n",
    "\n",
    "# var_s가 s와 주소가 같은지 확인\n",
    "print(f'{(var_s is s) = }') \n",
    "\n",
    "# int_s와 s의 주소가 다른지 확인\n",
    "print(f'{(int_s is not s) = }')\n",
    "\n",
    "# tuple_s와 s의 주소가 같은지 확인\n",
    "print(f'{(tuple_s is s) = }')\n",
    "\n",
    "# list_s와 s의 id가 다른지 확인\n",
    "print(f'{(list_s is not s) = }')\n",
    "\n",
    "# set_s와 s의 id가 다른지 확인\n",
    "print(f'{(set_s is not s) = }')"
   ]
  },
  {
   "cell_type": "code",
   "execution_count": 35,
   "metadata": {},
   "outputs": [
    {
     "name": "stdout",
     "output_type": "stream",
     "text": [
      "(int_s is tuple_s) = False\n",
      "(int_s is not list_s) = True\n",
      "(int_s is not set_s) = True\n",
      "(tuple_s is list_s) = False\n",
      "(tuple_s is set_s) = False\n",
      "(list_s is set_s) = False\n"
     ]
    }
   ],
   "source": [
    "# int_s와 tuple_s의 주소가 같은지 확인\n",
    "print(f'{(int_s is tuple_s) = }')\n",
    "\n",
    "# int_s와 list_s의 id가 다른지 확인\n",
    "print(f'{(int_s is not list_s) = }')\n",
    "\n",
    "# int_s와 set_s의 id가 다른지 확인\n",
    "print(f'{(int_s is not set_s) = }')\n",
    "\n",
    "# tuple_s와 list_s의 id가 같은지 확인\n",
    "print(f'{(tuple_s is list_s) = }')\n",
    "\n",
    "# tuple_s와 set_s의 id가 같은지 확인\n",
    "print(f'{(tuple_s is set_s) = }')\n",
    "\n",
    "# list_s와 set_s의 id가 같은지 확인\n",
    "print(f'{(list_s is set_s) = }')"
   ]
  },
  {
   "cell_type": "code",
   "execution_count": 36,
   "metadata": {},
   "outputs": [
    {
     "name": "stdout",
     "output_type": "stream",
     "text": [
      "(var_s is '송인성') = False\n",
      "(int_s is 123) = True\n",
      "(tuple_s is (2003, 8, 7)) = False\n",
      "(list_s is [2003, 8, 7]) = False\n",
      "(set_s is {'송인성'}) = False\n"
     ]
    },
    {
     "name": "stderr",
     "output_type": "stream",
     "text": [
      "<>:1: SyntaxWarning: \"is\" with 'str' literal. Did you mean \"==\"?\n",
      "<>:3: SyntaxWarning: \"is\" with 'int' literal. Did you mean \"==\"?\n",
      "<>:5: SyntaxWarning: \"is\" with 'tuple' literal. Did you mean \"==\"?\n",
      "<>:1: SyntaxWarning: \"is\" with 'str' literal. Did you mean \"==\"?\n",
      "<>:3: SyntaxWarning: \"is\" with 'int' literal. Did you mean \"==\"?\n",
      "<>:5: SyntaxWarning: \"is\" with 'tuple' literal. Did you mean \"==\"?\n",
      "C:\\Users\\송인성\\AppData\\Local\\Temp\\ipykernel_12436\\966792807.py:1: SyntaxWarning: \"is\" with 'str' literal. Did you mean \"==\"?\n",
      "  print(f'{(var_s is '송인성') = }')  # var_s가 '송인성'과 주소가 같은지 확인 -> 경고 발생\n",
      "C:\\Users\\송인성\\AppData\\Local\\Temp\\ipykernel_12436\\966792807.py:3: SyntaxWarning: \"is\" with 'int' literal. Did you mean \"==\"?\n",
      "  print(f'{(int_s is 123) = }')  # int_s가 123과 주소가 같은지 확인 -> 경고 발생\n",
      "C:\\Users\\송인성\\AppData\\Local\\Temp\\ipykernel_12436\\966792807.py:5: SyntaxWarning: \"is\" with 'tuple' literal. Did you mean \"==\"?\n",
      "  print(f'{(tuple_s is (2003, 8, 7)) = }')  # tuple_s가 (2003, 8, 7)과 주소가 같은지 확인 -> 경고 발생\n"
     ]
    }
   ],
   "source": [
    "print(f'{(var_s is '송인성') = }')  # var_s가 '송인성'과 주소가 같은지 확인 -> 경고 발생\n",
    "\n",
    "print(f'{(int_s is 123) = }')  # int_s가 123과 주소가 같은지 확인 -> 경고 발생\n",
    "\n",
    "print(f'{(tuple_s is (2003, 8, 7)) = }')  # tuple_s가 (2003, 8, 7)과 주소가 같은지 확인 -> 경고 발생\n",
    "\n",
    "print(f'{(list_s is [2003, 8, 7]) = }')  # list_s가 [2003, 8, 7]과 주소가 같은지 확인 -> 경고 발생\n",
    "\n",
    "print(f'{(set_s is {'송인성'}) = }')  # set_s가 {'송인성'}과 주소가 같은지 확인 -> 경고 발생"
   ]
  },
  {
   "cell_type": "markdown",
   "metadata": {},
   "source": [
    "##### 복합 대입 연산"
   ]
  },
  {
   "cell_type": "code",
   "execution_count": 37,
   "metadata": {},
   "outputs": [
    {
     "name": "stdout",
     "output_type": "stream",
     "text": [
      "var_x = 110\n",
      "var_x = 105\n",
      "var_x = 210\n",
      "var_x = 70.0\n",
      "var_x = 0.0\n",
      "var_x = 0.0\n",
      "var_x = 0.0\n"
     ]
    }
   ],
   "source": [
    "var_x = 100\n",
    "var_x += 10; print(f'{var_x = }')  # var_x = var_x + 10\n",
    "var_x -= 5; print(f'{var_x = }')  # var_x = var_x - 5\n",
    "var_x *= 2; print(f'{var_x = }')  # var_x = var_x * 2\n",
    "var_x /= 3; print(f'{var_x = }')  # var_x = var_x / 3\n",
    "var_x %= 7; print(f'{var_x = }')  # var_x = var_x % 7\n",
    "var_x //= 4; print(f'{var_x = }')  # var_x = var_x // 4\n",
    "var_x **= 2; print(f'{var_x = }')  # var_x = var_x ** 2"
   ]
  },
  {
   "cell_type": "markdown",
   "metadata": {},
   "source": [
    "#### 연산의 중첩\n",
    "##### 연산의 우선순위"
   ]
  },
  {
   "cell_type": "code",
   "execution_count": 38,
   "metadata": {},
   "outputs": [
    {
     "name": "stdout",
     "output_type": "stream",
     "text": [
      "여름여름여름방학\n",
      "여름여름여름 방학방학\n"
     ]
    }
   ],
   "source": [
    "var_s = '여름'\n",
    "var_m = '방학'\n",
    "\n",
    "print(var_s*3+var_m) # var_s에 3을 곱한 것에 var_m을 이어서 출력\n",
    "print(var_s*3+' '+var_m*2) # var_s에 3을 곱한 것과 var_m에 2를 곱한 것을 공백으로 이어서 출력"
   ]
  },
  {
   "cell_type": "code",
   "execution_count": 39,
   "metadata": {},
   "outputs": [
    {
     "name": "stdout",
     "output_type": "stream",
     "text": [
      "53\n",
      "117649\n",
      "True\n",
      "False\n",
      "True\n",
      "1\n",
      "True\n",
      "True\n"
     ]
    }
   ],
   "source": [
    "x = 7\n",
    "y = 2\n",
    "z = 4\n",
    "\n",
    "print(x ** y + z)  # 7의 2제곱에 4를 더함\n",
    "print(x ** (y + z))  # 7의 (2+4)제곱\n",
    "print(x + y <= z * 6)  # 7+2가 4*6보다 작거나 같은지 비교\n",
    "print(not (x + y <= z * 6))  # 위 비교문의 결과를 반대로 만듦\n",
    "print(not ((x * y) >= (z ** y)))  # 7*2가 4의 2제곱보다 크거나 같지 않은지를 확인\n",
    "print((x + y) % z)  # (7+2)를 4로 나눈 나머지\n",
    "\n",
    "a = 5\n",
    "b = 3\n",
    "\n",
    "print((x > y) and (z < a))  # 7이 2보다 크고, 4가 5보다 작은지 확인\n",
    "print((x < y) or (a > b))  # 7이 2보다 작거나 5가 3보다 큰지 확인"
   ]
  }
 ],
 "metadata": {
  "kernelspec": {
   "display_name": "base",
   "language": "python",
   "name": "python3"
  },
  "language_info": {
   "codemirror_mode": {
    "name": "ipython",
    "version": 3
   },
   "file_extension": ".py",
   "mimetype": "text/x-python",
   "name": "python",
   "nbconvert_exporter": "python",
   "pygments_lexer": "ipython3",
   "version": "3.12.8"
  }
 },
 "nbformat": 4,
 "nbformat_minor": 2
}
