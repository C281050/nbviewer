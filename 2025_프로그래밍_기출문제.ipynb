{
 "cells": [
  {
   "cell_type": "code",
   "execution_count": 5,
   "id": "0684902f",
   "metadata": {},
   "outputs": [
    {
     "name": "stdout",
     "output_type": "stream",
     "text": [
      "123\n"
     ]
    }
   ],
   "source": [
    "a = 123; print(a)"
   ]
  },
  {
   "cell_type": "code",
   "execution_count": 6,
   "id": "54ba4037",
   "metadata": {},
   "outputs": [
    {
     "name": "stdout",
     "output_type": "stream",
     "text": [
      "Python\n"
     ]
    }
   ],
   "source": [
    "a = \"Python\"; print(a)"
   ]
  },
  {
   "cell_type": "code",
   "execution_count": 7,
   "id": "3cb32f19",
   "metadata": {},
   "outputs": [
    {
     "name": "stdout",
     "output_type": "stream",
     "text": [
      "2.0\n"
     ]
    }
   ],
   "source": [
    "a = 6/3; print(a)"
   ]
  },
  {
   "cell_type": "code",
   "execution_count": 8,
   "id": "c1928eee",
   "metadata": {},
   "outputs": [
    {
     "name": "stdout",
     "output_type": "stream",
     "text": [
      "<class 'int'>\n"
     ]
    }
   ],
   "source": [
    "a = 234; print(type(a))"
   ]
  },
  {
   "cell_type": "code",
   "execution_count": 9,
   "id": "d43ecfd9",
   "metadata": {},
   "outputs": [
    {
     "name": "stdout",
     "output_type": "stream",
     "text": [
      "<class 'float'>\n"
     ]
    }
   ],
   "source": [
    "a = 6/3; print(type(a))"
   ]
  },
  {
   "cell_type": "code",
   "execution_count": 10,
   "id": "521f3632",
   "metadata": {},
   "outputs": [
    {
     "name": "stdout",
     "output_type": "stream",
     "text": [
      "<class 'int'>\n"
     ]
    }
   ],
   "source": [
    "a = 6 - 4; print(type(a))"
   ]
  },
  {
   "cell_type": "code",
   "execution_count": 11,
   "id": "3a882df4",
   "metadata": {},
   "outputs": [
    {
     "name": "stdout",
     "output_type": "stream",
     "text": [
      "<class 'float'>\n"
     ]
    }
   ],
   "source": [
    "a = 6 - 5.0; print(type(a))"
   ]
  },
  {
   "cell_type": "code",
   "execution_count": 12,
   "id": "8316705a",
   "metadata": {},
   "outputs": [
    {
     "name": "stdout",
     "output_type": "stream",
     "text": [
      "<class 'tuple'>\n"
     ]
    }
   ],
   "source": [
    "a = (); print(type(a))"
   ]
  },
  {
   "cell_type": "code",
   "execution_count": 13,
   "id": "8688b28c",
   "metadata": {},
   "outputs": [
    {
     "name": "stdout",
     "output_type": "stream",
     "text": [
      "<class 'dict'>\n"
     ]
    }
   ],
   "source": [
    "a = {}; print(type(a))"
   ]
  },
  {
   "cell_type": "code",
   "execution_count": 14,
   "id": "a442256c",
   "metadata": {},
   "outputs": [
    {
     "name": "stdout",
     "output_type": "stream",
     "text": [
      "<class 'list'>\n"
     ]
    }
   ],
   "source": [
    "a = []; print(type(a))"
   ]
  },
  {
   "cell_type": "code",
   "execution_count": 15,
   "id": "6ce1323b",
   "metadata": {},
   "outputs": [
    {
     "name": "stdout",
     "output_type": "stream",
     "text": [
      "<class 'int'>\n"
     ]
    }
   ],
   "source": [
    "a = (1); print(type(a))\n"
   ]
  },
  {
   "cell_type": "code",
   "execution_count": 16,
   "id": "13e55097",
   "metadata": {},
   "outputs": [
    {
     "name": "stdout",
     "output_type": "stream",
     "text": [
      "<class 'tuple'>\n"
     ]
    }
   ],
   "source": [
    "a = (1,); print(type(a))\n"
   ]
  },
  {
   "cell_type": "code",
   "execution_count": 17,
   "id": "45ef6ebf",
   "metadata": {},
   "outputs": [
    {
     "name": "stdout",
     "output_type": "stream",
     "text": [
      "<class 'tuple'>\n"
     ]
    }
   ],
   "source": [
    "a = (1,2,3); print(type(a))\n"
   ]
  },
  {
   "cell_type": "code",
   "execution_count": 18,
   "id": "4d35a816",
   "metadata": {},
   "outputs": [
    {
     "name": "stdout",
     "output_type": "stream",
     "text": [
      "<class 'tuple'>\n"
     ]
    }
   ],
   "source": [
    "a = 1,2; print(type(a))\n"
   ]
  },
  {
   "cell_type": "code",
   "execution_count": 19,
   "id": "8aaae986",
   "metadata": {},
   "outputs": [
    {
     "name": "stdout",
     "output_type": "stream",
     "text": [
      "<class 'int'>\n"
     ]
    }
   ],
   "source": [
    "a,b = 1,2; print(type(a))\n"
   ]
  },
  {
   "cell_type": "code",
   "execution_count": 20,
   "id": "a024bb05",
   "metadata": {},
   "outputs": [
    {
     "name": "stdout",
     "output_type": "stream",
     "text": [
      "<class 'list'>\n"
     ]
    }
   ],
   "source": [
    "a = [1,2,3]; print(type(a))\n"
   ]
  },
  {
   "cell_type": "code",
   "execution_count": 21,
   "id": "7f7e28fa",
   "metadata": {},
   "outputs": [
    {
     "name": "stdout",
     "output_type": "stream",
     "text": [
      "<class 'dict'>\n"
     ]
    }
   ],
   "source": [
    "a = {1:1,2:2,3:3}; print(type(a))\n"
   ]
  },
  {
   "cell_type": "code",
   "execution_count": 22,
   "id": "1b2c3bcf",
   "metadata": {},
   "outputs": [
    {
     "name": "stdout",
     "output_type": "stream",
     "text": [
      "<class 'set'>\n"
     ]
    }
   ],
   "source": [
    "a = {1,2,3}; print(type(a))\n"
   ]
  },
  {
   "cell_type": "code",
   "execution_count": 23,
   "id": "a0e06dae",
   "metadata": {},
   "outputs": [
    {
     "name": "stdout",
     "output_type": "stream",
     "text": [
      "216\n"
     ]
    }
   ],
   "source": [
    "a = 6**3; print(a)\n"
   ]
  },
  {
   "cell_type": "code",
   "execution_count": 24,
   "id": "0a02782d",
   "metadata": {},
   "outputs": [
    {
     "name": "stdout",
     "output_type": "stream",
     "text": [
      "64\n"
     ]
    }
   ],
   "source": [
    "a = (2**3)**2; print(a)\n"
   ]
  },
  {
   "cell_type": "code",
   "execution_count": 25,
   "id": "52bad3c0",
   "metadata": {},
   "outputs": [
    {
     "name": "stdout",
     "output_type": "stream",
     "text": [
      "1\n"
     ]
    }
   ],
   "source": [
    "a = 10%3; print(a)\n"
   ]
  },
  {
   "cell_type": "code",
   "execution_count": 26,
   "id": "51a7eec5",
   "metadata": {},
   "outputs": [
    {
     "name": "stdout",
     "output_type": "stream",
     "text": [
      "3\n"
     ]
    }
   ],
   "source": [
    "a = 10//3; print(a)\n"
   ]
  },
  {
   "cell_type": "code",
   "execution_count": 27,
   "id": "3ca02763",
   "metadata": {},
   "outputs": [
    {
     "name": "stdout",
     "output_type": "stream",
     "text": [
      "0\n"
     ]
    }
   ],
   "source": [
    "a = 6//7; print(a)\n"
   ]
  },
  {
   "cell_type": "code",
   "execution_count": 28,
   "id": "2e6f010e",
   "metadata": {},
   "outputs": [
    {
     "name": "stdout",
     "output_type": "stream",
     "text": [
      "3\n"
     ]
    }
   ],
   "source": [
    "a = 100//3%10; print(a)\n"
   ]
  },
  {
   "cell_type": "code",
   "execution_count": 29,
   "id": "cc9d8dfb",
   "metadata": {},
   "outputs": [
    {
     "name": "stdout",
     "output_type": "stream",
     "text": [
      "6\n"
     ]
    }
   ],
   "source": [
    "a = 6%8; print(a)\n"
   ]
  },
  {
   "cell_type": "code",
   "execution_count": 30,
   "id": "f30716cd",
   "metadata": {},
   "outputs": [
    {
     "name": "stdout",
     "output_type": "stream",
     "text": [
      "3.5\n"
     ]
    }
   ],
   "source": [
    "a = 3; a += 0.5; print(a)\n"
   ]
  },
  {
   "cell_type": "code",
   "execution_count": 31,
   "id": "8bf580d6",
   "metadata": {},
   "outputs": [
    {
     "name": "stdout",
     "output_type": "stream",
     "text": [
      "2.5\n"
     ]
    }
   ],
   "source": [
    "a = 3; a -= 0.5; print(a)\n"
   ]
  },
  {
   "cell_type": "code",
   "execution_count": 32,
   "id": "94ea1874",
   "metadata": {},
   "outputs": [
    {
     "name": "stdout",
     "output_type": "stream",
     "text": [
      "1.5\n"
     ]
    }
   ],
   "source": [
    "a = 3; a *= 0.5; print(a)\n"
   ]
  },
  {
   "cell_type": "code",
   "execution_count": 33,
   "id": "f6162cbc",
   "metadata": {},
   "outputs": [
    {
     "name": "stdout",
     "output_type": "stream",
     "text": [
      "0\n"
     ]
    }
   ],
   "source": [
    "a = 30; a %= 10; print(a)\n"
   ]
  },
  {
   "cell_type": "code",
   "execution_count": 34,
   "id": "2e2d802b",
   "metadata": {},
   "outputs": [
    {
     "name": "stdout",
     "output_type": "stream",
     "text": [
      "4\n"
     ]
    }
   ],
   "source": [
    "a = 30; a //= 7; print(a)\n"
   ]
  },
  {
   "cell_type": "code",
   "execution_count": 35,
   "id": "d5ce3d2d",
   "metadata": {},
   "outputs": [
    {
     "name": "stdout",
     "output_type": "stream",
     "text": [
      "900\n"
     ]
    }
   ],
   "source": [
    "a = 30; a **= 2; print(a)\n"
   ]
  },
  {
   "cell_type": "code",
   "execution_count": 36,
   "id": "82803584",
   "metadata": {},
   "outputs": [
    {
     "name": "stdout",
     "output_type": "stream",
     "text": [
      "PythonPythonPython\n"
     ]
    }
   ],
   "source": [
    "a = \"Python\"; a *= 3; print(a)\n"
   ]
  },
  {
   "cell_type": "code",
   "execution_count": 37,
   "id": "88f42f46",
   "metadata": {},
   "outputs": [
    {
     "name": "stdout",
     "output_type": "stream",
     "text": [
      "Python\n"
     ]
    }
   ],
   "source": [
    "a = \"Python\"; a + \" is the best.\"; print(a)\n"
   ]
  },
  {
   "cell_type": "code",
   "execution_count": 38,
   "id": "1d32a2da",
   "metadata": {},
   "outputs": [
    {
     "name": "stdout",
     "output_type": "stream",
     "text": [
      "Python is the best.\n"
     ]
    }
   ],
   "source": [
    "a = \"Python\"; a = a + \" is the best.\"; print(a)\n"
   ]
  },
  {
   "cell_type": "code",
   "execution_count": 39,
   "id": "630a6d23",
   "metadata": {},
   "outputs": [
    {
     "name": "stdout",
     "output_type": "stream",
     "text": [
      "Phhn\n"
     ]
    }
   ],
   "source": [
    "a = \"Python\"; a = a[0] + 2*a[3] + a[-1]; print(a)\n"
   ]
  },
  {
   "cell_type": "code",
   "execution_count": 40,
   "id": "057d0a81",
   "metadata": {},
   "outputs": [
    {
     "name": "stdout",
     "output_type": "stream",
     "text": [
      "Python\n"
     ]
    }
   ],
   "source": [
    "a = \"Python\"; a = a[:]; print(a)\n"
   ]
  },
  {
   "cell_type": "code",
   "execution_count": 41,
   "id": "c06e1803",
   "metadata": {},
   "outputs": [
    {
     "name": "stdout",
     "output_type": "stream",
     "text": [
      "Pytho\n"
     ]
    }
   ],
   "source": [
    "a = \"Python\"; a = a[0:-1]; print(a)\n"
   ]
  },
  {
   "cell_type": "code",
   "execution_count": 42,
   "id": "41eb293a",
   "metadata": {},
   "outputs": [
    {
     "name": "stdout",
     "output_type": "stream",
     "text": [
      "tho\n"
     ]
    }
   ],
   "source": [
    "a = \"Python\"; a = a[2:5]; print(a)\n"
   ]
  },
  {
   "cell_type": "code",
   "execution_count": 43,
   "id": "d9558735",
   "metadata": {},
   "outputs": [
    {
     "name": "stdout",
     "output_type": "stream",
     "text": [
      "thon\n"
     ]
    }
   ],
   "source": [
    "a = \"Python\"; a = a[2:]; print(a)\n"
   ]
  },
  {
   "cell_type": "code",
   "execution_count": 44,
   "id": "0d923eb9",
   "metadata": {},
   "outputs": [
    {
     "name": "stdout",
     "output_type": "stream",
     "text": [
      "Pyt\n"
     ]
    }
   ],
   "source": [
    "a = \"Python\"; a = a[:3]; print(a)\n"
   ]
  },
  {
   "cell_type": "code",
   "execution_count": 45,
   "id": "0ef4013a",
   "metadata": {},
   "outputs": [
    {
     "name": "stdout",
     "output_type": "stream",
     "text": [
      "\n"
     ]
    }
   ],
   "source": [
    "a = \"Python\"; a = a[2:0]; print(a)\n"
   ]
  },
  {
   "cell_type": "code",
   "execution_count": 46,
   "id": "d699c8f9",
   "metadata": {},
   "outputs": [
    {
     "name": "stdout",
     "output_type": "stream",
     "text": [
      "Python3.6\n"
     ]
    }
   ],
   "source": [
    "a = \"Python\"; a = a + str(3.6); print(a)\n"
   ]
  },
  {
   "cell_type": "code",
   "execution_count": 47,
   "id": "751d43ac",
   "metadata": {},
   "outputs": [
    {
     "name": "stdout",
     "output_type": "stream",
     "text": [
      "I eat 3 apples\n"
     ]
    }
   ],
   "source": [
    "n = 3; a = f\"I eat {n} apples\"; print(a)\n"
   ]
  },
  {
   "cell_type": "code",
   "execution_count": 48,
   "id": "0ec392a5",
   "metadata": {},
   "outputs": [
    {
     "name": "stdout",
     "output_type": "stream",
     "text": [
      "I eat 3.99 apples\n"
     ]
    }
   ],
   "source": [
    "n = 3.99; a = f\"I eat {n} apples\"; print(a)\n"
   ]
  },
  {
   "cell_type": "code",
   "execution_count": 49,
   "id": "badaa184",
   "metadata": {},
   "outputs": [
    {
     "name": "stdout",
     "output_type": "stream",
     "text": [
      "I eat 0 apples\n"
     ]
    }
   ],
   "source": [
    "n = 3.99; a = f\"I eat {0} apples\"; print(a)\n"
   ]
  },
  {
   "cell_type": "code",
   "execution_count": 50,
   "id": "17bc00b1",
   "metadata": {},
   "outputs": [
    {
     "name": "stdout",
     "output_type": "stream",
     "text": [
      "I eat 3+3 apples\n"
     ]
    }
   ],
   "source": [
    "n = 3; a = f\"I eat {n}+{n} apples\"; print(a)\n"
   ]
  },
  {
   "cell_type": "code",
   "execution_count": 51,
   "id": "b74a0c96",
   "metadata": {},
   "outputs": [
    {
     "name": "stdout",
     "output_type": "stream",
     "text": [
      "I eat 6 apples\n"
     ]
    }
   ],
   "source": [
    "n = 3; a = f\"I eat {n+n} apples\"; print(a)\n"
   ]
  },
  {
   "cell_type": "code",
   "execution_count": 52,
   "id": "9c2dc397",
   "metadata": {},
   "outputs": [
    {
     "name": "stdout",
     "output_type": "stream",
     "text": [
      "I eat 9 apples\n"
     ]
    }
   ],
   "source": [
    "n = 3; a = f\"I eat {n**2} apples\"; print(a)\n"
   ]
  },
  {
   "cell_type": "code",
   "execution_count": 53,
   "id": "96838205",
   "metadata": {},
   "outputs": [
    {
     "name": "stdout",
     "output_type": "stream",
     "text": [
      "I eat 333 apples\n"
     ]
    }
   ],
   "source": [
    "n = \"3\"; a = f\"I eat {n+n+n} apples\"; print(a)\n"
   ]
  },
  {
   "cell_type": "code",
   "execution_count": 54,
   "id": "bb9ebcf2",
   "metadata": {},
   "outputs": [
    {
     "name": "stdout",
     "output_type": "stream",
     "text": [
      "I eat 333 apples\n"
     ]
    }
   ],
   "source": [
    "n = \"3\"; a = f\"I eat {n*3} apples\"; print(a)\n"
   ]
  },
  {
   "cell_type": "code",
   "execution_count": 55,
   "id": "39f66531",
   "metadata": {},
   "outputs": [
    {
     "name": "stdout",
     "output_type": "stream",
     "text": [
      "3\n"
     ]
    }
   ],
   "source": [
    "a = \"Hobby is good\"; a = a.count(\"o\"); print(a)\n"
   ]
  },
  {
   "cell_type": "code",
   "execution_count": 56,
   "id": "407c59d7",
   "metadata": {},
   "outputs": [
    {
     "name": "stdout",
     "output_type": "stream",
     "text": [
      "Hobby is good\n"
     ]
    }
   ],
   "source": [
    "a = \"Hobby is good\"; a.count(\"o\"); print(a)\n"
   ]
  },
  {
   "cell_type": "code",
   "execution_count": 57,
   "id": "f78e76e0",
   "metadata": {},
   "outputs": [
    {
     "name": "stdout",
     "output_type": "stream",
     "text": [
      "3\n"
     ]
    }
   ],
   "source": [
    "a = \"Hobby is good\"; print(a.count(\"o\"))\n"
   ]
  },
  {
   "cell_type": "code",
   "execution_count": 58,
   "id": "7155cb5e",
   "metadata": {},
   "outputs": [
    {
     "name": "stdout",
     "output_type": "stream",
     "text": [
      "1\n"
     ]
    }
   ],
   "source": [
    "a = \"Hobby is good\"; print(a.count(a))\n"
   ]
  },
  {
   "cell_type": "code",
   "execution_count": 59,
   "id": "0a280a47",
   "metadata": {},
   "outputs": [
    {
     "name": "stdout",
     "output_type": "stream",
     "text": [
      "1\n"
     ]
    }
   ],
   "source": [
    "a = \"Hobby is good\"; print(a.find(\"o\"))\n"
   ]
  },
  {
   "cell_type": "code",
   "execution_count": 60,
   "id": "df789f9b",
   "metadata": {},
   "outputs": [
    {
     "name": "stdout",
     "output_type": "stream",
     "text": [
      "9\n"
     ]
    }
   ],
   "source": [
    "a = \"Hobby is good\"; print(a.find(\"g\"))\n"
   ]
  },
  {
   "cell_type": "code",
   "execution_count": 61,
   "id": "8b20970f",
   "metadata": {},
   "outputs": [
    {
     "name": "stdout",
     "output_type": "stream",
     "text": [
      "5\n"
     ]
    }
   ],
   "source": [
    "a = \"Hobby is good\"; print(a.find(\" \"))\n"
   ]
  },
  {
   "cell_type": "code",
   "execution_count": 62,
   "id": "2bd0641c",
   "metadata": {},
   "outputs": [
    {
     "name": "stdout",
     "output_type": "stream",
     "text": [
      "8\n"
     ]
    }
   ],
   "source": [
    "a = \"Hobby is good\"; print(a.find(\" g\"))\n"
   ]
  },
  {
   "cell_type": "code",
   "execution_count": 63,
   "id": "3509c790",
   "metadata": {},
   "outputs": [
    {
     "name": "stdout",
     "output_type": "stream",
     "text": [
      "-1\n"
     ]
    }
   ],
   "source": [
    "a = \"Hobby is good\"; print(a.find(\"k\"))\n"
   ]
  },
  {
   "cell_type": "code",
   "execution_count": 64,
   "id": "09c10bbf",
   "metadata": {},
   "outputs": [
    {
     "name": "stdout",
     "output_type": "stream",
     "text": [
      "9\n"
     ]
    }
   ],
   "source": [
    "a = \"Hobby is good\"; print(a.index(\"g\"))\n"
   ]
  },
  {
   "cell_type": "code",
   "execution_count": 65,
   "id": "a4e5a76b",
   "metadata": {},
   "outputs": [
    {
     "name": "stdout",
     "output_type": "stream",
     "text": [
      "Python\n"
     ]
    }
   ],
   "source": [
    "a = \"Python\"; a.join(\",\"); print(a)\n"
   ]
  },
  {
   "cell_type": "code",
   "execution_count": 66,
   "id": "c63a9f93",
   "metadata": {},
   "outputs": [
    {
     "name": "stdout",
     "output_type": "stream",
     "text": [
      ",Python,Python,Python,\n"
     ]
    }
   ],
   "source": [
    "a = \"Python\"; print(a.join(\",,,,\"))\n"
   ]
  },
  {
   "cell_type": "code",
   "execution_count": 67,
   "id": "9324f0fe",
   "metadata": {},
   "outputs": [
    {
     "name": "stdout",
     "output_type": "stream",
     "text": [
      "Python\n"
     ]
    }
   ],
   "source": [
    "a = \"Python\"; \",\".join(a); print(a)\n"
   ]
  },
  {
   "cell_type": "code",
   "execution_count": 68,
   "id": "48ae562f",
   "metadata": {},
   "outputs": [
    {
     "name": "stdout",
     "output_type": "stream",
     "text": [
      "P,y,t,h,o,n\n"
     ]
    }
   ],
   "source": [
    "a = \"Python\"; a = \",\".join(a); print(a)\n"
   ]
  },
  {
   "cell_type": "code",
   "execution_count": 69,
   "id": "01bfc17c",
   "metadata": {},
   "outputs": [
    {
     "name": "stdout",
     "output_type": "stream",
     "text": [
      "PYTHON\n"
     ]
    }
   ],
   "source": [
    "a = \"Python\"; print(a.upper())\n"
   ]
  },
  {
   "cell_type": "code",
   "execution_count": 70,
   "id": "b33686c9",
   "metadata": {},
   "outputs": [
    {
     "name": "stdout",
     "output_type": "stream",
     "text": [
      "python\n"
     ]
    }
   ],
   "source": [
    "a = \"Python\"; print(a.lower())\n"
   ]
  },
  {
   "cell_type": "code",
   "execution_count": 71,
   "id": "b13e746a",
   "metadata": {},
   "outputs": [
    {
     "name": "stdout",
     "output_type": "stream",
     "text": [
      "Python\n"
     ]
    }
   ],
   "source": [
    "a = \"Python\"; a.replace(\"P\",\"T\"); print(a)\n"
   ]
  },
  {
   "cell_type": "code",
   "execution_count": 72,
   "id": "572c6546",
   "metadata": {},
   "outputs": [
    {
     "name": "stdout",
     "output_type": "stream",
     "text": [
      "Tython\n"
     ]
    }
   ],
   "source": [
    "a = \"Python\"; a = a.replace(\"P\",\"T\"); print(a)\n"
   ]
  },
  {
   "cell_type": "code",
   "execution_count": 73,
   "id": "6a799112",
   "metadata": {},
   "outputs": [
    {
     "name": "stdout",
     "output_type": "stream",
     "text": [
      "Python\n"
     ]
    }
   ],
   "source": [
    "a = \"Python\"; a = a.replace(\"T\",\"P\"); print(a)\n"
   ]
  },
  {
   "cell_type": "code",
   "execution_count": 74,
   "id": "aa15881a",
   "metadata": {},
   "outputs": [
    {
     "name": "stdout",
     "output_type": "stream",
     "text": [
      "Python\n"
     ]
    }
   ],
   "source": [
    "a = \"P,y,t,h,o,n\"; a = a.replace(\",\",\"\"); print(a)\n"
   ]
  },
  {
   "cell_type": "code",
   "execution_count": 75,
   "id": "93f9ab2e",
   "metadata": {},
   "outputs": [
    {
     "name": "stdout",
     "output_type": "stream",
     "text": [
      "['Python']\n"
     ]
    }
   ],
   "source": [
    "a = \"Python\"; a = a.split(\",\"); print(a)\n"
   ]
  },
  {
   "cell_type": "code",
   "execution_count": 76,
   "id": "47aa81de",
   "metadata": {},
   "outputs": [
    {
     "name": "stdout",
     "output_type": "stream",
     "text": [
      "['Py', 'hon']\n"
     ]
    }
   ],
   "source": [
    "a = \"Python\"; a = a.split(\"t\"); print(a)\n"
   ]
  },
  {
   "cell_type": "code",
   "execution_count": 77,
   "id": "bf895371",
   "metadata": {},
   "outputs": [
    {
     "name": "stdout",
     "output_type": "stream",
     "text": [
      "['P', 'y', 't', 'h', 'o', 'n']\n"
     ]
    }
   ],
   "source": [
    "a = \"P,y,t,h,o,n\"; a = a.split(\",\"); print(a)\n"
   ]
  },
  {
   "cell_type": "code",
   "execution_count": 78,
   "id": "dd052796",
   "metadata": {},
   "outputs": [
    {
     "name": "stdout",
     "output_type": "stream",
     "text": [
      "['P', 'y', 't', 'h', 'o', 'n']\n"
     ]
    }
   ],
   "source": [
    "a = \"P y t h o n\"; a = a.split(); print(a)\n"
   ]
  },
  {
   "cell_type": "code",
   "execution_count": 79,
   "id": "ad38665d",
   "metadata": {},
   "outputs": [
    {
     "name": "stdout",
     "output_type": "stream",
     "text": [
      "['P', 'y', 't', 'h', 'o', 'n']\n"
     ]
    }
   ],
   "source": [
    "a = \"P y t h o n\"; a = a.split(\" \"); print(a)\n"
   ]
  },
  {
   "cell_type": "code",
   "execution_count": 80,
   "id": "79520944",
   "metadata": {},
   "outputs": [
    {
     "name": "stdout",
     "output_type": "stream",
     "text": [
      "['P y t h o n']\n"
     ]
    }
   ],
   "source": [
    "a = \"P y t h o n\"; a = a.split(\",\"); print(a)\n"
   ]
  },
  {
   "cell_type": "code",
   "execution_count": 81,
   "id": "91046bcd",
   "metadata": {},
   "outputs": [
    {
     "name": "stdout",
     "output_type": "stream",
     "text": [
      "['P', 'y', 't', 'h', 'o', 'n']\n"
     ]
    }
   ],
   "source": [
    "a = \"Python\"; a = \",\".join(a).split(\",\"); print(a)\n"
   ]
  },
  {
   "cell_type": "code",
   "execution_count": 82,
   "id": "f1b2e94a",
   "metadata": {},
   "outputs": [
    {
     "name": "stdout",
     "output_type": "stream",
     "text": [
      "[1, 2, ['Life', 'is']]\n"
     ]
    }
   ],
   "source": [
    "a = [1,2,['Life','is']]; print(a)\n"
   ]
  },
  {
   "cell_type": "code",
   "execution_count": 83,
   "id": "ed2cb6b2",
   "metadata": {},
   "outputs": [
    {
     "name": "stdout",
     "output_type": "stream",
     "text": [
      "1\n"
     ]
    }
   ],
   "source": [
    "a = [1,2,['Life','is']]; print(a[0])\n"
   ]
  },
  {
   "cell_type": "code",
   "execution_count": 84,
   "id": "ee67a78a",
   "metadata": {},
   "outputs": [
    {
     "name": "stdout",
     "output_type": "stream",
     "text": [
      "[1]\n"
     ]
    }
   ],
   "source": [
    "a = [1,2,['Life','is']]; print(a[:1])\n"
   ]
  },
  {
   "cell_type": "code",
   "execution_count": 85,
   "id": "e8c5ac28",
   "metadata": {},
   "outputs": [
    {
     "name": "stdout",
     "output_type": "stream",
     "text": [
      "is\n"
     ]
    }
   ],
   "source": [
    "a = [1,2,['Life','is']]; print(a[2][1])\n"
   ]
  },
  {
   "cell_type": "code",
   "execution_count": 86,
   "id": "6dd32f7f",
   "metadata": {},
   "outputs": [
    {
     "name": "stdout",
     "output_type": "stream",
     "text": [
      "['Life', 'is']\n"
     ]
    }
   ],
   "source": [
    "a = [1,2,['Life','is']]; print(a[1:3][1])\n"
   ]
  },
  {
   "cell_type": "code",
   "execution_count": 87,
   "id": "04fcdd3c",
   "metadata": {},
   "outputs": [
    {
     "name": "stdout",
     "output_type": "stream",
     "text": [
      "s\n"
     ]
    }
   ],
   "source": [
    "a = [1,2,['Life','is']]; print(a[-1][1][-1])\n"
   ]
  },
  {
   "cell_type": "code",
   "execution_count": 88,
   "id": "d43127d8",
   "metadata": {},
   "outputs": [
    {
     "name": "stdout",
     "output_type": "stream",
     "text": [
      "['Life', 'is']\n"
     ]
    }
   ],
   "source": [
    "a = [1,2,['Life','is']]; print(a[2][:])\n"
   ]
  },
  {
   "cell_type": "code",
   "execution_count": 89,
   "id": "4ff1aa0e",
   "metadata": {},
   "outputs": [
    {
     "name": "stdout",
     "output_type": "stream",
     "text": [
      "<class 'list'>\n"
     ]
    }
   ],
   "source": [
    "a = [1,2,['Life','is']]; print(type(a))\n"
   ]
  },
  {
   "cell_type": "code",
   "execution_count": 90,
   "id": "181e4761",
   "metadata": {},
   "outputs": [
    {
     "name": "stdout",
     "output_type": "stream",
     "text": [
      "<class 'int'>\n"
     ]
    }
   ],
   "source": [
    "a = [1,2,['Life','is']]; print(type(a[0]))\n"
   ]
  },
  {
   "cell_type": "code",
   "execution_count": 91,
   "id": "a4823de3",
   "metadata": {},
   "outputs": [
    {
     "name": "stdout",
     "output_type": "stream",
     "text": [
      "<class 'list'>\n"
     ]
    }
   ],
   "source": [
    "a = [1,2,['Life','is']]; print(type(a[:1]))\n"
   ]
  },
  {
   "cell_type": "code",
   "execution_count": 92,
   "id": "b73b0fa3",
   "metadata": {},
   "outputs": [
    {
     "name": "stdout",
     "output_type": "stream",
     "text": [
      "<class 'str'>\n"
     ]
    }
   ],
   "source": [
    "a = [1,2,['Life','is']]; print(type(a[2][1]))\n"
   ]
  },
  {
   "cell_type": "code",
   "execution_count": 93,
   "id": "14b813cd",
   "metadata": {},
   "outputs": [
    {
     "name": "stdout",
     "output_type": "stream",
     "text": [
      "<class 'list'>\n"
     ]
    }
   ],
   "source": [
    "a = [1,2,['Life','is']]; print(type(a[1:3][1]))\n"
   ]
  },
  {
   "cell_type": "code",
   "execution_count": 94,
   "id": "133040da",
   "metadata": {},
   "outputs": [
    {
     "name": "stdout",
     "output_type": "stream",
     "text": [
      "<class 'str'>\n"
     ]
    }
   ],
   "source": [
    "a = [1,2,['Life','is']]; print(type(a[-1][1][-1]))\n"
   ]
  },
  {
   "cell_type": "code",
   "execution_count": 95,
   "id": "f7fc5859",
   "metadata": {},
   "outputs": [
    {
     "name": "stdout",
     "output_type": "stream",
     "text": [
      "<class 'list'>\n"
     ]
    }
   ],
   "source": [
    "a = [1,2,['Life','is']]; print(type(a[2][:]))\n"
   ]
  },
  {
   "cell_type": "code",
   "execution_count": 96,
   "id": "c1d7c907",
   "metadata": {},
   "outputs": [
    {
     "name": "stdout",
     "output_type": "stream",
     "text": [
      "[1, 2, 3, 4]\n"
     ]
    }
   ],
   "source": [
    "a = [1,2]; b = [3,4]; print(a+b)\n"
   ]
  },
  {
   "cell_type": "code",
   "execution_count": 97,
   "id": "bff58b6a",
   "metadata": {},
   "outputs": [
    {
     "name": "stdout",
     "output_type": "stream",
     "text": [
      "[1, 2, 1, 2, 1, 2]\n"
     ]
    }
   ],
   "source": [
    "a = [1,2]; b = [3,4]; print(3*a)\n"
   ]
  },
  {
   "cell_type": "code",
   "execution_count": 98,
   "id": "e5934055",
   "metadata": {},
   "outputs": [
    {
     "name": "stdout",
     "output_type": "stream",
     "text": [
      "[1, 2, 3, 4, 1, 2, 3, 4]\n"
     ]
    }
   ],
   "source": [
    "a = [1,2]; b = [3,4]; print((a+b)*2)\n"
   ]
  },
  {
   "cell_type": "code",
   "execution_count": 99,
   "id": "132ac148",
   "metadata": {},
   "outputs": [
    {
     "name": "stdout",
     "output_type": "stream",
     "text": [
      "[1, 2]\n"
     ]
    }
   ],
   "source": [
    "a = [1,2]; b = [3,4]; print(str(a))\n"
   ]
  },
  {
   "cell_type": "code",
   "execution_count": 100,
   "id": "e20846ac",
   "metadata": {},
   "outputs": [
    {
     "name": "stdout",
     "output_type": "stream",
     "text": [
      "4\n"
     ]
    }
   ],
   "source": [
    "a = [1,2]; b = [3,4]; print(len(a+b))\n"
   ]
  },
  {
   "cell_type": "code",
   "execution_count": 101,
   "id": "8c0285a5",
   "metadata": {},
   "outputs": [
    {
     "name": "stdout",
     "output_type": "stream",
     "text": [
      "[[3, 4], 2]\n"
     ]
    }
   ],
   "source": [
    "a = [1,2]; b = [3,4]; a[0] = b; print(a)\n"
   ]
  },
  {
   "cell_type": "code",
   "execution_count": 102,
   "id": "c5d4cf59",
   "metadata": {},
   "outputs": [
    {
     "name": "stdout",
     "output_type": "stream",
     "text": [
      "[[], 2]\n"
     ]
    }
   ],
   "source": [
    "a = [1,2]; b = [3,4]; a[0] = []; print(a)\n"
   ]
  },
  {
   "cell_type": "code",
   "execution_count": 103,
   "id": "1cb23d86",
   "metadata": {},
   "outputs": [
    {
     "name": "stdout",
     "output_type": "stream",
     "text": [
      "[2]\n"
     ]
    }
   ],
   "source": [
    "a = [1,2]; b = [3,4]; del a[0]; print(a)\n"
   ]
  },
  {
   "cell_type": "code",
   "execution_count": 104,
   "id": "572eaad1",
   "metadata": {},
   "outputs": [
    {
     "name": "stdout",
     "output_type": "stream",
     "text": [
      "[3, 4, 2]\n"
     ]
    }
   ],
   "source": [
    "a = [1,2]; b = [3,4]; a[0:1] = b; print(a)\n"
   ]
  },
  {
   "cell_type": "code",
   "execution_count": 105,
   "id": "abeebb27",
   "metadata": {},
   "outputs": [
    {
     "name": "stdout",
     "output_type": "stream",
     "text": [
      "[2]\n"
     ]
    }
   ],
   "source": [
    "a = [1,2]; b = [3,4]; a[0:1] = []; print(a)\n"
   ]
  },
  {
   "cell_type": "code",
   "execution_count": 106,
   "id": "79809515",
   "metadata": {},
   "outputs": [
    {
     "name": "stdout",
     "output_type": "stream",
     "text": [
      "[2]\n"
     ]
    }
   ],
   "source": [
    "\n",
    "a = [1,2]; b = [3,4]; del a[0:1]; print(a)\n"
   ]
  },
  {
   "cell_type": "code",
   "execution_count": 107,
   "id": "a82363c1",
   "metadata": {},
   "outputs": [
    {
     "name": "stdout",
     "output_type": "stream",
     "text": [
      "[1, 2, [3, 4]]\n"
     ]
    }
   ],
   "source": [
    "a = [1,2]; b = [3,4]; a.append(b); print(a)\n"
   ]
  },
  {
   "cell_type": "code",
   "execution_count": 108,
   "id": "130985c5",
   "metadata": {},
   "outputs": [
    {
     "name": "stdout",
     "output_type": "stream",
     "text": [
      "[1, 2, 'b']\n"
     ]
    }
   ],
   "source": [
    "a = [1,2]; b = [3,4]; a.append(\"b\"); print(a)\n"
   ]
  },
  {
   "cell_type": "code",
   "execution_count": 109,
   "id": "014bcb89",
   "metadata": {},
   "outputs": [
    {
     "name": "stdout",
     "output_type": "stream",
     "text": [
      "[1, 3, 4, 4]\n"
     ]
    }
   ],
   "source": [
    "a = [1,4,3,4]; a.sort(); print(a)\n"
   ]
  },
  {
   "cell_type": "code",
   "execution_count": 110,
   "id": "8b636666",
   "metadata": {},
   "outputs": [
    {
     "name": "stdout",
     "output_type": "stream",
     "text": [
      "None\n"
     ]
    }
   ],
   "source": [
    "a = [1,4,3,4]; b = a.sort(); print(b)\n"
   ]
  },
  {
   "cell_type": "code",
   "execution_count": 111,
   "id": "7451d32b",
   "metadata": {},
   "outputs": [
    {
     "name": "stdout",
     "output_type": "stream",
     "text": [
      "[4, 4, 3, 1]\n"
     ]
    }
   ],
   "source": [
    "a = [1,4,3,4]; a.sort(reverse=True); print(a)\n"
   ]
  },
  {
   "cell_type": "code",
   "execution_count": 112,
   "id": "fa8f8c34",
   "metadata": {},
   "outputs": [
    {
     "name": "stdout",
     "output_type": "stream",
     "text": [
      "[4, 3, 4, 1]\n"
     ]
    }
   ],
   "source": [
    "a = [1,4,3,4]; a.reverse(); print(a)\n"
   ]
  },
  {
   "cell_type": "code",
   "execution_count": 113,
   "id": "386f69e1",
   "metadata": {},
   "outputs": [
    {
     "name": "stdout",
     "output_type": "stream",
     "text": [
      "None\n"
     ]
    }
   ],
   "source": [
    "a = [1,4,3,4]; b = a.reverse(); print(b)\n"
   ]
  },
  {
   "cell_type": "code",
   "execution_count": 114,
   "id": "84cac556",
   "metadata": {},
   "outputs": [
    {
     "name": "stdout",
     "output_type": "stream",
     "text": [
      "2\n"
     ]
    }
   ],
   "source": [
    "a = [1,4,3,4]; b = a.index(3); print(b)\n"
   ]
  },
  {
   "cell_type": "code",
   "execution_count": 115,
   "id": "3a940759",
   "metadata": {},
   "outputs": [
    {
     "name": "stdout",
     "output_type": "stream",
     "text": [
      "[1, 4, 3, 4]\n"
     ]
    }
   ],
   "source": [
    "a = [1,4,3,4]; a.index(3); print(a)\n"
   ]
  },
  {
   "cell_type": "code",
   "execution_count": 116,
   "id": "41d9fe40",
   "metadata": {},
   "outputs": [
    {
     "name": "stdout",
     "output_type": "stream",
     "text": [
      "[1, 4, 3, 5, 4]\n"
     ]
    }
   ],
   "source": [
    "a = [1,4,3,4]; a.insert(3,5); print(a)\n"
   ]
  },
  {
   "cell_type": "code",
   "execution_count": 117,
   "id": "518d749f",
   "metadata": {},
   "outputs": [
    {
     "name": "stdout",
     "output_type": "stream",
     "text": [
      "[1, 4, 3, [5, 6, 7], 4]\n"
     ]
    }
   ],
   "source": [
    "a = [1,4,3,4]; a.insert(3,[5,6,7]); print(a)\n"
   ]
  },
  {
   "cell_type": "code",
   "execution_count": 118,
   "id": "5e29feb8",
   "metadata": {},
   "outputs": [
    {
     "name": "stdout",
     "output_type": "stream",
     "text": [
      "[1, 4, 4]\n"
     ]
    }
   ],
   "source": [
    "a = [1,4,3,4]; a.remove(3); print(a)\n"
   ]
  },
  {
   "cell_type": "code",
   "execution_count": 119,
   "id": "12567ea1",
   "metadata": {},
   "outputs": [
    {
     "name": "stdout",
     "output_type": "stream",
     "text": [
      "[1, 3, 4]\n"
     ]
    }
   ],
   "source": [
    "a = [1,4,3,4]; a.remove(4); print(a)\n"
   ]
  },
  {
   "cell_type": "code",
   "execution_count": 120,
   "id": "60b56247",
   "metadata": {},
   "outputs": [
    {
     "name": "stdout",
     "output_type": "stream",
     "text": [
      "[1, 2, 3]\n"
     ]
    }
   ],
   "source": [
    "a = [1,2,3,4]; b = a.pop(); print(a)\n"
   ]
  },
  {
   "cell_type": "code",
   "execution_count": 121,
   "id": "02abe478",
   "metadata": {},
   "outputs": [
    {
     "name": "stdout",
     "output_type": "stream",
     "text": [
      "4\n"
     ]
    }
   ],
   "source": [
    "a = [1,2,3,4]; b = a.pop(); print(b)\n"
   ]
  },
  {
   "cell_type": "code",
   "execution_count": 122,
   "id": "294551f5",
   "metadata": {},
   "outputs": [
    {
     "name": "stdout",
     "output_type": "stream",
     "text": [
      "[1, 2, 4]\n"
     ]
    }
   ],
   "source": [
    "a = [1,2,3,4]; b = a.pop(2); print(a)\n"
   ]
  },
  {
   "cell_type": "code",
   "execution_count": 123,
   "id": "2af704ec",
   "metadata": {},
   "outputs": [
    {
     "name": "stdout",
     "output_type": "stream",
     "text": [
      "3\n"
     ]
    }
   ],
   "source": [
    "a = [1,2,3,4]; b = a.pop(2); print(b)\n"
   ]
  },
  {
   "cell_type": "code",
   "execution_count": 124,
   "id": "45e72e91",
   "metadata": {},
   "outputs": [
    {
     "name": "stdout",
     "output_type": "stream",
     "text": [
      "0\n"
     ]
    }
   ],
   "source": [
    "a = [1,2,3,4]; b = a.count(0); print(b)\n"
   ]
  },
  {
   "cell_type": "code",
   "execution_count": 125,
   "id": "9d72f979",
   "metadata": {},
   "outputs": [
    {
     "name": "stdout",
     "output_type": "stream",
     "text": [
      "1\n"
     ]
    }
   ],
   "source": [
    "a = [1,2,3,4]; b = a.count(4); print(b)\n"
   ]
  },
  {
   "cell_type": "code",
   "execution_count": 126,
   "id": "a764bfa3",
   "metadata": {},
   "outputs": [
    {
     "name": "stdout",
     "output_type": "stream",
     "text": [
      "[1, 2, 3]\n"
     ]
    }
   ],
   "source": [
    "a = [1,2,3,4]; b = a.pop(); print(a)\n"
   ]
  },
  {
   "cell_type": "code",
   "execution_count": 127,
   "id": "abcabe9b",
   "metadata": {},
   "outputs": [
    {
     "name": "stdout",
     "output_type": "stream",
     "text": [
      "4\n"
     ]
    }
   ],
   "source": [
    "a = [1,2,3,4]; b = a.pop(); print(b)\n"
   ]
  },
  {
   "cell_type": "code",
   "execution_count": 128,
   "id": "1a96b33f",
   "metadata": {},
   "outputs": [
    {
     "name": "stdout",
     "output_type": "stream",
     "text": [
      "[1, 2, 3, 4]\n"
     ]
    }
   ],
   "source": [
    "a = [1,2]; b = [3,4]; a.extend(b); print(a)\n"
   ]
  },
  {
   "cell_type": "code",
   "execution_count": 129,
   "id": "1ef095f5",
   "metadata": {},
   "outputs": [
    {
     "name": "stdout",
     "output_type": "stream",
     "text": [
      "[1, 2, 3, 4, 3, 4]\n"
     ]
    }
   ],
   "source": [
    "a = [1,2]; b = [3,4]; a.extend(b+b); print(a)\n"
   ]
  },
  {
   "cell_type": "code",
   "execution_count": 130,
   "id": "3328ce72",
   "metadata": {},
   "outputs": [
    {
     "name": "stdout",
     "output_type": "stream",
     "text": [
      "[1, 2, 3, 4]\n"
     ]
    }
   ],
   "source": [
    "a = [1,2]; b = [3,4]; a += b; print(a)\n"
   ]
  },
  {
   "cell_type": "code",
   "execution_count": 131,
   "id": "92dd2452",
   "metadata": {},
   "outputs": [
    {
     "name": "stdout",
     "output_type": "stream",
     "text": [
      "[1, 2, 1, 2, 3, 4]\n"
     ]
    }
   ],
   "source": [
    "a = [1,2]; b = [3,4]; a += a+b; print(a)\n"
   ]
  },
  {
   "cell_type": "code",
   "execution_count": 132,
   "id": "7d5871d0",
   "metadata": {},
   "outputs": [
    {
     "name": "stdout",
     "output_type": "stream",
     "text": [
      "4\n"
     ]
    }
   ],
   "source": [
    "a = [1,2,3,4]; print(len(a))\n"
   ]
  },
  {
   "cell_type": "code",
   "execution_count": 133,
   "id": "255119dd",
   "metadata": {},
   "outputs": [
    {
     "name": "stdout",
     "output_type": "stream",
     "text": [
      "4\n"
     ]
    }
   ],
   "source": [
    "a = (1,2,3,4); print(len(a))\n"
   ]
  },
  {
   "cell_type": "code",
   "execution_count": 134,
   "id": "b77f72e1",
   "metadata": {},
   "outputs": [
    {
     "name": "stdout",
     "output_type": "stream",
     "text": [
      "3\n"
     ]
    }
   ],
   "source": [
    "a = (1,(2,3),4); print(len(a))\n"
   ]
  },
  {
   "cell_type": "code",
   "execution_count": 135,
   "id": "e1a16cce",
   "metadata": {},
   "outputs": [
    {
     "name": "stdout",
     "output_type": "stream",
     "text": [
      "4\n"
     ]
    }
   ],
   "source": [
    "a = 1,2,3,4; print(len(a))\n"
   ]
  },
  {
   "cell_type": "code",
   "execution_count": 136,
   "id": "2a797a63",
   "metadata": {},
   "outputs": [
    {
     "name": "stdout",
     "output_type": "stream",
     "text": [
      "(1, 2, 1, 2, 3, 4)\n"
     ]
    }
   ],
   "source": [
    "a = (1,2); b = (3,4); a += a+b; print(a)\n"
   ]
  },
  {
   "cell_type": "code",
   "execution_count": 137,
   "id": "314f80c3",
   "metadata": {},
   "outputs": [
    {
     "name": "stdout",
     "output_type": "stream",
     "text": [
      "(1, 2, 3, 4)\n"
     ]
    }
   ],
   "source": [
    "a = (1,2); b = (3,4); print(a+b)\n"
   ]
  },
  {
   "cell_type": "code",
   "execution_count": 138,
   "id": "4be9a9e4",
   "metadata": {},
   "outputs": [
    {
     "name": "stdout",
     "output_type": "stream",
     "text": [
      "(1, 2, 1, 2, 1, 2)\n"
     ]
    }
   ],
   "source": [
    "a = (1,2); b = (3,4); print(3*a)\n"
   ]
  },
  {
   "cell_type": "code",
   "execution_count": 139,
   "id": "07ca9c0b",
   "metadata": {},
   "outputs": [
    {
     "name": "stdout",
     "output_type": "stream",
     "text": [
      "(1, 2, 3, 4, 1, 2, 3, 4)\n"
     ]
    }
   ],
   "source": [
    "a = (1,2); b = (3,4); print((a+b)*2)\n"
   ]
  },
  {
   "cell_type": "code",
   "execution_count": 140,
   "id": "8f3fca18",
   "metadata": {},
   "outputs": [
    {
     "name": "stdout",
     "output_type": "stream",
     "text": [
      "(1, 2)\n"
     ]
    }
   ],
   "source": [
    "a = (1,2); b = (3,4); print(str(a))\n"
   ]
  },
  {
   "cell_type": "code",
   "execution_count": 141,
   "id": "ab1c59c0",
   "metadata": {},
   "outputs": [
    {
     "name": "stdout",
     "output_type": "stream",
     "text": [
      "4\n"
     ]
    }
   ],
   "source": [
    "a = (1,2); b = (3,4); print(len(a+b))\n"
   ]
  },
  {
   "cell_type": "code",
   "execution_count": 142,
   "id": "60463e33",
   "metadata": {},
   "outputs": [
    {
     "name": "stdout",
     "output_type": "stream",
     "text": [
      "(3, 4)\n"
     ]
    }
   ],
   "source": [
    "a = (1,2); b = (3,4); a = b; print(a)\n"
   ]
  },
  {
   "cell_type": "code",
   "execution_count": 143,
   "id": "4d13dcd7",
   "metadata": {},
   "outputs": [
    {
     "name": "stdout",
     "output_type": "stream",
     "text": [
      "3\n"
     ]
    }
   ],
   "source": [
    "a = (1,2); b = (3,4); a = b[0]; print(a)\n"
   ]
  },
  {
   "cell_type": "code",
   "execution_count": 144,
   "id": "71d0f2da",
   "metadata": {},
   "outputs": [
    {
     "name": "stdout",
     "output_type": "stream",
     "text": [
      "(1, 2, 3)\n"
     ]
    }
   ],
   "source": [
    "a = (1,2,3,4); b = a[0:3]; print(b)\n"
   ]
  },
  {
   "cell_type": "code",
   "execution_count": 145,
   "id": "f9850fef",
   "metadata": {},
   "outputs": [
    {
     "name": "stdout",
     "output_type": "stream",
     "text": [
      "1\n"
     ]
    }
   ],
   "source": [
    "a = (1,2,3,4); b = a[0]; print(b)\n"
   ]
  },
  {
   "cell_type": "code",
   "execution_count": 146,
   "id": "a8b4b922",
   "metadata": {},
   "outputs": [
    {
     "name": "stdout",
     "output_type": "stream",
     "text": [
      "<class 'tuple'>\n"
     ]
    }
   ],
   "source": [
    "a = (1,2,3,4); b = a[0:3]; print(type(b))\n"
   ]
  },
  {
   "cell_type": "code",
   "execution_count": 147,
   "id": "78e4636f",
   "metadata": {},
   "outputs": [
    {
     "name": "stdout",
     "output_type": "stream",
     "text": [
      "(1, 2, 3, 4, 5)\n"
     ]
    }
   ],
   "source": [
    "a = (1,2,3,4); a += (5,); print(a)\n"
   ]
  },
  {
   "cell_type": "code",
   "execution_count": 148,
   "id": "f1f2c331",
   "metadata": {},
   "outputs": [
    {
     "name": "stdout",
     "output_type": "stream",
     "text": [
      "(1, 2, 3, 4, 1, 2, 3, 4)\n"
     ]
    }
   ],
   "source": [
    "a = (1,2,3,4); a *= 2; print(a)\n"
   ]
  },
  {
   "cell_type": "code",
   "execution_count": 149,
   "id": "6038194e",
   "metadata": {},
   "outputs": [
    {
     "name": "stdout",
     "output_type": "stream",
     "text": [
      "(3, 1, 2)\n"
     ]
    }
   ],
   "source": [
    "a,b,c = 1,2,3; print((c,a,b))\n"
   ]
  },
  {
   "cell_type": "code",
   "execution_count": 150,
   "id": "a244879c",
   "metadata": {},
   "outputs": [
    {
     "name": "stdout",
     "output_type": "stream",
     "text": [
      "(3, 2, 1)\n"
     ]
    }
   ],
   "source": [
    "a,b,c = 1,2,3; c,b,a = a,b,c; d = a,b,c; print(d)\n"
   ]
  },
  {
   "cell_type": "code",
   "execution_count": 151,
   "id": "741364b5",
   "metadata": {},
   "outputs": [
    {
     "name": "stdout",
     "output_type": "stream",
     "text": [
      "{0: 'a', 1: 'b', 2: 'c'}\n"
     ]
    }
   ],
   "source": [
    "a = {0:\"a\"}; a[1] = \"b\"; a[2] = \"c\"; print(a)\n"
   ]
  },
  {
   "cell_type": "code",
   "execution_count": 152,
   "id": "3c9e15e6",
   "metadata": {},
   "outputs": [
    {
     "name": "stdout",
     "output_type": "stream",
     "text": [
      "{0: 'a', 1: 'd', '2': 'c'}\n"
     ]
    }
   ],
   "source": [
    "a = {0:\"a\", 1:\"b\", \"2\":\"c\"}; a[1] = \"d\"; print(a)\n"
   ]
  },
  {
   "cell_type": "code",
   "execution_count": 153,
   "id": "7a61d9ca",
   "metadata": {},
   "outputs": [
    {
     "name": "stdout",
     "output_type": "stream",
     "text": [
      "c\n"
     ]
    }
   ],
   "source": [
    "a = {0:\"a\", 1:\"b\", \"2\":\"c\"}; print(a[\"2\"])\n"
   ]
  },
  {
   "cell_type": "code",
   "execution_count": 154,
   "id": "a9b0ea62",
   "metadata": {},
   "outputs": [
    {
     "name": "stdout",
     "output_type": "stream",
     "text": [
      "<class 'str'>\n"
     ]
    }
   ],
   "source": [
    "a = {0:\"a\", 1:\"b\", \"2\":\"c\"}; print(type(a[\"2\"]))\n"
   ]
  },
  {
   "cell_type": "code",
   "execution_count": 155,
   "id": "54452e7c",
   "metadata": {},
   "outputs": [
    {
     "name": "stdout",
     "output_type": "stream",
     "text": [
      "[0, 1, '2']\n"
     ]
    }
   ],
   "source": [
    "a = {0:\"a\", 1:\"b\", \"2\":\"c\"}; print(list(a.keys()))\n"
   ]
  },
  {
   "cell_type": "code",
   "execution_count": 156,
   "id": "3e55a806",
   "metadata": {},
   "outputs": [
    {
     "name": "stdout",
     "output_type": "stream",
     "text": [
      "['a', 'b', 'c']\n"
     ]
    }
   ],
   "source": [
    "a = {0:\"a\", 1:\"b\", \"2\":\"c\"}; print(list(a.values()))\n"
   ]
  },
  {
   "cell_type": "code",
   "execution_count": 157,
   "id": "35bcd3e8",
   "metadata": {},
   "outputs": [
    {
     "name": "stdout",
     "output_type": "stream",
     "text": [
      "a\n"
     ]
    }
   ],
   "source": [
    "a = {0:\"a\", 1:\"b\", \"2\":\"c\"}; print(min(a.values()))\n"
   ]
  },
  {
   "cell_type": "code",
   "execution_count": 158,
   "id": "7e91ec9b",
   "metadata": {},
   "outputs": [
    {
     "name": "stdout",
     "output_type": "stream",
     "text": [
      "('a', 'b', 'c')\n"
     ]
    }
   ],
   "source": [
    "a = {0:\"a\", 1:\"b\", \"2\":\"c\"}; print(tuple(a.values()))\n"
   ]
  },
  {
   "cell_type": "code",
   "execution_count": 159,
   "id": "f4943b59",
   "metadata": {},
   "outputs": [
    {
     "name": "stdout",
     "output_type": "stream",
     "text": [
      "((0, 'a'), (1, 'b'), ('2', 'c'))\n"
     ]
    }
   ],
   "source": [
    "a = {0:\"a\", 1:\"b\", \"2\":\"c\"}; print(tuple(a.items()))\n"
   ]
  },
  {
   "cell_type": "code",
   "execution_count": 160,
   "id": "cbd2ec65",
   "metadata": {},
   "outputs": [
    {
     "name": "stdout",
     "output_type": "stream",
     "text": [
      "None\n"
     ]
    }
   ],
   "source": [
    "a = {0:\"a\", 1:\"b\", \"2\":\"c\"}; print(a.clear())\n"
   ]
  },
  {
   "cell_type": "code",
   "execution_count": 161,
   "id": "8e60b725",
   "metadata": {},
   "outputs": [
    {
     "name": "stdout",
     "output_type": "stream",
     "text": [
      "b\n"
     ]
    }
   ],
   "source": [
    "a = {0:\"a\", 1:\"b\", \"2\":\"c\"}; print(a.get(1))\n"
   ]
  },
  {
   "cell_type": "code",
   "execution_count": 162,
   "id": "739a6617",
   "metadata": {},
   "outputs": [
    {
     "name": "stdout",
     "output_type": "stream",
     "text": [
      "None\n"
     ]
    }
   ],
   "source": [
    "a = {0:\"a\", 1:\"b\", \"2\":\"c\"}; print(a.get(\"c\"))\n"
   ]
  },
  {
   "cell_type": "code",
   "execution_count": 163,
   "id": "13f623fb",
   "metadata": {},
   "outputs": [
    {
     "name": "stdout",
     "output_type": "stream",
     "text": [
      "a\n"
     ]
    }
   ],
   "source": [
    "a = {0:\"a\", 1:\"b\", \"2\":\"c\"}; print(a.get(0,\"bar\"))\n"
   ]
  },
  {
   "cell_type": "code",
   "execution_count": 164,
   "id": "daf6a89d",
   "metadata": {},
   "outputs": [
    {
     "name": "stdout",
     "output_type": "stream",
     "text": [
      "bar\n"
     ]
    }
   ],
   "source": [
    "a = {0:\"a\", 1:\"b\", \"2\":\"c\"}; print(a.get(\"c\",\"bar\"))\n"
   ]
  },
  {
   "cell_type": "code",
   "execution_count": 165,
   "id": "36f0ee19",
   "metadata": {},
   "outputs": [
    {
     "name": "stdout",
     "output_type": "stream",
     "text": [
      "False\n"
     ]
    }
   ],
   "source": [
    "a = {0:\"a\", 1:\"b\", \"2\":\"c\"}; print(\"a\" in a)\n"
   ]
  },
  {
   "cell_type": "code",
   "execution_count": 166,
   "id": "c108242d",
   "metadata": {},
   "outputs": [
    {
     "name": "stdout",
     "output_type": "stream",
     "text": [
      "True\n"
     ]
    }
   ],
   "source": [
    "a = {0:\"a\", 1:\"b\", \"2\":\"c\"}; print(0 in a)\n"
   ]
  },
  {
   "cell_type": "code",
   "execution_count": 167,
   "id": "34afcb22",
   "metadata": {},
   "outputs": [
    {
     "name": "stdout",
     "output_type": "stream",
     "text": [
      "{7: 'a', 1: 'b', '2': 'c'}\n"
     ]
    }
   ],
   "source": [
    "a = {7:\"a\", (1):\"b\", \"2\":\"c\"}; print(a)\n"
   ]
  },
  {
   "cell_type": "code",
   "execution_count": 168,
   "id": "c8e6535f",
   "metadata": {},
   "outputs": [
    {
     "name": "stdout",
     "output_type": "stream",
     "text": [
      "{7.65: 'a', (1,): 'b', '2': 'c'}\n"
     ]
    }
   ],
   "source": [
    "a = {7.65:\"a\", (1,):\"b\", \"2\":\"c\"}; print(a)\n"
   ]
  },
  {
   "cell_type": "code",
   "execution_count": 169,
   "id": "aa2de795",
   "metadata": {},
   "outputs": [
    {
     "name": "stdout",
     "output_type": "stream",
     "text": [
      "{' ': 'a', (1, 3): 'b', '2': 'c'}\n"
     ]
    }
   ],
   "source": [
    "a = {\" \":\"a\", (1,3):\"b\", \"2\":\"c\"}; print(a)\n"
   ]
  },
  {
   "cell_type": "code",
   "execution_count": 170,
   "id": "707dea3c",
   "metadata": {},
   "outputs": [
    {
     "name": "stdout",
     "output_type": "stream",
     "text": [
      "{(1, 3): 'b', '2': 'c'}\n"
     ]
    }
   ],
   "source": [
    "a = {\" \":\"a\", (1,3):\"b\", \"2\":\"c\"}; del a[\" \"]; print(a)\n"
   ]
  },
  {
   "cell_type": "code",
   "execution_count": 171,
   "id": "e9f63803",
   "metadata": {},
   "outputs": [
    {
     "name": "stdout",
     "output_type": "stream",
     "text": [
      "{' ': 'a', '2': 'c'}\n"
     ]
    }
   ],
   "source": [
    "a = {\" \":\"a\", (1,3):\"b\", \"2\":\"c\"}; del a[(1,3)]; print(a)\n"
   ]
  },
  {
   "cell_type": "code",
   "execution_count": 172,
   "id": "1933deb4",
   "metadata": {},
   "outputs": [
    {
     "name": "stdout",
     "output_type": "stream",
     "text": [
      "{1, 2, 3}\n"
     ]
    }
   ],
   "source": [
    "a = {1,2,3,1,2,3}; print(a)\n"
   ]
  },
  {
   "cell_type": "code",
   "execution_count": 173,
   "id": "62836ae6",
   "metadata": {},
   "outputs": [
    {
     "name": "stdout",
     "output_type": "stream",
     "text": [
      "<class 'set'>\n"
     ]
    }
   ],
   "source": [
    "a = {1,2,3,1,2,3}; print(type(a))\n"
   ]
  },
  {
   "cell_type": "code",
   "execution_count": 174,
   "id": "565c81c1",
   "metadata": {},
   "outputs": [
    {
     "name": "stdout",
     "output_type": "stream",
     "text": [
      "[1, 2, 3]\n"
     ]
    }
   ],
   "source": [
    "a = {1,2,3,1,2,3}; print(list(a))\n"
   ]
  },
  {
   "cell_type": "code",
   "execution_count": 175,
   "id": "bf388e32",
   "metadata": {},
   "outputs": [
    {
     "name": "stdout",
     "output_type": "stream",
     "text": [
      "{1, 2, 3}\n"
     ]
    }
   ],
   "source": [
    "a = [1,2,3,1,2,3]; print(set(a))\n"
   ]
  },
  {
   "cell_type": "code",
   "execution_count": 176,
   "id": "cabc1eb5",
   "metadata": {},
   "outputs": [
    {
     "name": "stdout",
     "output_type": "stream",
     "text": [
      "[1, 2, 3]\n"
     ]
    }
   ],
   "source": [
    "a = [1,2,3,1,2,3]; print(list(set(a)))\n"
   ]
  },
  {
   "cell_type": "code",
   "execution_count": 177,
   "id": "e0a81772",
   "metadata": {},
   "outputs": [
    {
     "name": "stdout",
     "output_type": "stream",
     "text": [
      "{1, 2, 3}\n"
     ]
    }
   ],
   "source": [
    "a = {1,2,3,1,2,3}; print(a & a)\n"
   ]
  },
  {
   "cell_type": "code",
   "execution_count": 178,
   "id": "1c093dce",
   "metadata": {},
   "outputs": [
    {
     "name": "stdout",
     "output_type": "stream",
     "text": [
      "{1, 2, 3}\n"
     ]
    }
   ],
   "source": [
    "a = {1,2,3,1,2,3}; print(a | a)\n"
   ]
  },
  {
   "cell_type": "code",
   "execution_count": 179,
   "id": "06f3bb39",
   "metadata": {},
   "outputs": [
    {
     "name": "stdout",
     "output_type": "stream",
     "text": [
      "{1, 2}\n"
     ]
    }
   ],
   "source": [
    "a = {1,2,3}; b ={1,2,4}; print(a & b)\n"
   ]
  },
  {
   "cell_type": "code",
   "execution_count": 180,
   "id": "139ff84a",
   "metadata": {},
   "outputs": [
    {
     "name": "stdout",
     "output_type": "stream",
     "text": [
      "{1, 2, 3, 4}\n"
     ]
    }
   ],
   "source": [
    "a = {1,2,3}; b ={1,2,4}; print(a | b)\n"
   ]
  },
  {
   "cell_type": "code",
   "execution_count": 181,
   "id": "1c15438b",
   "metadata": {},
   "outputs": [
    {
     "name": "stdout",
     "output_type": "stream",
     "text": [
      "{1, 2, 3}\n"
     ]
    }
   ],
   "source": [
    "a = {1,2,3}; b ={1,2,4}; a.intersection(b); print(a)\n"
   ]
  },
  {
   "cell_type": "code",
   "execution_count": 182,
   "id": "7063965b",
   "metadata": {},
   "outputs": [
    {
     "name": "stdout",
     "output_type": "stream",
     "text": [
      "{1, 2, 4}\n"
     ]
    }
   ],
   "source": [
    "a = {1,2,3}; b ={1,2,4}; a.intersection(b); print(b)\n"
   ]
  },
  {
   "cell_type": "code",
   "execution_count": 183,
   "id": "b84642fa",
   "metadata": {},
   "outputs": [
    {
     "name": "stdout",
     "output_type": "stream",
     "text": [
      "{1, 2, 3}\n"
     ]
    }
   ],
   "source": [
    "a = {1,2,3}; b ={1,2,4}; a.union(b); print(a)\n"
   ]
  },
  {
   "cell_type": "code",
   "execution_count": 184,
   "id": "d9b27e60",
   "metadata": {},
   "outputs": [
    {
     "name": "stdout",
     "output_type": "stream",
     "text": [
      "{1, 2, 4}\n"
     ]
    }
   ],
   "source": [
    "a = {1,2,3}; b ={1,2,4}; a.union(b); print(b)\n"
   ]
  },
  {
   "cell_type": "code",
   "execution_count": 185,
   "id": "2e2147c3",
   "metadata": {},
   "outputs": [
    {
     "name": "stdout",
     "output_type": "stream",
     "text": [
      "{1, 2, 3}\n"
     ]
    }
   ],
   "source": [
    "a = {1,2,3}; b ={1,2,4}; a.difference(b); print(a)\n"
   ]
  },
  {
   "cell_type": "code",
   "execution_count": 186,
   "id": "0d005f6f",
   "metadata": {},
   "outputs": [
    {
     "name": "stdout",
     "output_type": "stream",
     "text": [
      "{1, 2, 4}\n"
     ]
    }
   ],
   "source": [
    "a = {1,2,3}; b ={1,2,4}; a.difference(b); print(b)\n"
   ]
  },
  {
   "cell_type": "code",
   "execution_count": 187,
   "id": "212201ce",
   "metadata": {},
   "outputs": [
    {
     "name": "stdout",
     "output_type": "stream",
     "text": [
      "{3}\n"
     ]
    }
   ],
   "source": [
    "a = {1,2,3}; b ={1,2,4}; print(a - b)\n"
   ]
  },
  {
   "cell_type": "code",
   "execution_count": 188,
   "id": "bab74e7f",
   "metadata": {},
   "outputs": [
    {
     "name": "stdout",
     "output_type": "stream",
     "text": [
      "{4}\n"
     ]
    }
   ],
   "source": [
    "a = {1,2,3}; b ={1,2,4}; print(b - a)\n"
   ]
  },
  {
   "cell_type": "code",
   "execution_count": 189,
   "id": "6ecfecc3",
   "metadata": {},
   "outputs": [
    {
     "name": "stdout",
     "output_type": "stream",
     "text": [
      "{1, 2, 3}\n"
     ]
    }
   ],
   "source": [
    "a = {1,2,3}; a.add(3); print(a)\n"
   ]
  },
  {
   "cell_type": "code",
   "execution_count": 190,
   "id": "a0d4e2b6",
   "metadata": {},
   "outputs": [
    {
     "name": "stdout",
     "output_type": "stream",
     "text": [
      "{1, 2, 3, (3, 4)}\n"
     ]
    }
   ],
   "source": [
    "a = {1,2,3}; a.add((3,4)); print(a)\n"
   ]
  },
  {
   "cell_type": "code",
   "execution_count": 191,
   "id": "461a901b",
   "metadata": {},
   "outputs": [
    {
     "name": "stdout",
     "output_type": "stream",
     "text": [
      "{1, 2, 3}\n"
     ]
    }
   ],
   "source": [
    "a = {1,2,3}; a.update({}); print(a)\n"
   ]
  },
  {
   "cell_type": "code",
   "execution_count": 192,
   "id": "c1eb9b6c",
   "metadata": {},
   "outputs": [
    {
     "name": "stdout",
     "output_type": "stream",
     "text": [
      "{1, 2, 3, 4}\n"
     ]
    }
   ],
   "source": [
    "a = {1,2,3}; a.update({3,4}); print(a)\n"
   ]
  },
  {
   "cell_type": "code",
   "execution_count": 193,
   "id": "998bfc76",
   "metadata": {},
   "outputs": [
    {
     "name": "stdout",
     "output_type": "stream",
     "text": [
      "{1, 2, 3, 4}\n"
     ]
    }
   ],
   "source": [
    "a = {1,2,3}; a.update([3,4]); print(a)\n"
   ]
  },
  {
   "cell_type": "code",
   "execution_count": 194,
   "id": "39c15f9e",
   "metadata": {},
   "outputs": [
    {
     "name": "stdout",
     "output_type": "stream",
     "text": [
      "{1, 2}\n"
     ]
    }
   ],
   "source": [
    "a = {1,2,3,1,2,3}; a.remove(3); print(a)\n"
   ]
  },
  {
   "cell_type": "code",
   "execution_count": 195,
   "id": "578e0336",
   "metadata": {},
   "outputs": [
    {
     "name": "stdout",
     "output_type": "stream",
     "text": [
      "{1, 2}\n"
     ]
    }
   ],
   "source": [
    "a = {1,2,3}; a.remove(3); print(a)\n"
   ]
  },
  {
   "cell_type": "code",
   "execution_count": 196,
   "id": "127a5dce",
   "metadata": {},
   "outputs": [
    {
     "name": "stdout",
     "output_type": "stream",
     "text": [
      "True\n"
     ]
    }
   ],
   "source": [
    "a = [1,2,3,1,2,3]; print(bool(a))\n"
   ]
  },
  {
   "cell_type": "code",
   "execution_count": 197,
   "id": "9bd602dc",
   "metadata": {},
   "outputs": [
    {
     "name": "stdout",
     "output_type": "stream",
     "text": [
      "<class 'set'>\n"
     ]
    }
   ],
   "source": [
    "a = [1,2,3,1,2,3]; print(type(set(a)))\n"
   ]
  },
  {
   "cell_type": "code",
   "execution_count": 198,
   "id": "010f4f98",
   "metadata": {},
   "outputs": [
    {
     "name": "stdout",
     "output_type": "stream",
     "text": [
      "True\n"
     ]
    }
   ],
   "source": [
    "a = [1,2,3]; print(1 in a)\n"
   ]
  },
  {
   "cell_type": "code",
   "execution_count": 199,
   "id": "35a1e009",
   "metadata": {},
   "outputs": [
    {
     "name": "stdout",
     "output_type": "stream",
     "text": [
      "True\n"
     ]
    }
   ],
   "source": [
    "a = -1000; print(bool(a))\n"
   ]
  },
  {
   "cell_type": "code",
   "execution_count": 200,
   "id": "794a6605",
   "metadata": {},
   "outputs": [
    {
     "name": "stdout",
     "output_type": "stream",
     "text": [
      "False\n"
     ]
    }
   ],
   "source": [
    "a = None; print(bool(a))\n"
   ]
  },
  {
   "cell_type": "code",
   "execution_count": 201,
   "id": "49bbc6b8",
   "metadata": {},
   "outputs": [
    {
     "name": "stdout",
     "output_type": "stream",
     "text": [
      "False\n"
     ]
    }
   ],
   "source": [
    "a = []; print(bool(a))\n"
   ]
  },
  {
   "cell_type": "code",
   "execution_count": 202,
   "id": "745466ba",
   "metadata": {},
   "outputs": [
    {
     "name": "stdout",
     "output_type": "stream",
     "text": [
      "False\n"
     ]
    }
   ],
   "source": [
    "a = (); print(bool(a))\n"
   ]
  },
  {
   "cell_type": "code",
   "execution_count": 203,
   "id": "be856b26",
   "metadata": {},
   "outputs": [
    {
     "name": "stdout",
     "output_type": "stream",
     "text": [
      "True\n"
     ]
    }
   ],
   "source": [
    "a = (); print(not bool(a))\n"
   ]
  },
  {
   "cell_type": "code",
   "execution_count": 204,
   "id": "04a326fa",
   "metadata": {},
   "outputs": [
    {
     "name": "stdout",
     "output_type": "stream",
     "text": [
      "False\n"
     ]
    }
   ],
   "source": [
    "a = 10; print(bool(a) == False)\n"
   ]
  },
  {
   "cell_type": "code",
   "execution_count": 205,
   "id": "d9d5acd2",
   "metadata": {},
   "outputs": [
    {
     "name": "stdout",
     "output_type": "stream",
     "text": [
      "True\n"
     ]
    }
   ],
   "source": [
    "a = \"\"; print(bool(a) == False)\n"
   ]
  },
  {
   "cell_type": "code",
   "execution_count": 206,
   "id": "4b235575",
   "metadata": {},
   "outputs": [
    {
     "name": "stdout",
     "output_type": "stream",
     "text": [
      "False\n"
     ]
    }
   ],
   "source": [
    "a = 10; print(a == True)\n"
   ]
  },
  {
   "cell_type": "code",
   "execution_count": 207,
   "id": "9561da98",
   "metadata": {},
   "outputs": [
    {
     "name": "stdout",
     "output_type": "stream",
     "text": [
      "False\n"
     ]
    }
   ],
   "source": [
    "print(True and False)\n"
   ]
  },
  {
   "cell_type": "code",
   "execution_count": 208,
   "id": "ad09e901",
   "metadata": {},
   "outputs": [
    {
     "name": "stdout",
     "output_type": "stream",
     "text": [
      "True\n"
     ]
    }
   ],
   "source": [
    "print(True and not False)\n"
   ]
  },
  {
   "cell_type": "code",
   "execution_count": 209,
   "id": "1d4d3594",
   "metadata": {},
   "outputs": [
    {
     "name": "stdout",
     "output_type": "stream",
     "text": [
      "False\n"
     ]
    }
   ],
   "source": [
    "print(False and not False and True or False and not True)\n"
   ]
  },
  {
   "cell_type": "code",
   "execution_count": 210,
   "id": "6f2be322",
   "metadata": {},
   "outputs": [
    {
     "name": "stdout",
     "output_type": "stream",
     "text": [
      "True\n"
     ]
    }
   ],
   "source": [
    "print(True or not False and True or False and not True)\n"
   ]
  },
  {
   "cell_type": "code",
   "execution_count": 211,
   "id": "ec1e5096",
   "metadata": {},
   "outputs": [
    {
     "name": "stdout",
     "output_type": "stream",
     "text": [
      "True\n"
     ]
    }
   ],
   "source": [
    "print(True and not False)\n"
   ]
  },
  {
   "cell_type": "code",
   "execution_count": 212,
   "id": "f1280b1f",
   "metadata": {},
   "outputs": [
    {
     "name": "stdout",
     "output_type": "stream",
     "text": [
      "True\n"
     ]
    }
   ],
   "source": [
    "print(not True or not False)\n"
   ]
  },
  {
   "cell_type": "code",
   "execution_count": 213,
   "id": "c3cee96f",
   "metadata": {},
   "outputs": [
    {
     "name": "stdout",
     "output_type": "stream",
     "text": [
      "False\n"
     ]
    }
   ],
   "source": [
    "print(not True or False)\n"
   ]
  },
  {
   "cell_type": "code",
   "execution_count": 214,
   "id": "3828f688",
   "metadata": {},
   "outputs": [
    {
     "name": "stdout",
     "output_type": "stream",
     "text": [
      "False\n"
     ]
    }
   ],
   "source": [
    "print(not True and not False)\n"
   ]
  },
  {
   "cell_type": "code",
   "execution_count": 215,
   "id": "dd3d7f71",
   "metadata": {},
   "outputs": [
    {
     "name": "stdout",
     "output_type": "stream",
     "text": [
      "True\n"
     ]
    }
   ],
   "source": [
    "print(10 == 10 and 12 != 10)\n"
   ]
  },
  {
   "cell_type": "code",
   "execution_count": 216,
   "id": "c1713f2d",
   "metadata": {},
   "outputs": [
    {
     "name": "stdout",
     "output_type": "stream",
     "text": [
      "True\n"
     ]
    }
   ],
   "source": [
    "a = 10; print(a > 1 and a <= 10)\n"
   ]
  },
  {
   "cell_type": "code",
   "execution_count": 217,
   "id": "2a5a9b22",
   "metadata": {},
   "outputs": [
    {
     "name": "stdout",
     "output_type": "stream",
     "text": [
      "True\n"
     ]
    }
   ],
   "source": [
    "a = range(10); print(3 in a)\n"
   ]
  },
  {
   "cell_type": "code",
   "execution_count": 218,
   "id": "233d46d6",
   "metadata": {},
   "outputs": [
    {
     "name": "stdout",
     "output_type": "stream",
     "text": [
      "False\n"
     ]
    }
   ],
   "source": [
    "a = range(10); print(10 in a)\n"
   ]
  },
  {
   "cell_type": "code",
   "execution_count": 219,
   "id": "8f201fde",
   "metadata": {},
   "outputs": [
    {
     "name": "stdout",
     "output_type": "stream",
     "text": [
      "True\n"
     ]
    }
   ],
   "source": [
    "a = range(10); print(0 in a)\n"
   ]
  },
  {
   "cell_type": "code",
   "execution_count": 220,
   "id": "7c3ed8c1",
   "metadata": {},
   "outputs": [
    {
     "name": "stdout",
     "output_type": "stream",
     "text": [
      "False\n"
     ]
    }
   ],
   "source": [
    "a = range(10); print(9.9 in a)\n"
   ]
  },
  {
   "cell_type": "code",
   "execution_count": 221,
   "id": "d9845bb7",
   "metadata": {},
   "outputs": [
    {
     "name": "stdout",
     "output_type": "stream",
     "text": [
      "False\n"
     ]
    }
   ],
   "source": [
    "a = range(5,10); print(4 in a)\n"
   ]
  },
  {
   "cell_type": "code",
   "execution_count": 222,
   "id": "8ba3ede8",
   "metadata": {},
   "outputs": [
    {
     "name": "stdout",
     "output_type": "stream",
     "text": [
      "5\n"
     ]
    }
   ],
   "source": [
    "a = range(10); print(a[5])\n"
   ]
  },
  {
   "cell_type": "code",
   "execution_count": 223,
   "id": "22c60e13",
   "metadata": {},
   "outputs": [
    {
     "name": "stdout",
     "output_type": "stream",
     "text": [
      "range(3, 5)\n"
     ]
    }
   ],
   "source": [
    "a = range(10); print(a[3:5])\n"
   ]
  },
  {
   "cell_type": "code",
   "execution_count": 224,
   "id": "6a1e0348",
   "metadata": {},
   "outputs": [
    {
     "name": "stdout",
     "output_type": "stream",
     "text": [
      "True\n"
     ]
    }
   ],
   "source": [
    "a = 10; b = a; print(a is b)\n"
   ]
  },
  {
   "cell_type": "code",
   "execution_count": 225,
   "id": "5c3f3791",
   "metadata": {},
   "outputs": [
    {
     "name": "stdout",
     "output_type": "stream",
     "text": [
      "True\n"
     ]
    }
   ],
   "source": [
    "a = [1,2,3]; b = a; print(a is b)\n"
   ]
  },
  {
   "cell_type": "code",
   "execution_count": 226,
   "id": "43d0565e",
   "metadata": {},
   "outputs": [
    {
     "name": "stdout",
     "output_type": "stream",
     "text": [
      "True\n"
     ]
    }
   ],
   "source": [
    "a = (1,2,3); b = a; print(a is b)\n"
   ]
  },
  {
   "cell_type": "code",
   "execution_count": 227,
   "id": "d9400f04",
   "metadata": {},
   "outputs": [
    {
     "name": "stdout",
     "output_type": "stream",
     "text": [
      "False\n"
     ]
    }
   ],
   "source": [
    "a = [1,2,3]; b = a[:]; print(a is b)\n"
   ]
  },
  {
   "cell_type": "code",
   "execution_count": 228,
   "id": "b884d315",
   "metadata": {},
   "outputs": [
    {
     "name": "stdout",
     "output_type": "stream",
     "text": [
      "False\n"
     ]
    }
   ],
   "source": [
    "a = (1,2,3); b = a[:1]; print(a is b)\n"
   ]
  },
  {
   "cell_type": "code",
   "execution_count": 229,
   "id": "0739b6fe",
   "metadata": {},
   "outputs": [
    {
     "name": "stdout",
     "output_type": "stream",
     "text": [
      "False\n"
     ]
    }
   ],
   "source": [
    "a = [1,2,3]; b = a[:1]; print(id(a) == id(b))\n"
   ]
  },
  {
   "cell_type": "code",
   "execution_count": 230,
   "id": "265c2335",
   "metadata": {},
   "outputs": [
    {
     "name": "stdout",
     "output_type": "stream",
     "text": [
      "True\n"
     ]
    }
   ],
   "source": [
    "a = [1,2,3]; b = a; print(id(a) == id(b))\n"
   ]
  },
  {
   "cell_type": "code",
   "execution_count": 231,
   "id": "4ee2e2bb",
   "metadata": {},
   "outputs": [
    {
     "name": "stdout",
     "output_type": "stream",
     "text": [
      "True\n"
     ]
    }
   ],
   "source": [
    "a = [1,2,3]; b = a; a[0]=4; print(a == b)\n"
   ]
  },
  {
   "cell_type": "code",
   "execution_count": 232,
   "id": "1a26b2c2",
   "metadata": {},
   "outputs": [
    {
     "name": "stdout",
     "output_type": "stream",
     "text": [
      "True\n"
     ]
    }
   ],
   "source": [
    "a = (1,2,3); b = (1,2,3); print(a == b)\n"
   ]
  },
  {
   "cell_type": "code",
   "execution_count": 233,
   "id": "d59ec83a",
   "metadata": {},
   "outputs": [
    {
     "name": "stdout",
     "output_type": "stream",
     "text": [
      "False\n"
     ]
    }
   ],
   "source": [
    "a = (1,2,3); b = (1,2,3); print(a is b)\n"
   ]
  },
  {
   "cell_type": "code",
   "execution_count": 234,
   "id": "fb9cd22a",
   "metadata": {},
   "outputs": [
    {
     "name": "stdout",
     "output_type": "stream",
     "text": [
      "True\n"
     ]
    }
   ],
   "source": [
    "a = [1,2,3]; a += a; print(a == a)\n"
   ]
  },
  {
   "cell_type": "code",
   "execution_count": 235,
   "id": "8d75b78f",
   "metadata": {},
   "outputs": [
    {
     "name": "stdout",
     "output_type": "stream",
     "text": [
      "True\n"
     ]
    }
   ],
   "source": [
    "a = [1,2,3]; b = a; a.append(4); print(a is b)\n"
   ]
  },
  {
   "cell_type": "code",
   "execution_count": 236,
   "id": "0c8099cb",
   "metadata": {},
   "outputs": [
    {
     "name": "stdout",
     "output_type": "stream",
     "text": [
      "False\n"
     ]
    }
   ],
   "source": [
    "a = [1,2,3]; b = a; a = a+b; print(a is b)\n"
   ]
  },
  {
   "cell_type": "code",
   "execution_count": 237,
   "id": "ea445d5c",
   "metadata": {},
   "outputs": [
    {
     "name": "stdout",
     "output_type": "stream",
     "text": [
      "True\n"
     ]
    }
   ],
   "source": [
    "a = b = c = (1,2,3); print(a is b)\n"
   ]
  },
  {
   "cell_type": "code",
   "execution_count": 238,
   "id": "10249898",
   "metadata": {},
   "outputs": [
    {
     "name": "stdout",
     "output_type": "stream",
     "text": [
      "True\n"
     ]
    }
   ],
   "source": [
    "a = b = c = (1,2,3); print(a == c)\n"
   ]
  },
  {
   "cell_type": "code",
   "execution_count": 239,
   "id": "d581e0f6",
   "metadata": {},
   "outputs": [
    {
     "name": "stdout",
     "output_type": "stream",
     "text": [
      "False\n"
     ]
    }
   ],
   "source": [
    "a = b = c = (1,2,3); print(a != b)\n"
   ]
  },
  {
   "cell_type": "code",
   "execution_count": 240,
   "id": "50cb2d46",
   "metadata": {},
   "outputs": [],
   "source": [
    "\n",
    "num = 0\n",
    "if num: \n",
    "    print(num)\n"
   ]
  },
  {
   "cell_type": "code",
   "execution_count": 241,
   "id": "e99d493f",
   "metadata": {},
   "outputs": [
    {
     "name": "stdout",
     "output_type": "stream",
     "text": [
      "10\n"
     ]
    }
   ],
   "source": [
    "\n",
    "num = 10\n",
    "if num: \n",
    "    print(num)\n"
   ]
  },
  {
   "cell_type": "code",
   "execution_count": 242,
   "id": "17debd27",
   "metadata": {},
   "outputs": [
    {
     "name": "stdout",
     "output_type": "stream",
     "text": [
      "100\n"
     ]
    }
   ],
   "source": [
    "\n",
    "if True:\n",
    "    pass\n",
    "    print(100)\n"
   ]
  },
  {
   "cell_type": "code",
   "execution_count": 243,
   "id": "18e70387",
   "metadata": {},
   "outputs": [
    {
     "name": "stdout",
     "output_type": "stream",
     "text": [
      "-100\n"
     ]
    }
   ],
   "source": [
    "\n",
    "num = 10\n",
    "if num <= 5: \n",
    "    print(num)\n",
    "else:\n",
    "    print(-100) \n"
   ]
  },
  {
   "cell_type": "code",
   "execution_count": 244,
   "id": "60153537",
   "metadata": {},
   "outputs": [],
   "source": [
    "\n",
    "num = 10\n",
    "if num >= 50: \n",
    "    print(num)\n",
    "elif num <= -50:\n",
    "    print(-num) \n"
   ]
  },
  {
   "cell_type": "code",
   "execution_count": 245,
   "id": "5a5821ec",
   "metadata": {},
   "outputs": [
    {
     "name": "stdout",
     "output_type": "stream",
     "text": [
      "0\n"
     ]
    }
   ],
   "source": [
    "\n",
    "num = 10\n",
    "if num >= 50: \n",
    "    print(num)\n",
    "elif num <= -50:\n",
    "    print(-num)  \n",
    "else:\n",
    "    print(0)\n"
   ]
  },
  {
   "cell_type": "code",
   "execution_count": 246,
   "id": "76c584e8",
   "metadata": {},
   "outputs": [
    {
     "name": "stdout",
     "output_type": "stream",
     "text": [
      "A\n"
     ]
    }
   ],
   "source": [
    "\n",
    "num = 80; score = \"A\" if num >= 60 else \"C\"; print(score)\n"
   ]
  },
  {
   "cell_type": "code",
   "execution_count": 247,
   "id": "e9481e83",
   "metadata": {},
   "outputs": [
    {
     "name": "stdout",
     "output_type": "stream",
     "text": [
      "C\n"
     ]
    }
   ],
   "source": [
    "\n",
    "num = 40; score = \"A\" if num >= 60 else \"C\"; print(score)\n"
   ]
  },
  {
   "cell_type": "code",
   "execution_count": 248,
   "id": "13f11db6",
   "metadata": {},
   "outputs": [
    {
     "name": "stdout",
     "output_type": "stream",
     "text": [
      "even\n"
     ]
    }
   ],
   "source": [
    "\n",
    "num = 80; oe = \"even\" if num%2 == 0 else \"odd\"; print(oe)\n"
   ]
  },
  {
   "cell_type": "code",
   "execution_count": 249,
   "id": "c0814f52",
   "metadata": {},
   "outputs": [
    {
     "name": "stdout",
     "output_type": "stream",
     "text": [
      "odd\n"
     ]
    }
   ],
   "source": [
    "\n",
    "num = 23; oe = \"even\" if num%2 == 0 else \"odd\"; print(oe)\n"
   ]
  },
  {
   "cell_type": "code",
   "execution_count": 250,
   "id": "5c611455",
   "metadata": {},
   "outputs": [
    {
     "name": "stdout",
     "output_type": "stream",
     "text": [
      "1\n",
      "3\n"
     ]
    }
   ],
   "source": [
    "\n",
    "a = 0\n",
    "while a < 3:\n",
    "    a = a+1\n",
    "    if a % 2 == 0: continue\n",
    "    print(a)\n"
   ]
  },
  {
   "cell_type": "code",
   "execution_count": 251,
   "id": "398e02ef",
   "metadata": {},
   "outputs": [],
   "source": [
    "\n",
    "a = 3\n",
    "while a < 3:\n",
    "    a = a+1\n",
    "    print(a)\n"
   ]
  },
  {
   "cell_type": "code",
   "execution_count": 252,
   "id": "5bbb41ac",
   "metadata": {},
   "outputs": [
    {
     "name": "stdout",
     "output_type": "stream",
     "text": [
      "0\n",
      "1\n",
      "2\n"
     ]
    }
   ],
   "source": [
    "\n",
    "a = 0\n",
    "while a < 3:\n",
    "    print(a)\n",
    "    a = a+1\n"
   ]
  },
  {
   "cell_type": "code",
   "execution_count": 253,
   "id": "0c8ec55a",
   "metadata": {},
   "outputs": [
    {
     "name": "stdout",
     "output_type": "stream",
     "text": [
      "01234"
     ]
    }
   ],
   "source": [
    "\n",
    "a = 0\n",
    "while a < 5:\n",
    "    print(a, end=\"\")\n",
    "    a = a+1\n"
   ]
  },
  {
   "cell_type": "code",
   "execution_count": 254,
   "id": "989701d7",
   "metadata": {},
   "outputs": [],
   "source": [
    "\n",
    "a = 0\n",
    "while a < 5:\n",
    "    a = a+1\n",
    "    continue\n",
    "    print(a)\n"
   ]
  },
  {
   "cell_type": "code",
   "execution_count": 255,
   "id": "13b1f6dc",
   "metadata": {},
   "outputs": [],
   "source": [
    "\n",
    "a = 0\n",
    "while a < 5:\n",
    "    a = a+1\n",
    "    break\n",
    "    print(a)\n"
   ]
  },
  {
   "cell_type": "code",
   "execution_count": 256,
   "id": "2224189a",
   "metadata": {},
   "outputs": [
    {
     "name": "stdout",
     "output_type": "stream",
     "text": [
      "2 4 8 "
     ]
    }
   ],
   "source": [
    "\n",
    "a = 1\n",
    "while a < 5:\n",
    "    a *=2\n",
    "    print(a, end=\" \")\n"
   ]
  },
  {
   "cell_type": "code",
   "execution_count": null,
   "id": "2baea611",
   "metadata": {},
   "outputs": [
    {
     "name": "stdout",
     "output_type": "stream",
     "text": [
      "0\n",
      "1\n",
      "2\n"
     ]
    }
   ],
   "source": [
    "\n",
    "for i in range(3):\n",
    "    print(i)"
   ]
  },
  {
   "cell_type": "code",
   "execution_count": null,
   "id": "431f040d",
   "metadata": {},
   "outputs": [
    {
     "name": "stdout",
     "output_type": "stream",
     "text": [
      "1\n",
      "2\n"
     ]
    }
   ],
   "source": [
    "for i in range(1,3):\n",
    "    print(i)"
   ]
  },
  {
   "cell_type": "code",
   "execution_count": null,
   "id": "33daa3e4",
   "metadata": {},
   "outputs": [
    {
     "name": "stdout",
     "output_type": "stream",
     "text": [
      "5\n",
      "3\n"
     ]
    }
   ],
   "source": [
    "for i in range(5,1):\n",
    "    print(i)"
   ]
  },
  {
   "cell_type": "code",
   "execution_count": null,
   "id": "75eac6c6",
   "metadata": {},
   "outputs": [],
   "source": [
    "for i in range(5,1,-2):\n",
    "    print(i)"
   ]
  },
  {
   "cell_type": "code",
   "execution_count": null,
   "id": "f7984f16",
   "metadata": {},
   "outputs": [
    {
     "name": "stdout",
     "output_type": "stream",
     "text": [
      "051525"
     ]
    }
   ],
   "source": [
    "for i in range(3):\n",
    "    print(i, end=\"5\")"
   ]
  },
  {
   "cell_type": "code",
   "execution_count": null,
   "id": "d35fd24b",
   "metadata": {},
   "outputs": [
    {
     "name": "stdout",
     "output_type": "stream",
     "text": [
      "0 1 2 3 4 5 6 7 8 9 "
     ]
    }
   ],
   "source": [
    "for i in range(10):\n",
    "    print(i, end=\" \")"
   ]
  },
  {
   "cell_type": "code",
   "execution_count": null,
   "id": "1cb39cc2",
   "metadata": {},
   "outputs": [
    {
     "name": "stdout",
     "output_type": "stream",
     "text": [
      "7 1 3 2 5 "
     ]
    }
   ],
   "source": [
    "for i in [7,1,3,2,5]:\n",
    "    print(i, end=\" \")"
   ]
  },
  {
   "cell_type": "code",
   "execution_count": null,
   "id": "6786bf4e",
   "metadata": {},
   "outputs": [
    {
     "name": "stdout",
     "output_type": "stream",
     "text": [
      "7 1 3 2 5 "
     ]
    }
   ],
   "source": [
    "for i in (7,1,3,2,5):\n",
    "    print(i, end=\" \")"
   ]
  },
  {
   "cell_type": "code",
   "execution_count": null,
   "id": "03915cd1",
   "metadata": {},
   "outputs": [
    {
     "name": "stdout",
     "output_type": "stream",
     "text": [
      "[7]\n",
      "[7, 1]\n",
      "[7, 1, 3]\n"
     ]
    }
   ],
   "source": [
    "a = [] \n",
    "for i in (7,1,3):\n",
    "    a.append(i)\n",
    "    print(a)"
   ]
  },
  {
   "cell_type": "code",
   "execution_count": null,
   "id": "43cf2511",
   "metadata": {},
   "outputs": [
    {
     "name": "stdout",
     "output_type": "stream",
     "text": [
      "[7, 1, 3]\n"
     ]
    }
   ],
   "source": [
    "a = []    \n",
    "for i in (7,1,3):\n",
    "    a.append(i)\n",
    "print(a)"
   ]
  },
  {
   "cell_type": "code",
   "execution_count": null,
   "id": "07aab4fb",
   "metadata": {},
   "outputs": [
    {
     "name": "stdout",
     "output_type": "stream",
     "text": [
      "[1, 4, 9]\n"
     ]
    }
   ],
   "source": [
    "a = [i**2 for i in [1,2,3]]; print(a)"
   ]
  },
  {
   "cell_type": "code",
   "execution_count": null,
   "id": "e349a205",
   "metadata": {},
   "outputs": [
    {
     "name": "stdout",
     "output_type": "stream",
     "text": [
      "[2, 4, 6]\n"
     ]
    }
   ],
   "source": [
    "a = [i+i for i in [1,2,3]]; print(a)"
   ]
  },
  {
   "cell_type": "code",
   "execution_count": null,
   "id": "f593ceac",
   "metadata": {},
   "outputs": [
    {
     "name": "stdout",
     "output_type": "stream",
     "text": [
      "[2, 3, 3, 4, 4, 5]\n"
     ]
    }
   ],
   "source": [
    "a = [i+j for i in [1,2,3] for j in (1,2)]; print(a)"
   ]
  },
  {
   "cell_type": "code",
   "execution_count": null,
   "id": "d00bd76c",
   "metadata": {},
   "outputs": [
    {
     "name": "stdout",
     "output_type": "stream",
     "text": [
      "[0, 1, 0, 0, 0, 1]\n"
     ]
    }
   ],
   "source": [
    "a = [i%j for i in [1,2,3] for j in (1,2)]; print(a)"
   ]
  },
  {
   "cell_type": "code",
   "execution_count": null,
   "id": "93914c99",
   "metadata": {},
   "outputs": [
    {
     "name": "stdout",
     "output_type": "stream",
     "text": [
      "[(1, 4), (1, 5), (2, 4), (2, 5), (3, 4), (3, 5)]\n"
     ]
    }
   ],
   "source": [
    "a = [(i,j) for i in [1,2,3] for j in (4,5)]; print(a)"
   ]
  },
  {
   "cell_type": "code",
   "execution_count": null,
   "id": "0cf91d07",
   "metadata": {},
   "outputs": [
    {
     "name": "stdout",
     "output_type": "stream",
     "text": [
      "[{1, 4}, {1, 5}, {2, 4}, {2, 5}, {3, 4}, {3, 5}]\n"
     ]
    }
   ],
   "source": [
    "a = [{i,j} for i in [1,2,3] for j in (4,5)]; print(a)"
   ]
  },
  {
   "cell_type": "code",
   "execution_count": null,
   "id": "91468529",
   "metadata": {},
   "outputs": [
    {
     "name": "stdout",
     "output_type": "stream",
     "text": [
      "['i']\n"
     ]
    }
   ],
   "source": [
    "a = \"Life\"; b = [i for i in a if i in (\"i\",)]; print(b"
   ]
  },
  {
   "cell_type": "code",
   "execution_count": null,
   "id": "40c927cc",
   "metadata": {},
   "outputs": [
    {
     "name": "stdout",
     "output_type": "stream",
     "text": [
      "['L', 'f', 'e']\n"
     ]
    }
   ],
   "source": [
    "a = \"Life\"; b = [i for i in a if i not in (\"i\",)]; print(b)"
   ]
  },
  {
   "cell_type": "code",
   "execution_count": null,
   "id": "f596e63a",
   "metadata": {},
   "outputs": [
    {
     "name": "stdout",
     "output_type": "stream",
     "text": [
      "[(1, 'aaa'), (2, 'bbb'), (3, 'ccc')]\n"
     ]
    }
   ],
   "source": [
    "ids = [1, 2, 3] \n",
    "names = ['aaa', 'bbb', 'ccc'] \n",
    "students = zip(ids, names)\n",
    "print(list(students))"
   ]
  },
  {
   "cell_type": "code",
   "execution_count": null,
   "id": "2d9ee6bd",
   "metadata": {},
   "outputs": [
    {
     "name": "stdout",
     "output_type": "stream",
     "text": [
      "[(1, 'aaa'), (2, 'bbb')]\n"
     ]
    }
   ],
   "source": [
    "ids = [1, 2] \n",
    "names = ['aaa', 'bbb', 'ccc'] \n",
    "students = zip(ids, names)\n",
    "print(list(students))"
   ]
  },
  {
   "cell_type": "code",
   "execution_count": null,
   "id": "ef3eacc8",
   "metadata": {},
   "outputs": [
    {
     "name": "stdout",
     "output_type": "stream",
     "text": [
      "(1, 2, 3) ('aaa', 'bbb', 'ccc')\n"
     ]
    }
   ],
   "source": [
    "ids = [1, 2, 3] \n",
    "names = ['aaa', 'bbb', 'ccc'] \n",
    "students = zip(ids, names)\n",
    "ids, names = zip(*students)\n",
    "print(ids, names)"
   ]
  },
  {
   "cell_type": "code",
   "execution_count": null,
   "id": "4ff06801",
   "metadata": {},
   "outputs": [
    {
     "name": "stdout",
     "output_type": "stream",
     "text": [
      "{1: 'aaa', 2: 'bbb', 3: 'ccc'}\n"
     ]
    }
   ],
   "source": [
    "ids = [1, 2, 3] \n",
    "names = ['aaa', 'bbb', 'ccc'] \n",
    "students = zip(ids, names)\n",
    "print(dict(students))"
   ]
  },
  {
   "cell_type": "code",
   "execution_count": null,
   "id": "ac812395",
   "metadata": {},
   "outputs": [
    {
     "name": "stdout",
     "output_type": "stream",
     "text": [
      "[(1, 'aaa', 21), (2, 'bbb', 22), (3, 'ccc', 23)]\n"
     ]
    }
   ],
   "source": [
    "ids = [1, 2, 3] \n",
    "names = ['aaa', 'bbb', 'ccc']\n",
    "ages = [21, 22, 23] \n",
    "students = zip(ids, names, ages)\n",
    "print(list(students))"
   ]
  },
  {
   "cell_type": "code",
   "execution_count": null,
   "id": "f9c086e6",
   "metadata": {},
   "outputs": [
    {
     "name": "stdout",
     "output_type": "stream",
     "text": [
      "{1: ('aaa', 21), 2: ('bbb', 22), 3: ('ccc', 23)}\n"
     ]
    }
   ],
   "source": [
    "ids = [1, 2, 3] \n",
    "names = ['aaa', 'bbb', 'ccc']\n",
    "ages = [21, 22, 23] \n",
    "students = zip(ids, zip(names, ages))\n",
    "print(dict(students))"
   ]
  },
  {
   "cell_type": "code",
   "execution_count": null,
   "id": "dbbe5d38",
   "metadata": {},
   "outputs": [
    {
     "name": "stdout",
     "output_type": "stream",
     "text": [
      "{1: ['aaa', 'bbb', 'ccc'], 2: [21, 22, 23]}\n"
     ]
    }
   ],
   "source": [
    "ids = [1, 2, 3] \n",
    "names = ['aaa', 'bbb', 'ccc']\n",
    "ages = [21, 22, 23] \n",
    "students = zip(ids, [names, ages])\n",
    "print(dict(students))"
   ]
  },
  {
   "cell_type": "code",
   "execution_count": null,
   "id": "31e05c13",
   "metadata": {},
   "outputs": [
    {
     "name": "stdout",
     "output_type": "stream",
     "text": [
      "[11, 12, 13]\n"
     ]
    }
   ],
   "source": [
    "nums = [1, 2, 3]\n",
    "addTen = lambda x: x+10\n",
    "print(list(map(addTen, nums)))"
   ]
  },
  {
   "cell_type": "code",
   "execution_count": null,
   "id": "3c18c5ae",
   "metadata": {},
   "outputs": [
    {
     "name": "stdout",
     "output_type": "stream",
     "text": [
      "(11, 12, 13)\n"
     ]
    }
   ],
   "source": [
    "nums = [1, 2, 3]\n",
    "addTen = lambda x: x+10\n",
    "print(tuple(map(addTen, nums)))"
   ]
  },
  {
   "cell_type": "code",
   "execution_count": null,
   "id": "c3865f2b",
   "metadata": {},
   "outputs": [
    {
     "name": "stdout",
     "output_type": "stream",
     "text": [
      "(11, 12, 13)\n"
     ]
    }
   ],
   "source": [
    "nums = [1, 2, 3]\n",
    "print(tuple(map(lambda x: x+10, nums)))"
   ]
  },
  {
   "cell_type": "code",
   "execution_count": null,
   "id": "88e30ff4",
   "metadata": {},
   "outputs": [
    {
     "name": "stdout",
     "output_type": "stream",
     "text": [
      "(True, False, True)\n"
     ]
    }
   ],
   "source": [
    "nums = [1, 2, 3]\n",
    "isOdds = lambda x: x%2==1\n",
    "print(tuple(map(isOdds, nums)))"
   ]
  },
  {
   "cell_type": "code",
   "execution_count": null,
   "id": "59636d06",
   "metadata": {},
   "outputs": [
    {
     "name": "stdout",
     "output_type": "stream",
     "text": [
      "[1, 3]\n"
     ]
    }
   ],
   "source": [
    "nums = [1, 2, 3]\n",
    "isOdds = lambda x: x%2==1\n",
    "print(list(filter(isOdds, nums)))"
   ]
  },
  {
   "cell_type": "code",
   "execution_count": null,
   "id": "58837c2d",
   "metadata": {},
   "outputs": [
    {
     "name": "stdout",
     "output_type": "stream",
     "text": [
      "(1, 3)\n"
     ]
    }
   ],
   "source": [
    "nums = [1, 2, 3]\n",
    "isOdds = lambda x: x%2==1\n",
    "print(tuple(filter(isOdds, nums)))"
   ]
  },
  {
   "cell_type": "code",
   "execution_count": null,
   "id": "527a0743",
   "metadata": {},
   "outputs": [
    {
     "name": "stdout",
     "output_type": "stream",
     "text": [
      "[1, 3]\n"
     ]
    }
   ],
   "source": [
    "nums = [1, 2, 3]\n",
    "print(list(filter(lambda x: x%2==1, nums)))"
   ]
  },
  {
   "cell_type": "code",
   "execution_count": null,
   "id": "380e8142",
   "metadata": {},
   "outputs": [
    {
     "name": "stdout",
     "output_type": "stream",
     "text": [
      "[1, 2, 3]\n"
     ]
    }
   ],
   "source": [
    "print([num for num in range(1, 4)])"
   ]
  },
  {
   "cell_type": "code",
   "execution_count": null,
   "id": "756b0213",
   "metadata": {},
   "outputs": [
    {
     "name": "stdout",
     "output_type": "stream",
     "text": [
      "[11, 12, 13]\n"
     ]
    }
   ],
   "source": [
    "print([num+10 for num in range(1, 4)])"
   ]
  },
  {
   "cell_type": "code",
   "execution_count": null,
   "id": "63d1c9fe",
   "metadata": {},
   "outputs": [
    {
     "name": "stdout",
     "output_type": "stream",
     "text": [
      "[1, 8, 27]\n"
     ]
    }
   ],
   "source": [
    "print([num**3 for num in range(1, 4)])"
   ]
  },
  {
   "cell_type": "code",
   "execution_count": null,
   "id": "ec0f1121",
   "metadata": {},
   "outputs": [
    {
     "name": "stdout",
     "output_type": "stream",
     "text": [
      "['aaa', 'bbb', 'ccc']\n"
     ]
    }
   ],
   "source": [
    "print([x*3 for x in ['a', 'b', 'c']])"
   ]
  },
  {
   "cell_type": "code",
   "execution_count": null,
   "id": "975919b3",
   "metadata": {},
   "outputs": [
    {
     "name": "stdout",
     "output_type": "stream",
     "text": [
      "['aaa', 'bbb', 'ccc']\n"
     ]
    }
   ],
   "source": [
    "print([x*3 for x in 'abc'])"
   ]
  },
  {
   "cell_type": "code",
   "execution_count": null,
   "id": "f2c23c41",
   "metadata": {},
   "outputs": [
    {
     "name": "stdout",
     "output_type": "stream",
     "text": [
      "[1, 3]\n"
     ]
    }
   ],
   "source": [
    "print([num for num in range(1, 4) if num%2==1])"
   ]
  },
  {
   "cell_type": "code",
   "execution_count": null,
   "id": "d2f8a993",
   "metadata": {},
   "outputs": [
    {
     "name": "stdout",
     "output_type": "stream",
     "text": [
      "[8]\n"
     ]
    }
   ],
   "source": [
    "print([num**3 for num in range(1, 4) if num%2==0])"
   ]
  },
  {
   "cell_type": "code",
   "execution_count": null,
   "id": "c35e1faf",
   "metadata": {},
   "outputs": [
    {
     "name": "stdout",
     "output_type": "stream",
     "text": [
      "[1, 8, 3]\n"
     ]
    }
   ],
   "source": [
    "print([num if num%2==1 else num**3 for num in range(1, 4)])  "
   ]
  },
  {
   "cell_type": "code",
   "execution_count": null,
   "id": "c8653ab4",
   "metadata": {},
   "outputs": [
    {
     "name": "stdout",
     "output_type": "stream",
     "text": [
      "[11, 21, 12, 22]\n"
     ]
    }
   ],
   "source": [
    "print([x+y for x in [1, 2] for y in [10, 20]])"
   ]
  },
  {
   "cell_type": "code",
   "execution_count": null,
   "id": "d680a6bd",
   "metadata": {},
   "outputs": [
    {
     "name": "stdout",
     "output_type": "stream",
     "text": [
      "['ac', 'ad', 'bc', 'bd']\n"
     ]
    }
   ],
   "source": [
    "print([x+y for x in ['a', 'b'] for y in ['c', 'd']])"
   ]
  },
  {
   "cell_type": "code",
   "execution_count": null,
   "id": "62aa4490",
   "metadata": {},
   "outputs": [
    {
     "name": "stdout",
     "output_type": "stream",
     "text": [
      "['ac', 'ba', 'bc']\n"
     ]
    }
   ],
   "source": [
    "print([x+y for x in ['a', 'b'] for y in ['a', 'c'] if x!=y])"
   ]
  },
  {
   "cell_type": "code",
   "execution_count": null,
   "id": "d0a6f0e6",
   "metadata": {},
   "outputs": [
    {
     "name": "stdout",
     "output_type": "stream",
     "text": [
      "{1: 10, 2: 10, 3: 10}\n"
     ]
    }
   ],
   "source": [
    "print({key:10 for key in [1, 2, 3]})"
   ]
  },
  {
   "cell_type": "code",
   "execution_count": null,
   "id": "19bb346b",
   "metadata": {},
   "outputs": [
    {
     "name": "stdout",
     "output_type": "stream",
     "text": [
      "{'A': False, 'B': False, 'C': False}\n"
     ]
    }
   ],
   "source": [
    "print({key:False for key in ['A', 'B', 'C']})"
   ]
  },
  {
   "cell_type": "code",
   "execution_count": null,
   "id": "0936b9ef",
   "metadata": {},
   "outputs": [
    {
     "name": "stdout",
     "output_type": "stream",
     "text": [
      "{1: 'C', 2: 'C', 3: 'C'}\n"
     ]
    }
   ],
   "source": [
    "print({key:value for key in [1, 2, 3] for value in ['A', 'B', 'C']})"
   ]
  },
  {
   "cell_type": "code",
   "execution_count": null,
   "id": "70519e04",
   "metadata": {},
   "outputs": [
    {
     "name": "stdout",
     "output_type": "stream",
     "text": [
      "{'A': 3, 'B': 3, 'C': 3}\n"
     ]
    }
   ],
   "source": [
    "print({key:value for value in [1, 2, 3] for key in ['A', 'B', 'C']})"
   ]
  },
  {
   "cell_type": "code",
   "execution_count": null,
   "id": "388d99b6",
   "metadata": {},
   "outputs": [
    {
     "name": "stdout",
     "output_type": "stream",
     "text": [
      "{'a', 'b', 'c'}\n"
     ]
    }
   ],
   "source": [
    "print({x for x in 'abcabcabc'})"
   ]
  },
  {
   "cell_type": "code",
   "execution_count": null,
   "id": "e22a8b6a",
   "metadata": {},
   "outputs": [
    {
     "name": "stdout",
     "output_type": "stream",
     "text": [
      "{1, 2, 3}\n"
     ]
    }
   ],
   "source": [
    "print({x for x in [1,2,3,1,2,3]})"
   ]
  },
  {
   "cell_type": "code",
   "execution_count": null,
   "id": "5efa7c6d",
   "metadata": {},
   "outputs": [
    {
     "name": "stdout",
     "output_type": "stream",
     "text": [
      "{1, 4, 9}\n"
     ]
    }
   ],
   "source": [
    "print({x**2 for x in [1,2,3,1,2,3]})"
   ]
  }
 ],
 "metadata": {
  "kernelspec": {
   "display_name": "base",
   "language": "python",
   "name": "python3"
  },
  "language_info": {
   "codemirror_mode": {
    "name": "ipython",
    "version": 3
   },
   "file_extension": ".py",
   "mimetype": "text/x-python",
   "name": "python",
   "nbconvert_exporter": "python",
   "pygments_lexer": "ipython3",
   "version": "3.12.8"
  }
 },
 "nbformat": 4,
 "nbformat_minor": 5
}
