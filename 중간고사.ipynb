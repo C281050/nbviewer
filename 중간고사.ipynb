{
 "cells": [
  {
   "cell_type": "markdown",
   "id": "ef2095f6",
   "metadata": {},
   "source": [
    "# **프로그래밍 개요**"
   ]
  },
  {
   "cell_type": "markdown",
   "id": "ffa584d6",
   "metadata": {},
   "source": [
    "# **컴퓨터 구조와 프로그래밍**\n",
    "## **컴퓨터(computer)**\n",
    "- *입력(input)*: 정보를 입력 받는 것\n",
    "- *처리(processing)*: 입력받은 정보를 처리하는 것\n",
    "- *출력(output)*: 처리한 결과를 출력하는 것\n",
    "- *저장(storage)*: 정보를 저장하는 것\n",
    "- *통신(communication)*: 정보를 주고 받는 것"
   ]
  },
  {
   "cell_type": "markdown",
   "id": "15dd3856",
   "metadata": {},
   "source": [
    "## **하드웨어(hardware)**\n",
    "- *입력장치*: 키보드, 마우스, 스캐너 등\n",
    "- *출력장치*: 모니터, 프린터 등\n",
    "- *기억장치*: RAM, ROM 등\n",
    "- *연산장치*: CPU 등등"
   ]
  },
  {
   "cell_type": "markdown",
   "id": "3fe0ebd5",
   "metadata": {},
   "source": [
    "## **소프트웨어(software)**\n",
    "- *운영체제(operating system)*: 컴퓨터의 하드웨어를 관리하고, 응용 프로그램과 하드웨어 사이에서 인터페이스 역할을 하는 소프트웨어\n",
    "    - 윈도우(Windows), 맥(Mac), 리눅스(Linux) 등\n",
    "- *응용 프로그램(application program)*: 컴퓨터를 효율적으로 사용하기 위해 만들어진 소프트웨어\n",
    "    - MS 오피스, 웹 브라우저, 게임 등"
   ]
  },
  {
   "cell_type": "markdown",
   "id": "6a223896",
   "metadata": {},
   "source": [
    "## **컴퓨터의 CPU 동작 원리**\n",
    "- **CPU(central processing unit)**: 컴퓨터의 두뇌로 컴퓨터의 모든 연산을 담당하는 장치\n",
    "- CPU의 구성\n",
    "    - **ALU(Arithmetic Logic Unit)**: 산술 연산과 논리 연산을 수행하는 장치\n",
    "    - **레지스터(register)**: CPU 내부에 존재하는 기억 장치로, CPU가 연산을 하기 위해 필요한 데이터를 임시로 저장하는 공간\n",
    "    - **제어장치(control unit)**: CPU의 동작을 제어하는 장치\n",
    "    - **메모리(memory, DRAM)**: 프로그램과 데이터를 저장하는 장치"
   ]
  },
  {
   "cell_type": "markdown",
   "id": "2731e2a0",
   "metadata": {},
   "source": [
    "## **프로그래밍**\n",
    "### **프로그래밍 언어**\n",
    "- **프로그래밍 언어(programming language)**란 컴퓨터 시스템을 구동시키는 소프트웨어를 작성하기 위한 언어로서 *컴퓨터와 의사소통을 할 수 있도록 만든 언어*\n",
    "    - 변수, 함수, 클래스, 연산, 반복 등을 수행할 수 있도록 작성된 언어\n",
    "- 프로그래밍 언어는 기계어보다는 사람이 이해하기 쉬운 형태로 작성되며, **컴파일러나 인터프리터를 통해 기계어로 번역되어 실행**\n",
    "- 각 응용분야에 따라 사용하는 프로그래밍 언어가 다름\n",
    "    - 웹 개발: HTML, CSS, JavaScript\n",
    "    - 데이터 분석: Python, R\n",
    "    - 시스템 프로그래밍: C, C++\n",
    "    - 인공지능: Python, R, Java, C++, C#"
   ]
  },
  {
   "cell_type": "markdown",
   "id": "b3d8d8b4",
   "metadata": {},
   "source": [
    "### **프로그래밍(progrmming)**\n",
    "- **프로그래밍(programming)**이란 *프로그래밍 언어를 사용하여 컴퓨터에게 실행을 요구하는 일종의 커뮤니케이션*\n",
    "- 프로그래밍 언어는 기본적인 기능을 수행할 수 있는 틀만 제공하며, 프로그래밍을 통하여 프로그래머가 원하는 기능을 수행하도록 작성해야 함\n",
    "    - 모든 기능을 처음부터 작성하는 것은 매우 어려운 일이므로, 이미 작성된 코드를 가져와서 사용하는 것이 일반적\n",
    "- 다른 프로그래머(또는 자신)이 작성한 코드를 가져와서 사용할 수 있도록 모아놓은 것을 **모듈, 패키지, 라이브러리**라고 함함"
   ]
  },
  {
   "cell_type": "markdown",
   "id": "7f3e31fa",
   "metadata": {},
   "source": [
    "### **모듈 < 패키지 < 라이브러리**\n",
    "- **모듈(module)**\n",
    "    - 프로그래밍 언어로 작성한 함수, 변수, 클래스를 모아놓은 것\n",
    "    - 일반적으로 한 개의 파일로 작성(.py)\n",
    "- **패키지(package)**\n",
    "    - 특정 기능과 관련된 여러 모듈을 하나의 폴더에 모아놓은 것\n",
    "- **라이브러리(library)**\n",
    "    - 여러 패키지와 모듈들을 모아놓은 것\n",
    "    "
   ]
  },
  {
   "cell_type": "markdown",
   "id": "93d4e6cd",
   "metadata": {},
   "source": [
    "## **프로그래밍 언어의 종류**\n",
    "### **인터프리터(interpreter)**\n",
    "     프로그램 명령어를 한 줄 씩 읽어서 번역하고, 번역한 내용을 바로 실행하는 방식\n",
    "- 파이썬, 자바스크립트, PHP, 루비 등이 있음\n",
    "- 실행 속도가 느린 단점이 있으나, 최근 JIT 컴파일러의 발달로 인해 이 단점이 해소되고 있음"
   ]
  },
  {
   "cell_type": "markdown",
   "id": "5d7acee2",
   "metadata": {},
   "source": [
    "### **컴파일러(compiler)**\n",
    "     프로그램 전체를 기계어로 번역한 후 실행하는 방식\n",
    "- C, C++, 파스칼 언어어 등이 있음\n",
    "- 실행속도가 빠르고 Standalone 프로그램(자체 실행 가능한 프로그램)을 만들기 용이함"
   ]
  },
  {
   "cell_type": "markdown",
   "id": "e46ac26a",
   "metadata": {},
   "source": [
    "## **파이썬**\n",
    "### **파이썬(Python)**\n",
    "- 1991년 귀도 반 로섬(Guido van Rossum)이 발표한 고급 프로그래밍 언어\n",
    "- **플랫폼 독립적**이며 **인터프리터식, 객체지향적, 동적 타이핑(dynamically typed)** 대화형 언어\n",
    "    - **플랫폼 독립적(platform-independent)**: 운영체제에 상관없이 동일한 기능을 수행할 수 있음\n",
    "    - **인터프리터식(interpreter)**: 코드를 한 줄씩 읽어 번역하고 실행하는 방식\n",
    "    - **객체지향적(object-oriented)**: 객체를 사용하여 데이터와 기능을 하나로 묶어서 사용하는 방식\n",
    "    - **동적 타이핑(dynamically typed**): 변수의 자료형을 미리 선언하지 않고, 할당되는 값에 따라 자료형이 결정되는 방식식"
   ]
  },
  {
   "cell_type": "markdown",
   "id": "8fa236a6",
   "metadata": {},
   "source": [
    "### **파이썬의 특징**\n",
    "- 직관적이고 단순한 문법\n",
    "- 배우는데 시간이 비교적 적게 걸림\n",
    "- 짧은 코딩으로 많은 기능을 수행할 수 있음\n",
    "- 오픈소스(open-source) 방식을 채택하여 방대한 라이브러리를 무료로 편리하게 이용할 수 있음\n",
    "- 객체지향 프로그래밍 언어의 특징을 가짐"
   ]
  },
  {
   "cell_type": "markdown",
   "id": "adffe869",
   "metadata": {},
   "source": [
    "# **변수와 입출력**\n",
    "- 변수의 선언과 입출력"
   ]
  },
  {
   "cell_type": "markdown",
   "id": "1ad7b0fc",
   "metadata": {},
   "source": [
    "## **변수와 식별자**\n",
    "### **변수**\n",
    "- **변수(variable)**는 값을 저장하는 공간\n",
    "    - 실제로는 **객체(데이터, 함수, 클래스 등)를 가리키는 메모리 주소**를 저장"
   ]
  },
  {
   "cell_type": "markdown",
   "id": "0e8e7a6e",
   "metadata": {},
   "source": [
    "### **식별자(변수명)**\n",
    "- **식별자(identifirer)**는 변수, 함수, 클래스 등의 이름이며, 이들은 식별자를 통해 접근\n",
    "- 식별자 작명 규칙\n",
    "    - 식별자는 **문자, 숫자, 언더스코어(_), 달러($) 기호**를 사용\n",
    "    - 식별자는 **숫자로 시작할 수 없음**\n",
    "    - **예약어(keyword)**는 식별자로 사용할 수 없음\n",
    "    - **공백 문자**는 식별자에 포함될 수 없음\n",
    "    - **대소문자**를 구분\n",
    "    - **유니코드 문자**도 식별자로 사용 가능\n",
    "    - **식별자의 길이에는 제한이 없음**\n",
    "    - **식별자는 의미를 명확히** 하도록 작성"
   ]
  },
  {
   "cell_type": "markdown",
   "id": "cf9450d6",
   "metadata": {},
   "source": [
    "- 파이썬에서 사용 가능한 식별자들\n",
    "    - number4: 영문자로 시작하고 난 뒤에는 숫자를 사용할 수 있음\n",
    "    - --code--, my_list: 밑줄 문자는 일반 문자와 같이 식별자 어디든 나타날 수 있음\n",
    "    - for_loop: 키워드라 할지라도 다른 문자와 연결해 쓰면 문제가 없음\n",
    "    - 숫자변수: 유니코드 문자인 한글 문자도 변수로 사용 가능\n",
    "- 파이썬에서 사용 불가능한 식별자들\n",
    "    - 1st_variable: 숫자 1로 시작하는 식별자임\n",
    "    - my list: 공백이 들어간 식별자임\n",
    "    - global: 파이썬의 키워드임\n",
    "    - ver2.9: 특수 기호가 사용되었음(.)\n",
    "    - num&co: 특수 기호가 사용되었음(&)"
   ]
  },
  {
   "cell_type": "markdown",
   "id": "9c46d44c",
   "metadata": {},
   "source": [
    "#### **예약어**\n",
    "- 예약어(keyword)는 프로그래밍 언어에서 이미 문법적인 용도로 사용되고 있는 이름\n",
    "    - `and`, `as`, `assert`, `break`, `class`, `continue`, `def`, `del`, `elif`, `else`, `except`, `False`, `finally`, `for`, `from`, `global`, `if`, `import`, `in`, `is`, `lambda`, `None`, `nonlocal`, `not`, `or`, `pass`, `raise`, `return`, `True`, `try`, `while`, `with`, `yield`"
   ]
  },
  {
   "cell_type": "markdown",
   "id": "23e32524",
   "metadata": {},
   "source": [
    "## **변수의 선언과 사용**\n",
    "### **변수의 생성**\n",
    "- 변수는 할당연산자인 = (assignment) 기호를 사용하여 선언(생성)\n",
    "- 변수명 = 데이터\n",
    "    - assignment가 실행되면, 데이터에 해당하는 것이 컴퓨터 메모리에 기록되고, 변수명은 데이터를 가리키는 주소를 저장"
   ]
  },
  {
   "cell_type": "code",
   "execution_count": 23,
   "id": "79642889",
   "metadata": {},
   "outputs": [
    {
     "name": "stdout",
     "output_type": "stream",
     "text": [
      "산업·데이터공학\n",
      "2165867290720\n"
     ]
    }
   ],
   "source": [
    "# 변수 var_x에 문자열 데이터 '산업데이터공학'을 저장\n",
    "var_x = '산업·데이터공학'\n",
    "\n",
    "# 변수 var_x에 저장된 데이터를 출력\n",
    "print(var_x)\n",
    "\n",
    "# 변수 var_x의 메모리 주소를 출력\n",
    "print(id(var_x))"
   ]
  },
  {
   "cell_type": "code",
   "execution_count": 24,
   "id": "ed2e4cb6",
   "metadata": {},
   "outputs": [
    {
     "name": "stdout",
     "output_type": "stream",
     "text": [
      "산업·데이터공학과\n",
      "2165867291680\n"
     ]
    }
   ],
   "source": [
    "# 변수 var_x를 문자열 데이터 '산업데이터공학과'로 수정\n",
    "var_x = '산업·데이터공학과'\n",
    "\n",
    "print(var_x)\n",
    "print(id(var_x))"
   ]
  },
  {
   "cell_type": "markdown",
   "id": "87a28f93",
   "metadata": {},
   "source": [
    "※ 이전과 다른 메모리 주소가 출력됨. 수정된 것으로 보이지만 실제로는 새로운 데이터의 주소로 변경된 것임."
   ]
  },
  {
   "cell_type": "code",
   "execution_count": 25,
   "id": "b041853a",
   "metadata": {},
   "outputs": [
    {
     "name": "stdout",
     "output_type": "stream",
     "text": [
      "산업·데이터공학과\n",
      "2165867292240\n"
     ]
    }
   ],
   "source": [
    "# 변수 var_y에 문자열 데이터 '산업데이터공학과'를 저장\n",
    "var_y = '산업·데이터공학과'\n",
    "\n",
    "print(var_y)\n",
    "print(id(var_y))"
   ]
  },
  {
   "cell_type": "markdown",
   "id": "83c17e2b",
   "metadata": {},
   "source": [
    "※ 변수 var_x와 동일한 데이터를 저장했지만, 다른 메모리 주소가 출력됨."
   ]
  },
  {
   "cell_type": "markdown",
   "id": "4b1a6f95",
   "metadata": {},
   "source": [
    "### **현재 사용 중인 변수 확인**\n",
    "#### **Ipython**\n",
    "- Ipython(interactive Python)은 Python을 대화식으로 사용할 수 있는 환경\n",
    "    - Jupyter Notebook은 Ipython을 기반으로 만들어졌으므로 Jupyter Notebook에서도 사용 가능\n",
    "- Ipython에서는 **%whos** 매직 명령어(magic command)를 사용하여 현재 사용 중인 변수 목록을 확인"
   ]
  },
  {
   "cell_type": "markdown",
   "id": "53771cce",
   "metadata": {},
   "source": [
    "- **매직 명령어(magic command)**는 Ipython에서 제공하는 특수한 명령어 \n",
    "- **%**로 시작하는 한 줄의 명령어\n",
    "    - **%lsmagic**: 모든 매직 명령어 목록 확인\n",
    "    - **%pwd**: 현재 디렉토리 경로\n",
    "    - **%ls**: 현재 디렉토리 파일 목록\n",
    "    - **%who**: 현재 커널에서 사용 중인 변수 목록\n",
    "    - **%whos**: 현재 커널에서 사용 중인 변수 목록, 데이터 타입, 값"
   ]
  },
  {
   "cell_type": "code",
   "execution_count": 26,
   "id": "b398fb79",
   "metadata": {},
   "outputs": [
    {
     "data": {
      "application/json": {
       "cell": {
        "!": "OSMagics",
        "HTML": "Other",
        "SVG": "Other",
        "bash": "Other",
        "capture": "ExecutionMagics",
        "cmd": "Other",
        "code_wrap": "ExecutionMagics",
        "debug": "ExecutionMagics",
        "file": "Other",
        "html": "DisplayMagics",
        "javascript": "DisplayMagics",
        "js": "DisplayMagics",
        "latex": "DisplayMagics",
        "markdown": "DisplayMagics",
        "perl": "Other",
        "prun": "ExecutionMagics",
        "pypy": "Other",
        "python": "Other",
        "python2": "Other",
        "python3": "Other",
        "ruby": "Other",
        "script": "ScriptMagics",
        "sh": "Other",
        "svg": "DisplayMagics",
        "sx": "OSMagics",
        "system": "OSMagics",
        "time": "ExecutionMagics",
        "timeit": "ExecutionMagics",
        "writefile": "OSMagics"
       },
       "line": {
        "alias": "OSMagics",
        "alias_magic": "BasicMagics",
        "autoawait": "AsyncMagics",
        "autocall": "AutoMagics",
        "automagic": "AutoMagics",
        "autosave": "KernelMagics",
        "bookmark": "OSMagics",
        "cd": "OSMagics",
        "clear": "KernelMagics",
        "cls": "KernelMagics",
        "code_wrap": "ExecutionMagics",
        "colors": "BasicMagics",
        "conda": "PackagingMagics",
        "config": "ConfigMagics",
        "connect_info": "KernelMagics",
        "copy": "Other",
        "ddir": "Other",
        "debug": "ExecutionMagics",
        "dhist": "OSMagics",
        "dirs": "OSMagics",
        "doctest_mode": "BasicMagics",
        "echo": "Other",
        "ed": "Other",
        "edit": "KernelMagics",
        "env": "OSMagics",
        "gui": "BasicMagics",
        "hist": "Other",
        "history": "HistoryMagics",
        "killbgscripts": "ScriptMagics",
        "ldir": "Other",
        "less": "KernelMagics",
        "load": "CodeMagics",
        "load_ext": "ExtensionMagics",
        "loadpy": "CodeMagics",
        "logoff": "LoggingMagics",
        "logon": "LoggingMagics",
        "logstart": "LoggingMagics",
        "logstate": "LoggingMagics",
        "logstop": "LoggingMagics",
        "ls": "Other",
        "lsmagic": "BasicMagics",
        "macro": "ExecutionMagics",
        "magic": "BasicMagics",
        "mamba": "PackagingMagics",
        "matplotlib": "PylabMagics",
        "micromamba": "PackagingMagics",
        "mkdir": "Other",
        "more": "KernelMagics",
        "notebook": "BasicMagics",
        "page": "BasicMagics",
        "pastebin": "CodeMagics",
        "pdb": "ExecutionMagics",
        "pdef": "NamespaceMagics",
        "pdoc": "NamespaceMagics",
        "pfile": "NamespaceMagics",
        "pinfo": "NamespaceMagics",
        "pinfo2": "NamespaceMagics",
        "pip": "PackagingMagics",
        "popd": "OSMagics",
        "pprint": "BasicMagics",
        "precision": "BasicMagics",
        "prun": "ExecutionMagics",
        "psearch": "NamespaceMagics",
        "psource": "NamespaceMagics",
        "pushd": "OSMagics",
        "pwd": "OSMagics",
        "pycat": "OSMagics",
        "pylab": "PylabMagics",
        "qtconsole": "KernelMagics",
        "quickref": "BasicMagics",
        "recall": "HistoryMagics",
        "rehashx": "OSMagics",
        "reload_ext": "ExtensionMagics",
        "ren": "Other",
        "rep": "Other",
        "rerun": "HistoryMagics",
        "reset": "NamespaceMagics",
        "reset_selective": "NamespaceMagics",
        "rmdir": "Other",
        "run": "ExecutionMagics",
        "save": "CodeMagics",
        "sc": "OSMagics",
        "set_env": "OSMagics",
        "store": "StoreMagics",
        "sx": "OSMagics",
        "system": "OSMagics",
        "tb": "ExecutionMagics",
        "time": "ExecutionMagics",
        "timeit": "ExecutionMagics",
        "unalias": "OSMagics",
        "unload_ext": "ExtensionMagics",
        "uv": "PackagingMagics",
        "who": "NamespaceMagics",
        "who_ls": "NamespaceMagics",
        "whos": "NamespaceMagics",
        "xdel": "NamespaceMagics",
        "xmode": "BasicMagics"
       }
      },
      "text/plain": [
       "Available line magics:\n",
       "%alias  %alias_magic  %autoawait  %autocall  %automagic  %autosave  %bookmark  %cd  %clear  %cls  %code_wrap  %colors  %conda  %config  %connect_info  %copy  %ddir  %debug  %dhist  %dirs  %doctest_mode  %echo  %ed  %edit  %env  %gui  %hist  %history  %killbgscripts  %ldir  %less  %load  %load_ext  %loadpy  %logoff  %logon  %logstart  %logstate  %logstop  %ls  %lsmagic  %macro  %magic  %mamba  %matplotlib  %micromamba  %mkdir  %more  %notebook  %page  %pastebin  %pdb  %pdef  %pdoc  %pfile  %pinfo  %pinfo2  %pip  %popd  %pprint  %precision  %prun  %psearch  %psource  %pushd  %pwd  %pycat  %pylab  %qtconsole  %quickref  %recall  %rehashx  %reload_ext  %ren  %rep  %rerun  %reset  %reset_selective  %rmdir  %run  %save  %sc  %set_env  %store  %sx  %system  %tb  %time  %timeit  %unalias  %unload_ext  %uv  %who  %who_ls  %whos  %xdel  %xmode\n",
       "\n",
       "Available cell magics:\n",
       "%%!  %%HTML  %%SVG  %%bash  %%capture  %%cmd  %%code_wrap  %%debug  %%file  %%html  %%javascript  %%js  %%latex  %%markdown  %%perl  %%prun  %%pypy  %%python  %%python2  %%python3  %%ruby  %%script  %%sh  %%svg  %%sx  %%system  %%time  %%timeit  %%writefile\n",
       "\n",
       "Automagic is ON, % prefix IS NOT needed for line magics."
      ]
     },
     "execution_count": 26,
     "metadata": {},
     "output_type": "execute_result"
    }
   ],
   "source": [
    "# 매직 명령어 목록 보기\n",
    "%lsmagic"
   ]
  },
  {
   "cell_type": "code",
   "execution_count": 27,
   "id": "b22dd863",
   "metadata": {},
   "outputs": [
    {
     "data": {
      "text/plain": [
       "'c:\\\\Users\\\\송인성\\\\Documents\\\\My_python_project'"
      ]
     },
     "execution_count": 27,
     "metadata": {},
     "output_type": "execute_result"
    }
   ],
   "source": [
    "# 현재 디렉토리 확인\n",
    "%pwd"
   ]
  },
  {
   "cell_type": "code",
   "execution_count": 28,
   "id": "0a7a3834",
   "metadata": {},
   "outputs": [
    {
     "name": "stdout",
     "output_type": "stream",
     "text": [
      " Volume in drive C has no label.\n",
      " Volume Serial Number is 7277-00BB\n",
      "\n",
      " Directory of c:\\Users\\송인성\\Documents\\My_python_project\n",
      "\n",
      "2025-04-08  오후 01:21    <DIR>          .\n",
      "2025-03-11  오후 12:56    <DIR>          ..\n",
      "2025-04-08  오전 11:13    <DIR>          .vscode\n",
      "2025-04-01  오전 10:53            41,324 My_first_python.ipynb\n",
      "2025-04-08  오후 05:03            41,595 중간고사.ipynb\n",
      "2025-04-08  오전 11:00            75,331 파이썬프로그래밍_iterable자료형_법과대학_C281050_송인성.ipynb\n",
      "2025-04-01  오후 11:59            32,149 파이썬프로그래밍_데이터유형_법과대학_C281050_송인성.ipynb\n",
      "2025-04-07  오전 09:25            45,499 파이썬프로그래밍_데이터의연산_법과대학_C281050_송인성.ipynb\n",
      "2025-04-01  오후 08:49            31,133 파이썬프로그래밍_변수와입출력_법과대학_C281050_송인성.ipynb\n",
      "2025-04-08  오전 11:49            19,697 파이썬프로그래밍_제어문_법과대학_C281050_송인성.ipynb\n",
      "               7 File(s)        286,728 bytes\n",
      "               3 Dir(s)  63,008,391,168 bytes free\n"
     ]
    }
   ],
   "source": [
    "# 현재 디렉토리의 파일 목록 확인\n",
    "%ls"
   ]
  },
  {
   "cell_type": "code",
   "execution_count": 29,
   "id": "135d82df",
   "metadata": {},
   "outputs": [
    {
     "name": "stdout",
     "output_type": "stream",
     "text": [
      "var_x\t var_y\t x_list\t x_str\t x_value\t \n"
     ]
    }
   ],
   "source": [
    "# 현재 커널에서 사용 중인 변수 목록\n",
    "%who"
   ]
  },
  {
   "cell_type": "code",
   "execution_count": 30,
   "id": "fc7a3bc1",
   "metadata": {},
   "outputs": [
    {
     "name": "stdout",
     "output_type": "stream",
     "text": [
      "Variable   Type    Data/Info\n",
      "----------------------------\n",
      "var_x      str     산업·데이터공학과\n",
      "var_y      str     산업·데이터공학과\n",
      "x_list     list    n=2\n",
      "x_str      str     abcde\n",
      "x_value    int     12345\n"
     ]
    }
   ],
   "source": [
    "# 현재 커널에서 사용 중인 변수 목록, 데이터 타입, 값\n",
    "%whos"
   ]
  },
  {
   "cell_type": "markdown",
   "id": "85b9137d",
   "metadata": {},
   "source": [
    "#### **Jupyter Notebook**\n",
    "- Jupyter Notebook에서는 Jupyter 변수 탭에서 확인 가능"
   ]
  },
  {
   "cell_type": "markdown",
   "id": "26b4000e",
   "metadata": {},
   "source": [
    "### **변수의 삭제**\n",
    "- **del** 명령어를 사용하여 변수를 삭제"
   ]
  },
  {
   "cell_type": "code",
   "execution_count": 31,
   "id": "6c34ef73",
   "metadata": {},
   "outputs": [
    {
     "name": "stdout",
     "output_type": "stream",
     "text": [
      "Variable   Type    Data/Info\n",
      "----------------------------\n",
      "var_x      str     산업·데이터공학과\n",
      "var_y      str     산업·데이터공학과\n",
      "var_z1     int     123\n",
      "var_z2     list    n=5\n",
      "x_list     list    n=2\n",
      "x_str      str     abcde\n",
      "x_value    int     12345\n"
     ]
    }
   ],
   "source": [
    "var_z1 = 123\n",
    "var_z2 = [1, 2, 3, 4, 5]\n",
    "\n",
    "%whos"
   ]
  },
  {
   "cell_type": "code",
   "execution_count": 32,
   "id": "27384335",
   "metadata": {},
   "outputs": [
    {
     "name": "stdout",
     "output_type": "stream",
     "text": [
      "Variable   Type    Data/Info\n",
      "----------------------------\n",
      "var_y      str     산업·데이터공학과\n",
      "var_z1     int     123\n",
      "var_z2     list    n=5\n",
      "x_list     list    n=2\n",
      "x_str      str     abcde\n",
      "x_value    int     12345\n"
     ]
    }
   ],
   "source": [
    "# 변수 var_x를 삭제\n",
    "del var_x\n",
    "\n",
    "# 변수 var_x가 삭제되었는지 확인\n",
    "%whos"
   ]
  },
  {
   "cell_type": "code",
   "execution_count": 33,
   "id": "c518fad7",
   "metadata": {},
   "outputs": [
    {
     "name": "stdout",
     "output_type": "stream",
     "text": [
      "Variable   Type    Data/Info\n",
      "----------------------------\n",
      "x_list     list    n=2\n",
      "x_str      str     abcde\n",
      "x_value    int     12345\n"
     ]
    }
   ],
   "source": [
    "# 나머지 변수들을 삭제\n",
    "del var_y, var_z1, var_z2\n",
    "\n",
    "# 모든 변수가 삭제되었는지 확인\n",
    "%whos"
   ]
  },
  {
   "cell_type": "markdown",
   "id": "8bdffdb3",
   "metadata": {},
   "source": [
    "## **데이터의 입출력**\n",
    "### **콘솔 입출력**\n",
    "- **콘솔(console)**: 키보드로 입력한 내용을 화면에 출력하고, 화면에 출력된 내용을 키보드로 입력받는 도구\n",
    "    - 콘솔창: 터미널, cmd, Powershell 등"
   ]
  },
  {
   "cell_type": "markdown",
   "id": "ecff44d6",
   "metadata": {},
   "source": [
    "#### **input() 함수**\n",
    "- input() 함수는 문자열로 사용자 입력을 받는 함수"
   ]
  },
  {
   "cell_type": "markdown",
   "id": "16f4ab18",
   "metadata": {},
   "source": [
    "- **함수(function)**\n",
    "- **함수(function)**는 특정 기능을 수행하는 코드 블록\n",
    "- 함수는 *입력값을 받아 결과값을 반환*하는 역할을 함\n",
    "    - 함수는 **함수명(입력값)** 형태로 호출\n",
    "    - 결과값은 **변수명 = 함수명(입력값)** 형태로 저장 가능"
   ]
  },
  {
   "cell_type": "code",
   "execution_count": 34,
   "id": "29fcbcca",
   "metadata": {},
   "outputs": [],
   "source": [
    "# 사용자로부터 데이터를 입력받아 변수 var_x에 저장\n",
    "var_x = input('데이터를 입력하세요: ')"
   ]
  },
  {
   "cell_type": "code",
   "execution_count": 35,
   "id": "57b7b50e",
   "metadata": {},
   "outputs": [
    {
     "name": "stdout",
     "output_type": "stream",
     "text": [
      "var_x = '123'\n",
      "type(var_x) = <class 'str'>\n"
     ]
    }
   ],
   "source": [
    "# 변수 var_x에 저장된 데이터를 출력\n",
    "print(f'{var_x = }')\n",
    "\n",
    "# 변수 var_x의 데이터 타입을 출력\n",
    "print(f'{type(var_x) = }')"
   ]
  },
  {
   "cell_type": "code",
   "execution_count": 36,
   "id": "151f1402",
   "metadata": {},
   "outputs": [
    {
     "name": "stdout",
     "output_type": "stream",
     "text": [
      "123\n",
      "<class 'int'>\n"
     ]
    }
   ],
   "source": [
    "# 사용자로부터 데이터를 입력받아 정수형으로 변환한 후, 변수 var_y에 저장\n",
    "var_y = int(input('숫자를 입력하세요: '))\n",
    "\n",
    "# 변수 var_y에 저장된 데이터를 출력\n",
    "print(var_y)\n",
    "\n",
    "# 변수 var_y의 데이터 타입을 출력\n",
    "print(type(var_y))"
   ]
  },
  {
   "cell_type": "markdown",
   "id": "69849548",
   "metadata": {},
   "source": [
    "#### **print() 함수**\n",
    "- **print(데이터)** 함수는 괄호 안에 있는 내용을 출력\n",
    "- 다양한 형태의 데이터를 출력할 수 있음\n",
    "    - **print(데이터1, 데이터2, 데이터3, ...)**\n",
    "    - **print(데이터, end='문자열')**\n",
    "    - **print(데이터, sep='문자열')**"
   ]
  },
  {
   "cell_type": "code",
   "execution_count": 37,
   "id": "47e28aca",
   "metadata": {},
   "outputs": [
    {
     "name": "stdout",
     "output_type": "stream",
     "text": [
      "10\n",
      "10 산업·데이터공학과 3.14 True\n",
      "10:산업·데이터공학과:3.14:True\n",
      "10:산업·데이터공학과:3.14:True\t**********\n"
     ]
    }
   ],
   "source": [
    "print(10)\n",
    "print(10, '산업·데이터공학과', 3.14, True)\n",
    "print(10, '산업·데이터공학과', 3.14, True, sep=':')\n",
    "print(10, '산업·데이터공학과', 3.14, True, sep=':', end='\\t**********\\n')"
   ]
  },
  {
   "cell_type": "markdown",
   "id": "d912948e",
   "metadata": {},
   "source": [
    "### **이스케이프 문자**\n",
    "- 이스케이프 문자(escape character)는 특수한 문자를 출력하거나 특수한 동작을 하도록 함\n",
    "- \\ 기호와 함께 사용\n",
    "    - \\n: 줄바꿈\n",
    "    - \\t: 탭\n",
    "    - \\\\: \\ 출력\n",
    "    - \\': '출력"
   ]
  },
  {
   "cell_type": "code",
   "execution_count": 38,
   "id": "362d597b",
   "metadata": {},
   "outputs": [
    {
     "name": "stdout",
     "output_type": "stream",
     "text": [
      "이름: 홍길동\n",
      "학번: 20210000\n",
      "학과: 산업·데이터공학과\n"
     ]
    }
   ],
   "source": [
    "# 줄바꿈 적용\n",
    "print('이름: 홍길동\\n학번: 20210000\\n학과: 산업·데이터공학과')"
   ]
  },
  {
   "cell_type": "code",
   "execution_count": 39,
   "id": "6714f967",
   "metadata": {},
   "outputs": [
    {
     "name": "stdout",
     "output_type": "stream",
     "text": [
      "이름\t학번\t\t학과\n",
      "홍길동\t20210000\t산업·데이터공학과\n",
      "김강\t20210001\t경영학과\n"
     ]
    }
   ],
   "source": [
    "# 탭 적용\n",
    "print('이름\\t학번\\t\\t학과')\n",
    "print('홍길동\\t20210000\\t산업·데이터공학과')\n",
    "print('김강\\t20210001\\t경영학과')"
   ]
  },
  {
   "cell_type": "markdown",
   "id": "59c1bcf4",
   "metadata": {},
   "source": [
    "## **f-string**\n",
    "- f-string은 문자열과 변수를 혼합하여 출력하는 다양한 문자열 포매팅(string formatting) 방법 중 하나\n",
    "    - 문자열 포매팅(string formatting)이란, 문자열 안에 어떤 값을 삽입하는 방법\n",
    "- f-string은 사용이 간편하고, 가독성이 좋은 문자열 포매팅(string formatting) 방법"
   ]
  },
  {
   "cell_type": "markdown",
   "id": "1b9bdb70",
   "metadata": {},
   "source": [
    "### **f-string 사용법**\n",
    "- f-string은 문자열 앞에 f를 붙이고, 중괄호 안에 변수명을 넣어서 사용\n",
    "    - f'{변수명}': 변수의 값 출력\n",
    "    - f'{변수명 = }': 변수의 값과 변수명 출력"
   ]
  },
  {
   "cell_type": "code",
   "execution_count": 40,
   "id": "d79cb9ab",
   "metadata": {},
   "outputs": [
    {
     "name": "stdout",
     "output_type": "stream",
     "text": [
      "54321\n",
      "------------------------------\n",
      "var_y = 54321\n",
      "------------------------------\n",
      "var_y = 54321\n"
     ]
    }
   ],
   "source": [
    "var_y = 54321 # 변수 var_y에 정수형 데이터 54321을 저장\n",
    "\n",
    "# 변수 var_y에 저장된 데이터를 출력\n",
    "print(f'{var_y}', end='\\n------------------------------\\n')\n",
    "\n",
    "# 변수 var_y에 저장된 데이터를 출력\n",
    "print(f'{var_y = }', end='\\n------------------------------\\n')\n",
    "\n",
    "# 변수 var_y에 저장된 데이터를 출력\n",
    "print(f'var_y = {var_y}')"
   ]
  },
  {
   "cell_type": "markdown",
   "id": "c5880c57",
   "metadata": {},
   "source": [
    "- f'{변수명:서식}: 서식 지정\n",
    "    - **정렬기호**: 없음 - 왼쪽, ^ - 가운데, > - 오른쪽\n",
    "    - **서식지정자**: 문자열 - s, 정수 - d, 실수 - f\n",
    "    - **소수점 자릿수 지정**: 구분자(:) 오른편에 .자릿수f를 사용"
   ]
  },
  {
   "cell_type": "code",
   "execution_count": 41,
   "id": "e034f9c1",
   "metadata": {},
   "outputs": [
    {
     "name": "stdout",
     "output_type": "stream",
     "text": [
      "var_x는 정수형이므로 d를 사용하여야 하고, 54321입니다.\n",
      "var_x를 총 20개의 자리에 표현하면,                54321입니다.\n",
      "var_x를 총 20개의 자리에 왼쪽 정렬하여 표현하면, 54321               입니다.\n",
      "var_y는 실수형이므로 f를 사용하여야 하고, 54321.123457입니다.\n",
      "var_y를 정수만 출력하면 54321입니다.\n",
      "var_y를 소수점 5자리까지만 출력하면 54321.12346입니다.\n",
      "var_y를 20자리에 가운데 정렬하여 소수점 3자리까지 출력하면      54321.123      입니다.\n"
     ]
    }
   ],
   "source": [
    "var_x = 54321\n",
    "var_y = 54321.123456789\n",
    "\n",
    "print(f'var_x는 정수형이므로 d를 사용하여야 하고, {var_x:d}입니다.')\n",
    "print(f'var_x를 총 20개의 자리에 표현하면, {var_x:20d}입니다.')\n",
    "print(f'var_x를 총 20개의 자리에 왼쪽 정렬하여 표현하면, {var_x:<20d}입니다.')\n",
    "print(f'var_y는 실수형이므로 f를 사용하여야 하고, {var_y:f}입니다.')\n",
    "print(f'var_y를 정수만 출력하면 {var_y:.0f}입니다.')\n",
    "print(f'var_y를 소수점 5자리까지만 출력하면 {var_y:.5f}입니다.')\n",
    "print(f'var_y를 20자리에 가운데 정렬하여 소수점 3자리까지 출력하면 {var_y:^20.3f}입니다.')"
   ]
  },
  {
   "cell_type": "markdown",
   "id": "3c3a46b1",
   "metadata": {},
   "source": [
    "# **데이터 유형**\n",
    "## **파이썬의 데이터 유형(type)**\n",
    "### **데이터 유형의 종류**\n",
    "- **숫자(Number**)**: 수치형 데이터, int, float, complex\n",
    "    - 123, 123.45, (123+45j)\n",
    "- **문자열(String)**: 문자 또는 문자의 집합, 단일 따옴표(') 또는 이중 따옴표(\")로 묶음\n",
    "    - 'abc', \"abc\"\n",
    "- **리스트 (List)**: 다양한 타입의 데이터 목록\n",
    "    - ['abc', 123]\n",
    "- **튜플 (Tuple)**: 다양한 타입의 데이터 목록, 리스트와 유사하나 원소의 변경이 불가\n",
    "    - ('abc', 123)\n",
    "- **딕셔너리 (Dictionary)**: key:value 조합의 데이터\n",
    "    - {'name':'Chunghun', 'id':1234}\n",
    "- **집합 (Set)**: 중복되지 않는 데이터의 집합\n",
    "    - {1, 2, 3}\n",
    "- **불린 (Boolean)**: 참(True) 또는 거짓(False)\n",
    "- **None**: 아무런 데이터가 없음을 의미. 값이 존재하지 않거나 함수에서 반환값이 없을 때 사용"
   ]
  },
  {
   "cell_type": "markdown",
   "id": "46206ccb",
   "metadata": {},
   "source": [
    "- 파이썬은 동적타입언어(dynamically typed language)\n",
    "- 파이썬은 변수의 타입을 미리 선언하지 않음\n",
    "    - 실행(런타임)시 데이터에 따라 타입이 결정되는 언어인 동적타입언어(dynamically typed language)\n",
    "        - JavaScript, perl, Ruby 등\n",
    "\n",
    "※프로그래머가 변수의 타입을 명시(컴파일 시 결정)해 주는 언어를 정적타입언어(statically typed language)라고 함\n",
    "- C, C++, Java 등"
   ]
  },
  {
   "cell_type": "markdown",
   "id": "b9f2d6cc",
   "metadata": {},
   "source": [
    "### **데이터 유형의 확인**\n",
    "- **변수에 데이터를 배정(assignment)하고 유형 확인**"
   ]
  },
  {
   "cell_type": "code",
   "execution_count": 42,
   "id": "752bafb6",
   "metadata": {},
   "outputs": [
    {
     "name": "stdout",
     "output_type": "stream",
     "text": [
      "x_value = 12345\n",
      "type(x_value) = <class 'int'>\n"
     ]
    }
   ],
   "source": [
    "# x_value에 정수 12345를 할당\n",
    "x_value = 12345\n",
    "\n",
    "# x_value의 값과 자료형을 출력\n",
    "print(f'{x_value = }\\n{type(x_value) = }')\n",
    "\n",
    "# x_value의 유형은 클래스(class) 'int'임. 즉, 객체(object)임"
   ]
  },
  {
   "cell_type": "code",
   "execution_count": 43,
   "id": "64d04441",
   "metadata": {},
   "outputs": [
    {
     "name": "stdout",
     "output_type": "stream",
     "text": [
      "x_str = 'abcde'\n",
      "type(x_str) = <class 'str'>\n"
     ]
    }
   ],
   "source": [
    "# x_str에 문자열 'abcde'를 할당\n",
    "x_str = 'abcde'\n",
    "\n",
    "# x_str의 값과 자료형을 출력\n",
    "print(f'{x_str = }\\n{type(x_str) = }')\n"
   ]
  },
  {
   "cell_type": "code",
   "execution_count": 53,
   "id": "71deb75c",
   "metadata": {},
   "outputs": [
    {
     "name": "stdout",
     "output_type": "stream",
     "text": [
      "x_list = ['abcde', 12345]\n",
      "type(x_list) = <class 'list'>\n"
     ]
    }
   ],
   "source": [
    "# x_list에 X_str과 x_value를 원소로 갖는 리스트를 할당\n",
    "x_list = [x_str, x_value]\n",
    "\n",
    "# x_list의 값과 자료형을 출력\n",
    "print(f'{x_list = }\\n{type(x_list) = }')"
   ]
  },
  {
   "cell_type": "code",
   "execution_count": null,
   "id": "acc41eff",
   "metadata": {},
   "outputs": [
    {
     "name": "stdout",
     "output_type": "stream",
     "text": [
      "x_tuple = ('abcde', 12345)\n",
      "type(x_tuple) = <class 'tuple'>\n"
     ]
    }
   ],
   "source": [
    "# x_tuple에 x_str과 x_value를 원소로 갖는 튜플을 할당\n",
    "x_tuple = (x_str, x_value)\n",
    "\n",
    "# x_tuple의 값과 자료형을 출력\n",
    "print(f'{x_tuple = }\\n{type(x_tuple) = }')"
   ]
  },
  {
   "cell_type": "code",
   "execution_count": null,
   "id": "cf914057",
   "metadata": {},
   "outputs": [
    {
     "name": "stdout",
     "output_type": "stream",
     "text": [
      "x_dict = {'name': 'chunghun ha', 'id': 67890}\n",
      "type(x_dict) = <class 'dict'>\n"
     ]
    }
   ],
   "source": [
    "# x_dict에 key가 'name'과 'id'이고 value가 'chunghun Ha'와 67890인 딕셔너리를 할당\n",
    "x_dict = {'name':'chunghun ha', 'id':67890}\n",
    "\n",
    "# x_dict의 값과 자료형을 출력\n",
    "print(f'{x_dict = }\\n{type(x_dict) = }')\n"
   ]
  },
  {
   "cell_type": "code",
   "execution_count": null,
   "id": "67393342",
   "metadata": {},
   "outputs": [
    {
     "name": "stdout",
     "output_type": "stream",
     "text": [
      "x_none = None\n",
      "type(x_none) = <class 'NoneType'>\n"
     ]
    }
   ],
   "source": [
    "# x_none에 None을 할당\n",
    "x_none = None\n",
    "\n",
    "# x_none의 값과 자료형을 출력\n",
    "print(f'{x_none = }\\n{type(x_none) = }')"
   ]
  },
  {
   "cell_type": "markdown",
   "id": "65a30b3d",
   "metadata": {},
   "source": [
    "## **변수는 객체**\n",
    "- 파이썬에서는 모든 것이 *객체(object)*\n",
    "    - 객체(object)는 속성(attribute)과 메소드(method)를 모아놓은 하나의 덩어리\n",
    "- 객체는 클래스(class)의 인스턴스(instance)로 생성하여 사용함\n",
    "    - 변수는 데이터가 배정될 때, 인스턴스가 생성됨"
   ]
  },
  {
   "cell_type": "markdown",
   "id": "6932f290",
   "metadata": {},
   "source": [
    "- 클래스(class)와 인스턴스(instance)\n",
    "- 객체(object), 인스턴스, 클래스\n",
    "    - **객체(object)**: 실제로 존재하는 것. 책상, 의자, 자동차와 같은 사물들이 곧 객체\n",
    "        - 객체는 자신만의 속성(attribute, 변수)과 동작(method, 함수)을 갖는 데이터 타입\n",
    "    - **인스턴스(instance)**: 클래스로부터 만들어진 객체를 그 클래스의 인스턴스라고 함\n",
    "        - 클래스의 타입으로 선언되었을 때 객체라고 부르고, 그 객체가 메모리에 할당되어 실제 사용될 때 인스턴스라고 부름\n",
    "    - **클래스(class)**: 객체를 정의해 놓은 것. 새로운 객체를 만들기 위한 템플릿"
   ]
  },
  {
   "cell_type": "markdown",
   "id": "fe827559",
   "metadata": {},
   "source": [
    "- 객체의 속성과 메서드 확인 방법"
   ]
  },
  {
   "cell_type": "code",
   "execution_count": 45,
   "id": "b838b261",
   "metadata": {},
   "outputs": [
    {
     "name": "stdout",
     "output_type": "stream",
     "text": [
      "['__abs__', '__add__', '__and__', '__bool__', '__ceil__', '__class__', '__delattr__', '__dir__', '__divmod__', '__doc__', '__eq__', '__float__', '__floor__', '__floordiv__', '__format__', '__ge__', '__getattribute__', '__getnewargs__', '__getstate__', '__gt__', '__hash__', '__index__', '__init__', '__init_subclass__', '__int__', '__invert__', '__le__', '__lshift__', '__lt__', '__mod__', '__mul__', '__ne__', '__neg__', '__new__', '__or__', '__pos__', '__pow__', '__radd__', '__rand__', '__rdivmod__', '__reduce__', '__reduce_ex__', '__repr__', '__rfloordiv__', '__rlshift__', '__rmod__', '__rmul__', '__ror__', '__round__', '__rpow__', '__rrshift__', '__rshift__', '__rsub__', '__rtruediv__', '__rxor__', '__setattr__', '__sizeof__', '__str__', '__sub__', '__subclasshook__', '__truediv__', '__trunc__', '__xor__', 'as_integer_ratio', 'bit_count', 'bit_length', 'conjugate', 'denominator', 'from_bytes', 'imag', 'is_integer', 'numerator', 'real', 'to_bytes']\n"
     ]
    }
   ],
   "source": [
    "x_value = 12345\n",
    "\n",
    "# x_value의 속성과 메소드를 출력\n",
    "print(dir(x_value))"
   ]
  },
  {
   "cell_type": "markdown",
   "id": "c3b6b57a",
   "metadata": {},
   "source": [
    "- 객체의 속성과 메서드는 .속성 또는 .메서드()로 호출가능"
   ]
  },
  {
   "cell_type": "code",
   "execution_count": 47,
   "id": "b2074359",
   "metadata": {},
   "outputs": [
    {
     "name": "stdout",
     "output_type": "stream",
     "text": [
      "x_value.real = 12345\n",
      "x_value.bit_length() = 14\n"
     ]
    }
   ],
   "source": [
    "# x_value의 실수부(속성)를 출력\n",
    "print(f'{x_value.real = }')\n",
    "\n",
    "# x_value의 비트 수를 계산(메서드)하여 출력\n",
    "print(f'{x_value.bit_length() = }')"
   ]
  },
  {
   "cell_type": "markdown",
   "id": "9259ef66",
   "metadata": {},
   "source": [
    "## **mutable과 immutable**\n",
    "- **mutable**: 원소의 수정 가능한 자료형\n",
    "    - 리스트, 딕셔너리\n",
    "- **immutable**: 원소의 수정이 불가능한 자료형\n",
    "    - 문자열, 튜플"
   ]
  },
  {
   "cell_type": "markdown",
   "id": "8e5707ae",
   "metadata": {},
   "source": [
    "### **mutable: 리스트**"
   ]
  },
  {
   "cell_type": "code",
   "execution_count": 48,
   "id": "03e320f6",
   "metadata": {},
   "outputs": [
    {
     "name": "stdout",
     "output_type": "stream",
     "text": [
      "Before: x_list = ['abcde', 12345]\n",
      "After: x_list = ['abcde', 'fghij']\n"
     ]
    }
   ],
   "source": [
    "x_list = ['abcde', 12345]\n",
    "\n",
    "# 원소 변경 전 x_list의 값을 출력\n",
    "print(f'Before: {x_list = }')\n",
    "\n",
    "# 인덱스 1 원소를 'fghij'로 변경\n",
    "x_list[1] = 'fghij'\n",
    "\n",
    "# 원소 변경 후 x_list의 값을 출력\n",
    "print(f'After: {x_list = }')"
   ]
  },
  {
   "cell_type": "markdown",
   "id": "d28a61d5",
   "metadata": {},
   "source": [
    "### **mutable: 딕셔너리**"
   ]
  },
  {
   "cell_type": "code",
   "execution_count": 50,
   "id": "2d7f4106",
   "metadata": {},
   "outputs": [
    {
     "name": "stdout",
     "output_type": "stream",
     "text": [
      "Before: x_dict = {'name': 'chunghun ha', 'id': 67890}\n",
      "After: x_dict = {'name': 'Gildong Hong', 'id': 67890}\n"
     ]
    }
   ],
   "source": [
    "x_dict = {'name':'chunghun ha', 'id':67890}\n",
    "\n",
    "# 원소 변경 전 x_dict의 값을 출력\n",
    "print(f'Before: {x_dict = }')\n",
    "\n",
    "# key가 'name'인 원소를 'Gildong Hong'으로 변경\n",
    "x_dict['name'] = 'Gildong Hong'\n",
    "\n",
    "# 원소 변경 후 x_dict의 값을 출력\n",
    "print(f'After: {x_dict = }')"
   ]
  },
  {
   "cell_type": "markdown",
   "id": "f476aa78",
   "metadata": {},
   "source": [
    "### **immutable: 문자열 - 원소 바꾸기 불가**"
   ]
  },
  {
   "cell_type": "code",
   "execution_count": 51,
   "id": "8420f988",
   "metadata": {},
   "outputs": [
    {
     "name": "stdout",
     "output_type": "stream",
     "text": [
      "Before: x_str = 'abcde'\n",
      "Error: 'str' object does not support item assignment\n",
      "After: x_str = 'abcde'\n"
     ]
    }
   ],
   "source": [
    "x_str = 'abcde'\n",
    "\n",
    "\n",
    "# 원소 변경 전 x_str의 값을 출력\n",
    "print(f'Before: {x_str = }')\n",
    "\n",
    "# try 블록 안의 코드를 실행하다가 에러가 발생하면 except 블록의 코드를 실행\n",
    "\n",
    "try:\n",
    "    # 인덱스 1 원소를 '2'로 변경. 문자열은 immutable 자료형이므로 에러 발생\n",
    "    x_str[1] = '2'\n",
    "except TypeError as e:  # 에러 발생 시 에러 메시지를 e에 할당\n",
    "    # 에러 메시지를 출력\n",
    "    print(f'Error: {e}')\n",
    "\n",
    "# 원소 변경 후 x_str의 값을 출력\n",
    "print(f'After: {x_str = }')"
   ]
  },
  {
   "cell_type": "markdown",
   "id": "41e00a9c",
   "metadata": {},
   "source": [
    "### **immutable: 튜플 - 원소 바꾸기 불가**"
   ]
  },
  {
   "cell_type": "code",
   "execution_count": 52,
   "id": "233c31d0",
   "metadata": {},
   "outputs": [
    {
     "name": "stdout",
     "output_type": "stream",
     "text": [
      "Before: x_tuple = ('abcde', 12345)\n",
      "Error: 'tuple' object does not support item assignment\n",
      "After: x_tuple = ('abcde', 12345)\n"
     ]
    }
   ],
   "source": [
    "x_tuple = ('abcde', 12345)\n",
    "\n",
    "# 원소 변경 전 x_tuple의 값을 출력\n",
    "print(f'Before: {x_tuple = }')\n",
    "\n",
    "# try 블록 안의 코드를 실행하다가 에러가 발생하면 except 블록의 코드를 실행\n",
    "\n",
    "try:\n",
    "    # 인덱스 1 원소를 'fghij'로 변경. 튜플은 immutable 자료형이므로 에러 발생\n",
    "    x_tuple[1] = 'fghij'\n",
    "except TypeError as e:\n",
    "    print(f'Error: {e}')\n",
    "\n",
    "# 원소 변경 후 x_tuple의 값을 출력\n",
    "print(f'After: {x_tuple = }')"
   ]
  },
  {
   "cell_type": "markdown",
   "id": "180bf6fd",
   "metadata": {},
   "source": [
    "## **자료형 변환**\n",
    "- *자료형 변환*은 데이터의 유형을 변경하는 것\n",
    "\n",
    "### **단일 자료형 변환 함수**\n",
    "- int(): 정수형으로 변환\n",
    "- float(): 실수형으로 변환\n",
    "- str(): 문자열로 변환"
   ]
  },
  {
   "cell_type": "code",
   "execution_count": 55,
   "id": "9c672d40",
   "metadata": {},
   "outputs": [
    {
     "name": "stdout",
     "output_type": "stream",
     "text": [
      "12345는 <class 'int'>\n",
      "------------------------------\n",
      "12345.0는 <class 'float'>\n",
      "------------------------------\n",
      "12345는 <class 'str'>\n",
      "------------------------------\n",
      "True는 <class 'bool'>\n"
     ]
    }
   ],
   "source": [
    "# var_x에 정수 12345를 할당\n",
    "var_x = 12345\n",
    "\n",
    "# var_x의 값과 자료형을 출력\n",
    "# 마지막(end=)에 줄바꿈('\\n')과 구분선('-' 30개) 그리고 줄바꿈('\\n')을 추가\n",
    "print(f'{var_x}는 {type(var_x)}', end='\\n'+'-'*30+'\\n')\n",
    "\n",
    "\n",
    "# var_x의 값을 실수형으로 변환하여 var_y에 할당\n",
    "var_y = float(var_x)\n",
    "\n",
    "# var_y의 값과 자료형을 출력\n",
    "print(f'{var_y}는 {type(var_y)}', end='\\n'+'-'*30+'\\n')\n",
    "\n",
    "\n",
    "# var_x의 값을 문자열로 변환하여 var_y에 할당\n",
    "var_y = str(var_x)\n",
    "\n",
    "# var_y의 값과 자료형을 출력\n",
    "print(f'{var_y}는 {type(var_y)}', end='\\n'+'-'*30+'\\n')\n",
    "\n",
    "\n",
    "# var_x의 값을 불리언으로 변환하여 var_y에 할당\n",
    "# 정수 12345는 0이 아니므로 True\n",
    "var_y = bool(var_x)\n",
    "\n",
    "# var_y의 값과 자료형을 출력\n",
    "print(f'{var_y}는 {type(var_y)}')\n",
    "\n"
   ]
  },
  {
   "cell_type": "markdown",
   "id": "2e757899",
   "metadata": {},
   "source": [
    "### **iterable 자료형 변환 함수**\n",
    "- list(): 리스트로 변환\n",
    "- tuple(): 튜플로 변환\n",
    "- dict(): 딕셔너리로 변환\n",
    "- set(): 집합으로 변환"
   ]
  },
  {
   "cell_type": "markdown",
   "id": "5f99a095",
   "metadata": {},
   "source": [
    "iterable 자료형\n",
    "- **iterable 자료형**은 반복 가능한 자료형을 의미\n",
    "    - 리스트, 튜플, 딕셔너리, 집합 등\n",
    "    - **문자열은 문자의 배열이므로 iterable 자료형**"
   ]
  },
  {
   "cell_type": "markdown",
   "id": "a513cd09",
   "metadata": {},
   "source": [
    "range() 함수\n",
    "- **range() 함수**는 연속된 정수를 생성하는 함수로서 iterable 자료형을 반환\n",
    "    - range(시작, 끝, 증가폭)\n",
    "    - 시작은 포함, 끝은 미포함\n",
    "    - 증가폭은 생략 가능하며, 생략시 1로 설정"
   ]
  },
  {
   "cell_type": "code",
   "execution_count": 56,
   "id": "f37f3aad",
   "metadata": {},
   "outputs": [
    {
     "name": "stdout",
     "output_type": "stream",
     "text": [
      "range(-10, 0, 2)는 <class 'range'>\n",
      "------------------------------\n",
      "[-10, -8, -6, -4, -2]는 <class 'list'>\n",
      "------------------------------\n",
      "(-10, -8, -6, -4, -2)는 <class 'tuple'>\n",
      "------------------------------\n",
      "{-10, -8, -6, -4, -2}는 <class 'set'>\n"
     ]
    }
   ],
   "source": [
    "# var_x에 -10부터 0전까지 2씩 증가하는 range 객체를 할당\n",
    "var_x = range(-10, 0, 2)\n",
    "\n",
    "# var_x의 값과 자료형을 출력\n",
    "print(f'{var_x}는 {type(var_x)}', end='\\n'+'-'*30+'\\n')\n",
    "\n",
    "\n",
    "# var_y에 var_x의 값을 리스트로 변환하여 할당\n",
    "var_y = list(var_x)\n",
    "\n",
    "# var_y의 값과 자료형을 출력\n",
    "print(f'{var_y}는 {type(var_y)}', end='\\n'+'-'*30+'\\n')\n",
    "\n",
    "\n",
    "# var_y에 var_x의 값을 튜플로 변환하여 할당\n",
    "var_y = tuple(var_x)\n",
    "\n",
    "# var_y의 값과 자료형을 출력\n",
    "print(f'{var_y}는 {type(var_y)}', end='\\n'+'-'*30+'\\n')\n",
    "\n",
    "\n",
    "# var_y에 var_x의 값을 집합으로 변환하여 할당\n",
    "var_y = set(var_x)\n",
    "\n",
    "# var_y의 값과 자료형을 출력\n",
    "print(f'{var_y}는 {type(var_y)}')"
   ]
  },
  {
   "cell_type": "code",
   "execution_count": 57,
   "id": "01d94adf",
   "metadata": {},
   "outputs": [
    {
     "name": "stdout",
     "output_type": "stream",
     "text": [
      "abcdab는 <class 'str'>\n",
      "------------------------------\n",
      "['a', 'b', 'c', 'd', 'a', 'b']는 <class 'list'>\n",
      "------------------------------\n",
      "('a', 'b', 'c', 'd', 'a', 'b')는 <class 'tuple'>\n",
      "------------------------------\n",
      "{'a', 'b', 'd', 'c'}는 <class 'set'>\n"
     ]
    }
   ],
   "source": [
    "# var_x에 문자열 'abcdabcd'를 할당. 문자열은 iterable 자료형임\n",
    "var_x = 'abcdab'\n",
    "\n",
    "# var_x의 값과 자료형을 출력\n",
    "print(f'{var_x}는 {type(var_x)}', end='\\n'+'-'*30+'\\n')\n",
    "\n",
    "\n",
    "# var_y에 var_x의 값을 리스트로 변환하여 할당\n",
    "var_y = list(var_x)\n",
    "print(f'{var_y}는 {type(var_y)}', end='\\n'+'-'*30+'\\n')\n",
    "\n",
    "# var_y에 var_x의 값을 튜플로 변환하여 할당\n",
    "var_y = tuple(var_x)\n",
    "print(f'{var_y}는 {type(var_y)}', end='\\n'+'-'*30+'\\n')\n",
    "\n",
    "# var_y에 var_x의 값을 집합으로 변환하여 할당\n",
    "# 집합은 중복을 허용하지 않으므로 'abcd'만 남음\n",
    "var_y = set(var_x)\n",
    "print(f'{var_y}는 {type(var_y)}')"
   ]
  },
  {
   "cell_type": "markdown",
   "id": "bda35787",
   "metadata": {},
   "source": [
    "# **데이터의 연산**\n",
    "## **연산자**\n",
    "- 연산자(operator)는 *데이터를 처리하는 기호*로, 연산(operation)을 수행하는 기능을 가지고 있음\n",
    "    - 연산 함수를 기호에 대응시킨 것\n",
    "- 연산자를 사용한 문장을 표현식(expression)이라고 함"
   ]
  },
  {
   "cell_type": "markdown",
   "id": "21aa54c1",
   "metadata": {},
   "source": [
    "## **연산**\n",
    "- 연산이란 연산자를 이용하여 데이터를 처리하는 것\n",
    "\n",
    "### **산술 연산**\n",
    "- 산술연산자(Arithemetic operators)는 숫자 데이터를 처리하는 연산자로서 *값을 반환*\n",
    "    - +: 덧셈, -: 뺄셈, *:곱셈, /: 나눗셈\n",
    "    - //: 몫, %: 나머지\n",
    "    - **: 거듭제곱\n",
    "- 산술연산자는 숫자형 데이터에서만 사용 가능\n",
    "- 산술연산자를 다른 데이터 유형에 사용하면 다른 기능을 수행\n",
    "    - iterable 자료형에 + 연산자를 사용하면 데이터를 연결\n",
    "    - iterable 자료형에 * 연산자를 사용하면 데이터를 반복"
   ]
  },
  {
   "cell_type": "code",
   "execution_count": 1,
   "id": "b4ca674a",
   "metadata": {},
   "outputs": [
    {
     "name": "stdout",
     "output_type": "stream",
     "text": [
      "2+3 = 5\n",
      "2.0+3 = 5.0\n",
      "2.0+3.0 = 5.0\n",
      "'2'+'3' = '23'\n",
      "unsupported operand type(s) for +: 'int' and 'str'\n"
     ]
    }
   ],
   "source": [
    "print(f'{2+3 = }')  # 정수 + 정수 = 정수\n",
    "print(f'{2.0+3 = }')    # 실수 + 정수 = 실수\n",
    "print(f'{2.0+3.0 = }')  # 실수 + 실수 = 실수\n",
    "print(f'{'2'+'3' = }')  # 문자열 + 문자열 = 문자열\n",
    "\n",
    "# 에러 발생\n",
    "try:\n",
    "    print(f'{2+'3' = }')  # 정수 + 문자열 = 에러\n",
    "except Exception as e:\n",
    "    print(e)"
   ]
  },
  {
   "cell_type": "code",
   "execution_count": 2,
   "id": "b827b2f3",
   "metadata": {},
   "outputs": [
    {
     "name": "stdout",
     "output_type": "stream",
     "text": [
      "2-3 = -1\n",
      "2.0-3 = -1.0\n",
      "2.0-3.0 = -1.0\n",
      "2*3 = 6\n",
      "2.0*3 = 6.0\n",
      "2.0*3.0 = 6.0\n",
      "2/3 = 0.6666666666666666\n",
      "2.0/3 = 0.6666666666666666\n",
      "2.0/3.0 = 0.6666666666666666\n"
     ]
    }
   ],
   "source": [
    "print(f'{2-3 = }')  # 정수 - 정수 = 정수\n",
    "print(f'{2.0-3 = }')    # 실수 - 정수 = 실수\n",
    "print(f'{2.0-3.0 = }')  # 실수 - 실수 = 실수\n",
    "print(f'{2*3 = }')  # 정수 * 정수 = 정수\n",
    "print(f'{2.0*3 = }')    # 실수 * 정수 = 실수\n",
    "print(f'{2.0*3.0 = }')  # 실수 * 실수 = 실수\n",
    "print(f'{2/3 = }')  # 정수 / 정수 = 실수\n",
    "print(f'{2.0/3 = }')    # 실수 / 정수 = 실수\n",
    "print(f'{2.0/3.0 = }')  # 실수 / 실수 = 실수"
   ]
  },
  {
   "cell_type": "code",
   "execution_count": 3,
   "id": "8600bb75",
   "metadata": {},
   "outputs": [
    {
     "name": "stdout",
     "output_type": "stream",
     "text": [
      "20//3 = 6\n",
      "20%3 = 2\n"
     ]
    }
   ],
   "source": [
    "# 몫\n",
    "print(f'{20//3 = }')\n",
    "\n",
    "# 나머지\n",
    "print(f'{20%3 = }')"
   ]
  },
  {
   "cell_type": "code",
   "execution_count": 4,
   "id": "2da6b00c",
   "metadata": {},
   "outputs": [
    {
     "name": "stdout",
     "output_type": "stream",
     "text": [
      "2**3 = 8\n"
     ]
    }
   ],
   "source": [
    "# 거듭제곱\n",
    "print(f'{2**3 = }')"
   ]
  },
  {
   "cell_type": "code",
   "execution_count": 5,
   "id": "2e8a50fc",
   "metadata": {},
   "outputs": [
    {
     "name": "stdout",
     "output_type": "stream",
     "text": [
      "var_x + var_x = 'AbcAbc'\n",
      "var_y + var_y = [100, 2, 3, 100, 2, 3]\n",
      "var_x * 3 = 'AbcAbcAbc'\n",
      "var_y * 3 = [100, 2, 3, 100, 2, 3, 100, 2, 3]\n"
     ]
    }
   ],
   "source": [
    "var_x = 'Abc'\n",
    "var_y = [100, 2, 3]\n",
    "\n",
    "# 문자열과 문자열의 합\n",
    "print(f'{var_x + var_x = }')\n",
    "\n",
    "# 리스트와 리스트의 합\n",
    "print(f'{var_y + var_y = }')\n",
    "\n",
    "# 문자열과 정수의 곱\n",
    "print(f'{var_x * 3 = }')\n",
    "\n",
    "# 리스트와 정수의 곱\n",
    "print(f'{var_y * 3 = }')"
   ]
  },
  {
   "cell_type": "markdown",
   "id": "911c9672",
   "metadata": {},
   "source": [
    "### **비교 연산**\n",
    "- 관계연산자는 두 개의 피연산자를 비교하여 관계를 확인하는 연산자로서 True 또는 False를 반환\n",
    "    - ==: 같다, !=: 같지 않다\n",
    "    - <,>: 작다, 크다\n",
    "    - <=, >=: 작거나 같다, 크거나 같다"
   ]
  },
  {
   "cell_type": "code",
   "execution_count": 7,
   "id": "18358695",
   "metadata": {},
   "outputs": [
    {
     "name": "stdout",
     "output_type": "stream",
     "text": [
      "2==3 = False\n",
      "2True\n",
      "2>3 = False\n",
      "2<3 = True\n",
      "2>=3 = False\n",
      "2<=3 = True\n"
     ]
    }
   ],
   "source": [
    "print(f'{2==3 = }')\n",
    "print(f'{2!=3 = }')\n",
    "print(f'{2>3 = }')\n",
    "print(f'{2<3 = }')\n",
    "print(f'{2>=3 = }')\n",
    "print(f'{2<=3 = }')"
   ]
  },
  {
   "cell_type": "code",
   "execution_count": 9,
   "id": "9edb3f06",
   "metadata": {},
   "outputs": [
    {
     "name": "stdout",
     "output_type": "stream",
     "text": [
      "(var_y == [1, 2, 3]) = True\n",
      "(var_y == (1, 2, 3,)) = False\n",
      "(var_y == [1, 2]) = False\n",
      "(var_y != [1,2]) = True\n",
      "(var_y > [1, 2]) = True\n",
      "(var_y < [1, 2]) = False\n"
     ]
    }
   ],
   "source": [
    "# 변수 var_y에 리스트 [1, 2, 3]을 할당\n",
    "var_y = [1, 2, 3]\n",
    "\n",
    "print(f'{(var_y == [1, 2, 3]) = }') # var_y와 [1, 2, 3]이 같은지 비교\n",
    "print(f'{(var_y == (1, 2, 3,)) = }')    # var_y와 (1, 2, 3)이 같은지 비교\n",
    "print(f'{(var_y == [1, 2]) = }')    # var_y와 [1, 2]이 같은지 비교\n",
    "print(f'{(var_y != [1,2]) = }') # var_y와 [1, 2]이 다른지 비교\n",
    "print(f'{(var_y > [1, 2]) = }')    # var_y가 [1, 2]보다 큰지 비교\n",
    "print(f'{(var_y < [1, 2]) = }')    # var_y가 [1, 2]보다 작은지 비교"
   ]
  },
  {
   "cell_type": "markdown",
   "id": "8a801b08",
   "metadata": {},
   "source": [
    "### **논리 연산**\n",
    "- 논리연산자(logical operators)는 논리적인 명제를 판단하는 연산자로서 True 또는 False를 반환\n",
    "    - and: 논리곱, 둘 다 참일 때만 참\n",
    "    - or: 논리합, 둘 중 하나만 참이어도 참\n",
    "    - not: 논리부정, 참이면 거짓, 거짓이면 참"
   ]
  },
  {
   "cell_type": "code",
   "execution_count": 11,
   "id": "db74e43c",
   "metadata": {},
   "outputs": [
    {
     "data": {
      "text/plain": [
       "True"
      ]
     },
     "execution_count": 11,
     "metadata": {},
     "output_type": "execute_result"
    }
   ],
   "source": [
    "# True와 True를 and 연산\n",
    "True and True"
   ]
  },
  {
   "cell_type": "code",
   "execution_count": 12,
   "id": "4bdb5eb0",
   "metadata": {},
   "outputs": [
    {
     "name": "stdout",
     "output_type": "stream",
     "text": [
      "var_y = False\n",
      "(var_x and var_y) = False\n",
      "(var_x or var_y) = True\n",
      "not var_x = False\n"
     ]
    }
   ],
   "source": [
    "# 변수 var_x에 불리언 True를 할당\n",
    "var_x = True\n",
    "\n",
    "# 변수 var_y에 10 > 20의 결과를 할당\n",
    "var_y = (10>20)\n",
    "\n",
    "print(f'{var_y = }')    # var_y의 값을 출력\n",
    "print(f'{(var_x and var_y) = }')    # var_x and var_y의 논리곱을 출력\n",
    "print(f'{(var_x or var_y) = }')    # var_x or var_y의 논리합을 출력\n",
    "print(f'{not var_x = }')    # var_x의 논리부정을 출력"
   ]
  },
  {
   "cell_type": "code",
   "execution_count": 13,
   "id": "0ddef76d",
   "metadata": {},
   "outputs": [
    {
     "name": "stdout",
     "output_type": "stream",
     "text": [
      "(2==3) and (2!=3) = False\n"
     ]
    }
   ],
   "source": [
    "# 관계연산자와 논리연산자를 함께 사용\n",
    "print(f'{(2==3) and (2!=3) = }')"
   ]
  },
  {
   "cell_type": "markdown",
   "id": "c2c8accf",
   "metadata": {},
   "source": [
    "### **멤버십 연산**\n",
    "- 멤버십 연산자(membership operators)는 데이터가 특정 데이터 집합에 포함되어 있는지를 확인하는 연산자로서 True 또는 False를 반환\n",
    "    - in: 포함되어 있으면 참\n",
    "    - not in: 포함되어 있지 않으면 참"
   ]
  },
  {
   "cell_type": "code",
   "execution_count": 14,
   "id": "07a7f076",
   "metadata": {},
   "outputs": [
    {
     "name": "stdout",
     "output_type": "stream",
     "text": [
      "(1 in var_y) = True\n",
      "('1' in var_y) = False\n",
      "(4 in var_y) = False\n",
      "(1 not in var_y) = False\n",
      "(4 not in var_y) = True\n"
     ]
    }
   ],
   "source": [
    "# 변수 var_y에 리스트 [1, 2, 3]을 할당\n",
    "var_y = [1, 2, 3]\n",
    "\n",
    "print(f'{(1 in var_y) = }')    # 1이 var_y에 포함되어 있는지 확인\n",
    "print(f'{('1' in var_y) = }')    # 문자열1이 var_y에 포함되어 있는지 확인\n",
    "print(f'{(4 in var_y) = }')    # 4가 var_y에 포함되어 있는지 확인\n",
    "print(f'{(1 not in var_y) = }')   # 1이 var_y에 포함되어 있지 않은지 확인\n",
    "print(f'{(4 not in var_y) = }')   # 4가 var_y에 포함되어 있지 않은지 확인"
   ]
  },
  {
   "cell_type": "markdown",
   "id": "287a5c89",
   "metadata": {},
   "source": [
    "### **식별 연산**\n",
    "- 식별 연산자(identity operators)는 두 개의 데이터가 동일한 객체인지(동일한 주소를 갖는지)를 확인하는 연산자로서 True 또는 False를 반환\n",
    "    - is: 동일한 객체이면 참\n",
    "    - is not: 동일한 객체가 아니면 참\n",
    "\n",
    "※ 비교 연산자(==,!=)는 두 개의 데이터가 동일한 값을 가지는지를 확인하고, 식별 연산자(is, is not)는 두 개의 데이터가 동일한 주소를 갖는지를 확인"
   ]
  },
  {
   "cell_type": "code",
   "execution_count": 15,
   "id": "b3cec676",
   "metadata": {},
   "outputs": [
    {
     "name": "stdout",
     "output_type": "stream",
     "text": [
      "(var_x == 10) = True\n",
      "(var_x is 10) = True\n"
     ]
    },
    {
     "name": "stderr",
     "output_type": "stream",
     "text": [
      "<>:8: SyntaxWarning: \"is\" with 'int' literal. Did you mean \"==\"?\n",
      "<>:8: SyntaxWarning: \"is\" with 'int' literal. Did you mean \"==\"?\n",
      "C:\\Users\\송인성\\AppData\\Local\\Temp\\ipykernel_45744\\1189903471.py:8: SyntaxWarning: \"is\" with 'int' literal. Did you mean \"==\"?\n",
      "  print(f'{(var_x is 10) = }')\n"
     ]
    }
   ],
   "source": [
    "# 변수 var_x에 정수 10을 할당\n",
    "var_x = 10\n",
    "\n",
    "# var_x가 10과 값이 같은지 확인\n",
    "print(f'{(var_x == 10) = }')\n",
    "\n",
    "# var_x가 10과 주소가 같은지 확인 -> 경고 발생\n",
    "print(f'{(var_x is 10) = }')"
   ]
  },
  {
   "cell_type": "code",
   "execution_count": 16,
   "id": "a21b96d2",
   "metadata": {},
   "outputs": [
    {
     "name": "stdout",
     "output_type": "stream",
     "text": [
      "(var_x is var_y) = False\n",
      "(var_x is var_z) = True\n",
      "(var_x is not var_y) = True\n",
      "(var_x is not var_z) = False\n"
     ]
    }
   ],
   "source": [
    "var_x = 10  # 변수 var_x에 정수 10을 할당\n",
    "var_y = 10.0 # 변수 var_y에 실수 10.0을 할당\n",
    "var_z = var_x   # var_z에 var_x를 할당\n",
    "\n",
    "print(f'{(var_x is var_y) = }')    # var_x와 var_y의 주소가 같은지 확인\n",
    "print(f'{(var_x is var_z) = }')    # var_x와 var_z의 주소가 같은지 확인\n",
    "print(f'{(var_x is not var_y) = }')    # var_x와 var_y의 주소가 다른지 확인\n",
    "print(f'{(var_x is not var_z) = }')    # var_x와 var_z의 주소가 다른지 확인"
   ]
  },
  {
   "cell_type": "markdown",
   "id": "78212bac",
   "metadata": {},
   "source": [
    "### **복합 대입 연산**\n",
    "- 복합 대입 연산자 (compound assignment operators)는 연산과 대입을 동시에 수행하는 연산자\n",
    "    - x += a: x = x + a\n",
    "    - x -= a: x = x - a\n",
    "    - x *= a: x = x * a\n",
    "    - x /= a: x = x / a\n",
    "    - x //= a: x = x // a\n",
    "    - x %= a: x = x % a\n",
    "    - x **= a: x = x ** a"
   ]
  },
  {
   "cell_type": "code",
   "execution_count": 17,
   "id": "a4548f42",
   "metadata": {},
   "outputs": [
    {
     "name": "stdout",
     "output_type": "stream",
     "text": [
      "2\n"
     ]
    }
   ],
   "source": [
    "from numpy import var\n",
    "\n",
    "\n",
    "var_x = 1\n",
    "\n",
    "# var_x = var_x + 1\n",
    "var_x += 1\n",
    "\n",
    "print(var_x)"
   ]
  },
  {
   "cell_type": "code",
   "execution_count": 19,
   "id": "42a17092",
   "metadata": {},
   "outputs": [
    {
     "name": "stdout",
     "output_type": "stream",
     "text": [
      "11\n",
      "10\n",
      "20\n",
      "10.0\n",
      "5.0\n",
      "1.0\n",
      "1.0\n"
     ]
    }
   ],
   "source": [
    "var_x = 1\n",
    "\n",
    "# ; 세미콜론으로 한 줄에 여러 개의 명령어 작성가능\n",
    "var_x += 10; print(var_x)    # 더하기\n",
    "var_x -= 1; print(var_x)     # 빼기\n",
    "var_x *= 2; print(var_x)     # 곱하기\n",
    "var_x /= 2; print(var_x)     # 나누기\n",
    "var_x //= 2; print(var_x)    # 몫\n",
    "var_x %= 2; print(var_x)     # 나머지\n",
    "var_x **= 2; print(var_x)    # 거듭제곱"
   ]
  },
  {
   "cell_type": "markdown",
   "id": "9944515f",
   "metadata": {},
   "source": [
    "## **연산의 중첩**\n",
    "- 여러 연산을 조합 및 중첩하여 수행할 수 있음\n",
    "\n",
    "### **연산의 우선순위**\n",
    "- 연산자 우선순위에 따라 연산이 수행됨\n",
    "- 연산자 우선순위는 수학에서와 동일\n",
    "    - (), **, *, /, //, %, +, -, ==, !=, >, <, >=, <=, not, and, or\n",
    "    - 가능하면, 괄호(())를 사용하여 연산의 우선순위를 명확히 하는 것이 좋음"
   ]
  },
  {
   "cell_type": "code",
   "execution_count": 20,
   "id": "fb962725",
   "metadata": {},
   "outputs": [
    {
     "name": "stdout",
     "output_type": "stream",
     "text": [
      "13\n",
      "256\n",
      "True\n",
      "False\n",
      "False\n"
     ]
    }
   ],
   "source": [
    "print(2**3+5)   # 2의 3제곱에 5를 더한 결과를 출력\n",
    "print(2**(3+5)) # 2의 3+5제곱을 출력\n",
    "print(2+3<=4+5) # 2+3이 4+5보다 작거나 같은지를 출력\n",
    "print(not 2+3<=4+5) # 2+3이 4+5보다 작거나 같지 않은지를 출력\n",
    "print(not ((2+3)<=(4+5)))   # 2+3이 4+5보다 작거나 같지 않은지를 출력"
   ]
  },
  {
   "cell_type": "markdown",
   "id": "080669b3",
   "metadata": {},
   "source": [
    "# **iterable 자료형**\n",
    "\n",
    "## **iterable 자료형**\n",
    "- iterable 자료형은 객체 내 원소를 순차적으로 가지고 올 수 있는 자료형을 의미\n",
    "    - 리스트, 튜플, 문자열, 딕셔너리, range, set\n",
    "    - 문자열(string)은 문자(character)의 시퀀스이므로 iterableb 자료형임\n",
    "\n",
    "## **인덱싱과 슬라이싱**\n",
    "### **인덱싱(indexing)**\n",
    "- iterable한 객체에서 인덱스를 지정하여 원소의 값을 추출하는 것\n",
    "    - Python에서 인덱스는 0부터 시작하여 1씩 증가\n",
    "    - 마지막 원소의 인덱스를 -1로 하여 역순으로도 접근 가능\n",
    "    - iterable 객체의 길이를 넘어가는 인덱스를 사용하면 indexError 발생"
   ]
  },
  {
   "cell_type": "code",
   "execution_count": 21,
   "id": "7e74afd3",
   "metadata": {},
   "outputs": [
    {
     "name": "stdout",
     "output_type": "stream",
     "text": [
      "1\n",
      "2\n",
      "3\n",
      "4\n",
      "5\n"
     ]
    }
   ],
   "source": [
    "x_list = [1, 2, 3, 4, 5]\n",
    "\n",
    "# 각 요소를 인덱싱\n",
    "\n",
    "print(x_list[0]) \n",
    "print(x_list[1])  \n",
    "print(x_list[2])  \n",
    "print(x_list[3])  \n",
    "print(x_list[4])  "
   ]
  },
  {
   "cell_type": "code",
   "execution_count": 22,
   "id": "bb2f3bca",
   "metadata": {},
   "outputs": [
    {
     "name": "stdout",
     "output_type": "stream",
     "text": [
      "5\n",
      "4\n",
      "3\n",
      "2\n",
      "1\n"
     ]
    }
   ],
   "source": [
    "x_list = [1, 2, 3, 4, 5]\n",
    "\n",
    "# 각 요소를 -인덱싱\n",
    "print(x_list[-1])  \n",
    "print(x_list[-2])  \n",
    "print(x_list[-3])  \n",
    "print(x_list[-4])  \n",
    "print(x_list[-5])"
   ]
  },
  {
   "cell_type": "code",
   "execution_count": 23,
   "id": "691d79d6",
   "metadata": {},
   "outputs": [
    {
     "name": "stdout",
     "output_type": "stream",
     "text": [
      "list index out of range\n"
     ]
    }
   ],
   "source": [
    "# 인덱스 범위를 벗어난 요소에 접근하면 에러가 발생\n",
    "try: \n",
    "    print(x_list[5])\n",
    "except IndexError as e:\n",
    "    print(e)"
   ]
  },
  {
   "cell_type": "markdown",
   "id": "55cee11d",
   "metadata": {},
   "source": [
    "- 리스트와 튜플의 인덱싱"
   ]
  },
  {
   "cell_type": "code",
   "execution_count": 24,
   "id": "0f520be3",
   "metadata": {},
   "outputs": [
    {
     "name": "stdout",
     "output_type": "stream",
     "text": [
      "x_list = [1, 2, 3, 4, 5]\t=>x_list[0] = 1\n",
      "x_tuple = (1, 2, 3, 4, 5)\t=>x_tuple[-1] = 5\n"
     ]
    }
   ],
   "source": [
    "x_list = [1, 2, 3, 4, 5]  # list\n",
    "x_tuple = (1, 2, 3, 4, 5) # tuple\n",
    "\n",
    "# x_list의 0번째 원소 출력\n",
    "print(f'{x_list = }\\t=>{x_list[0] = }')\n",
    "\n",
    "# x_tuple의 마지막 원소 출력, -1은 마지막 원소의 인덱스\n",
    "print(f'{x_tuple = }\\t=>{x_tuple[-1] = }')"
   ]
  },
  {
   "cell_type": "markdown",
   "id": "201e09ec",
   "metadata": {},
   "source": [
    "- 딕셔너리의 인덱싱"
   ]
  },
  {
   "cell_type": "code",
   "execution_count": 26,
   "id": "e43e3dd7",
   "metadata": {},
   "outputs": [
    {
     "name": "stdout",
     "output_type": "stream",
     "text": [
      "x_dict = {'name': ['김홍익', '이파이'], 'id': [12345, 67890]}\t=>x_dict[\"name\"][0] = '김홍익'\n"
     ]
    }
   ],
   "source": [
    "# key와 value로 이루어진 dictionary\n",
    "x_dict = {'name': ['김홍익', '이파이'], 'id': [12345, 67890]}\n",
    "\n",
    "# key를 이용하여 value에 접근\n",
    "print(f'{x_dict = }\\t=>{x_dict[\"name\"][0] = }')"
   ]
  },
  {
   "cell_type": "markdown",
   "id": "87aa07db",
   "metadata": {},
   "source": [
    "- 문자열의 인덱싱"
   ]
  },
  {
   "cell_type": "code",
   "execution_count": 27,
   "id": "ee512202",
   "metadata": {},
   "outputs": [
    {
     "name": "stdout",
     "output_type": "stream",
     "text": [
      "x_str = 'Hello World!'\t\t=>x_str[0] = 'H'\n",
      "x_str = 'Hello World!'\t\t=>x_str[3] = 'l'\n"
     ]
    }
   ],
   "source": [
    "x_str = 'Hello World!'\n",
    "\n",
    "# x_str의 0번째 원소 출력\n",
    "print(f'{x_str = }\\t\\t=>{x_str[0] = }')\n",
    "\n",
    "# x_str의 3번째 원소 출력\n",
    "print(f'{x_str = }\\t\\t=>{x_str[3] = }')"
   ]
  },
  {
   "cell_type": "markdown",
   "id": "427a3863",
   "metadata": {},
   "source": [
    "##"
   ]
  },
  {
   "cell_type": "markdown",
   "id": "6c3e5b53",
   "metadata": {},
   "source": [
    "## **슬라이싱(slicing)**\n",
    "- iterable한 객체에서 인덱스의 범위를 :로 지정하여 데이터 구간을 추출하는 것\n",
    "    - i:j: 인덱스 i에서 (j-1)까지\n",
    "    - i: 인덱스 i에서 마지막까지\n",
    "    - :j: 처음부터 (j-1)까지\n",
    "    - : : 처음부터 끝까지"
   ]
  },
  {
   "cell_type": "code",
   "execution_count": 28,
   "id": "d3c6138b",
   "metadata": {},
   "outputs": [
    {
     "name": "stdout",
     "output_type": "stream",
     "text": [
      "[1, 2]\n",
      "[1, 2, 3, 4]\n",
      "[0, 1, 2]\n",
      "[0, 1, 2, 3, 4]\n"
     ]
    }
   ],
   "source": [
    "x_list = [0, 1, 2, 3, 4]\n",
    "\n",
    "# 데이터의 일부를 슬라이싱\n",
    "print(x_list[1:3])   # 인덱스 1부터 3전까지\n",
    "print(x_list[1:])  # 인덱스 1부터 끝까지\n",
    "print(x_list[:3])  # 처음부터 인덱스 3전까지\n",
    "print(x_list[:])   # 처음부터 끝까지"
   ]
  },
  {
   "cell_type": "code",
   "execution_count": 29,
   "id": "05a606c5",
   "metadata": {},
   "outputs": [
    {
     "name": "stdout",
     "output_type": "stream",
     "text": [
      "[1, 2, 3, 4]\n"
     ]
    }
   ],
   "source": [
    "# 슬라이싱은 인덱스 범위를 벗어난 요소에 접근해도 에러가 발생하지 않음\n",
    "try:\n",
    "    print(x_list[1:10])\n",
    "except IndexError as e:\n",
    "    print(e)"
   ]
  },
  {
   "cell_type": "markdown",
   "id": "b776e2aa",
   "metadata": {},
   "source": [
    "- 리스트와 튜플의 슬라이싱"
   ]
  },
  {
   "cell_type": "code",
   "execution_count": 30,
   "id": "0490bf10",
   "metadata": {},
   "outputs": [
    {
     "name": "stdout",
     "output_type": "stream",
     "text": [
      "x_list = [1, 2, 3, 4, 5]\t=>x_list[0:3] = [1, 2, 3]\n",
      "x_tuple = (1, 2, 3, 4, 5)\t=>x_tuple[-1:-4:-1] = (5, 4, 3)\n"
     ]
    }
   ],
   "source": [
    "x_list = [1, 2, 3, 4, 5]  # list\n",
    "x_tuple = (1, 2, 3, 4, 5) # tuple\n",
    "\n",
    "# x_list의 0번째부터 3전까지 출력\n",
    "print(f'{x_list = }\\t=>{x_list[0:3] = }')\n",
    "\n",
    "# x_tuple의 뒤에서 1번째부터 4번째 전까지 출력\n",
    "print(f'{x_tuple = }\\t=>{x_tuple[-1:-4:-1] = }')"
   ]
  },
  {
   "cell_type": "markdown",
   "id": "343cedfc",
   "metadata": {},
   "source": [
    "- 딕셔너리의 슬라이싱"
   ]
  },
  {
   "cell_type": "code",
   "execution_count": 31,
   "id": "3ef8fa93",
   "metadata": {},
   "outputs": [
    {
     "name": "stdout",
     "output_type": "stream",
     "text": [
      "x_dict = {'name': ['김홍익', '이파이'], 'id': [12345, 67890]}\t=>x_dict['name'][0:1] = ['김홍익'] \n"
     ]
    }
   ],
   "source": [
    "# key와 value로 이루어진 dictionary\n",
    "x_dict = {'name':['김홍익', '이파이'], 'id': [12345, 67890]}\n",
    "\n",
    "# key를 이용하여 value에 접근\n",
    "print(f'{x_dict = }\\t=>{x_dict['name'][0:1] = } ')"
   ]
  },
  {
   "cell_type": "markdown",
   "id": "d2ecf3a4",
   "metadata": {},
   "source": [
    "- 문자열의 슬라이싱"
   ]
  },
  {
   "cell_type": "code",
   "execution_count": 33,
   "id": "a8a353f1",
   "metadata": {},
   "outputs": [
    {
     "name": "stdout",
     "output_type": "stream",
     "text": [
      "x_str = 'Hello World!'\t\t=>x_str[0:3] = 'Hel'\n",
      "x_str = 'Hello World!'\t\t=>x_str[-2:-10:-2] = 'drWo'\n"
     ]
    }
   ],
   "source": [
    "x_str = 'Hello World!'\n",
    "\n",
    "# x_str의 0번째 원소에서 3번째 전의 원소까지 출력\n",
    "print(f'{x_str = }\\t\\t=>{x_str[0:3] = }')\n",
    "\n",
    "# x_str의 뒤에서 2번째 원소에서 10번째 전의 원소까지 2칸씩 뛰며 출력\n",
    "print(f'{x_str = }\\t\\t=>{x_str[-2:-10:-2] = }')"
   ]
  },
  {
   "cell_type": "markdown",
   "id": "eceb8d2b",
   "metadata": {},
   "source": [
    "## **얕은 복사와 깊은 복사**\n",
    "### **얕은 복사(shallow copy)**\n",
    "- 객체를 복사할 때, *원본 객체의 주소만 복사*하는 것\n",
    "- 즉, 원본 객체와 복사본 객체가 같은 주소를 참조하게 됨"
   ]
  },
  {
   "cell_type": "markdown",
   "id": "636a3cb5",
   "metadata": {},
   "source": [
    "### **깊은 복사(deep copy)**\n",
    "- 객체를 복사할 때, *원본 객체의 주소가 아닌 새로운 주소에 값을 복사*하는 것\n",
    "- 즉, 원본 객체와 복사본 객체가 다른 주소를 참조하게 됨"
   ]
  },
  {
   "cell_type": "markdown",
   "id": "cbccc5ef",
   "metadata": {},
   "source": [
    "※ 변수를 assignment(=)하면, 기본적으로 얕은 복사를 함\n",
    "\n",
    "- immutable 객체(숫자, 문자열, 튜플 등)는 원소를 변경할 수 없으므로 원소를 변경하려면 새로운 객체를 생성하여 변수를 다시 assignment(=)하므로 문제가 없음\n",
    "- mutable 객체(리스트, 집합 등)는 원소를 변경이 가능하므로 변수를 assignment(=)를 하게 되면, 두 변수가 원소의 주소를 공유함 -> 한 변수의 원소 변경 시 다른 변수의 원소도 변경됨\n",
    "    - 이를 방지하기 위해서는 깊은 복사를 사용해야 함"
   ]
  },
  {
   "cell_type": "markdown",
   "id": "9a0723ba",
   "metadata": {},
   "source": [
    "####  **immutable 객체의 assignment 예시**"
   ]
  },
  {
   "cell_type": "code",
   "execution_count": 37,
   "id": "e3385825",
   "metadata": {},
   "outputs": [
    {
     "name": "stdout",
     "output_type": "stream",
     "text": [
      "x = (1, 2, 3)\t=>id(x) = 1812814202816\n",
      "y = (1, 2, 3)\t=>id(y) = 1812814202816\n"
     ]
    }
   ],
   "source": [
    "x = (1, 2, 3)\n",
    "\n",
    "# y에 x를 assign\n",
    "y = x\n",
    "\n",
    "# x와 y의 id(메모리 주소)가 같음\n",
    "print(f'{x = }\\t=>{id(x) = }')\n",
    "print(f'{y = }\\t=>{id(y) = }')"
   ]
  },
  {
   "cell_type": "markdown",
   "id": "255d03ef",
   "metadata": {},
   "source": [
    "#### **mutable 객체의 얕은 복사 예시**"
   ]
  },
  {
   "cell_type": "code",
   "execution_count": 38,
   "id": "b52cbaa0",
   "metadata": {},
   "outputs": [
    {
     "name": "stdout",
     "output_type": "stream",
     "text": [
      "x = [1, 2, 3]\t=>id(x) = 1812834178816\n",
      "y = [1, 2, 3]\t=>id(y) = 1812834178816\n"
     ]
    }
   ],
   "source": [
    "x = [1, 2, 3]\n",
    "\n",
    "# y에 x를 복사\n",
    "y = x\n",
    "\n",
    "# x와 y의 id(메모리 주소)가 같음\n",
    "print(f'{x = }\\t=>{id(x) = }')\n",
    "print(f'{y = }\\t=>{id(y) = }')"
   ]
  },
  {
   "cell_type": "code",
   "execution_count": 40,
   "id": "1f9323c5",
   "metadata": {},
   "outputs": [
    {
     "name": "stdout",
     "output_type": "stream",
     "text": [
      "x = [1, 20, 3]\t=>id(x) = 1812834178816\n",
      "y = [1, 20, 3]\t=>id(y) = 1812834178816\n"
     ]
    }
   ],
   "source": [
    "# y의 값을 변경\n",
    "y[1] = 20\n",
    "\n",
    "# y의 값을 변경하면 x의 값도 같이 변경됨\n",
    "print(f'{x = }\\t=>{id(x) = }')\n",
    "print(f'{y = }\\t=>{id(y) = }')"
   ]
  },
  {
   "cell_type": "markdown",
   "id": "be97ab7a",
   "metadata": {},
   "source": [
    "#### **mutable 객체의 깊은 복사 예시**"
   ]
  },
  {
   "cell_type": "code",
   "execution_count": 41,
   "id": "328ea4f4",
   "metadata": {},
   "outputs": [
    {
     "name": "stdout",
     "output_type": "stream",
     "text": [
      "x = [1, 2, 3]\t=>id(x) = 1812834183168\n",
      "y = [1, 2, 3]\t=>id(y) = 1812814676928\n"
     ]
    }
   ],
   "source": [
    "x = [1, 2, 3]\n",
    "\n",
    "# y에 x를 복사\n",
    "y = x.copy()\n",
    "\n",
    "# x와 y의 id(메모리 주소)가 다름\n",
    "print(f'{x = }\\t=>{id(x) = }')\n",
    "print(f'{y = }\\t=>{id(y) = }')"
   ]
  },
  {
   "cell_type": "code",
   "execution_count": 42,
   "id": "ab0a0428",
   "metadata": {},
   "outputs": [
    {
     "name": "stdout",
     "output_type": "stream",
     "text": [
      "x = [1, 2, 3]\t=>id(x) = 1812834183168\n",
      "y = [1, 20, 3]\t=>id(y) = 1812814676928\n"
     ]
    }
   ],
   "source": [
    "# y의 값을 변경\n",
    "y[1] = 20\n",
    "\n",
    "# y의 값을 변경하여도 x의 값은 변경되지 않음\n",
    "print(f'{x = }\\t=>{id(x) = }')\n",
    "print(f'{y = }\\t=>{id(y) = }')"
   ]
  },
  {
   "cell_type": "markdown",
   "id": "cc88e496",
   "metadata": {},
   "source": [
    "## **리스트와 튜플**\n",
    "- **리스트**: 다양한 타입의 데이터 목록\n",
    "    - ['abc', 123]\n",
    "- **튜플**: 다양한 타입의 데이터 목록, 리스트와 유사하나 원소의 변경이 불가\n",
    "    - ('abc', 123)\n",
    "- 리스트와 튜플은 대표적인 iterable 자료형\n",
    "    - 리스트는 []로 감싸고, 튜플은 ()로 감싸서 표현\n",
    "    - 리스트는 원소의 제거와 수정이 가능하지만(mutable), 튜플은 원소의 제거와 수정이 불가능(immutable)\n",
    "    - 튜플은 리스트보다 *공간 효율적*이며, *읽기 전용* 데이터를 사용할 때 사용"
   ]
  },
  {
   "cell_type": "markdown",
   "id": "87fcd590",
   "metadata": {},
   "source": [
    "### **기본 사용법**"
   ]
  },
  {
   "cell_type": "code",
   "execution_count": 43,
   "id": "a3d17666",
   "metadata": {},
   "outputs": [
    {
     "name": "stdout",
     "output_type": "stream",
     "text": [
      "x_list는 <class 'list'>이고, x_tuple은 <class 'tuple'>이다.\n"
     ]
    }
   ],
   "source": [
    "x_list = [1, 2, 3, 4, 5]\n",
    "x_tuple = (1, 2, 3, 4, 5)\n",
    "\n",
    "print(f'x_list는 {type(x_list)}이고, x_tuple은 {type(x_tuple)}이다.')"
   ]
  },
  {
   "cell_type": "code",
   "execution_count": 45,
   "id": "b1fc0de0",
   "metadata": {},
   "outputs": [
    {
     "name": "stdout",
     "output_type": "stream",
     "text": [
      "Before: x_list = [1, '2', 3, 5]\n",
      "After: x_list = [1, '2', 3]\n"
     ]
    }
   ],
   "source": [
    "# 원소 변경 전 x_list의 값을 출력\n",
    "print(f'Before: {x_list = }')\n",
    "\n",
    "try: \n",
    "    # 인덱스 1 원소를 '2'로 변경\n",
    "    x_list[1] = '2'\n",
    "    # 인덱스 3 원소를 삭제\n",
    "    del x_list[3]\n",
    "except TypeError as e:\n",
    "    print(f'Error: {e}')\n",
    "\n",
    "# 원소 변경 후 x_list의 값을 출력 -> 처리됨\n",
    "print(f'After: {x_list = }')"
   ]
  },
  {
   "cell_type": "code",
   "execution_count": 46,
   "id": "30aab09e",
   "metadata": {},
   "outputs": [
    {
     "name": "stdout",
     "output_type": "stream",
     "text": [
      "Before: x_tuple = (1, 2, 3, 4, 5)\n",
      "Error: 'tuple' object does not support item assignment\n",
      "Error: 'tuple' object doesn't support item deletion\n",
      "After: x_tuple = (1, 2, 3, 4, 5)\n"
     ]
    }
   ],
   "source": [
    "# 원소 변경 전 x_tuple의 값을 출력\n",
    "print(f'Before: {x_tuple = }')\n",
    "\n",
    "try: \n",
    "    # 인덱스 1 원소를 '2'로 변경\n",
    "    x_tuple[1] = '2'\n",
    "except TypeError as e:\n",
    "    print(f'Error: {e}')\n",
    "\n",
    "try:\n",
    "    # 인덱스 3 원소를 삭제\n",
    "    del x_tuple[3]\n",
    "except TypeError as e:\n",
    "    print(f'Error: {e}')\n",
    "\n",
    "# 원소 변경 후 x_tuple의 값을 출력 -> 에러 발생으로 인해 처리되지 않음\n",
    "print(f'After: {x_tuple = }')"
   ]
  },
  {
   "cell_type": "markdown",
   "id": "07ca31ec",
   "metadata": {},
   "source": [
    "### **내장함수를 이용한 리스트와 튜플 다루기**\n",
    "- 내장함수(built-in function)는 파이썬에서 기본적으로 제공하는 함수\n",
    "- 라이브러리의 import 없이 사용 가능\n",
    "\n",
    "- len(): 리스트와 튜플의 길이를 구하는 함수\n",
    "- sum(): 리스트와 튜플의 원소들의 합을 구하는 함수\n",
    "- max(): 리스트와 튜플의 원소들 중 최댓값을 구하는 함수\n",
    "- min(): 리스트와 튜플의 원소들 중 최솟값을 구하는 함수\n",
    "- sorted(): 리스트와 튜플의 원소들을 정렬하는 함수\n",
    "- all(): 리스트와 튜플의 원소들이 모두 참인지 확인하는 함수\n",
    "- any(): 리스트와 튜플의 원소들 중 하나라도 참인지 확인하는 함수"
   ]
  },
  {
   "cell_type": "code",
   "execution_count": 47,
   "id": "4300b591",
   "metadata": {},
   "outputs": [
    {
     "name": "stdout",
     "output_type": "stream",
     "text": [
      "len(x_list) = 5\n",
      "sum(x_list) = 10\n",
      "min(x_list) = 0\n",
      "max(x_list) = 4\n",
      "sorted(x_list) = [0, 1, 2, 3, 4]\n",
      "sorted(x_list, reverse=True) = [4, 3, 2, 1, 0]\n",
      "all(x_list) = False\n",
      "any(x_list) = True\n"
     ]
    }
   ],
   "source": [
    "x_list = [0, 1, 2, 3, 4]\n",
    "\n",
    "# x_list의 길이(원소의 개수) 출력\n",
    "print(f'{len(x_list) = }')\n",
    "\n",
    "# x_list의 원소들의 합 출력\n",
    "print(f'{sum(x_list) = }')\n",
    "\n",
    "# x_list의 원소들 중 최솟값 출력\n",
    "print(f'{min(x_list) = }')\n",
    "\n",
    "# x_list의 원소들 중 최댓값 출력\n",
    "print(f'{max(x_list) = }')\n",
    "\n",
    "# x_list의 원소들을 오름차순으로 정렬하여 출력\n",
    "print(f'{sorted(x_list) = }')\n",
    "\n",
    "# x_list의 원소들을 내림차순으로 정렬하여 출력\n",
    "print(f'{sorted(x_list, reverse=True) = }')\n",
    "\n",
    "# x_list의 모든 원소가 참이면(0이 아니면) True, 아니면 False 출력\n",
    "print(f'{all(x_list) = }')\n",
    "\n",
    "# x_list의 원소 중 하나라도 참이면(0이 아니면) True, 아니면 False 출력\n",
    "print(f'{any(x_list) = }')"
   ]
  },
  {
   "cell_type": "markdown",
   "id": "dece7e10",
   "metadata": {},
   "source": [
    "### **객체 메서드를 이용한 리스트와 튜플 다루기**\n",
    "- 리스트와 튜플은 객체이므로 객체의 메서드를 사용할 수 있음\n",
    "    - 리스트는 'append', 'clear', 'copy', 'count', 'extend', 'index', 'insert', 'pop','remove','reverse','sort' 등\n",
    "    - 튜플은 'count', 'index' 등"
   ]
  },
  {
   "cell_type": "code",
   "execution_count": 48,
   "id": "29c8a56c",
   "metadata": {},
   "outputs": [
    {
     "name": "stdout",
     "output_type": "stream",
     "text": [
      "['__add__', '__class__', '__class_getitem__', '__contains__', '__delattr__', '__delitem__', '__dir__', '__doc__', '__eq__', '__format__', '__ge__', '__getattribute__', '__getitem__', '__getstate__', '__gt__', '__hash__', '__iadd__', '__imul__', '__init__', '__init_subclass__', '__iter__', '__le__', '__len__', '__lt__', '__mul__', '__ne__', '__new__', '__reduce__', '__reduce_ex__', '__repr__', '__reversed__', '__rmul__', '__setattr__', '__setitem__', '__sizeof__', '__str__', '__subclasshook__', 'append', 'clear', 'copy', 'count', 'extend', 'index', 'insert', 'pop', 'remove', 'reverse', 'sort']\n",
      "================================================================================\n",
      "['__add__', '__class__', '__class_getitem__', '__contains__', '__delattr__', '__dir__', '__doc__', '__eq__', '__format__', '__ge__', '__getattribute__', '__getitem__', '__getnewargs__', '__getstate__', '__gt__', '__hash__', '__init__', '__init_subclass__', '__iter__', '__le__', '__len__', '__lt__', '__mul__', '__ne__', '__new__', '__reduce__', '__reduce_ex__', '__repr__', '__rmul__', '__setattr__', '__sizeof__', '__str__', '__subclasshook__', 'count', 'index']\n"
     ]
    }
   ],
   "source": [
    "# x_list의 메소드를 확인\n",
    "print(dir(x_list), end='\\n'+'='*80+'\\n')\n",
    "\n",
    "# x_tuple의 메소드를 확인 -> x_list보다 적은 메소드를 가지고 있음\n",
    "print(dir(x_tuple))"
   ]
  },
  {
   "cell_type": "markdown",
   "id": "c02b04cf",
   "metadata": {},
   "source": [
    "#### **각 메서드의 기능**\n",
    "- append: 리스트의 맨 뒤에 원소를 추가\n",
    "- clear: 리스트의 모든 원소를 삭제. 리스트는 존재. 빈 리스트가 됨\n",
    "- copy: 리스트를 복사, 주소값이 아닌 값 자체를 복사\n",
    "- count: 리스트(튜플)에서 특정 원소의 개수를 반환\n",
    "- extend: 리스트를 확장. 리스트를 연결\n",
    "- index: 리스트(튜플)에서 특정 원소의 인덱스를 반환\n",
    "- insert: 리스트의 특정 위치에 원소를 삽입\n",
    "- pop: 리스트의 특정 위치에 있는 원소를 삭제\n",
    "- remove: 리스트에서 특정 원소를 찾아서 삭제\n",
    "- reverse: 리스트의 원소를 역순으로 정렬\n",
    "- sort: 리스트의 원소를 정렬"
   ]
  },
  {
   "cell_type": "code",
   "execution_count": 49,
   "id": "f8a4db69",
   "metadata": {},
   "outputs": [
    {
     "name": "stdout",
     "output_type": "stream",
     "text": [
      "x_list = [1, 2, 3, 4, 5, 2, 3, 2]\n",
      "x_list.count(2) = 3\n",
      "x_list.index(2) = 1\n"
     ]
    }
   ],
   "source": [
    "x_list = [1, 2, 3, 4, 5, 2, 3, 2]\n",
    "print(f'{x_list = }')\n",
    "\n",
    "# x_list에서 2의 개수를 출력\n",
    "print(f'{x_list.count(2) = }')\n",
    "\n",
    "# x_list에서 2의 첫번째 인덱스를 출력\n",
    "print(f'{x_list.index(2) = }')"
   ]
  },
  {
   "cell_type": "code",
   "execution_count": 50,
   "id": "c580e2cc",
   "metadata": {},
   "outputs": [
    {
     "name": "stdout",
     "output_type": "stream",
     "text": [
      "y_list = [1, 2, 3, 4, 5, 2, 3, 2]\n",
      "x_list is y_list = False\n",
      "id(x_list) = 1812821391168, id(y_list) = 1812834243456\n"
     ]
    }
   ],
   "source": [
    "# x_list를 복사하여 y_list에 할당\n",
    "y_list = x_list.copy()\n",
    "\n",
    "# y_list의 값을 출력\n",
    "print(f'{y_list = }')\n",
    "\n",
    "# x_list와 y_list가 같은 객체(주소)인지 확인\n",
    "print(f'{x_list is y_list = }')\n",
    "\n",
    "# x_list의 주소를 출력\n",
    "print(f'{id(x_list) = }, {id(y_list) = }')"
   ]
  },
  {
   "cell_type": "code",
   "execution_count": 51,
   "id": "055cbd87",
   "metadata": {},
   "outputs": [
    {
     "name": "stdout",
     "output_type": "stream",
     "text": [
      "x_list = [2, 3, 2, 5, 4, 3, 2, 1]\n"
     ]
    }
   ],
   "source": [
    "# x_list를 역순으로 변경\n",
    "x_list.reverse()\n",
    "print(f'{x_list = }')"
   ]
  },
  {
   "cell_type": "code",
   "execution_count": 52,
   "id": "202c2c0f",
   "metadata": {},
   "outputs": [
    {
     "name": "stdout",
     "output_type": "stream",
     "text": [
      "x_list = [1, 2, 2, 2, 3, 3, 4, 5]\n"
     ]
    }
   ],
   "source": [
    "# x_list를 오름차순으로 정렬\n",
    "x_list.sort()\n",
    "print(f'{x_list = }')"
   ]
  },
  {
   "cell_type": "code",
   "execution_count": 53,
   "id": "c2ffcb33",
   "metadata": {},
   "outputs": [
    {
     "name": "stdout",
     "output_type": "stream",
     "text": [
      "x_list = [1, 2, 2, 2, 3, 3, 4, 5, 6]\n"
     ]
    }
   ],
   "source": [
    "# x_list의 append 메소드를 이용하여 6을 추가\n",
    "x_list.append(6)\n",
    "print(f'{x_list = }')"
   ]
  },
  {
   "cell_type": "code",
   "execution_count": 54,
   "id": "d20ea445",
   "metadata": {},
   "outputs": [
    {
     "name": "stdout",
     "output_type": "stream",
     "text": [
      "x_list = [1, 2, 2, 2, 3, 3, 4, 5, 6, 7, 8, 9]\n"
     ]
    }
   ],
   "source": [
    "# x_list의 extend 메소드를 이용하여 [7, 8, 9]를 연결\n",
    "x_list.extend([7, 8, 9])\n",
    "print(f'{x_list = }')"
   ]
  },
  {
   "cell_type": "code",
   "execution_count": 55,
   "id": "7fa732e0",
   "metadata": {},
   "outputs": [
    {
     "name": "stdout",
     "output_type": "stream",
     "text": [
      "x_list = [1, 2, 2, 2, 3, 3, 4, 5, 6, 7, 8, 9, [10, 11, 12]]\n"
     ]
    }
   ],
   "source": [
    "# x_list의 append 메소드를 이용하여 [10, 11, 12]를 추가\n",
    "x_list.append([10, 11, 12])\n",
    "print(f'{x_list = }')"
   ]
  },
  {
   "cell_type": "code",
   "execution_count": 56,
   "id": "beac4524",
   "metadata": {},
   "outputs": [
    {
     "name": "stdout",
     "output_type": "stream",
     "text": [
      "x_list = [1, 2, 2, 3.5, 2, 3, 3, 4, 5, 6, 7, 8, 9, [10, 11, 12]]\n"
     ]
    }
   ],
   "source": [
    "# x_list의 insert 메소드를 이용하여 인덱스 3에 3.5를 추가\n",
    "x_list.insert(3, 3.5)\n",
    "print(f'{x_list = }')"
   ]
  },
  {
   "cell_type": "code",
   "execution_count": 57,
   "id": "7defea80",
   "metadata": {},
   "outputs": [
    {
     "name": "stdout",
     "output_type": "stream",
     "text": [
      "x_list = [1, 2, 2, 2, 3, 3, 4, 5, 6, 7, 8, 9, [10, 11, 12]]\n"
     ]
    }
   ],
   "source": [
    "# x_list의 remove 메소드를 이용하여 3.5를 찾아서 삭제\n",
    "x_list.remove(3.5)\n",
    "print(f'{x_list = }')"
   ]
  },
  {
   "cell_type": "code",
   "execution_count": 58,
   "id": "882b216f",
   "metadata": {},
   "outputs": [
    {
     "name": "stdout",
     "output_type": "stream",
     "text": [
      "x_list = [1, 2, 2, 2, 3, 3, 4, 5, 6, 7, 8, 9]\n",
      "x_list = [1, 2, 2, 2, 3, 3, 4, 6, 7, 8, 9]\n"
     ]
    }
   ],
   "source": [
    "# x_list의 pop 메소드를 이용하여 마지막 원소를 삭제\n",
    "x_list.pop()\n",
    "print(f'{x_list = }')\n",
    "\n",
    "# x_list의 pop 메소드를 이용하여 인덱스 7의 원소를 삭제\n",
    "x_list.pop(7)\n",
    "print(f'{x_list = }')"
   ]
  },
  {
   "cell_type": "code",
   "execution_count": 59,
   "id": "6a94526f",
   "metadata": {},
   "outputs": [
    {
     "name": "stdout",
     "output_type": "stream",
     "text": [
      "x_list = [2, 2, 2, 3, 3, 4, 6, 7, 8, 9], x_pop = 1\n"
     ]
    }
   ],
   "source": [
    "# x_list의 pop 메소드를 이용하여 인덱스 0의 원소를 삭제하고, 삭제한 값을 x_pop에 할당\n",
    "x_pop = x_list.pop(0)\n",
    "print(f'{x_list = }, {x_pop = }')"
   ]
  },
  {
   "cell_type": "code",
   "execution_count": 60,
   "id": "3d79bbfb",
   "metadata": {},
   "outputs": [
    {
     "name": "stdout",
     "output_type": "stream",
     "text": [
      "x_list = []\n"
     ]
    }
   ],
   "source": [
    "# x_list의 clear 메소드를 이용하여 모든 원소를 삭제\n",
    "x_list.clear()\n",
    "print(f'{x_list = }')"
   ]
  },
  {
   "cell_type": "code",
   "execution_count": 61,
   "id": "d5a2eb19",
   "metadata": {},
   "outputs": [
    {
     "name": "stdout",
     "output_type": "stream",
     "text": [
      "Error: name 'x_list' is not defined\n"
     ]
    }
   ],
   "source": [
    "# x_list를 삭제\n",
    "del x_list\n",
    "\n",
    "try: \n",
    "    # x_list의 값을 출력\n",
    "    print(f'{x_list = }')\n",
    "except NameError as e:\n",
    "    print(f'Error: {e}')"
   ]
  },
  {
   "cell_type": "markdown",
   "id": "8d804fb5",
   "metadata": {},
   "source": [
    "## **문자열**\n",
    "### **문자열 생성**\n",
    "1. 큰따옴표(\")로 둘러싸기\n",
    "2. 작은따옴표(')로 둘러싸기\n",
    "3. 큰따옴표 3개를 연속(\"\"\")으로 둘러싸기 -> 여러 줄 작성 가능\n",
    "4. 작은따옴표 3개를 연속(''')으로 둘러싸기 -> 여러 줄 작성 가능"
   ]
  },
  {
   "cell_type": "code",
   "execution_count": 62,
   "id": "e7d98619",
   "metadata": {},
   "outputs": [
    {
     "name": "stdout",
     "output_type": "stream",
     "text": [
      "Hello Python! My name is Python. I am Python Developer.\n"
     ]
    }
   ],
   "source": [
    "string1 = \"Hello Python! My name is Python. I am Python Developer.\"\n",
    "print(string1)"
   ]
  },
  {
   "cell_type": "code",
   "execution_count": 68,
   "id": "1fb25809",
   "metadata": {},
   "outputs": [
    {
     "name": "stdout",
     "output_type": "stream",
     "text": [
      "Hello Python! My name is Python. I am Python Developer.\n"
     ]
    }
   ],
   "source": [
    "string2 = 'Hello Python! My name is Python. I am Python Developer.'\n",
    "print(string2)"
   ]
  },
  {
   "cell_type": "code",
   "execution_count": 66,
   "id": "b1c08893",
   "metadata": {},
   "outputs": [
    {
     "name": "stdout",
     "output_type": "stream",
     "text": [
      "Hello Python!\n",
      "My name is Python.\n",
      "I am Python Developer.\n",
      "\n"
     ]
    }
   ],
   "source": [
    "string3 = \"\"\"Hello Python!\n",
    "My name is Python.\n",
    "I am Python Developer.\n",
    "\"\"\"\n",
    "print(string3)"
   ]
  },
  {
   "cell_type": "code",
   "execution_count": 69,
   "id": "1136dce5",
   "metadata": {},
   "outputs": [
    {
     "name": "stdout",
     "output_type": "stream",
     "text": [
      "Hello Python!\n",
      "My name is Python.\n",
      "I am Python Developer.\n",
      "\n"
     ]
    }
   ],
   "source": [
    "string4 = '''Hello Python!\n",
    "My name is Python.\n",
    "I am Python Developer.\n",
    "'''\n",
    "print(string4)"
   ]
  },
  {
   "cell_type": "markdown",
   "id": "c75b5fc3",
   "metadata": {},
   "source": [
    "### **이스케이프 문자**\n",
    "    이스케이프(Escape) 문자는 문자열 내부에서 특수하게 사용할 수 있도록 미리 약속으로 정해둔 코드\n",
    "\n",
    "- \\n: 문자열 안에서 줄을 바꿀 때 사용\n",
    "- \\t: 문자열 사이에 탭 간격을 줄 때 사용\n",
    "- \\\\: 문자 그대로 표현할 때 사용\n",
    "- \\',\\\": 작은따옴표(') 또는 큰따옴표(\")를 그대로 표현할 때 사용"
   ]
  },
  {
   "cell_type": "code",
   "execution_count": 70,
   "id": "3ca606aa",
   "metadata": {},
   "outputs": [
    {
     "name": "stdout",
     "output_type": "stream",
     "text": [
      "Hello \tPython! \n",
      "My \tname \tis \tPython. \n",
      "I \tam \tPython \tDeveloper.\n"
     ]
    }
   ],
   "source": [
    "string = \"Hello \\tPython! \\nMy \\tname \\tis \\tPython. \\nI \\tam \\tPython \\tDeveloper.\"\n",
    "print(string)"
   ]
  },
  {
   "cell_type": "code",
   "execution_count": 71,
   "id": "090ee66a",
   "metadata": {},
   "outputs": [
    {
     "name": "stdout",
     "output_type": "stream",
     "text": [
      "Hello \t\\Python\\! \n",
      "My \tname \tis \t'Python'. \n",
      "I \tam \t\"Python\" \tDeveloper.\n"
     ]
    }
   ],
   "source": [
    "string = \"Hello \\t\\\\Python\\\\! \\nMy \\tname \\tis \\t\\'Python\\'. \\nI \\tam \\t\\\"Python\\\" \\tDeveloper.\"\n",
    "print(string)"
   ]
  },
  {
   "cell_type": "markdown",
   "id": "351689ae",
   "metadata": {},
   "source": [
    "### **문자열의 종류**\n",
    "- r-string: 문자열 앞에 r을 붙이면, 이스케이프 문자를 무시하고 그대로 문자열 생성\n",
    "- f-string: 문자열 앞에 f를 붙이면, 문자열 내부에 변수를 사용할 수 있음"
   ]
  },
  {
   "cell_type": "code",
   "execution_count": 72,
   "id": "76de0efe",
   "metadata": {},
   "outputs": [
    {
     "name": "stdout",
     "output_type": "stream",
     "text": [
      "Hello \\t\\\\Python\\\\! \\nMy \\tname \\tis \\t\\'Python\\'. \\nI \\tam \\t\\\"Python\\\" \\tDeveloper.\n"
     ]
    }
   ],
   "source": [
    "# r-string\n",
    "string_r = r'Hello \\t\\\\Python\\\\! \\nMy \\tname \\tis \\t\\'Python\\'. \\nI \\tam \\t\\\"Python\\\" \\tDeveloper.'\n",
    "print(string_r)"
   ]
  },
  {
   "cell_type": "code",
   "execution_count": 73,
   "id": "d45c842d",
   "metadata": {},
   "outputs": [
    {
     "name": "stdout",
     "output_type": "stream",
     "text": [
      "Hello Python! My name is Python. I am Python Developer.\n"
     ]
    }
   ],
   "source": [
    "# f-string\n",
    "name = 'Python'\n",
    "string_f = f'Hello {name}! My name is {name}. I am {name} Developer.'\n",
    "print(string_f)"
   ]
  },
  {
   "cell_type": "markdown",
   "id": "66619ff8",
   "metadata": {},
   "source": [
    "### **문자열의 인덱싱과 슬라이싱**\n",
    "- 문자열은 여러 개의 문자를 순서대로 나열한 것\n",
    "- 따라서, 문자열의 인덱싱과 슬라이싱은 다른 iterable(list, tuple 등)과 동일"
   ]
  },
  {
   "cell_type": "code",
   "execution_count": 74,
   "id": "6975cab7",
   "metadata": {},
   "outputs": [
    {
     "name": "stdout",
     "output_type": "stream",
     "text": [
      "\n",
      "==== 인덱싱(포인트) ====\n",
      "string[0] = 'H'\n",
      "string[3] = 'l'\n",
      "string[-1] = '.'\n",
      "string[-3] = 'e'\n",
      "\n",
      "==== 슬라이싱(구간) ====\n",
      "string[0:5] = 'Hello'\n",
      "string[6:12] = 'Python' \n",
      "string[:5] = 'Hello'\n",
      "string[6:] = 'Python! My name is Python. I am Python Developer.' \n",
      "string[6:-1] = 'Python! My name is Python. I am Python Developer'\n",
      "string[6:-3] = 'Python! My name is Python. I am Python Develop'\n",
      "\n",
      "==== 스텝(간격) ====\n",
      "- 인덱스 6부터 2칸씩 12까지\n",
      "string[6:12:2] = 'Pto'\n",
      "- 처음부터 끝까지 2칸씩\n",
      "string[::2] = 'HloPto!M aei yhn  mPto eeoe.'\n",
      "- 처음부터 끝까지 거꾸로 1칸씩\n",
      "string[::-1] = '.repoleveD nohtyP ma I .nohtyP si eman yM !nohtyP olleH'\n",
      "\n"
     ]
    }
   ],
   "source": [
    "string = \"Hello Python! My name is Python. I am Python Developer.\"\n",
    "print(f'''\n",
    "==== 인덱싱(포인트) ====\n",
    "{string[0] = }\n",
    "{string[3] = }\n",
    "{string[-1] = }\n",
    "{string[-3] = }\n",
    "\n",
    "==== 슬라이싱(구간) ====\n",
    "{string[0:5] = }\n",
    "{string[6:12] = } \n",
    "{string[:5] = }\n",
    "{string[6:] = } \n",
    "{string[6:-1] = }\n",
    "{string[6:-3] = }\n",
    "\n",
    "==== 스텝(간격) ====\n",
    "- 인덱스 6부터 2칸씩 12까지\n",
    "{string[6:12:2] = }\n",
    "- 처음부터 끝까지 2칸씩\n",
    "{string[::2] = }\n",
    "- 처음부터 끝까지 거꾸로 1칸씩\n",
    "{string[::-1] = }\n",
    "''')"
   ]
  },
  {
   "cell_type": "markdown",
   "id": "ef4e6c6d",
   "metadata": {},
   "source": [
    "### **문자열 연산**\n",
    "- 문자열 더하기(+): 문자열과 문자열을 합침\n",
    "- 문자열 곱하기(*): 문자열을 반복"
   ]
  },
  {
   "cell_type": "code",
   "execution_count": 75,
   "id": "5dc8c052",
   "metadata": {},
   "outputs": [
    {
     "name": "stdout",
     "output_type": "stream",
     "text": [
      "Hello Python!My name is Python.I am a Python Developer.\n"
     ]
    }
   ],
   "source": [
    "# 문자열 연결\n",
    "string = \"Hello Python!\" + \"My name is Python.\" + \"I am a Python Developer.\"\n",
    "print(string)"
   ]
  },
  {
   "cell_type": "code",
   "execution_count": 77,
   "id": "b67f8400",
   "metadata": {},
   "outputs": [
    {
     "name": "stdout",
     "output_type": "stream",
     "text": [
      "Hello Python! Hello Python! Hello Python! \n"
     ]
    }
   ],
   "source": [
    "# 문자열 반복\n",
    "string = \"Hello Python! \" * 3\n",
    "print(string)"
   ]
  },
  {
   "cell_type": "markdown",
   "id": "34dc6643",
   "metadata": {},
   "source": [
    "### **문자열 관련 함수**\n",
    "- len(): 문자열의 길이를 반환\n",
    "- in: 문자열 내부에 해당 문자열이 있는지 확인\n",
    "- not in: 문자열 내부에 해당 문자열이 없는지 확인"
   ]
  },
  {
   "cell_type": "code",
   "execution_count": 78,
   "id": "b9da8310",
   "metadata": {},
   "outputs": [
    {
     "name": "stdout",
     "output_type": "stream",
     "text": [
      "22\n",
      "True\n",
      "True\n"
     ]
    }
   ],
   "source": [
    "string = \"2024_바이오헬스 교과목 목록.xlxs\"\n",
    "\n",
    "# 문자열 길이\n",
    "print(len(string))\n",
    "\n",
    "# 문자열에 2024가 포함되어 있는지 확인\n",
    "print('2024' in string)\n",
    "\n",
    "# 문자열에 'csv'가 포함되어 있지 않은지 확인\n",
    "print('csv' not in string)"
   ]
  },
  {
   "cell_type": "markdown",
   "id": "f983b73b",
   "metadata": {},
   "source": [
    "## **딕셔너리**\n",
    "- 딕셔너리는 key와 value를 한 쌍으로 갖는 자료형\n",
    "\n",
    "### **딕셔너리 생성 및 선언**\n",
    "1. 중괄호({})로 정의\n",
    "    - key:value 형태로 하나의 요소를 구성\n",
    "    - 각 요소는 쉼표(,)로 구분\n",
    "2. dict() 내장함수를 사용하여 딕셔너리 생성\n",
    "    - dict(key1=value1, key2=value2, ...) 형태로 생성\n",
    "3. 다른 자료형을 딕셔너리로 변환\n",
    "    dict([(key1, value1), (key2, value2),...]): 리스트 안에 튜플을 넣어 딕셔너리로 변환\n",
    "    dict(zip(key_list, value_list)): 리스트 두 개를 딕셔너리로 변환"
   ]
  },
  {
   "cell_type": "markdown",
   "id": "d12fb472",
   "metadata": {},
   "source": [
    "- 빈 딕셔너리 생성"
   ]
  },
  {
   "cell_type": "code",
   "execution_count": null,
   "id": "960192d0",
   "metadata": {},
   "outputs": [
    {
     "name": "stdout",
     "output_type": "stream",
     "text": [
      "my_dict = {}\n",
      "my_dict2 = {}\n"
     ]
    }
   ],
   "source": [
    "# 중괄호로 딕셔너리 생성 -> 요소가 없는 딕셔너리\n",
    "my_dict1 = {}\n",
    "\n",
    "# dict() 함수로 딕셔너리 생성 -> 요소가 없는 딕셔너리\n",
    "my_dict2 = dict()\n",
    "\n",
    "print(f'{my_dict1 = }\\n{my_dict2 = }')"
   ]
  },
  {
   "cell_type": "markdown",
   "id": "2fd79a65",
   "metadata": {},
   "source": [
    "- 요소가 있는 딕셔너리 생성"
   ]
  },
  {
   "cell_type": "code",
   "execution_count": 81,
   "id": "b1391e74",
   "metadata": {},
   "outputs": [
    {
     "name": "stdout",
     "output_type": "stream",
     "text": [
      "my_dict1 = {'name': 'Max', 'age': 28, 'city': 'New York'}\n",
      "my_dict2 = {'name': 'Max', 'age': 28, 'city': 'New York'}\n",
      "my_dict3 = {'name': 'Max', 'age': 28, 'city': 'New York'}\n"
     ]
    }
   ],
   "source": [
    "# 중괄호로 딕셔너리 생성 -> key:value 형태로 요소 추가\n",
    "from inspect import AGEN_CLOSED\n",
    "\n",
    "\n",
    "my_dict1 = {'name': 'Max', 'age': 28, 'city': 'New York'}\n",
    "\n",
    "# dict() 함수로 딕셔너리 생성 -> key=value의 형태로 요소 추가\n",
    "# key는 문자열로 지정됨\n",
    "my_dict2 = dict(name='Max', age=28, city='New York')\n",
    "\n",
    "# dict() 함수로 딕셔너리 변환 -> (key, value) 리스트로 요소 추가\n",
    "my_dict3 = dict([('name', 'Max'), ('age', 28), ('city', 'New York')])\n",
    "\n",
    "print(f'{my_dict1 = }\\n{my_dict2 = }\\n{my_dict3 = }')"
   ]
  },
  {
   "cell_type": "code",
   "execution_count": 82,
   "id": "58d4c3fa",
   "metadata": {},
   "outputs": [
    {
     "name": "stdout",
     "output_type": "stream",
     "text": [
      "my_dict4 = {'name': 'Max', 'age': 28, 'city': 'New York'}\n"
     ]
    }
   ],
   "source": [
    "person_keys = ['name', 'age', 'city']\n",
    "person_values = ['Max', 28, 'New York']\n",
    "\n",
    "# zip()으로 묶어서 dict()로 변환\n",
    "my_dict4 = dict(zip(person_keys, person_values))\n",
    "print(f'{my_dict4 = }')"
   ]
  },
  {
   "cell_type": "markdown",
   "id": "16ad307a",
   "metadata": {},
   "source": [
    "- 딕셔너리를 value로 가지는 딕셔너리 생성"
   ]
  },
  {
   "cell_type": "code",
   "execution_count": 83,
   "id": "b28eb2d6",
   "metadata": {},
   "outputs": [
    {
     "name": "stdout",
     "output_type": "stream",
     "text": [
      "my_dict_dict = {'A': {'name': 'Max', 'age': 28, 'city': 'New York'}, 'B': {'name': 'Mary', 'age': 22, 'city': 'Seoul'}}\n"
     ]
    }
   ],
   "source": [
    "my_dict_dict = {'A': {'name': 'Max', 'age': 28, 'city': 'New York'},\n",
    "                'B': {'name': 'Mary', 'age': 22, 'city': 'Seoul'}}\n",
    "print(f'{my_dict_dict = }')"
   ]
  },
  {
   "cell_type": "markdown",
   "id": "4037517a",
   "metadata": {},
   "source": [
    "- pprint() 사용하여 보기 좋게 출력하기\n",
    "- pprint 모듈의 pprint() 함수를 사용하면, 딕셔너리를 예쁘게 출력할 수 있음"
   ]
  },
  {
   "cell_type": "code",
   "execution_count": 84,
   "id": "134421e6",
   "metadata": {},
   "outputs": [
    {
     "name": "stdout",
     "output_type": "stream",
     "text": [
      "{'A': {'age': 28, 'city': 'New York', 'name': 'Max'},\n",
      " 'B': {'age': 22, 'city': 'Seoul', 'name': 'Mary'}}\n"
     ]
    }
   ],
   "source": [
    "from pprint import pprint\n",
    "pprint(my_dict_dict)"
   ]
  },
  {
   "cell_type": "markdown",
   "id": "25bd93e4",
   "metadata": {},
   "source": [
    "### **딕셔너리 살펴보기**\n",
    "- 형태 확인하기"
   ]
  },
  {
   "cell_type": "code",
   "execution_count": 85,
   "id": "f3632f73",
   "metadata": {},
   "outputs": [
    {
     "name": "stdout",
     "output_type": "stream",
     "text": [
      "my_dict1 = {'name': 'Max', 'age': 28, 'city': 'New York'}\n",
      "type(my_dict1) = <class 'dict'>\n",
      "len(my_dict1) = 3\n",
      "True\n",
      "False\n"
     ]
    }
   ],
   "source": [
    "print(f'{my_dict1 = }')\n",
    "\n",
    "# 딕셔너리 유형 확인\n",
    "print(f'{type(my_dict1) = }')\n",
    "\n",
    "# 딕셔너리 길이(key의 개수) 확인\n",
    "print(f'{len(my_dict1) = }')\n",
    "\n",
    "# key 존재 여부 확인\n",
    "print('name' in my_dict1)\n",
    "\n",
    "# value 존재 여부는 in을 이용하여 확인할 수 없음\n",
    "print('Max' in my_dict1)"
   ]
  },
  {
   "cell_type": "markdown",
   "id": "fa03dffc",
   "metadata": {},
   "source": [
    "- 내용 확인하기"
   ]
  },
  {
   "cell_type": "code",
   "execution_count": 86,
   "id": "ca4be797",
   "metadata": {},
   "outputs": [
    {
     "name": "stdout",
     "output_type": "stream",
     "text": [
      "my_dict1[\"name\"] = 'Max'\n",
      "KeyError: 'name2'\n"
     ]
    }
   ],
   "source": [
    "# key로 value에 접근\n",
    "print(f'{my_dict1[\"name\"] = }')\n",
    "\n",
    "try: \n",
    "    # key가 없으면 에러발생\n",
    "    print(f'{my_dict1[\"name2\"] = }')\n",
    "except KeyError as e:\n",
    "    print(f'KeyError: {e}')"
   ]
  },
  {
   "cell_type": "code",
   "execution_count": 87,
   "id": "42544339",
   "metadata": {},
   "outputs": [
    {
     "name": "stdout",
     "output_type": "stream",
     "text": [
      "my_dict_dict[\"A\"][\"name\"] = 'Max'\n"
     ]
    }
   ],
   "source": [
    "# 중첩된 dict의 값에 접근\n",
    "print(f'{my_dict_dict[\"A\"][\"name\"] = }')"
   ]
  },
  {
   "cell_type": "markdown",
   "id": "b3f71665",
   "metadata": {},
   "source": [
    "- get() 메서드로 에러 회피하며 값 가져오기"
   ]
  },
  {
   "cell_type": "code",
   "execution_count": 89,
   "id": "bce9e102",
   "metadata": {},
   "outputs": [
    {
     "name": "stdout",
     "output_type": "stream",
     "text": [
      "my_dict1.get(\"name\") = 'Max'\n",
      "my_dict1.get(\"name2\") = None\n",
      "my_dict1.get(\"name2\", \"replacement\") = 'replacement'\n"
     ]
    }
   ],
   "source": [
    "# key로 값에 접근\n",
    "print(f'{my_dict1.get(\"name\") = }')\n",
    "\n",
    "# key가 없으면 None을 반환. 에러 발생하지 않음\n",
    "print(f'{my_dict1.get(\"name2\") = }')\n",
    "\n",
    "# key가 없으면 대체값을 반환\n",
    "print(f'{my_dict1.get(\"name2\", \"replacement\") = }')"
   ]
  },
  {
   "cell_type": "markdown",
   "id": "86714eb4",
   "metadata": {},
   "source": [
    "- 메서드를 이용하여 key, value, item 가져오기"
   ]
  },
  {
   "cell_type": "code",
   "execution_count": 90,
   "id": "f0b4d9bd",
   "metadata": {},
   "outputs": [
    {
     "name": "stdout",
     "output_type": "stream",
     "text": [
      "my_dict1.keys() = dict_keys(['name', 'age', 'city'])\n",
      "my_dict1.values() = dict_values(['Max', 28, 'New York'])\n",
      "my_dict1.items() = dict_items([('name', 'Max'), ('age', 28), ('city', 'New York')])\n"
     ]
    }
   ],
   "source": [
    "# key 목록 가져오기\n",
    "print(f'{my_dict1.keys() = }')\n",
    "\n",
    "# 값 목록 가져오기\n",
    "print(f'{my_dict1.values() = }')\n",
    "\n",
    "# 키와 값의 쌍을 가져오기\n",
    "print(f'{my_dict1.items() = }')"
   ]
  },
  {
   "cell_type": "markdown",
   "id": "597335cc",
   "metadata": {},
   "source": [
    "### **딕셔너리 요소 추가, 삭제, 수정하기**\n",
    "- 요소 추가 및 삭제하기"
   ]
  },
  {
   "cell_type": "code",
   "execution_count": 91,
   "id": "3f56feb3",
   "metadata": {},
   "outputs": [
    {
     "name": "stdout",
     "output_type": "stream",
     "text": [
      "my_dict1 = {'name': 'Max', 'age': 28, 'city': 'New York'}\n",
      "my_dict1 = {'name': 'Max', 'age': 28, 'city': 'New York', 'id': 123}\n"
     ]
    }
   ],
   "source": [
    "print(f'{my_dict1 = }')\n",
    "\n",
    "# 새로운 키와 값을 추가\n",
    "my_dict1[\"id\"] = 123\n",
    "print(f'{my_dict1 = }')"
   ]
  },
  {
   "cell_type": "code",
   "execution_count": 92,
   "id": "626b3e6c",
   "metadata": {},
   "outputs": [
    {
     "name": "stdout",
     "output_type": "stream",
     "text": [
      "my_dict1 = {'name': 'Max', 'age': 28, 'city': 'New York'}\n"
     ]
    }
   ],
   "source": [
    "# 키와 값을 삭제\n",
    "del my_dict1[\"id\"]\n",
    "print(f'{my_dict1 = }')"
   ]
  },
  {
   "cell_type": "markdown",
   "id": "93455a77",
   "metadata": {},
   "source": [
    "- 요소의 값만 수정하기"
   ]
  },
  {
   "cell_type": "code",
   "execution_count": 93,
   "id": "b428437e",
   "metadata": {},
   "outputs": [
    {
     "name": "stdout",
     "output_type": "stream",
     "text": [
      "my_dict1 = {'name': 'Max', 'age': 30, 'city': 'New York'}\n"
     ]
    }
   ],
   "source": [
    "# 키가 있으면 값을 수정, 없으면 추가\n",
    "my_dict1[\"age\"] = 30\n",
    "print(f'{my_dict1 = }')"
   ]
  },
  {
   "cell_type": "markdown",
   "id": "8e3f2ce7",
   "metadata": {},
   "source": [
    "- update()를 이용하여 여러 요소 한 번에 수정하기"
   ]
  },
  {
   "cell_type": "code",
   "execution_count": 94,
   "id": "5ad6bff3",
   "metadata": {},
   "outputs": [
    {
     "name": "stdout",
     "output_type": "stream",
     "text": [
      "my_dict1 = {'name': 'Max', 'age': 40, 'city': 'New York', 'id': 123, 'occupation': 'Data Scientist'}\n"
     ]
    }
   ],
   "source": [
    "# 여러 개의 키와 값을 수정, 추가\n",
    "my_dict1.update(age = 40, id = 123, occupation = \"Data Scientist\")\n",
    "print(f'{my_dict1 = }')"
   ]
  },
  {
   "cell_type": "code",
   "execution_count": 96,
   "id": "81860e69",
   "metadata": {},
   "outputs": [
    {
     "name": "stdout",
     "output_type": "stream",
     "text": [
      "my_dict1 = {'name': 'Max', 'age': 50, 'city': 'New York', 'id': 123, 'occupation': 'Data Scientist', 'affiliation': 'Hongik Univ'}\n"
     ]
    }
   ],
   "source": [
    "# 다른 dict를 통째로 추가\n",
    "my_dict1_more = {\"age\": 50, \"affiliation\": \"Hongik Univ\"}\n",
    "my_dict1.update(my_dict1_more)\n",
    "print(f'{my_dict1 = }')"
   ]
  },
  {
   "cell_type": "markdown",
   "id": "690ade30",
   "metadata": {},
   "source": [
    "- pop()을 이용하여 요소 삭제하고 저장하기"
   ]
  },
  {
   "cell_type": "code",
   "execution_count": 97,
   "id": "3bc665b5",
   "metadata": {},
   "outputs": [
    {
     "name": "stdout",
     "output_type": "stream",
     "text": [
      "my_dict1 = {'name': 'Max', 'age': 50, 'city': 'New York', 'id': 123, 'occupation': 'Data Scientist'}\n"
     ]
    }
   ],
   "source": [
    "# 키와 값을 삭제 \n",
    "my_dict1.pop(\"affiliation\")\n",
    "print(f'{my_dict1 = }')"
   ]
  },
  {
   "cell_type": "code",
   "execution_count": 98,
   "id": "c89154b1",
   "metadata": {},
   "outputs": [
    {
     "name": "stdout",
     "output_type": "stream",
     "text": [
      "my_dict1 = {'name': 'Max', 'age': 50, 'city': 'New York', 'id': 123}\n",
      "occupation = 'Data Scientist'\n"
     ]
    }
   ],
   "source": [
    "# 키와 값을 삭제하고 반환\n",
    "occupation = my_dict1.pop(\"occupation\")\n",
    "print(f'{my_dict1 = }\\n{occupation = }')"
   ]
  },
  {
   "cell_type": "markdown",
   "id": "ebf347f7",
   "metadata": {},
   "source": [
    "- pop()의 두 번째 인자로 default 값을 지정하여 에러 회피하기"
   ]
  },
  {
   "cell_type": "code",
   "execution_count": 99,
   "id": "f6fb92d1",
   "metadata": {},
   "outputs": [
    {
     "name": "stdout",
     "output_type": "stream",
     "text": [
      "KeyError: 'occupation'\n",
      "occupation = 'unknown'\n"
     ]
    }
   ],
   "source": [
    "try:\n",
    "    # 키가 없으면 에러발생\n",
    "    my_dict1.pop(\"occupation\")\n",
    "except KeyError as e:\n",
    "    print(f'KeyError: {e}')\n",
    "\n",
    "# pop()을 사용하면, 키가 없어도 에러가 발생하지 않음\n",
    "occupation = my_dict1.pop(\"occupation\", \"unknown\")\n",
    "print(f'{occupation = }')"
   ]
  },
  {
   "cell_type": "markdown",
   "id": "0cff87fe",
   "metadata": {},
   "source": [
    "- popitem()을 이용하여 마지막 요소 삭제하기"
   ]
  },
  {
   "cell_type": "code",
   "execution_count": 100,
   "id": "933abb59",
   "metadata": {},
   "outputs": [
    {
     "name": "stdout",
     "output_type": "stream",
     "text": [
      "my_dict1 = {'name': 'Max', 'age': 50, 'city': 'New York', 'id': 123}\n",
      "my_dict1 = {'name': 'Max', 'age': 50, 'city': 'New York'}\n",
      "last = ('id', 123)\n",
      "my_dict1 = {'name': 'Max', 'age': 50}\n",
      "last = ('city', 'New York')\n"
     ]
    }
   ],
   "source": [
    "print(f'{my_dict1 = }')\n",
    "\n",
    "# 마지막 키와 값을 삭제\n",
    "# 딕셔너리는 원소의 순서가 없어 임의의 키와 값을 삭제하는 것과 동일\n",
    "last = my_dict1.popitem()\n",
    "print(f'{my_dict1 = }\\n{last = }')\n",
    "\n",
    "# 임의의 키와 값을 삭제\n",
    "last = my_dict1.popitem()\n",
    "print(f'{my_dict1 = }\\n{last = }')"
   ]
  },
  {
   "cell_type": "markdown",
   "id": "b13a1852",
   "metadata": {},
   "source": [
    "- clear() 를 이용하여 모든 요소 삭제하기"
   ]
  },
  {
   "cell_type": "code",
   "execution_count": 101,
   "id": "14f57b83",
   "metadata": {},
   "outputs": [
    {
     "name": "stdout",
     "output_type": "stream",
     "text": [
      "my_dict1 = {}\n"
     ]
    }
   ],
   "source": [
    "# 모든 키와 값을 삭제\n",
    "my_dict1.clear()\n",
    "print(f'{my_dict1 = }')"
   ]
  },
  {
   "cell_type": "markdown",
   "id": "6e439be0",
   "metadata": {},
   "source": [
    "# **제어문**"
   ]
  },
  {
   "cell_type": "markdown",
   "id": "ae85091e",
   "metadata": {},
   "source": [
    "## **제어문**\n",
    "- 제어문은 코드의 실행 흐름을 제어하는 문장\n",
    "    - 분기문(branch): 조건에 따라 코드의 실행 경로를 변경\n",
    "        - if, if-else, if-elif-else\n",
    "    - 반복문(loop): 코드를 반복적으로 실행\n",
    "        - for, while\n",
    "    - 예외처리문(exception): 코드 실행 중에 발생하는 예외를 처리\n",
    "        - try-except\n",
    "- 기능이나 알고리즘을 구현할 때 반드시 필요한 문장으로 제어문을 잘 활용하면 코드의 효율성을 높일 수 있음\n",
    "- 파이썬의 예약어에는 반드시 콜론(:)이 붙음\n",
    "    - 예약어는 if, elif, else, for, while, try, except 등이 있음"
   ]
  },
  {
   "cell_type": "markdown",
   "id": "24748b80",
   "metadata": {},
   "source": [
    "## **분기문**\n",
    "- 조건(condition)의 만족 여부에 따라 코드의 실행 경로를 변경하는 문장\n",
    "    - 조건은 True 또는 False로 구분되는 문장\n",
    "    - 파이썬은 indent로 문단을 구분함\n"
   ]
  },
  {
   "cell_type": "code",
   "execution_count": 102,
   "id": "49fc6bca",
   "metadata": {},
   "outputs": [
    {
     "name": "stdout",
     "output_type": "stream",
     "text": [
      "조건이 참입니다.\n",
      "조건문이 종료되었습니다.\n"
     ]
    }
   ],
   "source": [
    "# 조건이 참이면 아래의 코드 블록을 실행\n",
    "if True:    #if 문장의 끝은 콜론(:)\n",
    "    # 들여쓰기로 if 문장의 범위를 지정\n",
    "    print('조건이 참입니다.')\n",
    "# 여기서부터는 들여쓰기가 없으므로 if 문장의 범위가 아님\n",
    "print('조건문이 종료되었습니다.')"
   ]
  },
  {
   "cell_type": "code",
   "execution_count": 103,
   "id": "95717ed1",
   "metadata": {},
   "outputs": [
    {
     "name": "stdout",
     "output_type": "stream",
     "text": [
      "조건문이 종료되었습니다.\n"
     ]
    }
   ],
   "source": [
    "# 조건이 참이면 아래의 코드 블록을 실행 -> 조건이 거짓이므로 실행되지 않음\n",
    "if False:   #if 문장의 끝은 콜론(:)\n",
    "    print('조건이 참입니다.')\n",
    "# 여기서부터는 들여쓰기가 없으므로 if 문장의 범위가 아님\n",
    "print('조건문이 종료되었습니다.')"
   ]
  },
  {
   "cell_type": "markdown",
   "id": "7f196560",
   "metadata": {},
   "source": [
    "### **if문**\n",
    "- 조건이 참일 때 아래의 코드 블록(들여쓰기한 코드들)을 실행"
   ]
  },
  {
   "cell_type": "code",
   "execution_count": 104,
   "id": "ff162745",
   "metadata": {},
   "outputs": [
    {
     "name": "stdout",
     "output_type": "stream",
     "text": [
      "걸어간다.\n"
     ]
    }
   ],
   "source": [
    "money = 100\n",
    "\n",
    "# 조건은 (money <= 500)이고, 조건이 참이면 아래의 코드 블록을 실행\n",
    "if money <= 500:\n",
    "    # 들여쓰기로 if 문장의 범위를 지정\n",
    "    print('걸어간다.')"
   ]
  },
  {
   "cell_type": "markdown",
   "id": "8b7a6cad",
   "metadata": {},
   "source": [
    "### **if-else문**\n",
    "- 조건이 참일 때 if 아래의 코드 블록을 실행하고, 거짓일 때는 else 이후의 코드 블록을 실행"
   ]
  },
  {
   "cell_type": "code",
   "execution_count": 105,
   "id": "4daebe82",
   "metadata": {},
   "outputs": [
    {
     "name": "stdout",
     "output_type": "stream",
     "text": [
      "택시탄다.\n"
     ]
    }
   ],
   "source": [
    "money = 1000\n",
    "\n",
    "if money <= 500:        # if 문장의 끝은 콜론(:)\n",
    "    print('걸어간다.')   # 들여쓰기로 if 문장의 범위를 지정\n",
    "else:                   # else 문장의 끝은 콜론(:)\n",
    "    print('택시탄다.')   # 들여쓰기로 else 문장의 범위를 지정"
   ]
  },
  {
   "cell_type": "markdown",
   "id": "99143d42",
   "metadata": {},
   "source": [
    "### **if-elif-else문**\n",
    "- 여러 조건을 순차적으로 검사하고, 참인 조건의 코드 블록을 실행"
   ]
  },
  {
   "cell_type": "code",
   "execution_count": 106,
   "id": "4baace8f",
   "metadata": {},
   "outputs": [
    {
     "name": "stdout",
     "output_type": "stream",
     "text": [
      "버스탄다.\n"
     ]
    }
   ],
   "source": [
    "money = 1000\n",
    "\n",
    "# 조건은 (money <= 500)이고, 조건이 참이면 아래의 코드를 실행\n",
    "if money <= 500:\n",
    "    print('걸어간다.')\n",
    "# 조건은 (money <= 2500)이고, 조건이 참이면 아래의 코드를 실행\n",
    "elif money <= 2500:\n",
    "    print('버스탄다.')\n",
    "# 위의 조건이 모두 거짓이면 아래의 코드를 실행\n",
    "else:\n",
    "    print('택시탄다.')"
   ]
  },
  {
   "cell_type": "markdown",
   "id": "1420e8f4",
   "metadata": {},
   "source": [
    "## **반복문**\n",
    "- 조건을 만족하는 동안 코드블럭을 반복수행하는 문장"
   ]
  },
  {
   "cell_type": "markdown",
   "id": "9c7e4a65",
   "metadata": {},
   "source": [
    "### **while문**\n",
    "- while 뒤의 조건이 True인 동안 코드블럭을 반복수행\n",
    "- while문은 종료조건을 설정하지 않으면, 무한히 반복될 수 있으므로 주의"
   ]
  },
  {
   "cell_type": "code",
   "execution_count": null,
   "id": "aeae73d1",
   "metadata": {},
   "outputs": [
    {
     "name": "stdout",
     "output_type": "stream",
     "text": [
      "n = 1\n",
      "n = 2\n",
      "n = 3\n",
      "n = 4\n",
      "n = 5\n"
     ]
    }
   ],
   "source": [
    "# 종료 조건을 위한 변수 설정\n",
    "n = 0\n",
    "\n",
    "# n이 5보다 작은 동안 아래의 코드를 반복하여 실행\n",
    "# n이 5가 되면 while문을 빠져나옴(종료조건)\n",
    "while n < 5:    # while 문장의 끝은 콜론\n",
    "    # 들여쓰기로 while 문장의 범위를 지정\n",
    "    # n을 1 증가. n += 1과 같은 의미.\n",
    "    n = n + 1\n",
    "    print(\"n =\", n)"
   ]
  },
  {
   "cell_type": "markdown",
   "id": "f42e456e",
   "metadata": {},
   "source": [
    "### **for문**\n",
    "- for 뒤의 iterable한 객체의 원소를 순차적으로 가져와서 코드블럭을 반복수행"
   ]
  },
  {
   "cell_type": "code",
   "execution_count": 109,
   "id": "a5766ac0",
   "metadata": {},
   "outputs": [
    {
     "name": "stdout",
     "output_type": "stream",
     "text": [
      "n = 0\n",
      "n = 1\n",
      "n = 2\n",
      "n = 3\n",
      "n = 4\n",
      "n = 5\n"
     ]
    }
   ],
   "source": [
    "# n에 0부터 5까지 할당. range(0,6)은 0부터 5까지의 범위를 의미\n",
    "for n in range(0, 6):\n",
    "    print(\"n =\", n) # indent 들여쓰기로 for 문장의 범위를 지정"
   ]
  },
  {
   "cell_type": "code",
   "execution_count": 110,
   "id": "7799a94e",
   "metadata": {},
   "outputs": [
    {
     "name": "stdout",
     "output_type": "stream",
     "text": [
      "item = 1\n",
      "item = 2\n",
      "item = 3\n",
      "item = 4\n",
      "item = 5\n"
     ]
    }
   ],
   "source": [
    "x_list = [1, 2, 3, 4, 5]\n",
    "\n",
    "# x_list의 원소를 item에 할당하고, item을 출력\n",
    "for item in x_list:\n",
    "    print(f'{item = }')"
   ]
  },
  {
   "cell_type": "markdown",
   "id": "027ecba9",
   "metadata": {},
   "source": [
    "- 파이썬은 함수도 객체이므로 for문의 iterable한 객체로 사용 가능\n",
    "    - len(), range(), enumerate(), zip(), map(), filter() 등은 bulit-in 함수\n",
    "         - built-in 함수는 파이썬에서 기본적으로 제공하는 함수"
   ]
  },
  {
   "cell_type": "code",
   "execution_count": 111,
   "id": "11b33526",
   "metadata": {},
   "outputs": [
    {
     "name": "stdout",
     "output_type": "stream",
     "text": [
      "<built-in function len>(x) = 5\n",
      "<built-in function max>(x) = 50\n",
      "<built-in function sum>(x) = 150\n"
     ]
    }
   ],
   "source": [
    "x = [10, 20, 30, 40, 50]\n",
    "\n",
    "# len(x), max(x), sum(x)를 순서대로 method에 할당\n",
    "for method in [len, max, sum]:\n",
    "    # method를 출력\n",
    "    print(f'{method}(x) = {method(x)}')"
   ]
  },
  {
   "cell_type": "markdown",
   "id": "c90cf14e",
   "metadata": {},
   "source": [
    "#### **enumerate() 함수를 이용한 for문**\n",
    "- for문에서 인덱스와 값을 동시에 추출하여 사용하고자 할 때 사용"
   ]
  },
  {
   "cell_type": "code",
   "execution_count": 112,
   "id": "7eac7664",
   "metadata": {},
   "outputs": [
    {
     "name": "stdout",
     "output_type": "stream",
     "text": [
      "item = (0, 'a')\n",
      "item = (1, 'b')\n",
      "item = (2, 'c')\n",
      "item = (3, 'd')\n",
      "item = (4, 'e')\n"
     ]
    }
   ],
   "source": [
    "# enumerate() 함수를 이용하여 인덱스와 리스트의 튜플을 생성\n",
    "for item in enumerate(['a', 'b', 'c', 'd', 'e']):\n",
    "    print(f'{item = }')"
   ]
  },
  {
   "cell_type": "code",
   "execution_count": 113,
   "id": "b7ab66a2",
   "metadata": {},
   "outputs": [
    {
     "name": "stdout",
     "output_type": "stream",
     "text": [
      "i = 0, item = 'a'\n",
      "i = 1, item = 'b'\n",
      "i = 2, item = 'c'\n",
      "i = 3, item = 'd'\n",
      "i = 4, item = 'e'\n"
     ]
    }
   ],
   "source": [
    "# enumerate() 함수를 이용하여 인덱스와 리스트의 튜플을 i, item에 할당\n",
    "for i, item in enumerate(['a', 'b', 'c', 'd', 'e']):\n",
    "    print(f'{i = }, {item = }')"
   ]
  },
  {
   "cell_type": "markdown",
   "id": "75a2b3f1",
   "metadata": {},
   "source": [
    "#### **zip() 함수를 이용한 for문**\n",
    "- zip() 함수는 두 개 이상의 iterable한 객체를 인덱스별로 묶어서 zip 객체로 반환\n",
    "- zip 객체는 for문에서 하나씩 불러오거나 리스트로 변환하여 사용 가능"
   ]
  },
  {
   "cell_type": "code",
   "execution_count": 115,
   "id": "080c1591",
   "metadata": {},
   "outputs": [
    {
     "data": {
      "text/plain": [
       "<zip at 0x1a6142b5bc0>"
      ]
     },
     "execution_count": 115,
     "metadata": {},
     "output_type": "execute_result"
    }
   ],
   "source": [
    "x_list = [1, 2, 3, 4, 5]\n",
    "y_tuple = ('a', 'b', 'c', 'd', 'e')\n",
    "z_str = 'ABCDE'\n",
    "\n",
    "# zip 함수는 iterable한 객체를 받아서, 같은 index끼리 묶어서 zip 객체를 반환\n",
    "zip(x_list, y_tuple, z_str)"
   ]
  },
  {
   "cell_type": "code",
   "execution_count": 116,
   "id": "1c22becb",
   "metadata": {},
   "outputs": [
    {
     "data": {
      "text/plain": [
       "[(1, 'a', 'A'), (2, 'b', 'B'), (3, 'c', 'C'), (4, 'd', 'D'), (5, 'e', 'E')]"
      ]
     },
     "execution_count": 116,
     "metadata": {},
     "output_type": "execute_result"
    }
   ],
   "source": [
    "# zip 객체를 list로 변환하여 zip() 동작 확인\n",
    "list(zip(x_list, y_tuple, z_str))"
   ]
  },
  {
   "cell_type": "code",
   "execution_count": 117,
   "id": "6fb71265",
   "metadata": {},
   "outputs": [
    {
     "name": "stdout",
     "output_type": "stream",
     "text": [
      "x = 1, y = 'a', z = 'A'\n",
      "x = 2, y = 'b', z = 'B'\n",
      "x = 3, y = 'c', z = 'C'\n",
      "x = 4, y = 'd', z = 'D'\n",
      "x = 5, y = 'e', z = 'E'\n"
     ]
    }
   ],
   "source": [
    "# zip 객체를 for문으로 반복하여 출력\n",
    "for x, y, z in zip(x_list, y_tuple, z_str):\n",
    "    print(f'{x = }, {y = }, {z = }')"
   ]
  },
  {
   "cell_type": "code",
   "execution_count": 119,
   "id": "a881748f",
   "metadata": {},
   "outputs": [
    {
     "name": "stdout",
     "output_type": "stream",
     "text": [
      "i = 0, x = 1, y = 'a', z = 'A'\n",
      "i = 1, x = 2, y = 'b', z = 'B'\n",
      "i = 2, x = 3, y = 'c', z = 'C'\n",
      "i = 3, x = 4, y = 'd', z = 'D'\n",
      "i = 4, x = 5, y = 'e', z = 'E'\n"
     ]
    }
   ],
   "source": [
    "# enumerate와 zip을 함께 사용\n",
    "for i, (x, y, z) in enumerate(zip(x_list, y_tuple, z_str)):\n",
    "    print(f'{i = }, {x = }, {y = }, {z = }')"
   ]
  },
  {
   "cell_type": "markdown",
   "id": "84c89a30",
   "metadata": {},
   "source": [
    "## **break, continue, pass, exit로 제어문 통제하기**\n",
    "- break: 반복문을 종료하고 다음 코드로 넘어감\n",
    "- continue: 반복문의 나머지 코드를 건너뛰고 다음 코드로 넘어감\n",
    "- pass: 아무것도 하지 않고 다음 코드로 넘어감\n",
    "     - if문이나 함수등에 아무것도 작성이 안되어있으면 에러가 발생하므로 pass를 사용\n",
    "- exit: 프로그램을 종료함\n",
    "    - 알고리즘을 중간에 종료할 때 사용\n",
    "    - exit(0)은 정상종료, exit(1)은 비정상종료를 의미\n",
    "    - jupyter notebook에서는 종료 시 kernel을 재시작 해야 함"
   ]
  },
  {
   "cell_type": "code",
   "execution_count": 120,
   "id": "537e9e9e",
   "metadata": {},
   "outputs": [
    {
     "name": "stdout",
     "output_type": "stream",
     "text": [
      "i = 0, item = 'a'\n",
      "i = 1, item = 'b'\n"
     ]
    }
   ],
   "source": [
    "for i, item in enumerate(['a', 'b', 'c', 'd', 'e']):\n",
    "    # i가 2이면\n",
    "    if i == 2:\n",
    "        # for문을 빠져나옴\n",
    "        break\n",
    "    print(f'{i = }, {item = }')"
   ]
  },
  {
   "cell_type": "code",
   "execution_count": null,
   "id": "0b914f73",
   "metadata": {},
   "outputs": [
    {
     "name": "stdout",
     "output_type": "stream",
     "text": [
      "i = 0, item = 'a'\n",
      "i = 1, item = 'b'\n",
      "i = 3, item = 'd'\n",
      "i = 4, item = 'e'\n"
     ]
    }
   ],
   "source": [
    "for i, item in enumerate(['a', 'b', 'c', 'd', 'e']):\n",
    "    if i == 2:\n",
    "        # for문의 다음 반복으로 이동\n",
    "        continue\n",
    "\n",
    "    # continue가 실행될 때만 이 코드는 실행되지 않음\n",
    "    print(f'{i = }, {item = }')"
   ]
  },
  {
   "cell_type": "code",
   "execution_count": 122,
   "id": "447c74ef",
   "metadata": {},
   "outputs": [
    {
     "name": "stdout",
     "output_type": "stream",
     "text": [
      "i = 0, item = 'a'\n",
      "i = 1, item = 'b'\n",
      "i = 2, item = 'c'\n",
      "i = 3, item = 'd'\n",
      "i = 4, item = 'e'\n"
     ]
    }
   ],
   "source": [
    "for i, item in enumerate(['a', 'b', 'c', 'd', 'e']):\n",
    "    if i == 2:\n",
    "        # 아무것도 하지 않음\n",
    "        pass\n",
    "\n",
    "    # pass문이 실행되어도 이 코드는 실행됨\n",
    "    print(f'{i = }, {item = }')"
   ]
  },
  {
   "cell_type": "code",
   "execution_count": 123,
   "id": "f0c948fa",
   "metadata": {},
   "outputs": [
    {
     "name": "stdout",
     "output_type": "stream",
     "text": [
      "i = 0, item = 'a'\n",
      "i = 1, item = 'b'\n",
      "여기에서 실제로는 종료됨. 편의를 위해 주석처리\n",
      "i = 2, item = 'c'\n",
      "i = 3, item = 'd'\n",
      "i = 4, item = 'e'\n"
     ]
    }
   ],
   "source": [
    "for i, item in enumerate(['a', 'b', 'c', 'd', 'e']):\n",
    "    if i == 2:\n",
    "        # 프로그램 종료. 0은 정상종료를 의미\n",
    "        # exit(0)\n",
    "        print('여기에서 실제로는 종료됨. 편의를 위해 주석처리')\n",
    "    print(f'{i = }, {item = }')"
   ]
  },
  {
   "cell_type": "markdown",
   "id": "c3e89836",
   "metadata": {},
   "source": [
    "### **중첩 제어문**\n",
    "- 제어문은 중첩하여 사용 가능"
   ]
  },
  {
   "cell_type": "code",
   "execution_count": 125,
   "id": "6ef60790",
   "metadata": {},
   "outputs": [
    {
     "name": "stdout",
     "output_type": "stream",
     "text": [
      "1x1= 1\t1x2= 2\t1x3= 3\t1x4= 4\t1x5= 5\t1x6= 6\t1x7= 7\t1x8= 8\t1x9= 9\t\n",
      "2x1= 2\t2x2= 4\t2x3= 6\t2x4= 8\t2x5=10\t2x6=12\t2x7=14\t2x8=16\t2x9=18\t\n",
      "3x1= 3\t3x2= 6\t3x3= 9\t3x4=12\t3x5=15\t3x6=18\t3x7=21\t3x8=24\t3x9=27\t\n",
      "4x1= 4\t4x2= 8\t4x3=12\t4x4=16\t4x5=20\t4x6=24\t4x7=28\t4x8=32\t4x9=36\t\n",
      "5x1= 5\t5x2=10\t5x3=15\t5x4=20\t5x5=25\t5x6=30\t5x7=35\t5x8=40\t5x9=45\t\n",
      "6x1= 6\t6x2=12\t6x3=18\t6x4=24\t6x5=30\t6x6=36\t6x7=42\t6x8=48\t6x9=54\t\n",
      "7x1= 7\t7x2=14\t7x3=21\t7x4=28\t7x5=35\t7x6=42\t7x7=49\t7x8=56\t7x9=63\t\n",
      "8x1= 8\t8x2=16\t8x3=24\t8x4=32\t8x5=40\t8x6=48\t8x7=56\t8x8=64\t8x9=72\t\n",
      "9x1= 9\t9x2=18\t9x3=27\t9x4=36\t9x5=45\t9x6=54\t9x7=63\t9x8=72\t9x9=81\t\n"
     ]
    }
   ],
   "source": [
    "# i는 1부터 9까지 반복\n",
    "for i in range(1, 10):\n",
    "    #j는 1부터 9까지 반복\n",
    "    for j in range(1, 10):\n",
    "        # end='\\t'는 출력 후 탭을 적용하고 줄바꿈은 하지 않음\n",
    "        print(f'{i}x{j}={i*j:>2d}', end='\\t')\n",
    "        if j == 9:\n",
    "            # 한 줄 띄움\n",
    "            print()"
   ]
  }
 ],
 "metadata": {
  "kernelspec": {
   "display_name": "base",
   "language": "python",
   "name": "python3"
  },
  "language_info": {
   "codemirror_mode": {
    "name": "ipython",
    "version": 3
   },
   "file_extension": ".py",
   "mimetype": "text/x-python",
   "name": "python",
   "nbconvert_exporter": "python",
   "pygments_lexer": "ipython3",
   "version": "3.12.8"
  }
 },
 "nbformat": 4,
 "nbformat_minor": 5
}
