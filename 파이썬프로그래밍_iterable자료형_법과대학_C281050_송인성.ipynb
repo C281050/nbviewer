{
 "cells": [
  {
   "cell_type": "markdown",
   "metadata": {},
   "source": [
    "C281050 송인성\n",
    "# **iterable 자료형**\n",
    "- **iterable 자료형**은 객체 내 원소를 순차적으로 가지고 올 수 있는 자료형을 의미\n",
    "    - 리스트, 튜플, 문자열, 딕셔너리, range, set\n",
    "    - 문자열(string)은 문자(character)의 시퀀스이므로 iterable 자료형임"
   ]
  },
  {
   "cell_type": "markdown",
   "metadata": {},
   "source": [
    "## **인덱싱과 슬라이싱**\n",
    "### **인덱싱(Indexing)**\n",
    "- iterable한 객체에서 인덱스를 지정하여 원소의 값을 추출하는 것\n",
    "    - python에서 인덱스는 0부터 시작하여 1씩 증가\n",
    "    - 마지막 원소의 인덱스를 -1로 하여 역순으로도 접근 가능\n",
    "    - iterable 객체의 길이를 넘어가는 인덱스를 사용하면 IndexError 발생"
   ]
  },
  {
   "cell_type": "code",
   "execution_count": 1,
   "metadata": {},
   "outputs": [
    {
     "name": "stdout",
     "output_type": "stream",
     "text": [
      "0\n",
      "1\n",
      "2\n",
      "3\n",
      "4\n"
     ]
    }
   ],
   "source": [
    "x_list = [0, 1, 2, 3, 4]\n",
    "\n",
    "# 각 요소를 인덱싱\n",
    "print(x_list[0])\n",
    "print(x_list[1])\n",
    "print(x_list[2])\n",
    "print(x_list[3])\n",
    "print(x_list[4])"
   ]
  },
  {
   "cell_type": "code",
   "execution_count": 2,
   "metadata": {},
   "outputs": [
    {
     "name": "stdout",
     "output_type": "stream",
     "text": [
      "4\n",
      "3\n",
      "2\n",
      "1\n",
      "0\n"
     ]
    }
   ],
   "source": [
    "x_list = [0, 1, 2, 3, 4]\n",
    "\n",
    "# 각 요소를 -인덱싱\n",
    "print(x_list[-1])\n",
    "print(x_list[-2])\n",
    "print(x_list[-3])\n",
    "print(x_list[-4])\n",
    "print(x_list[-5])"
   ]
  },
  {
   "cell_type": "code",
   "execution_count": 3,
   "metadata": {},
   "outputs": [
    {
     "name": "stdout",
     "output_type": "stream",
     "text": [
      "list index out of range\n"
     ]
    }
   ],
   "source": [
    "# 인덱스 범위를 벗어난 요소에 접근하면 에러가 발생\n",
    "try:\n",
    "    print(x_list[5])\n",
    "except IndexError as e:\n",
    "    print(e)"
   ]
  },
  {
   "cell_type": "markdown",
   "metadata": {},
   "source": [
    "- 리스트와 튜플의 인덱싱"
   ]
  },
  {
   "cell_type": "code",
   "execution_count": 4,
   "metadata": {},
   "outputs": [
    {
     "name": "stdout",
     "output_type": "stream",
     "text": [
      "x_list = [1, 2, 3, 4, 5] \t=> x_list[0] = 1\n",
      "x_tuple = (1, 2, 3, 4, 5) \t=> x_tuple[-1] = 5\n"
     ]
    }
   ],
   "source": [
    "x_list = [1, 2, 3, 4, 5]  # list\n",
    "x_tuple = (1, 2, 3, 4, 5)  # tuple\n",
    "\n",
    "# x_list의 0번째 원소 출력\n",
    "print(f'{x_list = } \\t=> {x_list[0] = }')\n",
    "\n",
    "# x_tuple의 마지막막 원소 출력, -1은 마지막 원소의 인덱스스\n",
    "print(f'{x_tuple = } \\t=> {x_tuple[-1] = }')"
   ]
  },
  {
   "cell_type": "markdown",
   "metadata": {},
   "source": [
    "- 딕셔너리의 인덱싱"
   ]
  },
  {
   "cell_type": "code",
   "execution_count": 5,
   "metadata": {},
   "outputs": [
    {
     "name": "stdout",
     "output_type": "stream",
     "text": [
      "x_dict = {'name': ['김홍익', '이파이'], 'id': [12345, 56789]} \t=>x_dict[\"name\"][0] = '김홍익'\n"
     ]
    }
   ],
   "source": [
    "# key와 value로 이루어진 dictionary\n",
    "x_dict = {'name': ['김홍익', '이파이'], 'id': [12345,56789]}\n",
    "\n",
    "# key를 이용하여 value에 접근\n",
    "print(f'{x_dict = } \\t=>{x_dict[\"name\"][0] = }')"
   ]
  },
  {
   "cell_type": "markdown",
   "metadata": {},
   "source": [
    "- 문자열의 인덱싱"
   ]
  },
  {
   "cell_type": "code",
   "execution_count": 6,
   "metadata": {},
   "outputs": [
    {
     "name": "stdout",
     "output_type": "stream",
     "text": [
      "x_str = 'Hello World!' \t\t=> x_str[0] = 'H'\n",
      "x_str = 'Hello World!' \t\t=> x_str[3] = 'l'\n"
     ]
    }
   ],
   "source": [
    "x_str = 'Hello World!'\n",
    "\n",
    "# x_str의 0번째 원소 출력\n",
    "print(f'{x_str = } \\t\\t=> {x_str[0] = }')\n",
    "\n",
    "# x_str의 3번째 원소 출력\n",
    "print(f'{x_str = } \\t\\t=> {x_str[3] = }')"
   ]
  },
  {
   "cell_type": "markdown",
   "metadata": {},
   "source": [
    "### **슬라이싱(slicing)**\n",
    "- iterable한 객체에서 인덱스의 범위를 :로 지정하여 데이터 구간을 추출하는 것\n",
    "    - **'i':'j'**: 인덱스 i에서 (j-1)까지\n",
    "    - **'i':**: 인덱스 i에서 마지막까지\n",
    "    - **:'j'**: 처음부터 (j-1)까지\n",
    "    - **:**: 처음부터 끝까지 "
   ]
  },
  {
   "cell_type": "code",
   "execution_count": 7,
   "metadata": {},
   "outputs": [
    {
     "name": "stdout",
     "output_type": "stream",
     "text": [
      "[1, 2]\n",
      "[1, 2, 3, 4]\n",
      "[0, 1, 2]\n",
      "[0, 1, 2, 3, 4]\n",
      "[]\n",
      "[]\n"
     ]
    }
   ],
   "source": [
    "x_list = [0, 1, 2, 3, 4]\n",
    "\n",
    "# 데이터의 일부를 슬라이싱\n",
    "print(x_list[1:3])  # 인덱스 1부터 3전까지\n",
    "print(x_list[1:])  # 인덱스 1부터 끝까지\n",
    "print(x_list[:3])  # 인덱스 처음부터 3전까지\n",
    "print(x_list[:])  # 인덱스 처음부터 끝까지\n",
    "\n",
    "# 응용\n",
    "print(x_list[1:1]) # 인덱스 1부터 1전까지\n",
    "print(x_list[4:1]) # 인덱스 4부터 1전까지지"
   ]
  },
  {
   "cell_type": "code",
   "execution_count": 8,
   "metadata": {},
   "outputs": [
    {
     "name": "stdout",
     "output_type": "stream",
     "text": [
      "[1, 2, 3, 4]\n"
     ]
    }
   ],
   "source": [
    "# 슬라이싱은 인덱스 범위를 벗어난 요소에 접근해도 에러가 발생하지 않음\n",
    "try:\n",
    "    print(x_list[1:10])\n",
    "except IndexError as e:\n",
    "    print(e)"
   ]
  },
  {
   "cell_type": "markdown",
   "metadata": {},
   "source": [
    "- 리스트와 튜플의 슬라이싱"
   ]
  },
  {
   "cell_type": "code",
   "execution_count": 9,
   "metadata": {},
   "outputs": [
    {
     "name": "stdout",
     "output_type": "stream",
     "text": [
      "x_list = [1, 2, 3, 4, 5] \t=> x_list[0:3] = [1, 2, 3]\n",
      "x_tuple = (1, 2, 3, 4, 5) \t=> x_tuple[-1:-4:-1] = (5, 4, 3)\n"
     ]
    }
   ],
   "source": [
    "x_list = [1, 2, 3, 4, 5]  # list\n",
    "x_tuple = (1, 2, 3, 4, 5)  # tuple\n",
    "\n",
    "# x_list의 0번째부터 3번째 전까지 출력\n",
    "print(f'{x_list = } \\t=> {x_list[0:3] = }')\n",
    "\n",
    "# x_tuple의 뒤에서 1번째부터 4번째 전까지 출력\n",
    "print(f'{x_tuple = } \\t=> {x_tuple[-1:-4:-1] = }')"
   ]
  },
  {
   "cell_type": "markdown",
   "metadata": {},
   "source": [
    "- 딕셔너리의 슬라이싱"
   ]
  },
  {
   "cell_type": "code",
   "execution_count": 10,
   "metadata": {},
   "outputs": [
    {
     "name": "stdout",
     "output_type": "stream",
     "text": [
      "x_dict = {'name': ['김홍익', '이파이'], 'id': [12345, 67890]} \t=> x_dict[\"name\"][0:1] = ['김홍익']\n"
     ]
    }
   ],
   "source": [
    "# key와 value로 이루어진 dictionary\n",
    "x_dict = {'name': ['김홍익', '이파이'], 'id':[12345,67890]}\n",
    "\n",
    "# key를 이용하여 value에 접근\n",
    "print(f'{x_dict = } \\t=> {x_dict[\"name\"][0:1] = }')"
   ]
  },
  {
   "cell_type": "markdown",
   "metadata": {},
   "source": [
    "- 문자열의 슬라이싱"
   ]
  },
  {
   "cell_type": "code",
   "execution_count": 11,
   "metadata": {},
   "outputs": [
    {
     "name": "stdout",
     "output_type": "stream",
     "text": [
      "x_str = 'Hello World!' \t\t==> x_str[0:3] = 'Hel'\n",
      "x_str = 'Hello World!' \t\t==> x_str[-2:-10:-2] = 'drWo'\n"
     ]
    }
   ],
   "source": [
    "x_str = 'Hello World!'\n",
    "\n",
    "# x_str의 0번째 원소에서 3번째 전의 원소까지 출력\n",
    "print(f'{x_str = } \\t\\t==> {x_str[0:3] = }')\n",
    "\n",
    "# x_str의 뒤에서 2번째 원소에서 10번째 전의 원소까지 2칸씩 뛰며 출력\n",
    "print(f'{x_str = } \\t\\t==> {x_str[-2:-10:-2] = }')"
   ]
  },
  {
   "cell_type": "markdown",
   "metadata": {},
   "source": [
    "## **얕은 복사와 깊은 복사**\n",
    "### **얕은 복사(shallow copy)**\n",
    "- 객체를 복사할 때, *원본 객체의 주소만 복사*하는 것\n",
    "- 즉, 원본 객체와 복사본 객체가 같은 주소를 참조하게 됨\n",
    "\n",
    "### **깊은 복사(deep copy)**\n",
    "- 객체를 복사할 때, *원본 객체의 주소가 아닌 새로운 주소에 값을 복사*하는 것\n",
    "- 즉, 원본 객체와 복사본 객체가 다른 주소를 참조하게 됨\n",
    "\n",
    "- *immutable 객체(숫자, 문자열, 튜플 등)*는 원소를 변경할 수 없으므로 원소를 변경하려면 새로운 객체를 생성하여 변수를 다시 assignment(=)하므로 문제가 없음\n",
    "- *mutable 객체(리스트, 집합 등)는 원소*를 변경이 가능하므로 변수를 assignment(=)하게 되면, 두 변수가 원소의 주소를 공유함 => 한 변수의 원소 변경 시 다른 변수의 원소도 변경됨\n",
    "    - 이를 방지하기 위해선 깊은 복사를 사용해야 함"
   ]
  },
  {
   "cell_type": "markdown",
   "metadata": {},
   "source": [
    "### **immutable 객체의 assignment 예시**"
   ]
  },
  {
   "cell_type": "code",
   "execution_count": 12,
   "metadata": {},
   "outputs": [
    {
     "name": "stdout",
     "output_type": "stream",
     "text": [
      "x = (1, 2, 3) \t=> id(x) = 2754652638976\n",
      "y = (1, 2, 3) \t=> id(y) = 2754652638976\n"
     ]
    }
   ],
   "source": [
    "x = (1,2,3)\n",
    "\n",
    "# y에 x를 assign\n",
    "y = x\n",
    "\n",
    "# x와 y의 id(메모리 주소)가 같음\n",
    "print(f'{x = } \\t=> {id(x) = }')\n",
    "print(f'{y = } \\t=> {id(y) = }')"
   ]
  },
  {
   "cell_type": "code",
   "execution_count": 13,
   "metadata": {},
   "outputs": [
    {
     "name": "stdout",
     "output_type": "stream",
     "text": [
      "x = (1, 2, 3) \t=> id(x) = 2754652638976\n",
      "y = (1, 20, 3) \t=> id(y) = 2754653827712\n"
     ]
    }
   ],
   "source": [
    "# y의 값을 변경 <- imutable은 원소 변경이 불가능\n",
    "y = (1, 20, 3)\n",
    "\n",
    "# y의 값을 변경하면 새로운 메모리에 주소가 할당됨\n",
    "print(f'{x = } \\t=> {id(x) = }')\n",
    "print(f'{y = } \\t=> {id(y) = }')"
   ]
  },
  {
   "cell_type": "markdown",
   "metadata": {},
   "source": [
    "### **mutable 객체의 얕은 복사 예시**"
   ]
  },
  {
   "cell_type": "code",
   "execution_count": 14,
   "metadata": {},
   "outputs": [
    {
     "name": "stdout",
     "output_type": "stream",
     "text": [
      "x = [1, 2, 3] \t=> id(x) = 2754653877056\n",
      "y = [1, 2, 3] \t=> id(y) = 2754653877056\n"
     ]
    }
   ],
   "source": [
    "x = [1, 2, 3]\n",
    "\n",
    "# y에 x를 복사\n",
    "y = x\n",
    "\n",
    "# x와 y의 id(메모리 주소)가 같음\n",
    "print(f'{x = } \\t=> {id(x) = }')\n",
    "print(f'{y = } \\t=> {id(y) = }')"
   ]
  },
  {
   "cell_type": "code",
   "execution_count": 15,
   "metadata": {},
   "outputs": [
    {
     "name": "stdout",
     "output_type": "stream",
     "text": [
      "x = [1, 20, 3] \t=> id(x) = 2754653877056\n",
      "y = [1, 20, 3] \t=> id(y) = 2754653877056\n"
     ]
    }
   ],
   "source": [
    "# y의 값을 변경\n",
    "y[1] = 20\n",
    "\n",
    "# y의 값을 변경하면 x의 값도 같이 변경됨\n",
    "print(f'{x = } \\t=> {id(x) = }')\n",
    "print(f'{y = } \\t=> {id(y) = }')"
   ]
  },
  {
   "cell_type": "markdown",
   "metadata": {},
   "source": [
    "### **mutable 객체의 깊은 복사 예시**"
   ]
  },
  {
   "cell_type": "code",
   "execution_count": 16,
   "metadata": {},
   "outputs": [
    {
     "name": "stdout",
     "output_type": "stream",
     "text": [
      "x = [1, 2, 3] \t=> id(x) = 2754653872320\n",
      "y = [1, 2, 3] \t=> id(y) = 2754653872000\n"
     ]
    }
   ],
   "source": [
    "x = [1, 2, 3]\n",
    "\n",
    "# y에 x를 복사\n",
    "y = x.copy()\n",
    "\n",
    "# x와 y의 id(메모리 주소)가 다름\n",
    "print(f'{x = } \\t=> {id(x) = }')\n",
    "print(f'{y = } \\t=> {id(y) = }')"
   ]
  },
  {
   "cell_type": "code",
   "execution_count": 17,
   "metadata": {},
   "outputs": [
    {
     "name": "stdout",
     "output_type": "stream",
     "text": [
      "x = [1, 2, 3] \t=> id(x) = 2754653872320\n",
      "y = [1, 20, 3] \t=> id(y) = 2754653872000\n"
     ]
    }
   ],
   "source": [
    "# y의 값을 변경\n",
    "y[1] = 20\n",
    "\n",
    "# y의 값을 변경하여도 x의 값은 변경되지 않음\n",
    "print(f'{x = } \\t=> {id(x) = }')\n",
    "print(f'{y = } \\t=> {id(y) = }')"
   ]
  },
  {
   "cell_type": "markdown",
   "metadata": {},
   "source": [
    "## **리스트와 튜플**\n",
    "- **리스트(list)**: 다양한 타입의 데이터 목록\n",
    "    - ['abc', 123]\n",
    "- **튜플(tuple)**: 다양한 타입의 데이터 목록, 리스트와 유사하나 원소의 변경이 불가\n",
    "    - ('abc', 123)\n",
    "- 리스트(List)와 튜플(Tuple)은 대표적인 iterable 자료형"
   ]
  },
  {
   "cell_type": "markdown",
   "metadata": {},
   "source": [
    "### **기본 사용법**"
   ]
  },
  {
   "cell_type": "code",
   "execution_count": 18,
   "metadata": {},
   "outputs": [
    {
     "name": "stdout",
     "output_type": "stream",
     "text": [
      "x_list는 <class 'list'>이고, x_tuple은 <class 'tuple'>이다.\n"
     ]
    }
   ],
   "source": [
    "x_list = [1, 2, 3, 4, 5]\n",
    "x_tuple = (1, 2, 3, 4, 5)\n",
    "\n",
    "print(f'x_list는 {type(x_list)}이고, x_tuple은 {type(x_tuple)}이다.')"
   ]
  },
  {
   "cell_type": "code",
   "execution_count": 19,
   "metadata": {},
   "outputs": [
    {
     "name": "stdout",
     "output_type": "stream",
     "text": [
      "Before: x_list = [1, 2, 3, 4, 5]\n",
      "After : x_list = [1, '2', 3, 5]\n"
     ]
    }
   ],
   "source": [
    "# 원소 변경 전 x_list의 값을 출력\n",
    "print(f'Before: {x_list = }')\n",
    "\n",
    "try:\n",
    "    # 인덱스 1 원소를 '2'로 변경\n",
    "    x_list[1] = '2'\n",
    "    # 인덱스 3 원소를 삭제\n",
    "    del x_list[3]\n",
    "except TypeError as e: \n",
    "    print(f'Error : {e}')\n",
    "\n",
    "# 원소 변경 후 x_str의 값을 출력 -> 처리됨\n",
    "print(f'After : {x_list = }')"
   ]
  },
  {
   "cell_type": "code",
   "execution_count": 20,
   "metadata": {},
   "outputs": [
    {
     "name": "stdout",
     "output_type": "stream",
     "text": [
      "Before: x_tuple = (1, 2, 3, 4, 5)\n",
      "Error : 'tuple' object does not support item assignment\n",
      "Error : 'tuple' object doesn't support item deletion\n",
      "After : x_tuple = (1, 2, 3, 4, 5)\n"
     ]
    }
   ],
   "source": [
    "# 원소 변경 전 x_tuple의 값을 출력\n",
    "print(f'Before: {x_tuple = }')\n",
    "\n",
    "try:\n",
    "    # 인덱스 1 원소를 '2'로 변경\n",
    "    x_tuple[1] = '2'\n",
    "except TypeError as e: \n",
    "    print(f'Error : {e}')\n",
    "\n",
    "try:\n",
    "    # 인덱스 3 원소를 삭제\n",
    "    del x_tuple[3]\n",
    "except TypeError as e: \n",
    "    print(f'Error : {e}')\n",
    "\n",
    "# 원소 변경 후 x_str의 값을 출력\n",
    "print(f'After : {x_tuple = }')"
   ]
  },
  {
   "cell_type": "code",
   "execution_count": 21,
   "metadata": {},
   "outputs": [
    {
     "name": "stdout",
     "output_type": "stream",
     "text": [
      "[1, '2', 3, 5]\n",
      "[1, '2', 3]\n"
     ]
    }
   ],
   "source": [
    "try:\n",
    "    # 인덱스 1 원소를 '2'로 변경\n",
    "    x_list[1] = '2'\n",
    "    print(x_list)\n",
    "\n",
    "    # 인덱스 3 원소를 삭제\n",
    "    del x_list[3]\n",
    "    print(x_list)\n",
    "except TypeError as e:\n",
    "    print(f'Error : {e}')"
   ]
  },
  {
   "cell_type": "markdown",
   "metadata": {},
   "source": [
    "### **내장함수를 이용한 리스트와 튜플 다루기**\n",
    "\n",
    "- len(): 리스트와 튜플의 길이를 구하는 함수\n",
    "- sum(): 리스트와 튜플의 원소들의 합을 구하는 함수\n",
    "- max(): 리스트와 튜플의 원소들 중 최댓값을 구하는 함수\n",
    "- min(): 리스트와 튜플의 원소들 중 최솟값을 구하는 함수\n",
    "- sorted(): 리스트와 튜플의 원소들을 정렬하는 함수\n",
    "- all(): 리스트와 튜플의 원소들이 모두 참인지 확인하는 함수\n",
    "- any(): 리스트와 튜플의 원소들 중 하나라도 참인지 확인하는 함수"
   ]
  },
  {
   "cell_type": "code",
   "execution_count": 22,
   "metadata": {},
   "outputs": [
    {
     "name": "stdout",
     "output_type": "stream",
     "text": [
      "len(x_list) = 5\n",
      "sum(x_list) = 10\n",
      "min(x_list) = 0\n",
      "max(x_list) = 4\n",
      "sorted(x_list) = [0, 1, 2, 3, 4]\n",
      "sorted(x_list, reverse=True) = [4, 3, 2, 1, 0]\n",
      "all(x_list) = False\n",
      "any(x_list) = True\n"
     ]
    }
   ],
   "source": [
    "x_list = [0, 1, 2, 3, 4]\n",
    "\n",
    "# x_list의 길이(원소의 개수) 출력\n",
    "print(f'{len(x_list) = }')\n",
    "\n",
    "# x_list의 원소들의 합 출력\n",
    "print(f'{sum(x_list) = }')\n",
    "\n",
    "# x_list의 원소들 중중 최솟값값 출력\n",
    "print(f'{min(x_list) = }')\n",
    "\n",
    "# x_list의 원소들 중중 최댓값값 출력\n",
    "print(f'{max(x_list) = }')\n",
    "\n",
    "# x_list의 원소들의 오름차순으로 정렬하여여 출력\n",
    "print(f'{sorted(x_list) = }')\n",
    "\n",
    "# x_list의 원소들의 내림차순으로 정렬하여 출력\n",
    "print(f'{sorted(x_list, reverse=True) = }')\n",
    "\n",
    "# x_list의 모든 원소가 참이면(0이 아니면) True, 아니면 False 출력\n",
    "print(f'{all(x_list) = }')\n",
    "\n",
    "# x_list의 원소 중 하나라도 참이면(0이 아니면) True, 아니면 False 출력\n",
    "print(f'{any(x_list) = }')"
   ]
  },
  {
   "cell_type": "code",
   "execution_count": 23,
   "metadata": {},
   "outputs": [
    {
     "name": "stdout",
     "output_type": "stream",
     "text": [
      "all(x_list) = False\n"
     ]
    }
   ],
   "source": [
    "# x_list의 모든 원소가 참이면(0이 아니면) True, 아니면 False 출력\n",
    "print(f'{all(x_list) = }')"
   ]
  },
  {
   "cell_type": "markdown",
   "metadata": {},
   "source": [
    "### **객체 메서드를 이용한 리스트와 튜플 다루기**\n",
    "- 리스트와 튜플은 객체이므로 **객체의 메서드**를 사용할 수 있다. \n",
    "    - 리스트는 'append', 'clear', 'copy', 'count', 'extend', 'index', 'insert', 'pop', 'remove', 'reverse', 'sort' 등\n",
    "    - 튜플은 'count', 'index' 등"
   ]
  },
  {
   "cell_type": "code",
   "execution_count": 24,
   "metadata": {},
   "outputs": [
    {
     "name": "stdout",
     "output_type": "stream",
     "text": [
      "['__add__', '__class__', '__class_getitem__', '__contains__', '__delattr__', '__delitem__', '__dir__', '__doc__', '__eq__', '__format__', '__ge__', '__getattribute__', '__getitem__', '__getstate__', '__gt__', '__hash__', '__iadd__', '__imul__', '__init__', '__init_subclass__', '__iter__', '__le__', '__len__', '__lt__', '__mul__', '__ne__', '__new__', '__reduce__', '__reduce_ex__', '__repr__', '__reversed__', '__rmul__', '__setattr__', '__setitem__', '__sizeof__', '__str__', '__subclasshook__', 'append', 'clear', 'copy', 'count', 'extend', 'index', 'insert', 'pop', 'remove', 'reverse', 'sort']\n",
      "================================================================================\n",
      "['__add__', '__class__', '__class_getitem__', '__contains__', '__delattr__', '__dir__', '__doc__', '__eq__', '__format__', '__ge__', '__getattribute__', '__getitem__', '__getnewargs__', '__getstate__', '__gt__', '__hash__', '__init__', '__init_subclass__', '__iter__', '__le__', '__len__', '__lt__', '__mul__', '__ne__', '__new__', '__reduce__', '__reduce_ex__', '__repr__', '__rmul__', '__setattr__', '__sizeof__', '__str__', '__subclasshook__', 'count', 'index']\n"
     ]
    }
   ],
   "source": [
    "# x_list의 메소드를 확인\n",
    "print(dir(x_list), end='\\n'+'='*80+'\\n')\n",
    "\n",
    "# x_tuple의 메소드를 확인 -> x_list보다 적은 메소드를 가지고 있음\n",
    "print(dir(x_tuple))"
   ]
  },
  {
   "cell_type": "markdown",
   "metadata": {},
   "source": [
    "#### **각 매서드의 기능**\n",
    "- **append**: 리스트이 맨 뒤에 원소를 추가 \n",
    "- **clear**: 리스트의 모든 원소를 삭제. 리스트는 존재. 빈 리스트가 됨\n",
    "- **copy**: 리스트를 복사, 주소값이 아닌 값 자체를 복사\n",
    "- **count**: 리스트(튜플)에서 특정 원소의 개수를 반환\n",
    "- **extend**: 리스트를 확장, 리스트를 연결\n",
    "- **index**: 리스트(튜플)에서 특정 원소의 인덱스를 반환\n",
    "- **insert**: 리스트의 특정 위치에 원소를 삽입\n",
    "- **pop**: 리스트의 특정 위치에 있는 원소를 삭제\n",
    "- **remove**: 리스트에서 특정 원소를 찾아서 삭제\n",
    "- **reverse**: 리스트의 원소를 역순으로 정렬\n",
    "- **sort**: 리스트의 원소를 정렬"
   ]
  },
  {
   "cell_type": "code",
   "execution_count": 25,
   "metadata": {},
   "outputs": [
    {
     "name": "stdout",
     "output_type": "stream",
     "text": [
      "x_list = [1, 2, 3, 4, 5, 2, 3, 2]\n",
      "x_list.count(2) = 3\n",
      "x_list.index(2) = 1\n"
     ]
    }
   ],
   "source": [
    "x_list = [1, 2, 3, 4, 5, 2, 3, 2]\n",
    "print(f'{x_list = }')\n",
    "\n",
    "\n",
    "# x_list에서 2의 개수를 출력\n",
    "print(f'{x_list.count(2) = }')\n",
    "\n",
    "# x_list에서 2의 첫번째 인덱스를 출력\n",
    "print(f'{x_list.index(2) = }')"
   ]
  },
  {
   "cell_type": "code",
   "execution_count": 26,
   "metadata": {},
   "outputs": [
    {
     "name": "stdout",
     "output_type": "stream",
     "text": [
      "y_list = [1, 2, 3, 4, 5, 2, 3, 2]\n",
      "x_list is y_list = False\n",
      "id(x_list) = 2754653865152, id(y_list) = 2754653866432\n"
     ]
    }
   ],
   "source": [
    "# x_list를 복사하여 y_list에 할당\n",
    "y_list = x_list.copy()\n",
    "\n",
    "# y_list의 값을 출력\n",
    "print(f'{y_list = }')\n",
    "\n",
    "# x_list와 y_list가 같은 객체(주소)인지 확인\n",
    "print(f'{x_list is y_list = }')\n",
    "\n",
    "# x_list의 주소를 출력\n",
    "print(f'{id(x_list) = }, {id(y_list) = }')"
   ]
  },
  {
   "cell_type": "code",
   "execution_count": 27,
   "metadata": {},
   "outputs": [
    {
     "name": "stdout",
     "output_type": "stream",
     "text": [
      "x_list = [2, 3, 2, 5, 4, 3, 2, 1]\n"
     ]
    }
   ],
   "source": [
    "# x_list를 역순으로 변경\n",
    "x_list.reverse()\n",
    "print(f'{x_list = }')"
   ]
  },
  {
   "cell_type": "code",
   "execution_count": 28,
   "metadata": {},
   "outputs": [
    {
     "name": "stdout",
     "output_type": "stream",
     "text": [
      "x_list = [1, 2, 2, 2, 3, 3, 4, 5]\n"
     ]
    }
   ],
   "source": [
    "# x_list를 오름차순으로 정렬\n",
    "x_list.sort()\n",
    "print(f'{x_list = }')"
   ]
  },
  {
   "cell_type": "code",
   "execution_count": 29,
   "metadata": {},
   "outputs": [
    {
     "name": "stdout",
     "output_type": "stream",
     "text": [
      "x_list = [1, 2, 2, 2, 3, 3, 4, 5, 6]\n"
     ]
    }
   ],
   "source": [
    "# x_list의 append 메소드를 이용하여 6을 추가\n",
    "x_list.append(6)\n",
    "print(f'{x_list = }')"
   ]
  },
  {
   "cell_type": "code",
   "execution_count": 30,
   "metadata": {},
   "outputs": [
    {
     "name": "stdout",
     "output_type": "stream",
     "text": [
      "x_list = [1, 2, 2, 2, 3, 3, 4, 5, 6, 7, 8, 9]\n"
     ]
    }
   ],
   "source": [
    "# x_list의 extend 메소드를 이용하여 [7, 8, 9]를 연결\n",
    "x_list.extend([7, 8, 9])\n",
    "print(f'{x_list = }')"
   ]
  },
  {
   "cell_type": "code",
   "execution_count": 31,
   "metadata": {},
   "outputs": [
    {
     "name": "stdout",
     "output_type": "stream",
     "text": [
      "x_list = [1, 2, 2, 2, 3, 3, 4, 5, 6, 7, 8, 9, [10, 11, 12]]\n"
     ]
    }
   ],
   "source": [
    "# # x_list의 append 메소드를 이용하여 [10, 11, 12]를 추가\n",
    "x_list.append([10, 11, 12])\n",
    "print(f'{x_list = }')"
   ]
  },
  {
   "cell_type": "code",
   "execution_count": 32,
   "metadata": {},
   "outputs": [
    {
     "name": "stdout",
     "output_type": "stream",
     "text": [
      "x_list = [1, 2, 2, 3.5, 2, 3, 3, 4, 5, 6, 7, 8, 9, [10, 11, 12]]\n"
     ]
    }
   ],
   "source": [
    "# x_list의 insert 메소드를 이용하여 인덱스 3에 3.5를 추가\n",
    "x_list.insert(3, 3.5)\n",
    "print(f'{x_list = }')"
   ]
  },
  {
   "cell_type": "code",
   "execution_count": 33,
   "metadata": {},
   "outputs": [
    {
     "name": "stdout",
     "output_type": "stream",
     "text": [
      "x_list = [1, 2, 2, 2, 3, 3, 4, 5, 6, 7, 8, 9, [10, 11, 12]]\n"
     ]
    }
   ],
   "source": [
    "# x_list의 remove 메소드를 이용하여 3.5를 찾아서 삭제\n",
    "x_list.remove(3.5)\n",
    "print(f'{x_list = }')"
   ]
  },
  {
   "cell_type": "code",
   "execution_count": 34,
   "metadata": {},
   "outputs": [
    {
     "name": "stdout",
     "output_type": "stream",
     "text": [
      "x_list = [1, 2, 2, 2, 3, 3, 4, 5, 6, 7, 8, 9]\n",
      "x_list = [1, 2, 2, 2, 3, 3, 4, 6, 7, 8, 9]\n"
     ]
    }
   ],
   "source": [
    "# x_list의 pop 메소드를 이용하여 마지막 원소를 삭제\n",
    "x_list.pop()\n",
    "print(f'{x_list = }')\n",
    "\n",
    "# x_list의 pop 메소드를 이용하여 인덱스 7의 원소를 삭제\n",
    "x_list.pop(7)\n",
    "print(f'{x_list = }')"
   ]
  },
  {
   "cell_type": "code",
   "execution_count": 35,
   "metadata": {},
   "outputs": [
    {
     "name": "stdout",
     "output_type": "stream",
     "text": [
      "x_list = [2, 2, 2, 3, 3, 4, 6, 7, 8, 9], x_pop = 1\n"
     ]
    }
   ],
   "source": [
    "# x_list의 pop 메소드를 이용하여 인덱스 0의 원소를 삭제하고, 삭제한 값을 x_pop에 할당\n",
    "x_pop = x_list.pop(0)\n",
    "print(f'{x_list = }, {x_pop = }')"
   ]
  },
  {
   "cell_type": "code",
   "execution_count": 36,
   "metadata": {},
   "outputs": [
    {
     "name": "stdout",
     "output_type": "stream",
     "text": [
      "x_list = []\n"
     ]
    }
   ],
   "source": [
    "# x_list의 clear 메소드를 이용하여 모든 원소를 삭제\n",
    "x_list.clear()\n",
    "print(f'{x_list = }')"
   ]
  },
  {
   "cell_type": "code",
   "execution_count": 37,
   "metadata": {},
   "outputs": [
    {
     "name": "stdout",
     "output_type": "stream",
     "text": [
      "Error: name 'x_list' is not defined\n"
     ]
    }
   ],
   "source": [
    "# x_list를 삭제\n",
    "del x_list\n",
    "\n",
    "try: \n",
    "    # x_list의 값을 출력\n",
    "    print(f'{x_list = }')\n",
    "except NameError as e:\n",
    "    print(f'Error: {e}')"
   ]
  },
  {
   "cell_type": "markdown",
   "metadata": {},
   "source": [
    "## **문자열**"
   ]
  },
  {
   "cell_type": "markdown",
   "metadata": {},
   "source": [
    "### **문자열(string) 생성**\n",
    "1. 큰따옴표(\")로 둘러싸기\n",
    "2. 작은 따옴표(')로 둘러싸기\n",
    "3. 큰따옴표 3개를 연속(\"\"\")으로 둘러싸기 -> 여러 줄 작성 가능\n",
    "4. 작은따옴표 3개를 연속(''')으로 둘러싸기 -> 여러 줄 작성 가능능"
   ]
  },
  {
   "cell_type": "code",
   "execution_count": 38,
   "metadata": {},
   "outputs": [
    {
     "name": "stdout",
     "output_type": "stream",
     "text": [
      "Hello Python! My name is Python. I am a Python Developer.\n"
     ]
    }
   ],
   "source": [
    "string1 = \"Hello Python! My name is Python. I am a Python Developer.\"\n",
    "print(string1)"
   ]
  },
  {
   "cell_type": "code",
   "execution_count": 39,
   "metadata": {},
   "outputs": [
    {
     "name": "stdout",
     "output_type": "stream",
     "text": [
      "Hello Python! My name is Python. I am a Python Developer.\n"
     ]
    }
   ],
   "source": [
    "string2 = 'Hello Python! My name is Python. I am a Python Developer.'\n",
    "print(string2)"
   ]
  },
  {
   "cell_type": "code",
   "execution_count": 40,
   "metadata": {},
   "outputs": [
    {
     "name": "stdout",
     "output_type": "stream",
     "text": [
      "Hello Python! \n",
      "My name is Python. \n",
      "I am a Python Developer.\n",
      "\n"
     ]
    }
   ],
   "source": [
    "string3 = \"\"\"Hello Python! \n",
    "My name is Python. \n",
    "I am a Python Developer.\n",
    "\"\"\"\n",
    "print(string3)"
   ]
  },
  {
   "cell_type": "code",
   "execution_count": 41,
   "metadata": {},
   "outputs": [
    {
     "name": "stdout",
     "output_type": "stream",
     "text": [
      "Hello Python! \n",
      "My name is Python. \n",
      "I am a Python Developer.\n",
      "\n"
     ]
    }
   ],
   "source": [
    "string4 = '''Hello Python! \n",
    "My name is Python. \n",
    "I am a Python Developer.\n",
    "'''\n",
    "print(string4)"
   ]
  },
  {
   "cell_type": "markdown",
   "metadata": {},
   "source": [
    "### **이스케이프 문자**\n",
    "-  이스케이프(Escape) 문자는 문자열 내부에서 특수하게 사용할 수 있있도록 미리 약속으로 정해둔 코드\n",
    "\n",
    "- \\n: 문자열 안에서 줄을 바꿀 때 사용\n",
    "- \\t: 문자열 사이에 탭 간격을 줄 때 사용\n",
    "- \\\\: 문자 그대로 표현할 때 사용\n",
    "- \\',\\\": 작은따옴표(') 또는 큰따옴표(\")를 그대로 표현할 때 사용용"
   ]
  },
  {
   "cell_type": "code",
   "execution_count": 42,
   "metadata": {},
   "outputs": [
    {
     "name": "stdout",
     "output_type": "stream",
     "text": [
      "Hello \tPython! \n",
      "My \tname \tis \tPython. \n",
      "I \tam \ta \tPython \tDeveloper.\n"
     ]
    }
   ],
   "source": [
    "string = 'Hello \\tPython! \\nMy \\tname \\tis \\tPython. \\nI \\tam \\ta \\tPython \\tDeveloper.'\n",
    "print(string)"
   ]
  },
  {
   "cell_type": "code",
   "execution_count": 43,
   "metadata": {},
   "outputs": [
    {
     "name": "stdout",
     "output_type": "stream",
     "text": [
      "Hello \t\\Python\\! \n",
      "My \tname \tis \t'Python'!. \n",
      "I \tam \ta \t\"Python\" \tDeveloper.\n"
     ]
    }
   ],
   "source": [
    "string = 'Hello \\t\\\\Python\\\\! \\nMy \\tname \\tis \\t\\'Python\\'!. \\nI \\tam \\ta \\t\\\"Python\\\" \\tDeveloper.'\n",
    "print(string)"
   ]
  },
  {
   "cell_type": "markdown",
   "metadata": {},
   "source": [
    "### **문자열의 종류**\n",
    "- r-string: 문자열 앞에 r을 붙이면, 이스케이프 문자를 무시하고 그대로 문자열 생성\n",
    "- f-string: 문자열 앞에 f를 붙이면, 문자열 내부에 변수를 사용할 수 있음음 "
   ]
  },
  {
   "cell_type": "code",
   "execution_count": 44,
   "metadata": {},
   "outputs": [
    {
     "name": "stdout",
     "output_type": "stream",
     "text": [
      "Hello \\t\\\\Python\\\\! \\nMy \\tname \\tis \\t\\'Python\\'!. \\nI \\tam \\ta \\t\\\"Python\\\" \\tDeveloper.\n"
     ]
    }
   ],
   "source": [
    "# r-string\n",
    "string_r = r'Hello \\t\\\\Python\\\\! \\nMy \\tname \\tis \\t\\'Python\\'!. \\nI \\tam \\ta \\t\\\"Python\\\" \\tDeveloper.'\n",
    "print(string_r)"
   ]
  },
  {
   "cell_type": "code",
   "execution_count": 45,
   "metadata": {},
   "outputs": [
    {
     "name": "stdout",
     "output_type": "stream",
     "text": [
      "Hello Python! My name is Python. I am a Python Developer.\n"
     ]
    }
   ],
   "source": [
    "# f-string\n",
    "name = 'Python'\n",
    "string_f = f'Hello {name}! My name is {name}. I am a {name} Developer.'\n",
    "print(string_f)"
   ]
  },
  {
   "cell_type": "markdown",
   "metadata": {},
   "source": [
    "### **문자열의 인덱싱과 슬라이싱**\n",
    "- 문자열(string)은 여러 개의 문자(character)를 순서대로 나열한 것\n",
    "- 따라서, 문자열의 인덱싱과 슬라이싱은 다른 iterable(list, tuple 등)과 동일"
   ]
  },
  {
   "cell_type": "code",
   "execution_count": 46,
   "metadata": {},
   "outputs": [
    {
     "name": "stdout",
     "output_type": "stream",
     "text": [
      "\n",
      "==== 인덱싱(포인트)====\n",
      "string[0]='H'\n",
      "string[3]='l'\n",
      "string[-1]='.'\n",
      "string[-3]='e'\n",
      "\n",
      "==== 슬라이싱(구간) ====\n",
      "string[0:5]='Hello'\n",
      "string[6:12]='Python'\n",
      "string[:5]='Hello'\n",
      "string[6:]='Python! My name is Python. I am a Python Developer.'\n",
      "string[6:-1]='Python! My name is Python. I am a Python Developer'\n",
      "string[6:-3]='Python! My name is Python. I am a Python Develop'\n",
      "\n",
      "==== 스텝(간격) ====\n",
      "- 인덱스 6부터 2칸씩 12 전까지\n",
      "string[6:12:2]='Pto'\n",
      "- 처음부터 끝까지 2칸씩\n",
      "string[::2]='HloPto!M aei yhn  maPto eeoe.'\n",
      "- 처음부터 끝까지 거꾸로 1칸씩\n",
      "string[::-1]='.repoleveD nohtyP a ma I .nohtyP si eman yM !nohtyP olleH'\n",
      "\n"
     ]
    }
   ],
   "source": [
    "string = \"Hello Python! My name is Python. I am a Python Developer.\"\n",
    "print(f'''\n",
    "==== 인덱싱(포인트)====\n",
    "{string[0]=}\n",
    "{string[3]=}\n",
    "{string[-1]=}\n",
    "{string[-3]=}\n",
    "\n",
    "==== 슬라이싱(구간) ====\n",
    "{string[0:5]=}\n",
    "{string[6:12]=}\n",
    "{string[:5]=}\n",
    "{string[6:]=}\n",
    "{string[6:-1]=}\n",
    "{string[6:-3]=}\n",
    "\n",
    "==== 스텝(간격) ====\n",
    "- 인덱스 6부터 2칸씩 12 전까지\n",
    "{string[6:12:2]=}\n",
    "- 처음부터 끝까지 2칸씩\n",
    "{string[::2]=}\n",
    "- 처음부터 끝까지 거꾸로 1칸씩\n",
    "{string[::-1]=}\n",
    "''')"
   ]
  },
  {
   "cell_type": "markdown",
   "metadata": {},
   "source": [
    "### **문자열 연산**\n",
    "- *문자열 더하기(+)*: 문자열과 문자열을 합침\n",
    "- *문자열 곱하기(*)*: 문자열을 반복"
   ]
  },
  {
   "cell_type": "code",
   "execution_count": 47,
   "metadata": {},
   "outputs": [
    {
     "name": "stdout",
     "output_type": "stream",
     "text": [
      "Hello python!My name is Python.I am a Python Developer.\n"
     ]
    }
   ],
   "source": [
    "# 문자열 연결\n",
    "string = \"Hello python!\" + \"My name is Python.\" + \"I am a Python Developer.\"\n",
    "print(string) "
   ]
  },
  {
   "cell_type": "code",
   "execution_count": 48,
   "metadata": {},
   "outputs": [
    {
     "name": "stdout",
     "output_type": "stream",
     "text": [
      "Hello Python! Hello Python! Hello Python! \n"
     ]
    }
   ],
   "source": [
    "# 문자열 반복\n",
    "string = \"Hello Python! \" * 3\n",
    "print(string)"
   ]
  },
  {
   "cell_type": "markdown",
   "metadata": {},
   "source": [
    "### **문자열 관련 함수**\n",
    "- **len()**: 문자열의 길이를 반환\n",
    "- **in**: 문자열 내부에 해당 문자열이 있는지 확인\n",
    "- **not in**: 문자열 내부에 해당 문자열이 없는지 확인"
   ]
  },
  {
   "cell_type": "code",
   "execution_count": 49,
   "metadata": {},
   "outputs": [
    {
     "name": "stdout",
     "output_type": "stream",
     "text": [
      "22\n",
      "True\n",
      "True\n"
     ]
    }
   ],
   "source": [
    "string = \"2024_바이오헬스 교과목 목록.xlsx\"\n",
    "\n",
    "# 문자열 길이\n",
    "print(len(string))\n",
    "\n",
    "# 문자열에 2024가 포함되어 있는지 확인\n",
    "print('2024' in string)\n",
    "\n",
    "# 문자열에 'csv'가 포함되어 있지 않은지 확인\n",
    "print('csv' not in string)"
   ]
  },
  {
   "cell_type": "markdown",
   "metadata": {},
   "source": [
    "## **딕셔너리**\n",
    "- 딕셔너리(Dictionary)는 ***key와 value***를 한 쌍으로 갖는 자료형"
   ]
  },
  {
   "cell_type": "markdown",
   "metadata": {},
   "source": [
    "### **Dictionary 생성 및 선언**\n",
    "1. 중괄호({})로 정의\n",
    "    - **key:value** 형태로 하나의 요소를 구성\n",
    "    - 각 요소는 쉼표(,)로 구분\n",
    "2. **dict()** 내장함수를 사용하여 딕셔너리 생성\n",
    "    - **dict(key1=value1, key2=value2, ...)** 형태로 생성\n",
    "3. 다른 자료형을 딕셔너리로 변환\n",
    "    - **dict([(key1, value1), (key2, value2), ...])**: 리스트 안에 튜플을 넣어 딕셔너리로 변환\n",
    "    - **dict(zip(key_list, value_list))**: 리스트 두 개를 딕셔너리로 변환환"
   ]
  },
  {
   "cell_type": "markdown",
   "metadata": {},
   "source": [
    "- 빈 Dictionary 생성"
   ]
  },
  {
   "cell_type": "code",
   "execution_count": 50,
   "metadata": {},
   "outputs": [
    {
     "name": "stdout",
     "output_type": "stream",
     "text": [
      "my_dict1 = {}\n",
      "my_dict2 = {}\n"
     ]
    }
   ],
   "source": [
    "# 중괄호로 딕셔너리 생성 -> 요소가 없는 딕셔너리\n",
    "my_dict1 = {}\n",
    "\n",
    "# dict() 함수로 딕셔너리 생성 -> 요소가 없는 딕셔너리\n",
    "my_dict2 = dict()\n",
    "\n",
    "print(f'{my_dict1 = }\\n{my_dict2 = }')"
   ]
  },
  {
   "cell_type": "markdown",
   "metadata": {},
   "source": [
    "- 요소가 있는 Dictionary 생성"
   ]
  },
  {
   "cell_type": "code",
   "execution_count": 51,
   "metadata": {},
   "outputs": [
    {
     "name": "stdout",
     "output_type": "stream",
     "text": [
      "my_dict1 = {'name': 'Max', 'age': 28, 'city': 'New York'}\n",
      "my_dict2 = {'name': 'Max', 'age': 28, 'city': 'New York'}\n",
      "my_dict3 = {'name': 'Max', 'age': 28, 'city': 'New York'}\n"
     ]
    }
   ],
   "source": [
    "# 중괄호로 딕셔너리 생성 -> key:value 형태로 요소 추가\n",
    "my_dict1 = {'name': 'Max', 'age': 28, 'city': 'New York'}\n",
    "\n",
    "# dict() 함수로 딕셔너리 생성 -> key=value 형태로 요소 추가\n",
    "# key는 문자열로 지정됨\n",
    "my_dict2 = dict(name='Max', age=28, city='New York')\n",
    "\n",
    "# dict() 함수로 딕셔너리 변환 -> (key, value) 리스트로 요소 추가\n",
    "my_dict3 = dict([('name', 'Max'), ('age', 28), ('city', 'New York')])\n",
    "\n",
    "print(f'{my_dict1 = }\\n{my_dict2 = }\\n{my_dict3 = }')"
   ]
  },
  {
   "cell_type": "code",
   "execution_count": 52,
   "metadata": {},
   "outputs": [
    {
     "name": "stdout",
     "output_type": "stream",
     "text": [
      "my_dict4 = {'name': 'Max', 'age': 28, 'city': 'New York'}\n"
     ]
    }
   ],
   "source": [
    "person_keys = ['name', 'age', 'city']\n",
    "person_values = ['Max', 28, 'New York']\n",
    "\n",
    "# zip()으로 묶어서 dict()로 변환\n",
    "my_dict4 = dict(zip(person_keys, person_values))\n",
    "print(f'{my_dict4 = }')"
   ]
  },
  {
   "cell_type": "markdown",
   "metadata": {},
   "source": [
    "- Dictionary를 value로 가지는 Dictionary 생성"
   ]
  },
  {
   "cell_type": "code",
   "execution_count": 53,
   "metadata": {},
   "outputs": [
    {
     "name": "stdout",
     "output_type": "stream",
     "text": [
      "my_dict_dict = {'A': {'name': 'Max', 'age': 28, 'city': 'New York'}, 'B': {'name': 'Mary', 'age': 22, 'city': 'Seoul'}}\n"
     ]
    }
   ],
   "source": [
    "my_dict_dict = {'A': {'name': 'Max', 'age': 28, 'city':'New York'}, \n",
    "                'B': {'name': 'Mary', 'age': 22, 'city':'Seoul'}}\n",
    "print(f'{my_dict_dict = }')"
   ]
  },
  {
   "cell_type": "markdown",
   "metadata": {},
   "source": [
    "- **pprint()** 사용하여 보기 좋게 출력하기 "
   ]
  },
  {
   "cell_type": "code",
   "execution_count": 54,
   "metadata": {},
   "outputs": [
    {
     "name": "stdout",
     "output_type": "stream",
     "text": [
      "{'A': {'age': 28, 'city': 'New York', 'name': 'Max'},\n",
      " 'B': {'age': 22, 'city': 'Seoul', 'name': 'Mary'}}\n"
     ]
    }
   ],
   "source": [
    "from pprint import pprint\n",
    "pprint(my_dict_dict)"
   ]
  },
  {
   "cell_type": "markdown",
   "metadata": {},
   "source": [
    "### **Dictionary 살펴보기**\n",
    "- 형태 확인하기"
   ]
  },
  {
   "cell_type": "code",
   "execution_count": 55,
   "metadata": {},
   "outputs": [
    {
     "name": "stdout",
     "output_type": "stream",
     "text": [
      "my_dict1 = {'name': 'Max', 'age': 28, 'city': 'New York'}\n",
      "type(my_dict1) = <class 'dict'>\n",
      "len(my_dict1) = 3\n",
      "True\n",
      "False\n"
     ]
    }
   ],
   "source": [
    "print(f'{my_dict1 = }')\n",
    "\n",
    "# 딕셔너리 유형 확인\n",
    "print(f'{type(my_dict1) = }')\n",
    "\n",
    "# 딕셔너리 길이(key의 개수) 확인\n",
    "print(f'{len(my_dict1) = }')\n",
    "\n",
    "# key 존재 여부 확인\n",
    "print(\"name\" in my_dict1)\n",
    "\n",
    "# value 존재 여부는 in을 이용하여 확인할 수 없음\n",
    "print(\"Max\" in my_dict1)"
   ]
  },
  {
   "cell_type": "markdown",
   "metadata": {},
   "source": [
    "- 내용 확인하기"
   ]
  },
  {
   "cell_type": "code",
   "execution_count": 56,
   "metadata": {},
   "outputs": [
    {
     "name": "stdout",
     "output_type": "stream",
     "text": [
      "my_dict1[\"name\"] = 'Max'\n",
      "KeyError: 'name2'\n"
     ]
    }
   ],
   "source": [
    "# key로 value에 접근\n",
    "print(f'{my_dict1[\"name\"] = }')\n",
    "\n",
    "try: \n",
    "    # key가 없으면 에러 발생\n",
    "    print(f'{my_dict1[\"name2\"] = }')\n",
    "except KeyError as e:\n",
    "    print(f'KeyError: {e}')"
   ]
  },
  {
   "cell_type": "code",
   "execution_count": 57,
   "metadata": {},
   "outputs": [
    {
     "name": "stdout",
     "output_type": "stream",
     "text": [
      "my_dict_dict[\"A\"][\"name\"] = 'Max'\n"
     ]
    }
   ],
   "source": [
    "# 중첩된 dict의 값에 접근\n",
    "print(f'{my_dict_dict[\"A\"][\"name\"] = }')"
   ]
  },
  {
   "cell_type": "markdown",
   "metadata": {},
   "source": [
    "- get() 메서드로 에러 회피하며 값 가져오기"
   ]
  },
  {
   "cell_type": "code",
   "execution_count": 58,
   "metadata": {},
   "outputs": [
    {
     "name": "stdout",
     "output_type": "stream",
     "text": [
      "my_dict1.get(\"name\") = 'Max'\n",
      "my_dict1.get(\"name2\") = None\n",
      "my_dict1.get(\"name2\", \"replacement\") = 'replacement'\n"
     ]
    }
   ],
   "source": [
    "# key로 값에 접근\n",
    "print(f'{my_dict1.get(\"name\") = }')\n",
    "\n",
    "#  key가 없으면 None을 반환. 에러발생하지 않음\n",
    "print(f'{my_dict1.get(\"name2\") = }')\n",
    "\n",
    "# key가 없으면 대체값을 반환\n",
    "print(f'{my_dict1.get(\"name2\", \"replacement\") = }')"
   ]
  },
  {
   "cell_type": "markdown",
   "metadata": {},
   "source": [
    "- numpy"
   ]
  },
  {
   "cell_type": "code",
   "execution_count": 59,
   "metadata": {},
   "outputs": [
    {
     "data": {
      "text/plain": [
       "[np.float64(0.0), np.float64(2.5), np.float64(5.0), np.float64(7.5)]"
      ]
     },
     "execution_count": 59,
     "metadata": {},
     "output_type": "execute_result"
    }
   ],
   "source": [
    "import numpy as np\n",
    "\n",
    "list(np.arange(0,10,2.5))"
   ]
  },
  {
   "cell_type": "markdown",
   "metadata": {},
   "source": [
    "- 메서드를 이용하여 **key, value, item** 가져오기"
   ]
  },
  {
   "cell_type": "code",
   "execution_count": 60,
   "metadata": {},
   "outputs": [
    {
     "name": "stdout",
     "output_type": "stream",
     "text": [
      "my_dict1.keys() = dict_keys(['name', 'age', 'city'])\n",
      "my_dict1.values() = dict_values(['Max', 28, 'New York'])\n",
      "my_dict1.items() = dict_items([('name', 'Max'), ('age', 28), ('city', 'New York')])\n"
     ]
    }
   ],
   "source": [
    "# key 목록 가져오기\n",
    "print(f'{my_dict1.keys() = }')\n",
    "\n",
    "# 값 목록 가져오기\n",
    "print(f'{my_dict1.values() = }')\n",
    "\n",
    "# 키와 값의 쌍을 가져오기\n",
    "print(f'{my_dict1.items() = }')"
   ]
  },
  {
   "cell_type": "markdown",
   "metadata": {},
   "source": [
    "### **Dictionary 요소 추가, 삭제, 수정하기**\n",
    "- 요소 추가 및 삭제하기"
   ]
  },
  {
   "cell_type": "code",
   "execution_count": 61,
   "metadata": {},
   "outputs": [
    {
     "name": "stdout",
     "output_type": "stream",
     "text": [
      "my_dict1 = {'name': 'Max', 'age': 28, 'city': 'New York'}\n",
      "my_dict1 = {'name': 'Max', 'age': 28, 'city': 'New York', 'id': 123}\n"
     ]
    }
   ],
   "source": [
    "print(f'{my_dict1 = }')\n",
    "\n",
    "# 새로운 키와 값을 추가\n",
    "my_dict1[\"id\"] = 123\n",
    "print(f'{my_dict1 = }')"
   ]
  },
  {
   "cell_type": "code",
   "execution_count": 62,
   "metadata": {},
   "outputs": [
    {
     "name": "stdout",
     "output_type": "stream",
     "text": [
      "my_dict1 = {'name': 'Max', 'age': 28, 'city': 'New York'}\n"
     ]
    }
   ],
   "source": [
    "# 키와 값을 삭제\n",
    "del my_dict1[\"id\"]\n",
    "print(f'{my_dict1 = }')"
   ]
  },
  {
   "cell_type": "markdown",
   "metadata": {},
   "source": [
    "- 요소의 값만 수정하기"
   ]
  },
  {
   "cell_type": "code",
   "execution_count": 63,
   "metadata": {},
   "outputs": [
    {
     "name": "stdout",
     "output_type": "stream",
     "text": [
      "my_dict1 ={'name': 'Max', 'age': 30, 'city': 'New York'}\n"
     ]
    }
   ],
   "source": [
    "# 키가 있으면 값을 수정, 없으면 추가\n",
    "my_dict1[\"age\"] = 30\n",
    "print(f'{my_dict1 =}')"
   ]
  },
  {
   "cell_type": "markdown",
   "metadata": {},
   "source": [
    "- **update()** 를 이용하여 여러 요소 한 번에 수정하기기"
   ]
  },
  {
   "cell_type": "code",
   "execution_count": 64,
   "metadata": {},
   "outputs": [
    {
     "name": "stdout",
     "output_type": "stream",
     "text": [
      "my_dict1 ={'name': 'Max', 'age': 40, 'city': 'New York', 'id': 123, 'occupation': 'Data Scientist'}\n"
     ]
    }
   ],
   "source": [
    "# 여러개의 키와 값을 수정, 추가\n",
    "my_dict1.update(age = 40, id = 123, occupation = \"Data Scientist\")\n",
    "print(f'{my_dict1 =}')"
   ]
  },
  {
   "cell_type": "code",
   "execution_count": 65,
   "metadata": {},
   "outputs": [
    {
     "name": "stdout",
     "output_type": "stream",
     "text": [
      "my_dict1 = {'name': 'Max', 'age': 50, 'city': 'New York', 'id': 123, 'occupation': 'Data Scientist', 'affiliation': 'Hongik Univ.'}\n"
     ]
    }
   ],
   "source": [
    "# 다른 dict를 통째로 추가\n",
    "my_dict_more = {\"age\": 50, \"affiliation\": \"Hongik Univ.\"}\n",
    "my_dict1.update(my_dict_more)\n",
    "print(f'{my_dict1 = }')"
   ]
  },
  {
   "cell_type": "markdown",
   "metadata": {},
   "source": [
    "- **pop()** 을 이용하여 요소 삭제하고 저장하기"
   ]
  },
  {
   "cell_type": "code",
   "execution_count": 66,
   "metadata": {},
   "outputs": [
    {
     "name": "stdout",
     "output_type": "stream",
     "text": [
      "my_dict1 = {'name': 'Max', 'age': 50, 'city': 'New York', 'id': 123, 'occupation': 'Data Scientist'}\n"
     ]
    }
   ],
   "source": [
    "# 키와 값을 삭제\n",
    "my_dict1.pop(\"affiliation\")\n",
    "print(f'{my_dict1 = }')"
   ]
  },
  {
   "cell_type": "code",
   "execution_count": 67,
   "metadata": {},
   "outputs": [
    {
     "name": "stdout",
     "output_type": "stream",
     "text": [
      "my_dict1 = {'name': 'Max', 'age': 50, 'city': 'New York', 'id': 123}\n",
      "occupation = 'Data Scientist'\n"
     ]
    }
   ],
   "source": [
    "# 키와 값을 삭제하고 값을 반환\n",
    "occupation = my_dict1.pop(\"occupation\")\n",
    "print(f'{my_dict1 = }\\n{occupation = }')"
   ]
  },
  {
   "cell_type": "markdown",
   "metadata": {},
   "source": [
    "- **pop()** 의 두 번째 인자로 default 값을 지정하여 에러 회피하기"
   ]
  },
  {
   "cell_type": "code",
   "execution_count": 68,
   "metadata": {},
   "outputs": [
    {
     "name": "stdout",
     "output_type": "stream",
     "text": [
      "KeyError: 'occupation'\n",
      "occupation = 'unknown'\n"
     ]
    }
   ],
   "source": [
    "try:\n",
    "    # 키가 없으면 에러 발생\n",
    "    my_dict1.pop(\"occupation\")\n",
    "except KeyError as e:\n",
    "    print(f'KeyError: {e}')\n",
    "\n",
    "# pop()을 사용하면, 키가 없어도 에러발생하지 않음\n",
    "occupation = my_dict1.pop(\"occupation\", \"unknown\")\n",
    "print(f'{occupation = }')"
   ]
  },
  {
   "cell_type": "markdown",
   "metadata": {},
   "source": [
    "- **popitem()** 을 이용하여 마지막 요소 삭제하기"
   ]
  },
  {
   "cell_type": "code",
   "execution_count": 69,
   "metadata": {},
   "outputs": [
    {
     "name": "stdout",
     "output_type": "stream",
     "text": [
      "my_dict1 = {'name': 'Max', 'age': 50, 'city': 'New York', 'id': 123}\n",
      "my_dict1 = {'name': 'Max', 'age': 50, 'city': 'New York'}\n",
      "last = ('id', 123)\n",
      "my_dict1 = {'name': 'Max', 'age': 50}\n",
      "last = ('city', 'New York')\n"
     ]
    }
   ],
   "source": [
    "print(f'{my_dict1 = }')\n",
    "\n",
    "# 마지막 키와 값을 삭제\n",
    "# 딕셔너리는 원소의 순서가 없어 임의의 키와 값을 삭제하는 것과 동일\n",
    "last = my_dict1.popitem()\n",
    "print(f'{my_dict1 = }\\n{last = }')\n",
    "\n",
    "# 임의의 키와 값을 삭제\n",
    "last = my_dict1.popitem()\n",
    "print(f'{my_dict1 = }\\n{last = }')"
   ]
  },
  {
   "cell_type": "markdown",
   "metadata": {},
   "source": [
    "- **clear()** 를 이용하여 모든 요소 삭제하기"
   ]
  },
  {
   "cell_type": "code",
   "execution_count": 70,
   "metadata": {},
   "outputs": [
    {
     "name": "stdout",
     "output_type": "stream",
     "text": [
      "my_dict1 = {}\n"
     ]
    }
   ],
   "source": [
    "# 모든 키와 값을 삭제\n",
    "my_dict1.clear()\n",
    "print(f'{my_dict1 = }')"
   ]
  },
  {
   "cell_type": "markdown",
   "metadata": {},
   "source": [
    "## **응용**"
   ]
  },
  {
   "cell_type": "markdown",
   "metadata": {},
   "source": [
    "### 인덱싱과 슬라이싱\n",
    "#### 인덱싱"
   ]
  },
  {
   "cell_type": "code",
   "execution_count": 71,
   "metadata": {},
   "outputs": [
    {
     "name": "stdout",
     "output_type": "stream",
     "text": [
      "a\n",
      "b\n",
      "c\n",
      "d\n",
      "e\n"
     ]
    }
   ],
   "source": [
    "x_list = ['a','b','c','d','e']\n",
    "\n",
    "# 각 요소를 인덱싱\n",
    "print(x_list[0])\n",
    "print(x_list[1])\n",
    "print(x_list[2])\n",
    "print(x_list[3])\n",
    "print(x_list[4])"
   ]
  },
  {
   "cell_type": "code",
   "execution_count": 72,
   "metadata": {},
   "outputs": [
    {
     "name": "stdout",
     "output_type": "stream",
     "text": [
      "e\n",
      "d\n",
      "c\n",
      "b\n",
      "a\n"
     ]
    }
   ],
   "source": [
    "x_list = ['a','b','c','d','e']\n",
    "\n",
    "# 각 요소를 인덱싱\n",
    "print(x_list[-1])\n",
    "print(x_list[-2])\n",
    "print(x_list[-3])\n",
    "print(x_list[-4])\n",
    "print(x_list[-5])"
   ]
  },
  {
   "cell_type": "code",
   "execution_count": 73,
   "metadata": {},
   "outputs": [
    {
     "name": "stdout",
     "output_type": "stream",
     "text": [
      "a\n",
      "123\n",
      "[1, 2, 3]\n",
      "1\n",
      "2\n",
      "3\n",
      "가\n",
      "(4, 5, 6)\n",
      "4\n",
      "5\n",
      "6\n",
      "15\n"
     ]
    }
   ],
   "source": [
    "x_list = ['a', 123, [1, 2, 3],'가',(4, 5, 6)]\n",
    "\n",
    "# 각 요소를 인덱싱\n",
    "print(x_list[0])\n",
    "print(x_list[1])\n",
    "print(x_list[2])\n",
    "print(x_list[2][0])\n",
    "print(x_list[2][1])\n",
    "print(x_list[2][2])\n",
    "print(x_list[3])\n",
    "print(x_list[4])\n",
    "print(x_list[4][0])\n",
    "print(x_list[4][1])\n",
    "print(x_list[4][2])\n",
    "print(x_list[4][0] + x_list[4][1] + x_list[4][2])"
   ]
  },
  {
   "cell_type": "markdown",
   "metadata": {},
   "source": [
    "- 리스트와 튜플의 인덱싱"
   ]
  },
  {
   "cell_type": "code",
   "execution_count": null,
   "metadata": {},
   "outputs": [
    {
     "name": "stdout",
     "output_type": "stream",
     "text": [
      "x_list[2] = 30\n",
      "x_tuple[2] = c\n",
      "x_list[-2] = 40\n",
      "x_tuple[-2] = d\n",
      "[5] x_list[:3] = [10, 20, 30]\n",
      "[6] x_tuple[:3] = ('a', 'b', 'c')\n"
     ]
    }
   ],
   "source": [
    "x_list = [10, 20, 30, 40, 50]\n",
    "x_tuple = ('a', 'b', 'c', 'd', 'e')\n",
    "\n",
    "\n",
    "print(f'x_list[2] = {x_list[2]}')     # x_list의 세 번째 원소 출력\n",
    "print(f'x_tuple[2] = {x_tuple[2]}')   # x_tuple의 세 번째 원소 출력\n",
    "\n",
    "\n",
    "print(f'x_list[-2] = {x_list[-2]}')   # x_list의 뒤에서 두 번째 원소 출력\n",
    "print(f'x_tuple[-2] = {x_tuple[-2]}') # x_tuple의 뒤에서 두 번째 원소 출력\n",
    "\n",
    "\n",
    "print(f'[5] x_list[:3] = {x_list[:3]}')   # x_list의 3번째 요소 전까지 출력\n",
    "print(f'[6] x_tuple[:3] = {x_tuple[:3]}') # x_tuple의 3번째 요소 전까지 출력\n"
   ]
  },
  {
   "cell_type": "markdown",
   "metadata": {},
   "source": [
    "- 딕셔너리의 인덱싱"
   ]
  },
  {
   "cell_type": "code",
   "execution_count": null,
   "metadata": {},
   "outputs": [
    {
     "name": "stdout",
     "output_type": "stream",
     "text": [
      "x_dict = {'이름': ['송인성', '윤지영', '유다빈'], '학번': [281050, 381015, 281033], '점수': [88, 93, 78], '전공': ['법학', '경영학', '국어국문학학']}\n",
      "x_dict[\"이름\"][0] = '송인성'\n",
      "x_dict[\"이름\"][1] = '윤지영'\n",
      "x_dict[\"학번\"][-1] = 281033\n",
      "x_dict[\"점수\"][1] = 93\n",
      "x_dict[\"전공\"][2] = '국어국문학학'\n",
      "송인성 (법학)\n",
      "학번: 281033, 점수: 78\n",
      "\"송인성\" 학생의 전공은 \"법학\"이며, 점수는 88점입니다.\n"
     ]
    }
   ],
   "source": [
    "# key와 value로 이루어진 dictionary\n",
    "x_dict = {\n",
    "    '이름': ['송인성', '윤지영', '유다빈'],\n",
    "    '학번': [281050, 381015, 281033],\n",
    "    '점수': [88, 93, 78],\n",
    "    '전공': ['법학', '경영학', '국어국문학학']\n",
    "}\n",
    "\n",
    "# key를 이용해 value에 접근\n",
    "print(f'{x_dict = }')\n",
    "print(f'{x_dict[\"이름\"][0] = }')    # key \"이름\"의 0번째 value\n",
    "print(f'{x_dict[\"이름\"][1] = }')    # key \"이름\"의 1번째 value\n",
    "print(f'{x_dict[\"학번\"][-1] = }')   # key \"학번\"의 마지막 value\n",
    "print(f'{x_dict[\"점수\"][1] = }')    # key \"점수\"의 1번째 value\n",
    "print(f'{x_dict[\"전공\"][2] = }')    # key \"전공\"의 2번째 value\n",
    "\n",
    "# 이름과 전공을 같이 출력\n",
    "print(f'{x_dict[\"이름\"][0]} ({x_dict[\"전공\"][0]})')  \n",
    " #학번과 점수를 같이 출력\n",
    "print(f'학번: {x_dict[\"학번\"][2]}, 점수: {x_dict[\"점수\"][2]}')   \n",
    "\n",
    "# 종합하여 출력\n",
    "print(f'\\\"{x_dict[\"이름\"][0]}\\\" 학생의 전공은 \\\"{x_dict[\"전공\"][0]}\\\"이며, 점수는 {x_dict[\"점수\"][0]}점입니다.')"
   ]
  },
  {
   "cell_type": "markdown",
   "metadata": {},
   "source": [
    "- 문자열의 인덱싱"
   ]
  },
  {
   "cell_type": "code",
   "execution_count": 76,
   "metadata": {},
   "outputs": [
    {
     "name": "stdout",
     "output_type": "stream",
     "text": [
      "x_str = '파이썬 프로그래밍' \t=> x_str[0] = '파'\n",
      "x_str = '파이썬 프로그래밍' \t=> x_str[1] = '이'\n",
      "x_str = '파이썬 프로그래밍' \t=> x_str[2] = '썬'\n",
      "x_str = '파이썬 프로그래밍' \t=> x_str[3] = ' '\n",
      "x_str = '파이썬 프로그래밍' \t=> x_str[4] = '프'\n",
      "x_str = '파이썬 프로그래밍' \t=> x_str[-1] = '밍'\n",
      "x_str = '파이썬 프로그래밍' \t=> x_str[-2] = '래'\n",
      "x_str[0] + x_str[3] + x_str[-5] = '파 프'\n"
     ]
    }
   ],
   "source": [
    "x_str = \"파이썬 프로그래밍\"\n",
    "\n",
    "\n",
    "# 0번째 원소\n",
    "print(f'{x_str = } \\t=> {x_str[0] = }')\n",
    "\n",
    "# 1번째 원소\n",
    "print(f'{x_str = } \\t=> {x_str[1] = }')\n",
    "\n",
    "# 2번째 원소\n",
    "print(f'{x_str = } \\t=> {x_str[2] = }')\n",
    "\n",
    "# 3번째 원소 (공백)\n",
    "print(f'{x_str = } \\t=> {x_str[3] = }')\n",
    "\n",
    "# 4번째 원소 \n",
    "print(f'{x_str = } \\t=> {x_str[4] = }')\n",
    "\n",
    "# 마지막 원소\n",
    "print(f'{x_str = } \\t=> {x_str[-1] = }')\n",
    "\n",
    "# 뒤에서 두 번째 원소\n",
    "print(f'{x_str = } \\t=> {x_str[-2] = }')\n",
    "\n",
    "# 문자들을 조합\n",
    "print(f'{x_str[0] + x_str[3] + x_str[-5] = }')"
   ]
  },
  {
   "cell_type": "markdown",
   "metadata": {},
   "source": [
    "#### 슬라이싱"
   ]
  },
  {
   "cell_type": "code",
   "execution_count": null,
   "metadata": {},
   "outputs": [
    {
     "name": "stdout",
     "output_type": "stream",
     "text": [
      "[{8, 9, 7}, (2, 3, 4)]\n",
      "[{8, 9, 7}, (2, 3, 4), [5, 6, 7], '송인성']\n",
      "[87, {8, 9, 7}]\n",
      "[87, {8, 9, 7}, (2, 3, 4), [5, 6, 7], '송인성']\n",
      "[87, (2, 3, 4), '송인성']\n",
      "['송인성', [5, 6, 7], (2, 3, 4), {8, 9, 7}, 87]\n",
      "[]\n",
      "[]\n"
     ]
    }
   ],
   "source": [
    "x_list = [87, {7, 8, 9}, (2, 3, 4), [5, 6, 7], \"송인성\"]\n",
    "\n",
    "print(x_list[1:3])   # 인덱스 1부터 3 전까지 \n",
    "print(x_list[1:])    # 인덱스 1부터 끝까지\n",
    "print(x_list[:2])    # 처음부터 2 전까지\n",
    "print(x_list[:])     # 처음부터 끝까지 \n",
    "print(x_list[::2])   # 2칸씩 출력\n",
    "print(x_list[::-1])  # 뒤집기 \n",
    "print(x_list[1:1])   # 빈 리스트 \n",
    "print(x_list[4:1])   # 빈 리스트 "
   ]
  },
  {
   "cell_type": "markdown",
   "metadata": {},
   "source": [
    "- 리스트와 튜플의 슬라이싱"
   ]
  },
  {
   "cell_type": "code",
   "execution_count": null,
   "metadata": {},
   "outputs": [
    {
     "name": "stdout",
     "output_type": "stream",
     "text": [
      "x_list[0:4] = [10, 20, 30, 40]\n",
      "x_tuple[4:0:-2] = ('e', 'c')\n",
      "x_list[::-1] = [50, 40, 30, 20, 10]\n",
      "x_tuple[::3] = ('a', 'd')\n",
      "x_list[:10] = [10, 20, 30, 40, 50]\n",
      "x_tuple[5:5] = ()\n"
     ]
    }
   ],
   "source": [
    "x_list = [10, 20, 30, 40, 50]\n",
    "x_tuple = ('a', 'b', 'c', 'd', 'e')\n",
    "\n",
    "\n",
    "print(f'x_list[0:4] = {x_list[0:4]}')     # x_list의 0번째부터 4번째 전까지 출력\n",
    "print(f'x_tuple[4:0:-2] = {x_tuple[4:0:-2]}')   # x_tuple의 4번째부터 0번째 앞까지 2칸씩 출력\n",
    "\n",
    "\n",
    "print(f'x_list[::-1] = {x_list[::-1]}')   # x_list의 순서 뒤집기\n",
    "print(f'x_tuple[::3] = {x_tuple[::3]}') # x_tuple의 처음부터 끝까지 3칸씩 출력\n",
    "\n",
    "\n",
    "print(f'x_list[:10] = {x_list[0:10]}')   # 초과해도 오류가 발생하지 않고 끝까지 출력\n",
    "print(f'x_tuple[5:5] = {x_tuple[5:5]}') # 빈 튜플"
   ]
  },
  {
   "cell_type": "markdown",
   "metadata": {},
   "source": [
    "- 딕셔너리의 슬라이싱"
   ]
  },
  {
   "cell_type": "code",
   "execution_count": 79,
   "metadata": {},
   "outputs": [
    {
     "name": "stdout",
     "output_type": "stream",
     "text": [
      "x_dict = {'이름': ['송인성', '윤지영', '유다빈'], '학번': [281050, 381015, 281033], '점수': [88, 93, 78], '전공': ['법학', '경영학', '국어국문학']}\n",
      "x_dict[\"이름\"][:] = ['송인성', '윤지영', '유다빈']\n",
      "x_dict[\"이름\"][-1:-3:-1] = ['유다빈', '윤지영']\n",
      "x_dict[\"학번\"][1:2] = [381015]\n",
      "x_dict[\"점수\"][::-1] = [78, 93, 88]\n",
      "x_dict[\"전공\"][3:2] = []\n"
     ]
    }
   ],
   "source": [
    "# key와 value로 이루어진 dictionary\n",
    "x_dict = {\n",
    "    '이름': ['송인성', '윤지영', '유다빈'],\n",
    "    '학번': [281050, 381015, 281033],\n",
    "    '점수': [88, 93, 78],\n",
    "    '전공': ['법학', '경영학', '국어국문학']\n",
    "}\n",
    "\n",
    "# key를 이용해 value에 접근\n",
    "print(f'{x_dict = }')\n",
    "print(f'{x_dict[\"이름\"][:] = }')    # key \"이름\"의 value 처음부터 끝까지 출력\n",
    "print(f'{x_dict[\"이름\"][-1:-3:-1] = }')    # key \"이름\"의 뒤에서 1번째부터 3번째 전까지 출력\n",
    "print(f'{x_dict[\"학번\"][1:2] = }')   # key \"학번\"의 1번째만 출력\n",
    "print(f'{x_dict[\"점수\"][::-1] = }')    # key \"점수\"의 value 순서 거꾸로 출력\n",
    "print(f'{x_dict[\"전공\"][3:2] = }')    # 빈 리스트"
   ]
  },
  {
   "cell_type": "markdown",
   "metadata": {},
   "source": [
    "- 문자열의 슬라이싱"
   ]
  },
  {
   "cell_type": "code",
   "execution_count": 80,
   "metadata": {},
   "outputs": [
    {
     "name": "stdout",
     "output_type": "stream",
     "text": [
      "x_str = '파이썬 프로그래밍'\n",
      "x_str[0:5] = '파이썬 프'\n",
      "x_str[7:] = '래밍'\n",
      "x_str[:4] = '파이썬 '\n",
      "x_str[:] = '파이썬 프로그래밍'\n",
      "x_str[::-1] = '밍래그로프 썬이파'\n",
      "x_str[3:3] = ''\n",
      "x_str[10:5:-1] = '밍래그'\n"
     ]
    }
   ],
   "source": [
    "x_str = \"파이썬 프로그래밍\"\n",
    "\n",
    "print(f'{x_str = }')\n",
    "print(f'{x_str[0:5] = }')   # x_str의 0번째부터 5번째 전까지 출력\n",
    "print(f'{x_str[7:] = }')    # x_str의 7번째부터 끝까지 출력     \n",
    "print(f'{x_str[:4] = }')    # x_str의 처음부터 4번째 전까지 출력          \n",
    "print(f'{x_str[:] = }')    # x_str의 처음부터 끝까지 출력        \n",
    "print(f'{x_str[::-1] = }')  # x_str의 순서를 뒤집기\n",
    "print(f'{x_str[3:3] = }')   # 빈 문자열\n",
    "print(f'{x_str[10:5:-1] = }')  # 마지막부터 5번째 앞까지 거꾸로 출력"
   ]
  },
  {
   "cell_type": "markdown",
   "metadata": {},
   "source": [
    "### 얕은 복사와 깊은 복사\n",
    "#### immutable 객체의 assignment 예시"
   ]
  },
  {
   "cell_type": "code",
   "execution_count": 81,
   "metadata": {},
   "outputs": [
    {
     "name": "stdout",
     "output_type": "stream",
     "text": [
      "x = ('a', 'b', 'c', 'd', 'e'), y = ('a', 'b', 'c', 'd', 'e')\n",
      "id(x) == id(y) =True\n"
     ]
    }
   ],
   "source": [
    "x = ('a', 'b', 'c', 'd', 'e')\n",
    "\n",
    "# y에 x를 assign\n",
    "y = x\n",
    "\n",
    "# x와 y의 id가 같다\n",
    "print(f'{x = }, {y = }\\n{id(x) == id(y) =}')"
   ]
  },
  {
   "cell_type": "code",
   "execution_count": 82,
   "metadata": {},
   "outputs": [
    {
     "name": "stdout",
     "output_type": "stream",
     "text": [
      "x = ('a', 'b', 'c', 'd', 'e'), y = ('absolute', 'b', 'c', 'd', 'e')\n",
      "id(x) == id(y) =False\n"
     ]
    }
   ],
   "source": [
    "# y의 값을 변경 - imutable은 원소 변경이 불가능\n",
    "y = ('absolute', 'b', 'c', 'd', 'e')\n",
    "\n",
    "# y의 값을 변경하면 새로운 메모리에 주소가 할당됨\n",
    "print(f'{x = }, {y = }\\n{id(x) == id(y) =}')"
   ]
  },
  {
   "cell_type": "markdown",
   "metadata": {},
   "source": [
    "#### mutable 객체의 얕은 복사 예시"
   ]
  },
  {
   "cell_type": "code",
   "execution_count": 83,
   "metadata": {},
   "outputs": [
    {
     "name": "stdout",
     "output_type": "stream",
     "text": [
      "x = ['가', '나', '다', '라', '마'], y = ['가', '나', '다', '라', '마']\n",
      "x와 y의 id가 같습니다.\n"
     ]
    }
   ],
   "source": [
    "x = ['가', '나', '다', '라', '마']\n",
    "\n",
    "# y에 x를 복사\n",
    "y = x\n",
    "\n",
    "# x와 y의 id가 같음\n",
    "print(f'{x = }, {y = }')\n",
    "\n",
    "if id(x) == id(y):\n",
    "    print('x와 y의 id가 같습니다.')\n",
    "else:\n",
    "    print('x와 y의 id가 다릅니다.')"
   ]
  },
  {
   "cell_type": "code",
   "execution_count": 84,
   "metadata": {},
   "outputs": [
    {
     "name": "stdout",
     "output_type": "stream",
     "text": [
      "x = ['갸', '나', '다', '라', '마'], y = ['갸', '나', '다', '라', '마']\n",
      "x와 y의 id가 같습니다.\n"
     ]
    }
   ],
   "source": [
    "# y의 값을 변경\n",
    "y[0] = '갸'\n",
    "\n",
    "# y의 값을 변경하면 x의 값도 같이 변경됨\n",
    "print(f'{x = }, {y = }')\n",
    "\n",
    "if id(x) == id(y):\n",
    "    print('x와 y의 id가 같습니다.')\n",
    "else:\n",
    "    print('x와 y의 id가 다릅니다.')"
   ]
  },
  {
   "cell_type": "markdown",
   "metadata": {},
   "source": [
    "#### mutable 객체의 깊은 복사 예시"
   ]
  },
  {
   "cell_type": "code",
   "execution_count": 85,
   "metadata": {},
   "outputs": [
    {
     "name": "stdout",
     "output_type": "stream",
     "text": [
      "x = ['가', '나', '다', '라', '마'], y = ['가', '나', '다', '라', '마']\n",
      "id(x) = 2754655411584, id(y) = 2754655411456 \n",
      "=> x와 y의 id가 다릅니다.\n"
     ]
    }
   ],
   "source": [
    "x = ['가', '나', '다', '라', '마']\n",
    "\n",
    "# y에 x를 복사\n",
    "y = x.copy()\n",
    "\n",
    "# x와 y의 id가 다름\n",
    "print(f'{x = }, {y = }')\n",
    "\n",
    "if id(x) == id(y):\n",
    "    print(f'{id(x) = }, {id(y) = } \\n=> x와 y의 id가 같습니다.')\n",
    "else:\n",
    "    print(f'{id(x) = }, {id(y) = } \\n=> x와 y의 id가 다릅니다.')"
   ]
  },
  {
   "cell_type": "code",
   "execution_count": 86,
   "metadata": {},
   "outputs": [
    {
     "name": "stdout",
     "output_type": "stream",
     "text": [
      "x = ['가', '나', '다', '라', '마'], y = ['갸', '나', '다', '라', '마']\n",
      "id(x) = 2754655411584, id(y) = 2754655411456 \n",
      "=> x와 y의 id가 다릅니다.\n"
     ]
    }
   ],
   "source": [
    "# y의 값을 변경\n",
    "y[0] = '갸'\n",
    "\n",
    "# y의 값을 변경하면 x의 값은 변경되지 않음\n",
    "print(f'{x = }, {y = }')\n",
    "\n",
    "if id(x) == id(y):\n",
    "    print(f'{id(x) = }, {id(y) = } \\n=> x와 y의 id가 같습니다.')\n",
    "else:\n",
    "    print(f'{id(x) = }, {id(y) = } \\n=> x와 y의 id가 다릅니다.')"
   ]
  },
  {
   "cell_type": "markdown",
   "metadata": {},
   "source": [
    "### 리스트와 튜플\n",
    "#### 기본 사용법"
   ]
  },
  {
   "cell_type": "code",
   "execution_count": 87,
   "metadata": {},
   "outputs": [
    {
     "name": "stdout",
     "output_type": "stream",
     "text": [
      "NameError: name 'a' is not defined\n"
     ]
    }
   ],
   "source": [
    "a = 10\n",
    "del a\n",
    "\n",
    "try: \n",
    "    print(a)\n",
    "except NameError as e:\n",
    "    print('NameError:', e)"
   ]
  },
  {
   "cell_type": "code",
   "execution_count": 88,
   "metadata": {},
   "outputs": [],
   "source": [
    "x_list = [\n",
    "    '강아지','고양이','개구리',\n",
    "    (1,2,3),\n",
    "    {'이름':'송인성', '나이':23},\n",
    "    [1,2,3]\n",
    "]\n",
    "\n",
    "x_tuple = (\n",
    "    '강아지','고양이','개구리',\n",
    "    (1,2,3),\n",
    "    {'이름':'송인성', '나이':23},\n",
    "    [1,2,3]\n",
    ")"
   ]
  },
  {
   "cell_type": "code",
   "execution_count": 89,
   "metadata": {},
   "outputs": [
    {
     "name": "stdout",
     "output_type": "stream",
     "text": [
      "Before: ['강아지', '고양이', '개구리', (1, 2, 3), {'이름': '송인성', '나이': 23}, [1, 2, 3]]\n",
      "Error: 'tuple' object does not support item assignment\n",
      "After: ['강아지', '고양이', '개구리', (1, 2, 3), {'이름': '송인성', '나이': 23}, [1, 2, 3]]\n"
     ]
    }
   ],
   "source": [
    "# 원소 변경 전 x_list의 값을 출력\n",
    "print(f'Before: {x_list}')\n",
    "\n",
    "try: \n",
    "    # 인덱스 3 원소의 인덱스 0 값을 0으로 변경\n",
    "    x_list[3][0] = 0    # 튜플은 원소 값을 변경할 수 없으므로 오류 발생\n",
    "    # 인덱스 2 원소를 '토끼'로 변경\n",
    "    x_list[2] = '토끼'\n",
    "    # 인덱스 4 원소의 '이름'의 value를 '김한주'로 변경\n",
    "    x_list[4]['이름'] = '김한주'\n",
    "    # 인덱스 5 원소를 삭제\n",
    "    del x_list[5]\n",
    "except Exception as e:\n",
    "    print('Error:', e)\n",
    "\n",
    "# 원소 변경 후 x_list의 값을 출력\n",
    "print(f'After: {x_list}')"
   ]
  },
  {
   "cell_type": "code",
   "execution_count": 90,
   "metadata": {},
   "outputs": [
    {
     "name": "stdout",
     "output_type": "stream",
     "text": [
      "Before: ['강아지', '고양이', '개구리', (1, 2, 3), {'이름': '송인성', '나이': 23}, [1, 2, 3]]\n",
      "After: ['강아지', '고양이', '토끼', (1, 2, 3), {'이름': '김한주', '나이': 23}]\n"
     ]
    }
   ],
   "source": [
    "# 튜플을 빼고 다시 시도\n",
    "\n",
    "# 원소 변경 전 x_list의 값을 출력\n",
    "print(f'Before: {x_list}')\n",
    "\n",
    "try: \n",
    "    # 인덱스 2 원소를 '토끼'로 변경\n",
    "    x_list[2] = '토끼'\n",
    "    # 인덱스 4 원소의 '이름'의 value를 '김한주'로 변경\n",
    "    x_list[4]['이름'] = '김한주'\n",
    "    # 인덱스 5 원소를 삭제\n",
    "    del x_list[5]\n",
    "except Exception as e:\n",
    "    print('Error:', e)\n",
    "\n",
    "# 원소 변경 후 x_list의 값을 출력 - 처리됨\n",
    "print(f'After: {x_list}')"
   ]
  },
  {
   "cell_type": "code",
   "execution_count": 91,
   "metadata": {},
   "outputs": [
    {
     "name": "stdout",
     "output_type": "stream",
     "text": [
      "Before: ('강아지', '고양이', '개구리', (1, 2, 3), {'이름': '송인성', '나이': 23}, [1, 2, 3])\n",
      "Error: 'tuple' object does not support item assignment\n",
      "Error: 'tuple' object does not support item assignment\n",
      "Error: 'tuple' object doesn't support item deletion\n",
      "After: ('강아지', '고양이', '개구리', (1, 2, 3), {'이름': '김한주', '나이': 23}, [0, 2, 3])\n"
     ]
    }
   ],
   "source": [
    "# 원소 변경 전 x_tuple의 값을 출력\n",
    "print(f'Before: {x_tuple}')\n",
    "\n",
    "try: \n",
    "    # 인덱스 3 원소의 인덱스 0 값을 0으로 변경\n",
    "    x_tuple[3][0] = 0   \n",
    "except Exception as e:\n",
    "    print('Error:', e)  # 에러 발생\n",
    "\n",
    "try:\n",
    "    # 인덱스 2 원소를 '토끼'로 변경\n",
    "    x_tuple[2] = '토끼'\n",
    "except Exception as e:\n",
    "    print('Error:', e)  # 에러 발생\n",
    "\n",
    "# 인덱스 4 원소의 '이름'의 value를 '김한주'로 변경\n",
    "x_tuple[4]['이름'] = '김한주'   # 튜플 속 딕셔너리의 원소는 변경할 수 있음\n",
    "\n",
    "# 인덱스 5 원소의 인덱스 0 값을 0으로 변경\n",
    "x_tuple[5][0] = 0   # 튜플 속 리스트의 원소는 변경할 수 있음\n",
    "\n",
    "try:\n",
    "    # 인덱스 0 원소를 삭제\n",
    "    del x_tuple[0]\n",
    "except Exception as e:\n",
    "    print('Error:', e)  # 에러 발생\n",
    "\n",
    "# 원소 변경 후 x_list의 값을 출력\n",
    "print(f'After: {x_tuple}')"
   ]
  },
  {
   "cell_type": "markdown",
   "metadata": {},
   "source": [
    "#### 내장함수를 이용한 리스트와 튜플 다루기"
   ]
  },
  {
   "cell_type": "code",
   "execution_count": 92,
   "metadata": {},
   "outputs": [
    {
     "name": "stdout",
     "output_type": "stream",
     "text": [
      "TypeError: unsupported operand type(s) for +: 'int' and 'str'\n",
      "min('thddls') = 'd'\n",
      "max('thddls') = 't'\n",
      "min('aZ') = 'Z'\n",
      "min('aZ0') = '0'\n",
      "min('aZ0가') = '0'\n",
      "sorted(['90','a','A','가'], reverse=True) = ['가', 'a', 'A', '90']\n"
     ]
    }
   ],
   "source": [
    "len([[1,2,3]])  # 원소의 길이 출력\n",
    "len('thddls')   # 원소의 길이 출력\n",
    "\n",
    "try:\n",
    "    sum('thddls')   # 원소들의 합 출력\n",
    "except TypeError as e:\n",
    "    print('TypeError:', e)  # 문자열은 더할 수 없으므로 오류 발생\n",
    "\n",
    "print(f'{min('thddls') = }')    # 원소들 중 최솟값 출력\n",
    "print(f'{max('thddls') = }')    # 원소들 중 최댓값 출력\n",
    "print(f'{min('aZ') = }')    # 원소들 중 최솟값 출력\n",
    "print(f'{min('aZ0') = }')   # 원소들 중 최솟값 출력\n",
    "print(f'{min('aZ0가') = }') # 원소들 중 최솟값 출력\n",
    "print(f'{sorted(['90','a','A','가'], reverse=True) = }')    # 원소들의 내림차순으로 정렬하여 출력"
   ]
  },
  {
   "cell_type": "code",
   "execution_count": 93,
   "metadata": {},
   "outputs": [
    {
     "data": {
      "text/plain": [
       "[[10, 20, 30], [10, 20], [1, 2, 3, 4]]"
      ]
     },
     "execution_count": 93,
     "metadata": {},
     "output_type": "execute_result"
    }
   ],
   "source": [
    "sorted([[10,20],[1,2,3,4],[10,20,30]], reverse=True)"
   ]
  },
  {
   "cell_type": "code",
   "execution_count": 94,
   "metadata": {},
   "outputs": [
    {
     "name": "stdout",
     "output_type": "stream",
     "text": [
      "all([0,0,0]) = False\n",
      "any([0,0,0]) = False\n",
      "all([0,0,1]) = False\n",
      "any([0,0,1]) = True\n",
      "any([0,0,[]]) = False\n",
      "any([0,0,[0]]) = True\n",
      "any([0,0,'0']) = True\n",
      "any([0,0,'']) = False\n"
     ]
    }
   ],
   "source": [
    "print(f'{all([0,0,0]) = }') # 모든 원소가 참이면(0이 아니면) True, 아니면 False 출력\n",
    "print(f'{any([0,0,0]) = }') # 원소 중 하나라도 참이면(0이 아니면) True, 아니면 False 출력\n",
    "print(f'{all([0,0,1]) = }') # 모든 원소가 참이면(0이 아니면) True, 아니면 False 출력\n",
    "print(f'{any([0,0,1]) = }') # 원소 중 하나라도 참이면(0이 아니면) True, 아니면 False 출력\n",
    "print(f'{any([0,0,[]]) = }')    # 원소 중 하나라도 참이면(0이 아니면) True, 아니면 False 출력\n",
    "print(f'{any([0,0,[0]]) = }')   # 원소 중 하나라도 참이면(0이 아니면) True, 아니면 False 출력\n",
    "print(f'{any([0,0,'0']) = }')   # 원소 중 하나라도 참이면(0이 아니면) True, 아니면 False 출력\n",
    "print(f'{any([0,0,'']) = }')    # 원소 중 하나라도 참이면(0이 아니면) True, 아니면 False 출력"
   ]
  },
  {
   "cell_type": "markdown",
   "metadata": {},
   "source": [
    "#### 객체 메서드를 이용한 리스트와 튜플 다루기"
   ]
  },
  {
   "cell_type": "code",
   "execution_count": 95,
   "metadata": {},
   "outputs": [
    {
     "name": "stdout",
     "output_type": "stream",
     "text": [
      "x_list = [3, 1, 4, 1, 5, 9, 2, 7]\n",
      "x_list = [3, 1, 10, 4, 1, 5, 9, 2, 7]\n",
      "x_list = [3, 10, 4, 1, 5, 9, 2, 7]\n",
      "삭제한 값: 2, x_list = [3, 10, 4, 1, 5, 9, 7]\n",
      "9의 인덱스 값: 5\n",
      "1의 개수: 1\n",
      "x_list = [1, 3, 4, 5, 7, 9, 10]\n",
      "x_list = [10, 9, 7, 5, 4, 3, 1]\n",
      "x_list = []\n"
     ]
    }
   ],
   "source": [
    "x_list = [3, 1, 4, 1, 5, 9, 2]\n",
    "\n",
    "# append()를 이용하여 리스트 끝에 7을 추가\n",
    "x_list.append(7)\n",
    "print(f'{x_list = }')\n",
    "\n",
    "# insert()를 이용하여 인덱스 2에 10을 삽입\n",
    "x_list.insert(2, 10)\n",
    "print(f'{x_list = }')\n",
    "\n",
    "# remove()를 이용하여 1과 첫 번째로 일치하는 값을 삭제\n",
    "x_list.remove(1)\n",
    "print(f'{x_list = }')  # 첫 번째 1만 제거됨\n",
    "\n",
    "# pop()을 이용하여 인덱스의 원소를 삭제\n",
    "x_pop = x_list.pop(6)   # 삭제한 값을 x_pop에 저장\n",
    "print(f'삭제한 값: {x_pop}, {x_list = }')\n",
    "\n",
    "# index()를 이용하여 9의 인덱스 반환\n",
    "print(f'9의 인덱스 값: {x_list.index(9)}')\n",
    "\n",
    "# count()를 이용하여 1의 개수 세기\n",
    "print(f'1의 개수: {x_list.count(1)}')\n",
    "\n",
    "# sort()를 이용하여 오름차순 정렬\n",
    "x_list.sort()\n",
    "print(f'{x_list = }')\n",
    "\n",
    "# reverse()를 이용하여 역순으로 변경\n",
    "x_list.reverse()\n",
    "print(f'{x_list = }')\n",
    "\n",
    "# clear()를 이용하여 모든 원소를 삭제\n",
    "x_list.clear()\n",
    "print(f'{x_list = }')"
   ]
  },
  {
   "cell_type": "code",
   "execution_count": 96,
   "metadata": {},
   "outputs": [
    {
     "name": "stdout",
     "output_type": "stream",
     "text": [
      "shallow_list = [1, 2, 3, 4, 5, 6, 7]\n",
      "id(shallow_list)==id(x_list) = True\n",
      "------------------------------\n",
      "deep_list = [1, 2, 3, 4, 5, 6, 7]\n",
      "id(deep_list)==id(x_list)= False\n",
      "------------------------------\n",
      "After: shallow_list = [11, 10, 9, 8, 7, 6, 5, 4, 3, 2, 1, 10] => shallow_list의 값도 변경되었다.\n",
      "After: deep_list = [1, 2, 3, 4, 5, 6, 7] => deep_list의 값은 변경되지 않았다.\n"
     ]
    }
   ],
   "source": [
    "x_list = [1, 2, 3, 4, 5, 6, 7]\n",
    "\n",
    "# x_list를 복사하여 shallow_list와 deep_list에 할당 \n",
    "shallow_list = x_list\n",
    "deep_list = x_list.copy()\n",
    "\n",
    "# shallow_list와 deep_list의 값을 출력\n",
    "print(f'{shallow_list = }\\n{id(shallow_list)==id(x_list) = }',end='\\n'+'-'*30+'\\n')\n",
    "print(f'{deep_list = }\\n{id(deep_list)==id(x_list)= }',end='\\n'+'-'*30+'\\n')\n",
    "\n",
    "# x_list의 값을 변경\n",
    "x_list.append(8) # append()를 사용하여 x_list에 8, 9, 10을 추가\n",
    "x_list.insert(0, 10)    # insert()를 사용하여 x_list의 0번째 위치에 10을 삽입\n",
    "x_list.extend([9, 10, 11]) # extend()를 사용하여 x_list에 [9, 10, 11]을 연결\n",
    "x_list.reverse()    # reverse()를 사용하여 x_list를 역순으로 변경\n",
    "\n",
    "# 변경 후 shallow_list와 deep_list의 값 출력\n",
    "\n",
    "print(f'After: {shallow_list = } => shallow_list의 값도 변경되었다.')\n",
    "print(f'After: {deep_list = } => deep_list의 값은 변경되지 않았다.')"
   ]
  },
  {
   "cell_type": "code",
   "execution_count": 97,
   "metadata": {},
   "outputs": [
    {
     "name": "stdout",
     "output_type": "stream",
     "text": [
      "Error: list.append() takes exactly one argument (3 given)\n"
     ]
    }
   ],
   "source": [
    "a = [1,2,3]\n",
    "try:\n",
    "    a.append(4, 5, 6) # a에 4, 5, 6을 추가\n",
    "except Exception as e:\n",
    "    print('Error:', e)"
   ]
  },
  {
   "cell_type": "markdown",
   "metadata": {},
   "source": [
    "### 문자열\n",
    "#### 문자열(string) 생성"
   ]
  },
  {
   "cell_type": "code",
   "execution_count": 98,
   "metadata": {},
   "outputs": [
    {
     "name": "stdout",
     "output_type": "stream",
     "text": [
      "안녕하세요. 제 이름은 송인성입니다. 저는 대학생입니다.\n",
      "------------------------------\n",
      "안녕하세요. 제 이름은 송인성입니다. 저는 대학생입니다.\n",
      "------------------------------\n",
      "\n",
      "안녕하세요.\n",
      "제 이름은 송인성입니다.\n",
      "저는 대학생입니다.\n",
      "\n",
      "------------------------------\n",
      "\n",
      "안녕하세요.\n",
      "제 이름은 송인성입니다.\n",
      "저는 대학생입니다.\n",
      "\n"
     ]
    }
   ],
   "source": [
    "x_str1 = '안녕하세요. 제 이름은 송인성입니다. 저는 대학생입니다.'\n",
    "print(f'{x_str1}', end='\\n'+'-'*30+'\\n')\n",
    "\n",
    "x_str2 = \"안녕하세요. 제 이름은 송인성입니다. 저는 대학생입니다.\"\n",
    "print(f'{x_str2}', end='\\n'+'-'*30+'\\n')\n",
    "\n",
    "x_str3 = '''\n",
    "안녕하세요.\n",
    "제 이름은 송인성입니다.\n",
    "저는 대학생입니다.\n",
    "'''\n",
    "print(f'{x_str3}', end='\\n'+'-'*30+'\\n')\n",
    "\n",
    "x_str4 = \"\"\"\n",
    "안녕하세요.\n",
    "제 이름은 송인성입니다.\n",
    "저는 대학생입니다.\n",
    "\"\"\"\n",
    "print(f'{x_str4}')"
   ]
  },
  {
   "cell_type": "markdown",
   "metadata": {},
   "source": [
    "#### 이스케이프 문자"
   ]
  },
  {
   "cell_type": "code",
   "execution_count": 99,
   "metadata": {},
   "outputs": [
    {
     "name": "stdout",
     "output_type": "stream",
     "text": [
      "안녕하세요.\n",
      "제\t이름은\t송인성입니다.\n",
      "저는\t대학생입니다.\n",
      "------------------------------\n",
      "안녕하세요.\n",
      "제\t이름은\t\"송인성\"입니다.\n",
      "저는\t'대학생'입니다.\n"
     ]
    }
   ],
   "source": [
    "x_str = '안녕하세요.\\n제\\t이름은\\t송인성입니다.\\n저는\\t대학생입니다.'\n",
    "print(f'{x_str}', end='\\n'+'-'*30+'\\n')\n",
    "\n",
    "x_str = '안녕하세요.\\n제\\t이름은\\t\\\"송인성\\\"입니다.\\n저는\\t\\'대학생\\'입니다.'\n",
    "print(x_str)"
   ]
  },
  {
   "cell_type": "markdown",
   "metadata": {},
   "source": [
    "#### 문자열의 종류"
   ]
  },
  {
   "cell_type": "code",
   "execution_count": 100,
   "metadata": {},
   "outputs": [
    {
     "name": "stdout",
     "output_type": "stream",
     "text": [
      "안녕하세요.\\n제\\t이름은\\t\\\"송인성\\\"입니다.\\n저는\\t\\'대학생\\'입니다.\n",
      "------------------------------\n",
      "안녕하세요. 제 이름은 송인성입니다. 저는 학생입니다.\n"
     ]
    }
   ],
   "source": [
    "x_str_r = r'안녕하세요.\\n제\\t이름은\\t\\\"송인성\\\"입니다.\\n저는\\t\\'대학생\\'입니다.'\n",
    "print(x_str_r, end='\\n'+'-'*30+'\\n')\n",
    "\n",
    "name = str(input('이름을 입력하세요'))\n",
    "job = str(input('직업을 입력하세요'))\n",
    "x_str_f = f'안녕하세요. 제 이름은 {name}입니다. 저는 {job}입니다.'\n",
    "print(x_str_f)"
   ]
  },
  {
   "cell_type": "markdown",
   "metadata": {},
   "source": [
    "#### 문자열의 인덱싱과 슬라이싱"
   ]
  },
  {
   "cell_type": "code",
   "execution_count": 101,
   "metadata": {},
   "outputs": [
    {
     "name": "stdout",
     "output_type": "stream",
     "text": [
      "\n",
      "==== 인덱싱(포인트) ====\n",
      "x_str[0] = '안'\n",
      "x_str[7] = '저'\n",
      "x_str[-1] = '.'\n",
      "x_str[-10] = ' '\n",
      "\n",
      "==== 슬라이싱(구간) ====\n",
      "안녕하세요. 저는 김한주입니다. 저는 가수입니다.\n",
      ".\n",
      ".다니입수가 는저 .다니입주한김 는저 .요세하녕안\n",
      "김한주\n",
      "주한김\n",
      ".다니입수\n",
      "세요. 저는\n",
      "\n",
      "==== 스텝(간격) ====\n",
      "- 처음부터 끝까지 2칸씩\n",
      "안하요 는김주니.저 수니.\n",
      "- 거꾸로 처음부터 끝까지 2칸씩\n",
      ".니수 저.니주김는 요하안\n",
      "\n"
     ]
    }
   ],
   "source": [
    "x_str = '안녕하세요. 저는 김한주입니다. 저는 가수입니다.'\n",
    "print(f'''\n",
    "==== 인덱싱(포인트) ====\n",
    "{x_str[0] = }\n",
    "{x_str[7] = }\n",
    "{x_str[-1] = }\n",
    "{x_str[-10] = }\n",
    "\n",
    "==== 슬라이싱(구간) ====\n",
    "{x_str[:]}\n",
    "{x_str[-1:]}\n",
    "{x_str[::-1]}\n",
    "{x_str[10:13]}\n",
    "{x_str[12:9:-1]}\n",
    "{x_str[:-6:-1]}\n",
    "{x_str[3:9]}\n",
    "\n",
    "==== 스텝(간격) ====\n",
    "- 처음부터 끝까지 2칸씩\n",
    "{x_str[::2]}\n",
    "- 거꾸로 처음부터 끝까지 2칸씩\n",
    "{x_str[::-2]}\n",
    "''')"
   ]
  },
  {
   "cell_type": "markdown",
   "metadata": {},
   "source": [
    "#### 문자열 연산"
   ]
  },
  {
   "cell_type": "code",
   "execution_count": 102,
   "metadata": {},
   "outputs": [
    {
     "name": "stdout",
     "output_type": "stream",
     "text": [
      "안녕하세요. 저는 김한주입니다.저는 가수입니다.\n",
      "김한주김한주김한주김한주김한주\n",
      "하하하. 안녕하세요. 저는 김한주입니다.\n"
     ]
    }
   ],
   "source": [
    "# 문자열 연결하기\n",
    "x_str = \"안녕하세요. \"+\"저는 김한주입니다.\"+\"저는 가수입니다.\"\n",
    "print(x_str)\n",
    "\n",
    "# 문자열 반복하기\n",
    "x_str = \"김한주\"*5\n",
    "print(x_str)\n",
    "\n",
    "# 같이 사용하기\n",
    "x_str = \"하\"*3+\".\"+\" 안녕하세요. \"+\"저는 김한주입니다.\"\n",
    "print(x_str)\n"
   ]
  },
  {
   "cell_type": "markdown",
   "metadata": {},
   "source": [
    "#### 문자열 관련 함수"
   ]
  },
  {
   "cell_type": "code",
   "execution_count": 103,
   "metadata": {},
   "outputs": [
    {
     "name": "stdout",
     "output_type": "stream",
     "text": [
      "len(string) = 43\n",
      "문자열에 법과대학이 있는가? True\n",
      "문자열에 xlsx가 포함되어 있는가? False\n",
      "문자열에 파이썬이 포함되어 있지 않은가? False\n",
      "문자열에 김한주가 포함되지 않았는가? True\n"
     ]
    }
   ],
   "source": [
    "string = \"파이썬프로그래밍_iterable자료형_법과대학_C281050_송인성.ipynb\"\n",
    "\n",
    "# 문자열 길이\n",
    "print(f'{len(string) = }')\n",
    "\n",
    "# 문자열에 '법과대학'이 포함되어 있는지 확인\n",
    "print(f'문자열에 법과대학이 있는가? {'법과대학' in string}')\n",
    "\n",
    "# 문자열에 'xlsx'이 포함되어 있는지 확인\n",
    "print(f'문자열에 xlsx가 포함되어 있는가? {'xlsx' in string}')\n",
    "\n",
    "# 문자열에 '파이썬'이 포함되어 있지 않은지 확인\n",
    "print(f'문자열에 파이썬이 포함되어 있지 않은가? {'파이썬' not in string}')\n",
    "\n",
    "# 문자열에 '김한주'가 포함되어 있지 않은지 확인\n",
    "print(f'문자열에 김한주가 포함되지 않았는가? {'김한주' not in string}')"
   ]
  },
  {
   "cell_type": "markdown",
   "metadata": {},
   "source": [
    "### 딕셔너리\n",
    "#### Dictionary 생성 및 선언"
   ]
  },
  {
   "cell_type": "markdown",
   "metadata": {},
   "source": [
    "- 요소가 있는 딕셔너리 생성"
   ]
  },
  {
   "cell_type": "code",
   "execution_count": 346,
   "metadata": {},
   "outputs": [
    {
     "name": "stdout",
     "output_type": "stream",
     "text": [
      "{'이름': '송인성', '나이': 23, '사는 곳': '서울'}\n"
     ]
    }
   ],
   "source": [
    "# 중괄호로 딕셔너리 생성하기\n",
    "name = '송인성'\n",
    "my_dict1 = {'이름': name , '나이': 23, '사는 곳': '서울'}\n",
    "print(my_dict1)"
   ]
  },
  {
   "cell_type": "code",
   "execution_count": 347,
   "metadata": {},
   "outputs": [
    {
     "name": "stdout",
     "output_type": "stream",
     "text": [
      "{'이름': ['송인성']}\n",
      "Error: unhashable type: 'list'\n"
     ]
    }
   ],
   "source": [
    "# 리스트를 딕셔너리의 key와 value로 받을 수 있는지\n",
    "\n",
    "name1 = '이름'\n",
    "name2 = ['송인성']\n",
    "my_dict1 = {name1:name2}    # 리스트를 value로 받을 수 있음\n",
    "print(my_dict1)\n",
    "\n",
    "name1 = '이름'\n",
    "name2 = ['송인성']\n",
    "try:\n",
    "    my_dict1 = {name2:name1}\n",
    "except Exception as e:\n",
    "    print('Error:', e)  # 리스트는 key로 받을 수 없으므로 에러 발생"
   ]
  },
  {
   "cell_type": "code",
   "execution_count": 348,
   "metadata": {},
   "outputs": [
    {
     "data": {
      "text/plain": [
       "{1: '이름'}"
      ]
     },
     "execution_count": 348,
     "metadata": {},
     "output_type": "execute_result"
    }
   ],
   "source": [
    "# 숫자를 key로 받을 수 있는지\n",
    "my_dict1 = {1:name1}\n",
    "my_dict1    # 받을 수 있음"
   ]
  },
  {
   "cell_type": "code",
   "execution_count": 349,
   "metadata": {},
   "outputs": [
    {
     "data": {
      "text/plain": [
       "{'나이': 23, '사는 곳': '서울'}"
      ]
     },
     "execution_count": 349,
     "metadata": {},
     "output_type": "execute_result"
    }
   ],
   "source": [
    "# key 값이 같은 경우\n",
    "my_dict1 = {'나이':name , '나이': 23, '사는 곳': '서울'}\n",
    "my_dict1    # age라는 값에 name이 들어갔다가 26이란 값으로 덮어짐. 즉 하나만 적용."
   ]
  },
  {
   "cell_type": "code",
   "execution_count": 350,
   "metadata": {},
   "outputs": [
    {
     "data": {
      "text/plain": [
       "{'이름': '송인성', '나이': '송인성', '사는 곳': '서울'}"
      ]
     },
     "execution_count": 350,
     "metadata": {},
     "output_type": "execute_result"
    }
   ],
   "source": [
    "# value의 값이 같은 경우\n",
    "my_dict1 = {'이름':'송인성', '나이': '송인성', '사는 곳': '서울'}\n",
    "my_dict1    # value가 같은 건 상관없음"
   ]
  },
  {
   "cell_type": "code",
   "execution_count": 351,
   "metadata": {},
   "outputs": [
    {
     "name": "stdout",
     "output_type": "stream",
     "text": [
      "Max_info[0] = '송인성'\n",
      "Max_info2['이름'] = '송인성'\n"
     ]
    }
   ],
   "source": [
    "Max_info = ['송인성', 23, '서울']\n",
    "print(f'{Max_info[0] = }')\n",
    "\n",
    "Max_info2 = {'이름': '송인성' , '나이': 23, '사는 곳': '서울'}\n",
    "print(f'{Max_info2['이름'] = }')"
   ]
  },
  {
   "cell_type": "code",
   "execution_count": 352,
   "metadata": {},
   "outputs": [
    {
     "name": "stdout",
     "output_type": "stream",
     "text": [
      "my_dict1 = {'이름': '송인성', '나이': 23, '사는 곳': '서울'}\n",
      "my_dict2 = {'이름': '김도영', '나이': 23, '사는 곳': '광주'}\n",
      "dictionary update sequence element #0 has length 3; 2 is required\n"
     ]
    }
   ],
   "source": [
    "# 리스트 세 개를 딕셔너리로 반환\n",
    "person_keys = ['이름', '나이', '사는 곳']\n",
    "person1_values = ['송인성', 23, '서울']\n",
    "person2_values = ['김도영', 23, '광주']\n",
    "\n",
    "# zip()으로 묶어서 dict()로 변환\n",
    "my_dict1 = dict(zip(person_keys, person1_values))\n",
    "print(f'{my_dict1 = }')\n",
    "\n",
    "my_dict2 = dict(zip(person_keys, person2_values))\n",
    "print(f'{my_dict2 = }')\n",
    "\n",
    "try: \n",
    "    dict(zip(person_keys, person1_values, person2_values))\n",
    "except ValueError as e:\n",
    "    print(e)\n",
    "    "
   ]
  },
  {
   "cell_type": "code",
   "execution_count": 353,
   "metadata": {},
   "outputs": [
    {
     "data": {
      "text/plain": [
       "[('이름', '송인성'), ('나이', 23), ('사는 곳', '서울')]"
      ]
     },
     "execution_count": 353,
     "metadata": {},
     "output_type": "execute_result"
    }
   ],
   "source": [
    "# zip()은 2개 이상의 iterable을 받아서 zip object를 반환\n",
    "list(zip(person_keys, person1_values))  "
   ]
  },
  {
   "cell_type": "code",
   "execution_count": 354,
   "metadata": {},
   "outputs": [
    {
     "data": {
      "text/plain": [
       "[('이름', '김도영'), ('나이', 23), ('사는 곳', '광주')]"
      ]
     },
     "execution_count": 354,
     "metadata": {},
     "output_type": "execute_result"
    }
   ],
   "source": [
    "# zip()은 2개 이상의 iterable을 받아서 zip object를 반환\n",
    "list(zip(person_keys, person2_values)) "
   ]
  },
  {
   "cell_type": "code",
   "execution_count": 355,
   "metadata": {},
   "outputs": [
    {
     "data": {
      "text/plain": [
       "[('이름', '송인성', '김도영'), ('나이', 23, 23), ('사는 곳', '서울', '광주')]"
      ]
     },
     "execution_count": 355,
     "metadata": {},
     "output_type": "execute_result"
    }
   ],
   "source": [
    "# 3개의 iterable을 받아서 zip object를 반환\n",
    "list(zip(person_keys, person1_values, person2_values))  "
   ]
  },
  {
   "cell_type": "code",
   "execution_count": 356,
   "metadata": {},
   "outputs": [
    {
     "name": "stdout",
     "output_type": "stream",
     "text": [
      "dictionary update sequence element #0 has length 3; 2 is required\n"
     ]
    }
   ],
   "source": [
    "try:\n",
    "    dict(list(zip(person_keys, person1_values, person2_values)))\n",
    "except ValueError as e:\n",
    "    print(e)"
   ]
  },
  {
   "cell_type": "code",
   "execution_count": 357,
   "metadata": {},
   "outputs": [
    {
     "name": "stdout",
     "output_type": "stream",
     "text": [
      "{'이름': ('송인성', '김도영'), '나이': (23, 23), '사는 곳': ('서울', '광주')}\n"
     ]
    }
   ],
   "source": [
    "# value를 zip object로 변환하여 딕셔너리로 변환\n",
    "print(dict(zip(person_keys, zip(person1_values, person2_values))))\n",
    "# value가 tuple이 된다\n",
    "# zip 함수 자체는 항상 tuple로 반환"
   ]
  },
  {
   "cell_type": "markdown",
   "metadata": {},
   "source": [
    "- dictionary를 value로 가지는 dictionary 생성"
   ]
  },
  {
   "cell_type": "code",
   "execution_count": 358,
   "metadata": {},
   "outputs": [
    {
     "name": "stdout",
     "output_type": "stream",
     "text": [
      "my_dict_dict = {'A': {'이름': '송인성', '나이': 23, '사는 곳': '서울'}, 'B': {'이름': '김도영', '나이': 23, '사는 곳': '광주'}}\n",
      "{'A': {'나이': 23, '사는 곳': '서울', '이름': '송인성'},\n",
      " 'B': {'나이': 23, '사는 곳': '광주', '이름': '김도영'}}\n"
     ]
    }
   ],
   "source": [
    "my_dict_dict = { 'A' : {'이름':'송인성', '나이': 23, '사는 곳': '서울'},\n",
    "                 'B' : {'이름':'김도영', '나이': 23, '사는 곳': '광주'}}\n",
    "print(f'{my_dict_dict = }')\n",
    "\n",
    "from pprint import pprint\n",
    "pprint(my_dict_dict)"
   ]
  },
  {
   "cell_type": "code",
   "execution_count": 359,
   "metadata": {},
   "outputs": [
    {
     "name": "stdout",
     "output_type": "stream",
     "text": [
      "송인성\n",
      "김도영\n"
     ]
    }
   ],
   "source": [
    "print(my_dict_dict[\"A\"][\"이름\"])\n",
    "print(my_dict_dict[\"B\"][\"이름\"])\n"
   ]
  },
  {
   "cell_type": "markdown",
   "metadata": {},
   "source": [
    "#### Dictionary 살펴보기"
   ]
  },
  {
   "cell_type": "markdown",
   "metadata": {},
   "source": [
    "- 형태 확인하기"
   ]
  },
  {
   "cell_type": "code",
   "execution_count": 360,
   "metadata": {},
   "outputs": [
    {
     "name": "stdout",
     "output_type": "stream",
     "text": [
      "my_dict1 = {'이름': '송인성', '나이': 23, '사는 곳': '서울'}\n",
      "my_dict2 = {'이름': '김도영', '나이': 23, '사는 곳': '광주'}\n",
      "{'A': {'나이': 23, '사는 곳': '서울', '이름': '송인성'},\n",
      " 'B': {'나이': 23, '사는 곳': '광주', '이름': '김도영'}}\n",
      "type(my_dict_dict) = <class 'dict'>\n",
      "len(my_dict1) = 3\n",
      "True\n",
      "False\n",
      "True\n",
      "False\n"
     ]
    }
   ],
   "source": [
    "print(f'{my_dict1 = }')\n",
    "print(f'{my_dict2 = }')\n",
    "from pprint import pprint\n",
    "pprint(my_dict_dict)\n",
    "\n",
    "# 딕셔너리 유형\n",
    "print(f'{type(my_dict_dict) = }')\n",
    "\n",
    "# 딕셔너리 길이(key의 개수) 확인\n",
    "print(f'{len(my_dict1) = }')\n",
    "\n",
    "# key 존재 여부 확인\n",
    "print(\"이름\" in my_dict1)\n",
    "print(\"이름\" in my_dict_dict)\n",
    "print(\"B\" in my_dict_dict)\n",
    "\n",
    "# value 존재 여부는 in을 이용하여 확인할 수 없음\n",
    "print(\"김도영\" in my_dict2)"
   ]
  },
  {
   "cell_type": "markdown",
   "metadata": {},
   "source": [
    "- 내용 확인하기"
   ]
  },
  {
   "cell_type": "code",
   "execution_count": 361,
   "metadata": {},
   "outputs": [
    {
     "name": "stdout",
     "output_type": "stream",
     "text": [
      "my_dict_dict[\"A\"] = {'이름': '송인성', '나이': 23, '사는 곳': '서울'}\n",
      "my_dict_dict[\"B\"][\"이름\"] = '김도영'\n",
      "my_dict_dict[\"B\"][\"나이\"] = 23\n",
      "'직업'\n"
     ]
    }
   ],
   "source": [
    "# key로 value를 반환\n",
    "print(f'{my_dict_dict[\"A\"] = }')\n",
    "print(f'{my_dict_dict[\"B\"][\"이름\"] = }')\n",
    "print(f'{my_dict_dict[\"B\"][\"나이\"] = }')\n",
    "\n",
    "try:\n",
    "    # key가 없으면 에러 발생\n",
    "    print(f'{my_dict_dict[\"B\"][\"직업\"] = }')\n",
    "except KeyError as e:\n",
    "    print(e)"
   ]
  },
  {
   "cell_type": "markdown",
   "metadata": {},
   "source": [
    "- get() 메서드로 에러 회피하며 값 가져오기"
   ]
  },
  {
   "cell_type": "code",
   "execution_count": 362,
   "metadata": {},
   "outputs": [
    {
     "name": "stdout",
     "output_type": "stream",
     "text": [
      "my_dict2.get(\"이름\") = '김도영'\n",
      "my_dict1.get(\"직업\") = None\n",
      "my_dict1.get(\"직업\", \"replacement\") = 'replacement'\n"
     ]
    }
   ],
   "source": [
    "# get()를 사용하여 key로 값에 접근\n",
    "print(f'{my_dict2.get(\"이름\") = }')\n",
    "\n",
    "#  key가 없으면 None을 반환. 에러발생하지 않음\n",
    "print(f'{my_dict1.get(\"직업\") = }')\n",
    "\n",
    "# key가 없으면 대체값을 반환\n",
    "print(f'{my_dict1.get(\"직업\", \"replacement\") = }')"
   ]
  },
  {
   "cell_type": "markdown",
   "metadata": {},
   "source": [
    "- 메서드를 이용하여 key, value, item 가져오기"
   ]
  },
  {
   "cell_type": "code",
   "execution_count": 363,
   "metadata": {},
   "outputs": [
    {
     "name": "stdout",
     "output_type": "stream",
     "text": [
      "my_dict1.keys() = dict_keys(['이름', '나이', '사는 곳'])\n",
      "my_dict2.keys() = dict_keys(['이름', '나이', '사는 곳'])\n",
      "my_dict_dict.keys() = dict_keys(['A', 'B'])\n",
      "------------------------------\n",
      "my_dict1.values() = dict_values(['송인성', 23, '서울'])\n",
      "my_dict2.values() = dict_values(['김도영', 23, '광주'])\n",
      "my_dict_dict.values() = dict_values([{'이름': '송인성', '나이': 23, '사는 곳': '서울'}, {'이름': '김도영', '나이': 23, '사는 곳': '광주'}])\n",
      "------------------------------\n",
      "my_dict1.items() = dict_items([('이름', '송인성'), ('나이', 23), ('사는 곳', '서울')])\n",
      "my_dict2.items() = dict_items([('이름', '김도영'), ('나이', 23), ('사는 곳', '광주')])\n",
      "my_dict_dict.items() = dict_items([('A', {'이름': '송인성', '나이': 23, '사는 곳': '서울'}), ('B', {'이름': '김도영', '나이': 23, '사는 곳': '광주'})])\n"
     ]
    }
   ],
   "source": [
    "# 메서드를 이용해서 key 목록 가져오기\n",
    "print(f'{my_dict1.keys() = }')\n",
    "print(f'{my_dict2.keys() = }')\n",
    "print(f'{my_dict_dict.keys() = }', end='\\n'+'-'*30+'\\n')\n",
    "\n",
    "# value 목록 가져오기\n",
    "print(f'{my_dict1.values() = }')\n",
    "print(f'{my_dict2.values() = }')\n",
    "print(f'{my_dict_dict.values() = }', end='\\n'+'-'*30+'\\n')\n",
    "\n",
    "# 키와 값의 쌍을 가져오기\n",
    "print(f'{my_dict1.items() = }')\n",
    "print(f'{my_dict2.items() = }')\n",
    "print(f'{my_dict_dict.items() = }')\n"
   ]
  },
  {
   "cell_type": "markdown",
   "metadata": {},
   "source": [
    "#### Dictionary 요소 추가, 삭제, 수정하기"
   ]
  },
  {
   "cell_type": "code",
   "execution_count": 364,
   "metadata": {},
   "outputs": [
    {
     "name": "stdout",
     "output_type": "stream",
     "text": [
      "my_dict1 = {'이름': '송인성', '나이': 23, '사는 곳': '서울'}\n",
      "my_dict2 = {'이름': '김도영', '나이': 23, '사는 곳': '광주'}\n",
      "my_dict_dict = {'A': {'이름': '송인성', '나이': 23, '사는 곳': '서울'}, 'B': {'이름': '김도영', '나이': 23, '사는 곳': '광주'}}\n",
      "------------------------------\n",
      "my_dict1 = {'이름': '송인성', '나이': 23, '사는 곳': '서울', '직업': '학생'}\n",
      "my_dict2 = {'이름': '김도영', '나이': 23, '사는 곳': '광주', '직업': '야구선수'}\n",
      "my_dict_dict = {'A': {'이름': '송인성', '나이': 23, '사는 곳': '서울', '직업': '학생'}, 'B': {'이름': '김도영', '나이': 23, '사는 곳': '광주', '직업': '야구선수'}}\n"
     ]
    }
   ],
   "source": [
    "print(f'{my_dict1 = }')\n",
    "print(f'{my_dict2 = }')\n",
    "print(f'{my_dict_dict = }', end='\\n'+'-'*30+'\\n')\n",
    "\n",
    "# 새로운 키와 값을 추가\n",
    "my_dict1[\"직업\"] = \"학생\"\n",
    "print(f'{my_dict1 = }')\n",
    "\n",
    "my_dict2[\"직업\"] = \"야구선수\"\n",
    "print(f'{my_dict2 = }')\n",
    "\n",
    "my_dict_dict[\"A\"][\"직업\"] = \"학생\"\n",
    "my_dict_dict[\"B\"][\"직업\"] = \"야구선수\"\n",
    "print(f'{my_dict_dict = }')"
   ]
  },
  {
   "cell_type": "code",
   "execution_count": 365,
   "metadata": {},
   "outputs": [
    {
     "name": "stdout",
     "output_type": "stream",
     "text": [
      "my_dict1 = {'이름': '송인성', '나이': 23, '사는 곳': '서울'}\n",
      "my_dict2 = {'이름': '김도영', '나이': 23, '사는 곳': '광주'}\n",
      "my_dict_dict = {'A': {'이름': '송인성', '나이': 23, '사는 곳': '서울'}, 'B': {'이름': '김도영', '나이': 23, '사는 곳': '광주'}}\n"
     ]
    }
   ],
   "source": [
    "# 키와 값을 삭제\n",
    "del my_dict1[\"직업\"]\n",
    "print(f'{my_dict1 = }')\n",
    "\n",
    "del my_dict2[\"직업\"]\n",
    "print(f'{my_dict2 = }')\n",
    "\n",
    "del my_dict_dict[\"A\"][\"직업\"]\n",
    "del my_dict_dict[\"B\"][\"직업\"]\n",
    "print(f'{my_dict_dict = }')"
   ]
  },
  {
   "cell_type": "code",
   "execution_count": 366,
   "metadata": {},
   "outputs": [
    {
     "name": "stdout",
     "output_type": "stream",
     "text": [
      "new_dict = {'이름': '김한주'}\n"
     ]
    }
   ],
   "source": [
    "try:\n",
    "    new_dict[\"이름\"] = \"김한주\" # 딕셔너리를 처음부터 만들 수는 없음\n",
    "    print(f'{new_dict = }')\n",
    "except NameError as e:\n",
    "    print(f'Error: {e}')"
   ]
  },
  {
   "cell_type": "code",
   "execution_count": 367,
   "metadata": {},
   "outputs": [
    {
     "name": "stdout",
     "output_type": "stream",
     "text": [
      "{'이름': '김한주'}\n"
     ]
    }
   ],
   "source": [
    "new_dict = {}\n",
    "new_dict[\"이름\"] = \"김한주\" \n",
    "print(new_dict)"
   ]
  },
  {
   "cell_type": "markdown",
   "metadata": {},
   "source": [
    "- 요소의 값만 수정하기"
   ]
  },
  {
   "cell_type": "code",
   "execution_count": 368,
   "metadata": {},
   "outputs": [
    {
     "name": "stdout",
     "output_type": "stream",
     "text": [
      "my_dict1 = {'이름': '송인성', '나이': 24, '사는 곳': '서울'}\n",
      "my_dict2 = {'이름': '김도영', '나이': 23, '사는 곳': '광주', '취미': '운동'}\n",
      "my_dict_dict = {'A': {'이름': '송인성', '나이': 24, '사는 곳': '서울'}, 'B': {'이름': '김도영', '나이': 23, '사는 곳': '광주', '취미': '운동'}}\n"
     ]
    }
   ],
   "source": [
    "# key가 있으면 값을 수정, 없으면 추가\n",
    "my_dict1[\"나이\"] = 24   # key가 있으므로 값이 24로 수정됨\n",
    "print(f'{my_dict1 = }')\n",
    "\n",
    "my_dict2[\"취미\"] = '운동'   # key가 없으므로 값이 추가됨\n",
    "print(f'{my_dict2 = }')\n",
    "\n",
    "my_dict_dict[\"A\"][\"나이\"] = 24  # key가 있으므로 값이 24로 수정됨\n",
    "my_dict_dict[\"B\"][\"취미\"] = '운동'  # key가 없으므로 값이 추가됨 \n",
    "print(f'{my_dict_dict = }')"
   ]
  },
  {
   "cell_type": "markdown",
   "metadata": {},
   "source": [
    "- update() 메서드로 여러 요소를 한 번에 수정하기"
   ]
  },
  {
   "cell_type": "code",
   "execution_count": 369,
   "metadata": {},
   "outputs": [
    {
     "name": "stdout",
     "output_type": "stream",
     "text": [
      "my_dict1 = {'이름': '송인성', '나이': 25, '사는 곳': '부산', '직업': '경찰'}\n",
      "my_dict2 = {'이름': '김도영', '나이': 23, '사는 곳': '광주', '취미': '요리', '직업': '요리사'}\n",
      "my_dict_dict = {'A': {'이름': '송인성', '나이': 25, '사는 곳': '부산', '직업': '경찰'}, 'B': {'이름': '김도영', '나이': 23, '사는 곳': '광주', '취미': '요리', '직업': '요리사'}}\n"
     ]
    }
   ],
   "source": [
    "# 여러 개의 키와 값을 수정\n",
    "my_dict1.update({\"나이\": 25, \"사는 곳\": \"부산\", \"직업\": \"경찰\"})\n",
    "print(f'{my_dict1 = }')\n",
    "\n",
    "my_dict2.update({\"취미\": \"요리\", \"직업\": \"요리사\"})\n",
    "print(f'{my_dict2 = }')\n",
    "\n",
    "my_dict_dict[\"A\"] = my_dict1    # mutable 객체의 얕은 복사를 활용\n",
    "my_dict_dict[\"B\"] = my_dict2    # mutable 객체의 얕은 복사를 활용\n",
    "print(f'{my_dict_dict = }')"
   ]
  },
  {
   "cell_type": "code",
   "execution_count": 370,
   "metadata": {},
   "outputs": [
    {
     "name": "stdout",
     "output_type": "stream",
     "text": [
      "my_dict1 = {'이름': '송인성', '나이': 25, '사는 곳': '부산', '직업': '경찰', '대학': '홍익대학교', '학과': '법학'}\n",
      "my_dict2 = {'이름': '김도영', '나이': 23, '사는 곳': '광주', '취미': '요리', '직업': '야구선수', '소속구단': '기아타이거즈', '등번호': 5}\n",
      "my_dict_dict = {'A': {'이름': '송인성', '나이': 25, '사는 곳': '부산', '직업': '경찰', '대학': '홍익대학교', '학과': '법학'}, 'B': {'이름': '김도영', '나이': 23, '사는 곳': '광주', '취미': '요리', '직업': '야구선수', '소속구단': '기아타이거즈', '등번호': 5}}\n"
     ]
    }
   ],
   "source": [
    "# 다른 dict를 통째로 추가\n",
    "my_dict1_more = {\"대학\": \"홍익대학교\", \"학과\": \"법학\"}\n",
    "my_dict1.update(my_dict1_more)\n",
    "print(f'{my_dict1 = }')\n",
    "\n",
    "my_dict2_more = {\"직업\": \"야구선수\", \"소속구단\": \"기아타이거즈\", \"등번호\": 5}\n",
    "my_dict2.update(my_dict2_more)\n",
    "print(f'{my_dict2 = }')\n",
    "\n",
    "print(f'{my_dict_dict = }') # 얕은 복사로 인해 값이 바뀌어있음"
   ]
  },
  {
   "cell_type": "markdown",
   "metadata": {},
   "source": [
    "- pop()을 이용하여 요소 삭제하고 저장하기"
   ]
  },
  {
   "cell_type": "code",
   "execution_count": 371,
   "metadata": {},
   "outputs": [
    {
     "name": "stdout",
     "output_type": "stream",
     "text": [
      "my_dict_dict = {'A': {'이름': '송인성', '나이': 25, '직업': '경찰', '대학': '홍익대학교', '학과': '법학'}, 'B': {'이름': '김도영', '나이': 23, '사는 곳': '광주', '직업': '야구선수', '소속구단': '기아타이거즈', '등번호': 5}}\n",
      "my_dict1 = {'이름': '송인성', '나이': 25, '직업': '경찰', '대학': '홍익대학교', '학과': '법학'}\n",
      "my_dict2 = {'이름': '김도영', '나이': 23, '사는 곳': '광주', '직업': '야구선수', '소속구단': '기아타이거즈', '등번호': 5}\n"
     ]
    }
   ],
   "source": [
    "# 키와 값을 삭제\n",
    "my_dict_dict[\"A\"].pop(\"사는 곳\")\n",
    "my_dict_dict[\"B\"].pop(\"취미\")\n",
    "print(f'{my_dict_dict = }')\n",
    "\n",
    " # 얕은 복사로 인해 값이 바뀌어있음\n",
    "print(f'{my_dict1 = }')\n",
    "print(f'{my_dict2 = }')"
   ]
  },
  {
   "cell_type": "code",
   "execution_count": 372,
   "metadata": {},
   "outputs": [
    {
     "name": "stdout",
     "output_type": "stream",
     "text": [
      "my_dict1 = {'이름': '송인성', '나이': 25, '대학': '홍익대학교', '학과': '법학'}\n",
      "occupation1 = '경찰'\n",
      "my_dict2 = {'이름': '김도영', '나이': 23, '사는 곳': '광주', '소속구단': '기아타이거즈', '등번호': 5}\n",
      "occupation2 = '야구선수'\n"
     ]
    }
   ],
   "source": [
    "# 키와 값을 삭제하고 값을 반환\n",
    "occupation1 = my_dict1.pop(\"직업\")\n",
    "print(f'{my_dict1 = }\\n{occupation1 = }')\n",
    "\n",
    "occupation2 = my_dict2.pop(\"직업\")\n",
    "print(f'{my_dict2 = }\\n{occupation2 = }')"
   ]
  },
  {
   "cell_type": "markdown",
   "metadata": {},
   "source": [
    "- pop()의 두 번째 인자로 default 값을 지정하여 에러 회피하기"
   ]
  },
  {
   "cell_type": "code",
   "execution_count": 373,
   "metadata": {},
   "outputs": [
    {
     "name": "stdout",
     "output_type": "stream",
     "text": [
      "Error: '직업'\n",
      "occupation3 = 'unknown'\n",
      "occupation4 = 'unknown'\n"
     ]
    }
   ],
   "source": [
    "try:\n",
    "    # key가 없으면 에러발생\n",
    "    my_dict1.pop(\"직업\")\n",
    "except KeyError as e:\n",
    "    print(f'Error: {e}')\n",
    "\n",
    "# pop()을 사용하면, 키가 없어도 에러가 발생하지 않음\n",
    "occupation3 = my_dict_dict[\"A\"].pop(\"직업\", \"unknown\")\n",
    "print(f'{occupation3 = }')\n",
    "\n",
    "occupation4 = my_dict_dict[\"B\"].pop(\"직업\", \"unknown\")\n",
    "print(f'{occupation4 = }')"
   ]
  },
  {
   "cell_type": "markdown",
   "metadata": {},
   "source": [
    "- popitem()을 이용하여 마지막 요소 삭제하기"
   ]
  },
  {
   "cell_type": "code",
   "execution_count": 374,
   "metadata": {},
   "outputs": [
    {
     "name": "stdout",
     "output_type": "stream",
     "text": [
      "my_dict1 = {'이름': '송인성', '나이': 25, '대학': '홍익대학교', '학과': '법학'}\n",
      "my_dict2 = {'이름': '김도영', '나이': 23, '사는 곳': '광주', '소속구단': '기아타이거즈', '등번호': 5}\n",
      "------------------------------\n",
      "my_dict1 = {'이름': '송인성', '나이': 25, '대학': '홍익대학교'}\n",
      "last1 = ('학과', '법학')\n",
      "my_dict2 = {'이름': '김도영', '나이': 23, '사는 곳': '광주', '소속구단': '기아타이거즈'}\n",
      "last2 = ('등번호', 5)\n",
      "my_dict_dict = {'A': {'이름': '송인성', '나이': 25, '대학': '홍익대학교'}, 'B': {'이름': '김도영', '나이': 23, '사는 곳': '광주', '소속구단': '기아타이거즈'}}\n"
     ]
    }
   ],
   "source": [
    "print(f'{my_dict1 = }')\n",
    "print(f'{my_dict2 = }', end = '\\n'+'-'*30+'\\n')\n",
    "\n",
    "# 마지막 키와 값을 삭제\n",
    "# 딕셔너리는 원소의 순서가 없어 임의의 키와 값을 삭제하는 것과 동일\n",
    "last1 = my_dict1.popitem()\n",
    "print(f'{my_dict1 = }\\n{last1 = }')\n",
    "\n",
    "last2 = my_dict2.popitem()\n",
    "print(f'{my_dict2 = }\\n{last2 = }')\n",
    "\n",
    "print(f'{my_dict_dict = }')"
   ]
  },
  {
   "cell_type": "markdown",
   "metadata": {},
   "source": [
    "- clear()를 이용하여 모든 요소 삭제하기"
   ]
  },
  {
   "cell_type": "code",
   "execution_count": 375,
   "metadata": {},
   "outputs": [
    {
     "name": "stdout",
     "output_type": "stream",
     "text": [
      "my_dict1 = {}\n",
      "my_dict2 = {}\n",
      "my_dict_dict = {'A': {}, 'B': {}}\n",
      "------------------------------\n",
      "my_dict_dict = {}\n"
     ]
    }
   ],
   "source": [
    "# 모든 키와 값을 삭제\n",
    "\n",
    "my_dict1.clear()\n",
    "print(f'{my_dict1 = }')\n",
    "\n",
    "my_dict2.clear()\n",
    "print(f'{my_dict2 = }')\n",
    "\n",
    "# 얕은 복사로 인해 value의 딕셔너리의 키와 값이 삭제됨\n",
    "print(f'{my_dict_dict = }', end = '\\n'+'-'*30+'\\n')\n",
    "\n",
    "# 모든 키와 값이 삭제\n",
    "my_dict_dict.clear()\n",
    "print(f'{my_dict_dict = }')"
   ]
  }
 ],
 "metadata": {
  "kernelspec": {
   "display_name": "base",
   "language": "python",
   "name": "python3"
  },
  "language_info": {
   "codemirror_mode": {
    "name": "ipython",
    "version": 3
   },
   "file_extension": ".py",
   "mimetype": "text/x-python",
   "name": "python",
   "nbconvert_exporter": "python",
   "pygments_lexer": "ipython3",
   "version": "3.12.8"
  }
 },
 "nbformat": 4,
 "nbformat_minor": 2
}
