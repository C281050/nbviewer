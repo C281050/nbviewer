{
 "cells": [
  {
   "cell_type": "markdown",
   "id": "daa14269",
   "metadata": {},
   "source": [
    "# **C281050 송인성**"
   ]
  },
  {
   "cell_type": "markdown",
   "id": "a34a288b",
   "metadata": {},
   "source": [
    "# **함수**\n",
    "함수와 람다함수\n",
    "\n",
    "## **함수**\n",
    "- **함수(function)**는 **인수(arguments)**를 입력으로 받아 실행문(코드블럭)을 실행하고 출력(return)하는 하나의 실행 모듈 \n",
    "\n",
    "### **함수의 정의**"
   ]
  },
  {
   "cell_type": "code",
   "execution_count": null,
   "id": "c192e124",
   "metadata": {},
   "outputs": [],
   "source": [
    "def 함수명(매개변수1, 매개변수2=디폴트값, ...):\n",
    "    실행문1\n",
    "    실행문2\n",
    "    ...\n",
    "    return 반환값"
   ]
  },
  {
   "cell_type": "markdown",
   "id": "57497770",
   "metadata": {},
   "source": [
    "- 함수는 **def** 키워드로 정의하며, 함수명과 매개변수를 괄호()로 묶어서 정의함\n",
    "    - **매개변수(parameter)** 는 함수에 입력으로 전달된 값을 받는 변수\n",
    "    - **인수(arguments)** 는 함수를 호출할 때 전달하는 입력 값을 의미\n",
    "- 함수의 실행문은 *코드블럭으로 작성하여 indent로 구분함*\n",
    "- 함수의 실행 결과는 **return** 키워드로 반환함\n",
    "    - 반환값은 하나인 경우는 반환값 데이터 유형으로, 둘 이상인 경우는 튜플로 반환함\n",
    "    - **return**은 생략 가능하며, 생략할 경우 **None**을 반환함\n",
    "\n",
    "#### **함수명 작성법**\n",
    "- 함수명만으로도 함수의 기능을 유추할 수 있도록 명확하게 표현하는 것이 좋음\n",
    "    - 동사+명사 형태로 작성하는 것이 좋음\n",
    "- 과거에는 함수명을 **snake_case**로 작성하였으나 최근에는 **camelCase**로 작성하는 추세임 \n"
   ]
  },
  {
   "cell_type": "code",
   "execution_count": 4,
   "id": "12cdf2e8",
   "metadata": {},
   "outputs": [],
   "source": [
    "# cacSumProduct 함수명, a,b는 parameter(매개변수)\n",
    "def calcSumProduct(a,b=10):\n",
    "    \n",
    "    # 들여쓰기로 실행문의 코드블록을 지정\n",
    "    plus = a + b\n",
    "    multiple = a * b\n",
    "\n",
    "    # return으로 함수의 결과값을 반환\n",
    "    return plus, multiple"
   ]
  },
  {
   "cell_type": "markdown",
   "id": "593fa22b",
   "metadata": {},
   "source": [
    "### **함수의 호출**"
   ]
  },
  {
   "cell_type": "code",
   "execution_count": null,
   "id": "00e6d7fa",
   "metadata": {},
   "outputs": [],
   "source": [
    "# 반환값이 없거나 반환값을 바로 사용\n",
    "함수명(인수1, 인수2, ...)\n",
    "\n",
    "# 반환값을 변수에 저장하여 활용\n",
    "변수명 = 함수명(인수1, 인수2, ...)\n",
    "\n",
    "# 반환값이 여러 개인 경우 튜플로 반환됨\n",
    "변수1, 변수2, ... = 함수명(인수1, 인수2, ...)"
   ]
  },
  {
   "cell_type": "markdown",
   "id": "054d488b",
   "metadata": {},
   "source": [
    "- 함수를 호출할 때는 **함수명(인수들)**으로 호출함\n",
    "    - 인수가 정의된 순서대로 값이 전달됨\n",
    "    - 인수가 많거나 순서에 관계없이 호출할 경우에는 **매개변수=인수**로 지정함\n",
    "    - 디폴트값이 설정된 매개젼수는 인수를 생략할 수 있으며, 디폴트값이 적용됨\n",
    "- 함수의 반환값은 변수에 저장하여 활용할 수 있음\n",
    "    - 반환값이 여러 개인 경우 튜플로 반환됨 "
   ]
  },
  {
   "cell_type": "code",
   "execution_count": null,
   "id": "0365fa11",
   "metadata": {},
   "outputs": [
    {
     "name": "stdout",
     "output_type": "stream",
     "text": [
      "sum = 10, product = 21\n"
     ]
    }
   ],
   "source": [
    "# 인자를 순서대로 전달하여 함수 호출\n",
    "sum, product = calcSumProduct(3, 7)\n",
    "\n",
    "print(f'{sum = }, {product = }')"
   ]
  },
  {
   "cell_type": "code",
   "execution_count": null,
   "id": "d38900bd",
   "metadata": {},
   "outputs": [
    {
     "name": "stdout",
     "output_type": "stream",
     "text": [
      "sum = 13, product = 30\n"
     ]
    }
   ],
   "source": [
    "# 인자의 디폴트값을 사용하여 함수 호출\n",
    "sum, product = calcSumProduct(3)\n",
    "\n",
    "print(f'{sum = }, {product = }')"
   ]
  },
  {
   "cell_type": "code",
   "execution_count": null,
   "id": "b1f03475",
   "metadata": {},
   "outputs": [
    {
     "name": "stdout",
     "output_type": "stream",
     "text": [
      "sum = 10, product = 21\n"
     ]
    }
   ],
   "source": [
    "# 인자의 이름을 지정하여 함수 호출\n",
    "sum, product = calcSumProduct(b=3, a=7)\n",
    "\n",
    "print(f'{sum = }, {product = }')"
   ]
  },
  {
   "cell_type": "markdown",
   "id": "17019ea5",
   "metadata": {},
   "source": [
    "### **함수 주석**\n",
    "- **함수 주석(Fuction Annotation)** 은 파이썬 3.0부터 지원하는 기능으로 *함수의 매개변수와 반환값에 대한 정보를 제공*하는 기능\n",
    "    - **함수**에 대한 정보: *함수명 바로 아래에 작은 따옴표 3개(''' ''') 또는 이중따옴표 3개(\"\"\" \"\"\")로 감싸서 기술*\n",
    "    - **함수의 매개변수**에 대한 정보: *매개변수명 뒤에 콜론(:)을 붙이고 자료형을 기술*\n",
    "    - **함수의 반환값**에 대한 정보: *함수명 앞에 화살표(->)를 붙이고 자료형을 기술* "
   ]
  },
  {
   "cell_type": "code",
   "execution_count": null,
   "id": "17538939",
   "metadata": {},
   "outputs": [],
   "source": [
    "# a와 b는 int형으로 지정, 반환값은 int형\n",
    "def calcSumProduct(a: int, b: int = 10) -> int:\n",
    "    # 함수에 대한 설명을 작성\n",
    "    \"\"\"calcSumProduct 함수는 a와 b를 더한 값과 곱한 갑을 튜플로 반환하는 함수이다.\"\"\"\n",
    "\n",
    "    # f-string을 이용하여 a와 b의 값을 출력\n",
    "    print(f'{a = }, {b = }')\n",
    "    plus = a+b\n",
    "    multiple = a*b\n",
    "    return plus, multiple "
   ]
  },
  {
   "cell_type": "markdown",
   "id": "778638eb",
   "metadata": {},
   "source": [
    "- 함수의 정보를 확인할 때에는 **help(함수명)** 으로 확인함 "
   ]
  },
  {
   "cell_type": "code",
   "execution_count": null,
   "id": "9c984f74",
   "metadata": {},
   "outputs": [
    {
     "name": "stdout",
     "output_type": "stream",
     "text": [
      "Help on function calcSumProduct in module __main__:\n",
      "\n",
      "calcSumProduct(a: int, b: int = 10) -> int\n",
      "    calcSumProduct 함수는 a와 b를 더한 값과 곱한 갑을 튜플로 반환하는 함수이다.\n",
      "\n"
     ]
    }
   ],
   "source": [
    "# 함수의 설명을 출력\n",
    "help(calcSumProduct)"
   ]
  },
  {
   "cell_type": "markdown",
   "id": "058eb682",
   "metadata": {},
   "source": [
    "## **인수의 개수가 정해지지 않은 함수**\n",
    "- ***args**: 튜플로 인수를 받음\n",
    "- ****kwargs**: 딕셔너리로 인수를 받음\n",
    "\n",
    "### ***args의 활용** "
   ]
  },
  {
   "cell_type": "code",
   "execution_count": null,
   "id": "7e703bb5",
   "metadata": {},
   "outputs": [
    {
     "name": "stdout",
     "output_type": "stream",
     "text": [
      "inputs = (1, 2, 3)\n",
      "sum = np.int64(6), product = np.int64(6)\n",
      "\n",
      "inputs = (1, 2, 3, 4, 5, 6, 7, 8)\n",
      "sum = np.int64(36), product = np.int64(40320)\n"
     ]
    }
   ],
   "source": [
    "# 계산을 위해 numpy 모듈을 np로 import\n",
    "import numpy as np\n",
    "\n",
    "# calcSumProduct2 함수명, inputs는 크기가 정해지지 않은 parameter(매개변수)\n",
    "def calcSumProduct2(*inputs):\n",
    "    \"\"\" calcSumProduct2 함수는 입력의 합과 곱을 튜플로 반환하는 함수이다.\"\"\"\n",
    "\n",
    "    # f-sting을 이용하여 inputs의 값을 출력\n",
    "    print(f'{inputs = }')\n",
    "\n",
    "    # numpy 모듈을 이용하여 inputs의 합과 곱을 계산\n",
    "    plus = np.sum(inputs)\n",
    "    multiple = np.prod(inputs)\n",
    "\n",
    "    # plus와 multiple을 튜플로 반환\n",
    "    return plus, multiple\n",
    "\n",
    "# 인수와 1,2,3에 대한 함수를 적용하여 결과를 sum, product에 저장\n",
    "sum, product = calcSumProduct2(1,2,3)\n",
    "\n",
    "# sum과 product를 출력\n",
    "print(f'{sum = }, {product = }\\n')\n",
    "\n",
    "# 인수 1,2,3,4,5,6,7,8에 대한 함수를 적용하여 결과를 sum, product에 저장\n",
    "sum, product = calcSumProduct2(1,2,3,4,5,6,7,8)\n",
    "\n",
    "# sum과 product를 출력\n",
    "print(f'{sum = }, {product = }')"
   ]
  },
  {
   "cell_type": "markdown",
   "id": "d2d79691",
   "metadata": {},
   "source": [
    "### ****kwags의 활용** "
   ]
  },
  {
   "cell_type": "code",
   "execution_count": null,
   "id": "dbc2c08c",
   "metadata": {},
   "outputs": [
    {
     "name": "stdout",
     "output_type": "stream",
     "text": [
      "inputs = {'a': 1, 'b': 2}\n",
      "sum = 3, product = 2\n",
      "\n",
      "inputs = {'a': 1, 'b': 2, 'c': 3, 'd': 4}\n",
      "sum = 10, product = 24\n",
      "\n"
     ]
    }
   ],
   "source": [
    "import numpy as np\n",
    "\n",
    "# calcSumProduct2 함수명, inputs는 크기가 정해지지 않은 parameters\n",
    "def calcSumProduct2(**inputs):\n",
    "    \"\"\"calcSumProduct2 함수는 입력의 합과 곱을 튜플로 반환하는 함수이다.\"\"\"\n",
    "\n",
    "    # f-sring을 이용하여 inputs의 값을 출력\n",
    "    print(f'{inputs = }')\n",
    "\n",
    "    # plus에 0을, multiple에 1을 초기값으로 할당\n",
    "    plus = 0\n",
    "    multiple = 1\n",
    "\n",
    "    # inputs가 딕셔너리 이므로 key와 value를 반복하여 _, value에 할당\n",
    "    for _, value in inputs.items():\n",
    "        # plus에 value를 더하여 plus를 갱신\n",
    "        plus += value\n",
    "        multiple *= value\n",
    "\n",
    "    # plus와 multiple을 튜플로 반환\n",
    "    return plus, multiple\n",
    "\n",
    "# 인수 a=1, b=2에 대한 함수를 적용하여 결과를 sum, product에 저장\n",
    "sum, product = calcSumProduct2(a=1, b=2)\n",
    "print(f'{sum = }, {product = }\\n')\n",
    "\n",
    "# 인수 a=1, b=2, c=3, d=4 에 대한 함수를 적용하여 결과를 sum, product에 저장\n",
    "sum, product = calcSumProduct2(a=1, b=2, c=3, d=4)\n",
    "print(f'{sum = }, {product = }\\n')"
   ]
  },
  {
   "cell_type": "markdown",
   "id": "f3cdd31d",
   "metadata": {},
   "source": [
    "## **지역변수와 전역변수**\n",
    "-  **지역변수(local variable)**: 함수 내에서 선언된 변수\n",
    "    - 함수 실행시 생성되고 함수 종료시 소명됨 -> 메모리 관리에 효율적임\n",
    "- **전역변수(global variable)**: 함수 외부에서 선언된 변수\n",
    "    - 함수 외부에서 선언되어 프로그램이 종료될 때까지 유지됨 -> 메모리 관리에 비효율적임\n",
    "    - 전역변수를 함수 내에서 선언하려면 **global 전역변수명**으로 선언해야 함 \n",
    "\n",
    "### **함수 내에서 전역변수의 사용**\n",
    "- 전역변수를 그냥 사용하면 됨  "
   ]
  },
  {
   "cell_type": "code",
   "execution_count": null,
   "id": "1ec6afec",
   "metadata": {},
   "outputs": [
    {
     "name": "stdout",
     "output_type": "stream",
     "text": [
      "var_global = '전역 변수'\n",
      "var_local = '인자는 지역 변수'\n",
      "var_global = '전역 변수'\n",
      "name 'var_local' is not defined\n"
     ]
    }
   ],
   "source": [
    "# var_global은 전역변수\n",
    "var_global = '전역 변수'\n",
    "\n",
    "# useGlobalVariable 함수명, var_local은 매개변수(지역 변수)\n",
    "def useGlobalVariable(var_local):\n",
    "\n",
    "    # 전역변수와 지역변수를 출력\n",
    "    print(f'{var_global = }')\n",
    "    print(f'{var_local = }')\n",
    "\n",
    "# useGlobalVariable 함수 호출, '인자는 지역 변수'는 인자\n",
    "useGlobalVariable('인자는 지역 변수')\n",
    "\n",
    "# 전역변수를 출력 -> 값이 변하지 않음\n",
    "print(f'{var_global = }')\n",
    "\n",
    "# 지역변수를 출력 -> 함수 내에서만 사용되는 변수로서 함수 외부에서는 사용 불가\n",
    "try:\n",
    "    print(f'{var_local = }')\n",
    "except NameError as e:\n",
    "    print(e)"
   ]
  },
  {
   "cell_type": "markdown",
   "id": "e9990374",
   "metadata": {},
   "source": [
    "### **함수 내에서 전역변수의 변경**\n",
    "- 함수 내에서 전역변수의 변경은 안됨. 전역변수가 아닌 지역변수로 생성됨 "
   ]
  },
  {
   "cell_type": "code",
   "execution_count": null,
   "id": "9973a2c4",
   "metadata": {},
   "outputs": [
    {
     "name": "stdout",
     "output_type": "stream",
     "text": [
      "var_global = '전역 변수가 아닌 지역변수임'\n",
      "var_local = '인자는 지역 변수'\n",
      "var_global = '전역 변수'\n"
     ]
    }
   ],
   "source": [
    "var_global = '전역 변수'\n",
    "\n",
    "def useGlobalVariable(var_local):\n",
    "\n",
    "\n",
    "    # var_global을 변경하면, 전역변수가 아닌 지역변수로 생성하여 사용됨\n",
    "    # 즉, 변수명은 동일하나 서로 다른 변수임\n",
    "    var_global = '전역 변수가 아닌 지역변수임'\n",
    "    print(f'{var_global = }')\n",
    "    print(f'{var_local = }')\n",
    "\n",
    "# useGlobalVariable 함수 호출, '인자는 지역 변수'는 인자\n",
    "useGlobalVariable('인자는 지역 변수')\n",
    "\n",
    "# 전역변수를 출력 -> 값이 변하지 않음\n",
    "print(f'{var_global = }')"
   ]
  },
  {
   "cell_type": "markdown",
   "id": "a819b37b",
   "metadata": {},
   "source": [
    "### **함수 내에서 전역변수를 변경하는 방법**\n",
    "- **global 전역변수명**으로 선언해야 함 "
   ]
  },
  {
   "cell_type": "code",
   "execution_count": null,
   "id": "463fb5d9",
   "metadata": {},
   "outputs": [
    {
     "name": "stdout",
     "output_type": "stream",
     "text": [
      "var_global = '전역 변수'\n",
      "var_local = '인자는 지역 변수'\n",
      "var_global = '이제는 전역 변수임'\n"
     ]
    }
   ],
   "source": [
    "var_global = '전역 변수'\n",
    "\n",
    "def useGlobalVariable(var_local):\n",
    "\n",
    "    # var_global이 전역변수임을 명시\n",
    "    global var_global\n",
    "\n",
    "    # 전역변수와 지역변수를 출력\n",
    "    print(f'{var_global = }')\n",
    "    print(f'{var_local = }')\n",
    "\n",
    "    # var_global은 이제 전역변수이므로 전역변수의 값이 변경됨\n",
    "    var_global = '이제는 전역 변수임'\n",
    "\n",
    "# useGlobalVariable 함수 호출, '인자는 지역 변수'는 인자\n",
    "useGlobalVariable('인자는 지역 변수')\n",
    "\n",
    "# 전역변수를 출력 -> 값이 변경됨\n",
    "print(f'{var_global = }')\n"
   ]
  },
  {
   "cell_type": "markdown",
   "id": "8d928d7b",
   "metadata": {},
   "source": [
    "## **람다함수**\n",
    "- **람다함수**는 일반 함수를 가볍게 만들어 사용하기 위한 함수\n",
    "- 람다함수(lambda function) = 람다표현식(lambda expression) = 익명함수(anonymous function)\n",
    "\n",
    "### **람다함수 정의** "
   ]
  },
  {
   "cell_type": "code",
   "execution_count": null,
   "id": "d626134c",
   "metadata": {},
   "outputs": [],
   "source": [
    "# 일반함수의 정의\n",
    "def 함수명(매개변수):\n",
    "    return 표현식\n",
    "\n",
    "# 함수명이 없는 람다함수\n",
    "lambda 매개변수: 표현식\n",
    "\n",
    "# 함수명이 있는 람다함수\n",
    "함수명 = lambda 매개변수: 표현식"
   ]
  },
  {
   "cell_type": "markdown",
   "id": "e21e844c",
   "metadata": {},
   "source": [
    "- 일반 함수 정의 "
   ]
  },
  {
   "cell_type": "code",
   "execution_count": null,
   "id": "cf6e11e5",
   "metadata": {},
   "outputs": [
    {
     "data": {
      "text/plain": [
       "15"
      ]
     },
     "execution_count": 11,
     "metadata": {},
     "output_type": "execute_result"
    }
   ],
   "source": [
    "# x를 매개변수로 하여 10을 더하는 함수정의\n",
    "def addTen(x):\n",
    "    return x+10\n",
    "\n",
    "# 일반 함수 호출\n",
    "addTen(5)"
   ]
  },
  {
   "cell_type": "markdown",
   "id": "2385295c",
   "metadata": {},
   "source": [
    " - 함수명이 없는 람다함수 "
   ]
  },
  {
   "cell_type": "code",
   "execution_count": null,
   "id": "7a88b3c4",
   "metadata": {},
   "outputs": [
    {
     "data": {
      "text/plain": [
       "<function __main__.<lambda>(x)>"
      ]
     },
     "execution_count": 12,
     "metadata": {},
     "output_type": "execute_result"
    }
   ],
   "source": [
    "# x를 매개변수로 하여 10을 더하는 함수를 lambda로 정의\n",
    "lambda x: x+10"
   ]
  },
  {
   "cell_type": "code",
   "execution_count": null,
   "id": "31ad203b",
   "metadata": {},
   "outputs": [
    {
     "data": {
      "text/plain": [
       "15"
      ]
     },
     "execution_count": 13,
     "metadata": {},
     "output_type": "execute_result"
    }
   ],
   "source": [
    "# lambda 함수 호출 -> 함수명이 없으므로 함수를 호출할 수 없어 정의하여 바로 호출\n",
    "(lambda x: x+10)(5)"
   ]
  },
  {
   "cell_type": "markdown",
   "id": "d55fdc7b",
   "metadata": {},
   "source": [
    "- 함수명이 있는 람다함수 "
   ]
  },
  {
   "cell_type": "code",
   "execution_count": null,
   "id": "08cf397c",
   "metadata": {},
   "outputs": [
    {
     "data": {
      "text/plain": [
       "15"
      ]
     },
     "execution_count": 14,
     "metadata": {},
     "output_type": "execute_result"
    }
   ],
   "source": [
    "# x를 입력받아 x+10을 반환하는 람다함수를 addTen으로 명명\n",
    "addTen = lambda x: x + 10\n",
    "\n",
    "# addTen 함수 호출\n",
    "addTen(5)"
   ]
  },
  {
   "cell_type": "markdown",
   "id": "fc4c92d2",
   "metadata": {},
   "source": [
    "### **람다함수 응용**\n",
    "#### **람다함수에 외부 변수의 사용**\n",
    "- 람다함수 내부에서는 새로운 변수를 생성할 수 없으나 외부 변수는 사용가능 "
   ]
  },
  {
   "cell_type": "code",
   "execution_count": null,
   "id": "ed8c6349",
   "metadata": {},
   "outputs": [
    {
     "data": {
      "text/plain": [
       "115"
      ]
     },
     "execution_count": 15,
     "metadata": {},
     "output_type": "execute_result"
    }
   ],
   "source": [
    "# 외부변수\n",
    "y = 100\n",
    "\n",
    "# 외부변수를 참조하는 람다함수\n",
    "(lambda x: x+y+10)(5)"
   ]
  },
  {
   "cell_type": "markdown",
   "id": "eabe199f",
   "metadata": {},
   "source": [
    "#### **람다함수에 조건부 표현식 사용**"
   ]
  },
  {
   "cell_type": "code",
   "execution_count": null,
   "id": "22396036",
   "metadata": {},
   "outputs": [
    {
     "data": {
      "text/plain": [
       "8"
      ]
     },
     "execution_count": 16,
     "metadata": {},
     "output_type": "execute_result"
    }
   ],
   "source": [
    "# x가 3의 배수이면 '(3의 배수) '+str(x)를 반환하고, 아니면 x를 반환하는 람다함수\n",
    "(lambda x: '(3의배수)'+str(x) if x%3==0 else x)(8)"
   ]
  },
  {
   "cell_type": "code",
   "execution_count": null,
   "id": "dabf8733",
   "metadata": {},
   "outputs": [
    {
     "data": {
      "text/plain": [
       "'(3의 배수) 9'"
      ]
     },
     "execution_count": 17,
     "metadata": {},
     "output_type": "execute_result"
    }
   ],
   "source": [
    "# x가 3의 배수이면 '(3의 배수) '+str(x)를 반환하고,\n",
    "# x를 3으로 나눈 나머지가 1이면 float(x)를 반환하고,\n",
    "# 모두 해당이 안 되면 x를 반환하는 람다함수\n",
    "(lambda x: '(3의 배수) '+str(x) if x%3==0 else float(x) if x%3==1 else x)(9)"
   ]
  },
  {
   "cell_type": "code",
   "execution_count": null,
   "id": "4e4c4bc7",
   "metadata": {},
   "outputs": [
    {
     "data": {
      "text/plain": [
       "7.0"
      ]
     },
     "execution_count": 18,
     "metadata": {},
     "output_type": "execute_result"
    }
   ],
   "source": [
    "(lambda x: '(3의 배수) '+str(x) if x%3==0 else float(x) if x%3==1 else x)(7)"
   ]
  },
  {
   "cell_type": "code",
   "execution_count": null,
   "id": "0f9a7660",
   "metadata": {},
   "outputs": [
    {
     "data": {
      "text/plain": [
       "5"
      ]
     },
     "execution_count": 19,
     "metadata": {},
     "output_type": "execute_result"
    }
   ],
   "source": [
    "(lambda x: '(3의 배수) '+str(x) if x%3==0 else float(x) if x%3==1 else x)(5)"
   ]
  },
  {
   "cell_type": "markdown",
   "id": "520446ec",
   "metadata": {},
   "source": [
    "#### **람다함수에 인자 여러개 넣기** "
   ]
  },
  {
   "cell_type": "code",
   "execution_count": null,
   "id": "9d1d40bd",
   "metadata": {},
   "outputs": [
    {
     "data": {
      "text/plain": [
       "3"
      ]
     },
     "execution_count": 20,
     "metadata": {},
     "output_type": "execute_result"
    }
   ],
   "source": [
    "# x가 3의 배수이면 x를, 아니면 x+y를 반환하는 람다함수\n",
    "(lambda x,y: x if x%3==0 else x+y)(3,4)"
   ]
  },
  {
   "cell_type": "code",
   "execution_count": null,
   "id": "afda99c1",
   "metadata": {},
   "outputs": [
    {
     "data": {
      "text/plain": [
       "6"
      ]
     },
     "execution_count": 21,
     "metadata": {},
     "output_type": "execute_result"
    }
   ],
   "source": [
    "(lambda x,y: x if x%3==0 else x+y)(2,4)"
   ]
  },
  {
   "cell_type": "markdown",
   "id": "d0cd115f",
   "metadata": {},
   "source": [
    "### **람다함수의 활용**\n",
    "- 람다함수는 짧은 코드로 함수를 정의하여 사용하기 때문에 *간단한 함수를 정의하여 다른 함수의 인수로 사용할 때 유용함*\n",
    "#### **map 함수에 적용**\n",
    "-**map 함수**는 iterable 객테의 원소를 지정된 함수로 처리해주는 함수\n",
    "- **map(함수명, iterable 객체)**\n",
    "    - map 함수의 결과는 map 객체로 반환됨 -> 값을 확인하기 위해서는 **list()** 함수로 변환하여 사용함 "
   ]
  },
  {
   "cell_type": "code",
   "execution_count": null,
   "id": "ac1c342a",
   "metadata": {},
   "outputs": [
    {
     "data": {
      "text/plain": [
       "[11, 12, 13]"
      ]
     },
     "execution_count": 22,
     "metadata": {},
     "output_type": "execute_result"
    }
   ],
   "source": [
    "# [1,2,3]의 원소를 x에 할당하여 x+10을 반환하는 람다함수를 호출하여 list로 변환\n",
    "list(map(lambda x: x+10, [1,2,3]))"
   ]
  },
  {
   "cell_type": "code",
   "execution_count": null,
   "id": "711877ed",
   "metadata": {},
   "outputs": [
    {
     "data": {
      "text/plain": [
       "['(3의 배수) 0', 1, 2, '(3의 배수) 3', 4, 5, '(3의 배수) 6', 7, 8, '(3의 배수) 9']"
      ]
     },
     "execution_count": 23,
     "metadata": {},
     "output_type": "execute_result"
    }
   ],
   "source": [
    "# range(10)의 원소를 x에 할당하여 x가 3의 배수이면 '(3의 배수) '+str(x)를 반환하고,\n",
    "# 아니면 x를 반환하는 람다함수를 호출하여 list로 변환\n",
    "ldMultiple3 = lambda x: '(3의 배수) '+str(x) if x%3==0 else x\n",
    "list(map(ldMultiple3, range(10)))"
   ]
  },
  {
   "cell_type": "code",
   "execution_count": null,
   "id": "0e3c04eb",
   "metadata": {},
   "outputs": [
    {
     "data": {
      "text/plain": [
       "['(3의 배수) 0', 1.0, 2, '(3의 배수) 3', 4.0, 5, '(3의 배수) 6', 7.0, 8, '(3의 배수) 9']"
      ]
     },
     "execution_count": 24,
     "metadata": {},
     "output_type": "execute_result"
    }
   ],
   "source": [
    "# range(10)의 원소를 x에 할당하여 x가 3의 배수이면 '(3의 배수) '+str(x)를 반환하고,\n",
    "# x를 3으로 나눈 나머지가 1이면 float(x)를 반환하고,\n",
    "# 모두 해당이 안 되면 x를 반환하는 람다함수를 호출하여 list로 변환\n",
    "ldMultiple3f = lambda x: '(3의 배수) '+str(x) if x%3==0 else float(x) if x%3==1 else x\n",
    "list(map(ldMultiple3f, range(10)))"
   ]
  },
  {
   "cell_type": "code",
   "execution_count": null,
   "id": "5c1fad0b",
   "metadata": {},
   "outputs": [
    {
     "data": {
      "text/plain": [
       "[0, 101, 102, 3, 104, 105, 6, 107, 108, 9]"
      ]
     },
     "execution_count": 25,
     "metadata": {},
     "output_type": "execute_result"
    }
   ],
   "source": [
    "# range(10)의 원소를 x에 할당하고, [100]*10의 원소를 y에 할당하여\n",
    "# x가 3의 배수이면 x를, 아니면 x+y를 반환하는 람다함수를 호출하여 list로 변환\n",
    "ldMultiple3a = lambda x, y: x if x%3==0 else x+y\n",
    "list(map(ldMultiple3a, range(10), [100]*10))"
   ]
  },
  {
   "cell_type": "markdown",
   "id": "28ae2a74",
   "metadata": {},
   "source": [
    "## **응용**"
   ]
  },
  {
   "cell_type": "markdown",
   "id": "3754330a",
   "metadata": {},
   "source": [
    "### 함수\n",
    "#### 함수의 정의\n",
    "#### 함수명 작성법"
   ]
  },
  {
   "cell_type": "code",
   "execution_count": null,
   "id": "eb73cb5b",
   "metadata": {},
   "outputs": [],
   "source": [
    "# cacSumproduct 함수명, a,b는 parameter(매개변수)\n",
    "def calcSumProduct(a, b=50):\n",
    "    \n",
    "    # 들여쓰기로 실행문의 코드블록을 지정\n",
    "    plus = a + b\n",
    "    minus = a - b\n",
    "    multiple = a * b\n",
    "    division = a / b\n",
    "\n",
    "    # return으로 함수의 결과값을 반환\n",
    "    return plus, minus, multiple, division"
   ]
  },
  {
   "cell_type": "markdown",
   "id": "c4cd668b",
   "metadata": {},
   "source": [
    "#### 함수의 호출"
   ]
  },
  {
   "cell_type": "code",
   "execution_count": null,
   "id": "95e462fa",
   "metadata": {},
   "outputs": [
    {
     "name": "stdout",
     "output_type": "stream",
     "text": [
      "sum = 30, minus = -10, product = 200, division = 0.5\n"
     ]
    }
   ],
   "source": [
    "# 인자를 순서대로 전달하여 함수 호출\n",
    "sum, minus, product, division = calcSumProduct(10, 20)\n",
    "\n",
    "print(f'{sum = }, {minus = }, {product = }, {division = }')"
   ]
  },
  {
   "cell_type": "code",
   "execution_count": null,
   "id": "3f942d6b",
   "metadata": {},
   "outputs": [
    {
     "name": "stdout",
     "output_type": "stream",
     "text": [
      "sum = 60, minus = -40, product = 500, division = 0.2\n"
     ]
    }
   ],
   "source": [
    "# 인자를 디폴트값을 사용하여 함수 호출\n",
    "sum, minus, product, division = calcSumProduct(10)\n",
    "\n",
    "print(f'{sum = }, {minus = }, {product = }, {division = }')"
   ]
  },
  {
   "cell_type": "code",
   "execution_count": null,
   "id": "3d3d0c3b",
   "metadata": {},
   "outputs": [
    {
     "name": "stdout",
     "output_type": "stream",
     "text": [
      "sum = 30, minus = -10, product = 200, division = 0.5\n"
     ]
    }
   ],
   "source": [
    "# 인자의 이름을 지정하여 함수 호출\n",
    "sum, minus, product, division = calcSumProduct(b=20, a=10)\n",
    "\n",
    "print(f'{sum = }, {minus = }, {product = }, {division = }')"
   ]
  },
  {
   "cell_type": "markdown",
   "id": "034ae728",
   "metadata": {},
   "source": [
    "#### 함수의 주석"
   ]
  },
  {
   "cell_type": "code",
   "execution_count": null,
   "id": "dec3045d",
   "metadata": {},
   "outputs": [],
   "source": [
    "# a와 b는 int형으로 지정, 반환값은 int형\n",
    "\n",
    "def calcSumProduct(a: int, b: int = 50) -> int:\n",
    "    # 함수에 대한 설명을 작성\n",
    "    \"\"\"calcSumProduct 함수는 a와 b를 더한 값, 뺀 값, 곱한 값, 나눈 값을 튜플로 반환하는 함수이다.\"\"\"\n",
    "\n",
    "    # f-string을 이용하여 a와 b의 값을 출력\n",
    "    print(f'{a = }, {b = }')\n",
    "    plus = a + b\n",
    "    minus = a - b\n",
    "    multiple = a * b\n",
    "    division = a / b\n",
    "\n",
    "    return plus, minus, multiple, division"
   ]
  },
  {
   "cell_type": "code",
   "execution_count": null,
   "id": "6608b845",
   "metadata": {},
   "outputs": [
    {
     "name": "stdout",
     "output_type": "stream",
     "text": [
      "Help on function calcSumProduct in module __main__:\n",
      "\n",
      "calcSumProduct(a: int, b: int = 50) -> int\n",
      "    calcSumProduct 함수는 a와 b를 더한 값, 뺀 값, 곱한 값, 나눈 값을 튜플로 반환하는 함수이다.\n",
      "\n"
     ]
    }
   ],
   "source": [
    "# 함수의 설명을 출력\n",
    "help(calcSumProduct)"
   ]
  },
  {
   "cell_type": "markdown",
   "id": "7e3be4f4",
   "metadata": {},
   "source": [
    "### 인수의 개수가 정해지지 않은 함수\n",
    "#### *args의 활용"
   ]
  },
  {
   "cell_type": "code",
   "execution_count": null,
   "id": "54cbe639",
   "metadata": {},
   "outputs": [
    {
     "name": "stdout",
     "output_type": "stream",
     "text": [
      "inputs = (1, 2, 3)\n",
      "sum = np.int64(6), product = np.int64(6), maximum = np.int64(3), minimum = np.int64(1)\n",
      "\n",
      "inputs = (1, 2, 3, 4, 5, 6, 7, 8)\n",
      "sum = np.int64(36), product = np.int64(40320), maximum = np.int64(8), minimum = np.int64(1)\n"
     ]
    }
   ],
   "source": [
    "# 계산을 위해 numpy 모듈을 np로 import\n",
    "import numpy as np\n",
    "\n",
    "# calcSumProduct_s 함수명, inputs는 크기가 정해지지 않은 parameter(매개변수)\n",
    "def calcSumProduct_s(*inputs):\n",
    "    \"\"\" calcSumProduct_s 함수는 입력의 합과 곱, 최댓값, 최솟값을 튜플로 반환하는 함수이다.\"\"\"\n",
    "\n",
    "    # f-sting을 이용하여 inputs의 값을 출력\n",
    "    print(f'{inputs = }')\n",
    "\n",
    "    # numpy 모듈을 이용하여 inputs의 합과 곱, 최댓값, 최솟값을 계산\n",
    "    plus = np.sum(inputs)\n",
    "    multiple = np.prod(inputs)\n",
    "    maximum = np.max(inputs)\n",
    "    minimum = np.min(inputs)\n",
    "\n",
    "    # plus, multiple, maximum, minimum을 튜플로 반환\n",
    "    return plus, multiple, maximum, minimum\n",
    "\n",
    "# 인수와 1, 2, 3에 대한 함수를 적용하여 결과를 sum, product, maximum, minimum에 저장\n",
    "sum, product, maximum, minimum = calcSumProduct_s(1, 2, 3)\n",
    "\n",
    "# sum, product, maximum, minimum을 출력\n",
    "print(f'{sum = }, {product = }, {maximum = }, {minimum = }\\n')\n",
    "\n",
    "# 인수 1, 2, 3, 4, 5, 6, 7, 8에 대한 함수를 적용하여 결과를 sum, product, maximum, minimum에 저장\n",
    "sum, product, maximum, minimum = calcSumProduct_s(1, 2, 3, 4, 5, 6, 7, 8)\n",
    "\n",
    "# sum, product, maximum, minimum을 출력\n",
    "print(f'{sum = }, {product = }, {maximum = }, {minimum = }')"
   ]
  },
  {
   "cell_type": "markdown",
   "id": "b23c7881",
   "metadata": {},
   "source": [
    "#### *kwags의 활용"
   ]
  },
  {
   "cell_type": "code",
   "execution_count": null,
   "id": "d8ea619e",
   "metadata": {},
   "outputs": [
    {
     "name": "stdout",
     "output_type": "stream",
     "text": [
      "inputs = {'a': 1, 'b': 2}\n",
      "sum = 3, product = 2, maximum = 2, minimum = 1\n",
      "\n",
      "inputs = {'a': 1, 'b': 2, 'c': 3, 'd': 4}\n",
      "sum = 10, product = 24, maximum = 4, minimum = 1\n",
      "\n"
     ]
    }
   ],
   "source": [
    "import numpy as np\n",
    "\n",
    "# calcSumProduct_s 함수명, inputs는 크기가 정해지지 않은 parameters\n",
    "def calcSumProduct_s(**inputs):\n",
    "    \"\"\"calcSumProduct_s 함수는 입력의 합과 곱, 최댓값, 최솟값을 튜플로 반환하는 함수이다.\"\"\"\n",
    "\n",
    "    # f-sring을 이용하여 inputs의 값을 출력\n",
    "    print(f'{inputs = }')\n",
    "\n",
    "    # plus에 0을, multiple에 1을, maximum에 -무한대, minimum에 무한대로 초기값을 할당\n",
    "    plus = 0\n",
    "    multiple = 1\n",
    "    maximum = float('-inf')\n",
    "    minimum = float('inf')\n",
    "\n",
    "    # inputs가 딕셔너리 이므로 key와 value를 반복하여 _, value에 할당\n",
    "    for _, value in inputs.items():\n",
    "        # plus에 value를 더하여 plus를 갱신\n",
    "        plus += value\n",
    "        # multiple에 value를 곱하여 multiple을 갱신\n",
    "        multiple *= value\n",
    "        # maximum과 minimum을 갱신\n",
    "        maximum = max(maximum, value)\n",
    "        minimum = min(minimum, value)\n",
    "\n",
    "    # plus, multiple, maximum, minimum을 튜플로 반환\n",
    "    return plus, multiple, maximum, minimum\n",
    "\n",
    "# 인수 a=1, b=2에 대한 함수를 적용하여 결과를 sum, product, maximum, minimum에 저장\n",
    "sum, product, maximum, minimum = calcSumProduct_s(a=1, b=2)\n",
    "print(f'{sum = }, {product = }, {maximum = }, {minimum = }\\n')\n",
    "\n",
    "# 인수 a=1, b=2, c=3, d=4 에 대한 함수를 적용하여 결과를 sum, product, maximum, minimum에 저장\n",
    "sum, product, maximum, minimum = calcSumProduct_s(a=1, b=2, c=3, d=4)\n",
    "print(f'{sum = }, {product = }, {maximum = }, {minimum = }\\n')"
   ]
  },
  {
   "cell_type": "markdown",
   "id": "0edd7831",
   "metadata": {},
   "source": [
    "### 지역변수와 전역변수\n",
    "#### 함수 내에서 전역변수의 사용"
   ]
  },
  {
   "cell_type": "code",
   "execution_count": null,
   "id": "286680d0",
   "metadata": {},
   "outputs": [
    {
     "name": "stdout",
     "output_type": "stream",
     "text": [
      "name_global = '송인성'\n",
      "age_global = 23\n",
      "name_local = '송유하'\n",
      "age_local = 23\n",
      "name_global = '송인성'\n",
      "age_global = 23\n",
      "Error = NameError(\"name 'name_local' is not defined\")\n"
     ]
    }
   ],
   "source": [
    "# 전역변수\n",
    "from matplotlib.pylab import f\n",
    "\n",
    "\n",
    "name_global = '송인성'\n",
    "age_global = 23\n",
    "\n",
    "# useGlobalVariable 함수명, name_local, age_local은 매개변수(지역 변수)\n",
    "def useGlobalVariable(name_local, age_local):\n",
    "\n",
    "    # 전역변수와 지역변수를 출력\n",
    "    print(f'{name_global = }')\n",
    "    print(f'{age_global = }')\n",
    "    print(f'{name_local = }')\n",
    "    print(f'{age_local = }')\n",
    "\n",
    "# useGlobalVariable 함수 호출, '송유하, 23'은 인자\n",
    "useGlobalVariable('송유하', 23)\n",
    "\n",
    "# 전역변수를 출력 -> 값이 변하지 않음\n",
    "print(f'{name_global = }')\n",
    "print(f'{age_global = }')\n",
    "\n",
    "# 지역변수를 출력 -> 함수 내에서만 사용되는 변수로서 함수 외부에서는 사용 불가\n",
    "try:\n",
    "    print(f'{name_local = }')\n",
    "    print(f'{age_local = }')\n",
    "except NameError as Error:\n",
    "    print(f'{Error = }')"
   ]
  },
  {
   "cell_type": "markdown",
   "id": "ebb48695",
   "metadata": {},
   "source": [
    "#### 함수 내에서 전역변수의 변경"
   ]
  },
  {
   "cell_type": "code",
   "execution_count": null,
   "id": "3bf453e1",
   "metadata": {},
   "outputs": [
    {
     "name": "stdout",
     "output_type": "stream",
     "text": [
      "name_global = '지역변수 송인성'\n",
      "age_global = 22\n",
      "name_local = '송유하'\n",
      "age_local = 23\n",
      "name_global = '송인성'\n",
      "age_global = 23\n"
     ]
    }
   ],
   "source": [
    "name_global = '송인성'\n",
    "age_global = 23\n",
    "\n",
    "def useGlobalVariable(name_local, age_local):\n",
    "\n",
    "    # name_global과 age_global을 변경하면, 전역변수가 아닌 지역변수로 생성하여 사용됨\n",
    "    name_global = '지역변수 송인성'\n",
    "    age_global = 22\n",
    "    print(f'{name_global = }')\n",
    "    print(f'{age_global = }')\n",
    "    print(f'{name_local = }')   \n",
    "    print(f'{age_local = }')\n",
    "\n",
    "# useGlobalVariable 함수 호출, '송유하, 23'은 인자\n",
    "useGlobalVariable('송유하', 23)\n",
    "\n",
    "# 전역변수를 출력 -> 값이 변하지 않음\n",
    "print(f'{name_global = }')\n",
    "print(f'{age_global = }')"
   ]
  },
  {
   "cell_type": "markdown",
   "id": "83276835",
   "metadata": {},
   "source": [
    "#### 함수 내에서 전역변수를 변경하는 방법"
   ]
  },
  {
   "cell_type": "code",
   "execution_count": null,
   "id": "7398354f",
   "metadata": {},
   "outputs": [
    {
     "name": "stdout",
     "output_type": "stream",
     "text": [
      "name_global = '송인성'\n",
      "age_global = 23\n",
      "name_local = '송유하'\n",
      "age_local = 23\n",
      "name_global = '이제는 전역 변수 송인성'\n",
      "age_global = 22\n"
     ]
    }
   ],
   "source": [
    "name_global = '송인성'\n",
    "age_global = 23\n",
    "\n",
    "def useGlobalVariable(name_local, age_local):\n",
    "\n",
    "    # name_global이 전역변수임을 명시\n",
    "    global name_global, age_global\n",
    "\n",
    "    # 전역변수와 지역변수를 출력\n",
    "    print(f'{name_global = }')  \n",
    "    print(f'{age_global = }')\n",
    "    print(f'{name_local = }')\n",
    "    print(f'{age_local = }')\n",
    "\n",
    "    # name_global과 age_global은 이제 전역변수이므로 전역변수의 값이 변경됨\n",
    "    name_global = '이제는 전역 변수 송인성'\n",
    "    age_global = 22\n",
    "\n",
    "# useGlobalVariable 함수 호출, '송유하, 23'은 인자\n",
    "useGlobalVariable('송유하', 23)\n",
    "\n",
    "# 전역변수를 출력 -> 값이 변경됨\n",
    "print(f'{name_global = }')\n",
    "print(f'{age_global = }')"
   ]
  },
  {
   "cell_type": "markdown",
   "id": "e1483b53",
   "metadata": {},
   "source": [
    "### 람다함수\n",
    "#### 람다함수 정의"
   ]
  },
  {
   "cell_type": "markdown",
   "id": "c34540f2",
   "metadata": {},
   "source": [
    "- 일반 함수 정의"
   ]
  },
  {
   "cell_type": "code",
   "execution_count": null,
   "id": "9e6a25ac",
   "metadata": {},
   "outputs": [
    {
     "data": {
      "text/plain": [
       "8"
      ]
     },
     "execution_count": 21,
     "metadata": {},
     "output_type": "execute_result"
    }
   ],
   "source": [
    "# x와 y를 매개변수로 하여 x+y를 반환하는 함수 정의\n",
    "def add(x, y):\n",
    "    return x + y\n",
    "\n",
    "# 함수를 호출\n",
    "add(3, 5)"
   ]
  },
  {
   "cell_type": "markdown",
   "id": "b2988537",
   "metadata": {},
   "source": [
    "- 함수명이 없는 람다함수"
   ]
  },
  {
   "cell_type": "code",
   "execution_count": null,
   "id": "2ce4ef5d",
   "metadata": {},
   "outputs": [
    {
     "data": {
      "text/plain": [
       "<function __main__.<lambda>(x, y)>"
      ]
     },
     "execution_count": 22,
     "metadata": {},
     "output_type": "execute_result"
    }
   ],
   "source": [
    "# x와 y를 매개변수로 하여 x+y를 반환하는 함수를 lambda로 정의\n",
    "lambda x, y: x + y"
   ]
  },
  {
   "cell_type": "code",
   "execution_count": null,
   "id": "bd2b1c81",
   "metadata": {},
   "outputs": [
    {
     "data": {
      "text/plain": [
       "8"
      ]
     },
     "execution_count": 24,
     "metadata": {},
     "output_type": "execute_result"
    }
   ],
   "source": [
    "# lambda 함수를 호출 -> 함수명이 없으므로 함수를 호출할 수 없어 정의하여 바로 호출\n",
    "(lambda x, y: x + y)(3, 5)"
   ]
  },
  {
   "cell_type": "markdown",
   "id": "fb616989",
   "metadata": {},
   "source": [
    "- 함수명이 있는 람다함수"
   ]
  },
  {
   "cell_type": "code",
   "execution_count": null,
   "id": "6b5d0dfd",
   "metadata": {},
   "outputs": [
    {
     "data": {
      "text/plain": [
       "8"
      ]
     },
     "execution_count": 25,
     "metadata": {},
     "output_type": "execute_result"
    }
   ],
   "source": [
    "# x와 y를 입력 받아 x+y를 반환하는 람다함수를 add로 명명\n",
    "add = lambda x, y: x + y\n",
    "\n",
    "# add 함수를 호출\n",
    "add(3, 5)"
   ]
  },
  {
   "cell_type": "markdown",
   "id": "46582ab9",
   "metadata": {},
   "source": [
    "#### 람다함수 응용\n",
    "##### 람다함수에 외부 변수의 사용"
   ]
  },
  {
   "cell_type": "code",
   "execution_count": null,
   "id": "fc6de4bf",
   "metadata": {},
   "outputs": [
    {
     "data": {
      "text/plain": [
       "23"
      ]
     },
     "execution_count": 26,
     "metadata": {},
     "output_type": "execute_result"
    }
   ],
   "source": [
    "# 외부변수 \n",
    "z = 15\n",
    "\n",
    "# 외부변수를 참조하는 람다함수\n",
    "(lambda x, y: x + y + z)(3, 5)"
   ]
  },
  {
   "cell_type": "markdown",
   "id": "814bb43b",
   "metadata": {},
   "source": [
    "##### 람다함수에 조건부 표현식 사용"
   ]
  },
  {
   "cell_type": "code",
   "execution_count": null,
   "id": "3df3dd16",
   "metadata": {},
   "outputs": [
    {
     "data": {
      "text/plain": [
       "0.6"
      ]
     },
     "execution_count": 27,
     "metadata": {},
     "output_type": "execute_result"
    }
   ],
   "source": [
    "# x + y가 짝수이면 x / y를 반환하고, 아니면 x * y를 반환하는 람다함수\n",
    "(lambda x, y: x / y if (x + y) % 2 == 0 else x * y)(3, 5)"
   ]
  },
  {
   "cell_type": "code",
   "execution_count": null,
   "id": "37fd03be",
   "metadata": {},
   "outputs": [
    {
     "data": {
      "text/plain": [
       "'(x는 y의 배수) 10'"
      ]
     },
     "execution_count": 28,
     "metadata": {},
     "output_type": "execute_result"
    }
   ],
   "source": [
    "# x % y가 0이면 '(x는 y의 배수) '+str(x)를 반환하고,\n",
    "# x % y가 1이면 float(x % y)를 반환하고,\n",
    "# 모두 해당이 안 되면 x % y를 반환하는 람다함수\n",
    "(lambda x, y: '(x는 y의 배수) ' + str(x) if x % y == 0 else float(x % y) if x % y == 1 else x % y)(10, 5)"
   ]
  },
  {
   "cell_type": "code",
   "execution_count": null,
   "id": "1359acad",
   "metadata": {},
   "outputs": [
    {
     "data": {
      "text/plain": [
       "1.0"
      ]
     },
     "execution_count": 29,
     "metadata": {},
     "output_type": "execute_result"
    }
   ],
   "source": [
    "(lambda x, y: '(x는 y의 배수) ' + str(x) if x % y == 0 else float(x % y) if x % y == 1 else x % y)(10, 3)"
   ]
  },
  {
   "cell_type": "code",
   "execution_count": null,
   "id": "79b6d3f8",
   "metadata": {},
   "outputs": [
    {
     "data": {
      "text/plain": [
       "2"
      ]
     },
     "execution_count": 30,
     "metadata": {},
     "output_type": "execute_result"
    }
   ],
   "source": [
    "(lambda x, y: '(x는 y의 배수) ' + str(x) if x % y == 0 else float(x % y) if x % y == 1 else x % y)(50, 3)"
   ]
  },
  {
   "cell_type": "markdown",
   "id": "861894f2",
   "metadata": {},
   "source": [
    "##### 람다함수에 인자 여러 개 넣기"
   ]
  },
  {
   "cell_type": "code",
   "execution_count": null,
   "id": "e223f3ea",
   "metadata": {},
   "outputs": [
    {
     "data": {
      "text/plain": [
       "115"
      ]
     },
     "execution_count": 31,
     "metadata": {},
     "output_type": "execute_result"
    }
   ],
   "source": [
    "# x가 짝수이고, y가 홀수이면 x + y + z를 반환하고,\n",
    "# x가 홀수이고, y가 짝수이면 x - y - z를 반환하고, \n",
    "# 모두 해당이 안 되면 x * y * z를 반환하는 람다함수\n",
    "(lambda x, y, z: x + y + z if (x % 2 == 0 and y % 2 == 1) else x - y - z if (x % 2 == 1 and y % 2 == 0) else x * y * z)(10, 5, 100)"
   ]
  },
  {
   "cell_type": "code",
   "execution_count": null,
   "id": "b6216ab6",
   "metadata": {},
   "outputs": [
    {
     "data": {
      "text/plain": [
       "49500"
      ]
     },
     "execution_count": 32,
     "metadata": {},
     "output_type": "execute_result"
    }
   ],
   "source": [
    "(lambda x, y, z: x + y + z if (x % 2 == 0 and y % 2 == 1) else x - y - z if (x % 2 == 1 and y % 2 == 0) else x * y * z)(99, 5, 100)"
   ]
  },
  {
   "cell_type": "markdown",
   "id": "95940d11",
   "metadata": {},
   "source": [
    "#### 람다함수의 활용\n",
    "##### map 함수에 적용"
   ]
  },
  {
   "cell_type": "code",
   "execution_count": null,
   "id": "bdfee4a5",
   "metadata": {},
   "outputs": [
    {
     "name": "stdout",
     "output_type": "stream",
     "text": [
      "[1, '짝수 2', 9, '짝수 4', 1.0, '짝수 6', 7, '짝수 8', 27, '짝수 10', 11, '짝수 12', 13, '짝수 14', 3.0, '짝수 16', 17, '짝수 18', 19, '짝수 20']\n"
     ]
    }
   ],
   "source": [
    "# range(1, 21)의 원소를 x에 할당하여 x가 짝수이면 '짝수 ' + str(x)를 반환하고,\n",
    "# x가 5의 배수이면 x / 5를 반환하고,\n",
    "# x가 3의 배수이면 x * 3을 반환하고,\n",
    "# 모두 해당이 안 되면 x를 반환하는 람다함수를 호출하여 list로 변환\n",
    "evenDiv5Multiple3 = lambda x: '짝수 ' + str(x) if x % 2 == 0 else x / 5 if x % 5 == 0 else x * 3 if x % 3 == 0 else x\n",
    "print(list(map(evenDiv5Multiple3, range(1, 21))))"
   ]
  },
  {
   "cell_type": "code",
   "execution_count": null,
   "id": "c9359671",
   "metadata": {},
   "outputs": [
    {
     "name": "stdout",
     "output_type": "stream",
     "text": [
      "[0, (2, 33, 2), 396, (4, 33, 6), 1320, (6, 33, 10), 2772, (8, 33, 14), 4752, (10, 33, 18)]\n"
     ]
    }
   ],
   "source": [
    "# range(1, 11)의 원소를 x에 할당하고, 33의 원소를 y에 할당하며, z는 20까지의 짝수를 할당하여\n",
    "# x + y + z가 짝수이면 x * y * z를 반환하고, \n",
    "# x가 홀수이면 x + y / z를 반환하고,\n",
    "# 모두 해당이 안 되면 (x, y, z)의 튜플을 반환하는 람다함수를 호출하여 list로 변환\n",
    "evenOddTuple = lambda x, y, z: x * y * z if (x + y + z) % 2 == 0 else x + y / z if x % 2 == 1 else (x, y, z)\n",
    "print(list(map(evenOddTuple, range(1, 11), [33]*10, range(0, 21, 2))))"
   ]
  }
 ],
 "metadata": {
  "kernelspec": {
   "display_name": "base",
   "language": "python",
   "name": "python3"
  },
  "language_info": {
   "codemirror_mode": {
    "name": "ipython",
    "version": 3
   },
   "file_extension": ".py",
   "mimetype": "text/x-python",
   "name": "python",
   "nbconvert_exporter": "python",
   "pygments_lexer": "ipython3",
   "version": "3.12.8"
  }
 },
 "nbformat": 4,
 "nbformat_minor": 5
}
